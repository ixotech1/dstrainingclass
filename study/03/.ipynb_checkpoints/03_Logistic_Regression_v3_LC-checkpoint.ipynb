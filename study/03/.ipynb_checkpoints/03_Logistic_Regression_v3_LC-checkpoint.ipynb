{
 "cells": [
  {
   "cell_type": "markdown",
   "metadata": {
    "id": "_u_0KdXWuoql"
   },
   "source": [
    "# ロジスティック回帰モデル"
   ]
  },
  {
   "cell_type": "markdown",
   "metadata": {
    "id": "ZVBvDmYFuoqn"
   },
   "source": [
    "---"
   ]
  },
  {
   "cell_type": "markdown",
   "metadata": {
    "id": "ClKOmKmZuoqn"
   },
   "source": [
    "## 本資料の概要\n",
    "\n",
    "### 目的\n",
    "\n",
    "Pythonでロジスティック回帰モデルを構築する方法を説明する。  \n",
    "また、モデル構築時の注意点を踏まえたモデルの改善方法も合わせて説明する。\n",
    "\n",
    "### 構成\n",
    "\n",
    "モデル構築を3回繰り返し、モデル構築時の注意点を一つずつ解消していく。\n",
    "\n",
    "- 1回目：素の変数でモデル構築\n",
    "    - 顧客が定期預金を申し込む仕組みについて仮説を立てる。\n",
    "    - 立てた仮説にもとづいて、モデルと説明変数を選ぶ。\n",
    "- 2回目：`age` の線形化\n",
    "    - 説明変数の線形性を確認し、非線形な説明変数について仮説を立て直す。\n",
    "    - 立て直した仮説にもとづいて、説明変数を線形化する。\n",
    "- 3回目：`balance` の外れ値処理\n",
    "    - 説明変数の分布を確認し、外れ値を含む説明変数について仮説を立て直す。\n",
    "    - 立て直した仮説にもとづいて、外れ値を処理する。"
   ]
  },
  {
   "cell_type": "markdown",
   "metadata": {
    "id": "DLJ1QqEsuoqn"
   },
   "source": [
    "---"
   ]
  },
  {
   "cell_type": "markdown",
   "metadata": {
    "id": "h-yaWs9luoqo"
   },
   "source": [
    "## セットアップ"
   ]
  },
  {
   "cell_type": "markdown",
   "metadata": {
    "id": "r2q3EXXQuoqo"
   },
   "source": [
    "### モジュールの読み込み"
   ]
  },
  {
   "cell_type": "code",
   "execution_count": 14,
   "metadata": {
    "id": "2JANvnkWuoqo"
   },
   "outputs": [],
   "source": [
    "# 多次元配列やデータフレームの操作\n",
    "import numpy as np\n",
    "import pandas as pd\n",
    "\n",
    "# ロジスティックス回帰モデル\n",
    "from sklearn.linear_model import LogisticRegression\n",
    "\n",
    "# クロスバリデーション\n",
    "from sklearn.model_selection import StratifiedKFold\n",
    "from sklearn.model_selection import cross_validate\n",
    "\n",
    "# グラフの描画\n",
    "from matplotlib import pyplot as plt"
   ]
  },
  {
   "cell_type": "markdown",
   "metadata": {
    "id": "hoPczOXRuoqp"
   },
   "source": [
    "### パスの設定"
   ]
  },
  {
   "cell_type": "code",
   "execution_count": 15,
   "metadata": {
    "id": "azOXNbXjuoqp"
   },
   "outputs": [],
   "source": [
    "# データの場所\n",
    "input_path = '../input_data/bank/'\n",
    "\n",
    "# 提出ファイルを出力する場所\n",
    "submit_path = '../submit/bank/'"
   ]
  },
  {
   "cell_type": "markdown",
   "metadata": {
    "id": "uOru3sPfuoqq"
   },
   "source": [
    "### データの読み込み"
   ]
  },
  {
   "cell_type": "code",
   "execution_count": 16,
   "metadata": {
    "id": "RUrbAvQOuoqq"
   },
   "outputs": [],
   "source": [
    "train_df = pd.read_csv(input_path + 'train.csv')\n",
    "test_df = pd.read_csv(input_path + 'test.csv')\n",
    "\n",
    "train = train_df.copy()\n",
    "test = test_df.copy()"
   ]
  },
  {
   "cell_type": "markdown",
   "metadata": {
    "id": "sGDxWQLduoqq"
   },
   "source": [
    "---"
   ]
  },
  {
   "cell_type": "markdown",
   "metadata": {
    "id": "aARdENXzuoqq"
   },
   "source": [
    "## 1回目：素の変数でモデル構築"
   ]
  },
  {
   "cell_type": "markdown",
   "metadata": {
    "id": "xrQ1_RC2uoqq"
   },
   "source": [
    "### 仮説の設定"
   ]
  },
  {
   "cell_type": "markdown",
   "metadata": {
    "id": "sNJuCrM9uoqq"
   },
   "source": [
    "定期預金を申し込む欲求は以下の要因によって決まると考えた。  \n",
    "また、各要因が増すと欲求も単調に増加すると考えられることから、  \n",
    "欲求を要因の線形和で表現したモデルであるロジスティック回帰モデルを用いることにした。\n",
    "\n",
    "- 定期預金の必要性\n",
    "    - 定期預金の必要性が増すと、定期預金を申し込む欲求も増す。\n",
    "- 資産的余裕\n",
    "    - 資産的余裕が増すと、定期預金を申し込む欲求も増す。\n",
    "\n",
    "そして、各要因を表す変数として、以下の変数を選んだ。\n",
    "\n",
    "- 定期預金の必要性：年齢 `age`\n",
    "    - 定期預金の必要性は、ライフステージに応じて変わるため。\n",
    "    - ライフステージは年齢と連動するため。\n",
    "- 資産的余裕：残高 `balance`\n",
    "    - 資産に余裕のある人は、余剰資産を銀行に預けるため。"
   ]
  },
  {
   "cell_type": "code",
   "execution_count": 17,
   "metadata": {
    "id": "z6V_KMMLQiow",
    "outputId": "7d45e0cb-b5c3-4b91-89ea-57920dc4328f"
   },
   "outputs": [
    {
     "data": {
      "text/html": [
       "<div>\n",
       "<style scoped>\n",
       "    .dataframe tbody tr th:only-of-type {\n",
       "        vertical-align: middle;\n",
       "    }\n",
       "\n",
       "    .dataframe tbody tr th {\n",
       "        vertical-align: top;\n",
       "    }\n",
       "\n",
       "    .dataframe thead th {\n",
       "        text-align: right;\n",
       "    }\n",
       "</style>\n",
       "<table border=\"1\" class=\"dataframe\">\n",
       "  <thead>\n",
       "    <tr style=\"text-align: right;\">\n",
       "      <th></th>\n",
       "      <th>age</th>\n",
       "      <th>balance</th>\n",
       "    </tr>\n",
       "  </thead>\n",
       "  <tbody>\n",
       "    <tr>\n",
       "      <th>age</th>\n",
       "      <td>1.000000</td>\n",
       "      <td>0.099352</td>\n",
       "    </tr>\n",
       "    <tr>\n",
       "      <th>balance</th>\n",
       "      <td>0.099352</td>\n",
       "      <td>1.000000</td>\n",
       "    </tr>\n",
       "  </tbody>\n",
       "</table>\n",
       "</div>"
      ],
      "text/plain": [
       "              age   balance\n",
       "age      1.000000  0.099352\n",
       "balance  0.099352  1.000000"
      ]
     },
     "execution_count": 17,
     "metadata": {},
     "output_type": "execute_result"
    }
   ],
   "source": [
    "#多重共線性の確認\n",
    "train[['age', 'balance']].corr(method=\"spearman\")"
   ]
  },
  {
   "cell_type": "markdown",
   "metadata": {
    "id": "aUxofGQVuoqq"
   },
   "source": [
    "### 予測精度の確認"
   ]
  },
  {
   "cell_type": "markdown",
   "metadata": {
    "id": "9gwWok_Huoqr"
   },
   "source": [
    "上記仮説に従ってモデルを構築し、その予測精度をクロスバリデーションで確認する。"
   ]
  },
  {
   "cell_type": "code",
   "execution_count": 21,
   "metadata": {
    "id": "uFTE7gjkuoqr"
   },
   "outputs": [],
   "source": [
    "# 学習データ\n",
    "train_x = train[['age', 'balance']].copy()\n",
    "train_y = train['y'].copy()\n",
    "\n",
    "# ロジスティック回帰モデルを作成する\n",
    "model = LogisticRegression(solver=\"liblinear\")\n",
    "\n",
    "# クロスバリデーション\n",
    "cv = cross_validate(\n",
    "    # クロスバリデーションに用いるモデルとデータを指定する\n",
    "    model, train_x, train_y,\n",
    "    # データの分割方法を指定する\n",
    "    # データを5分割する、分割前にデータをシャッフルする、再現性を担保するためシャッフル時の乱数を固定する\n",
    "    cv=StratifiedKFold(n_splits=10, shuffle=True, random_state=37),\n",
    "    # 予測精度としてAUCを使う\n",
    "    scoring='roc_auc',\n",
    "    # 学習データに対する予測精度も計算する\n",
    "    return_train_score=True,\n",
    "    # 各foldで学習させたモデルを返す\n",
    "    return_estimator=True\n",
    ")"
   ]
  },
  {
   "cell_type": "code",
   "execution_count": 22,
   "metadata": {
    "executionInfo": {
     "elapsed": 4,
     "status": "aborted",
     "timestamp": 1722763898978,
     "user": {
      "displayName": "Masayuki Ishikawa",
      "userId": "08604023769686287889"
     },
     "user_tz": -540
    },
    "id": "F-2o4xiwuoqr",
    "outputId": "8ad7eefe-19b4-4a80-ffc7-c047c79dfaa3"
   },
   "outputs": [
    {
     "data": {
      "text/plain": [
       "np.float64(0.5490432741691504)"
      ]
     },
     "execution_count": 22,
     "metadata": {},
     "output_type": "execute_result"
    }
   ],
   "source": [
    "# 学習データに対するAUC\n",
    "cv['train_score'].mean()"
   ]
  },
  {
   "cell_type": "code",
   "execution_count": 23,
   "metadata": {
    "executionInfo": {
     "elapsed": 4,
     "status": "aborted",
     "timestamp": 1722763898978,
     "user": {
      "displayName": "Masayuki Ishikawa",
      "userId": "08604023769686287889"
     },
     "user_tz": -540
    },
    "id": "ybguDWneuoqs",
    "outputId": "610129e6-4d01-4bc4-dd99-6ba44fe82973"
   },
   "outputs": [
    {
     "data": {
      "text/plain": [
       "np.float64(0.5525507212624988)"
      ]
     },
     "execution_count": 23,
     "metadata": {},
     "output_type": "execute_result"
    }
   ],
   "source": [
    "# テストデータに対するAUC\n",
    "cv['test_score'].mean()"
   ]
  },
  {
   "cell_type": "markdown",
   "metadata": {
    "id": "2oLzgIfBuoqs"
   },
   "source": [
    "## 構築したロジスティック回帰モデルの係数の確認"
   ]
  },
  {
   "cell_type": "code",
   "execution_count": 24,
   "metadata": {
    "executionInfo": {
     "elapsed": 4536,
     "status": "aborted",
     "timestamp": 1722763898979,
     "user": {
      "displayName": "Masayuki Ishikawa",
      "userId": "08604023769686287889"
     },
     "user_tz": -540
    },
    "id": "y7las192uoqs",
    "outputId": "18be2d18-eb1b-4aa8-b74d-572bceb0c626"
   },
   "outputs": [
    {
     "data": {
      "text/html": [
       "<div>\n",
       "<style scoped>\n",
       "    .dataframe tbody tr th:only-of-type {\n",
       "        vertical-align: middle;\n",
       "    }\n",
       "\n",
       "    .dataframe tbody tr th {\n",
       "        vertical-align: top;\n",
       "    }\n",
       "\n",
       "    .dataframe thead th {\n",
       "        text-align: right;\n",
       "    }\n",
       "</style>\n",
       "<table border=\"1\" class=\"dataframe\">\n",
       "  <thead>\n",
       "    <tr style=\"text-align: right;\">\n",
       "      <th></th>\n",
       "      <th>feature</th>\n",
       "      <th>coefficient</th>\n",
       "    </tr>\n",
       "  </thead>\n",
       "  <tbody>\n",
       "    <tr>\n",
       "      <th>0</th>\n",
       "      <td>intercept</td>\n",
       "      <td>-2.285626</td>\n",
       "    </tr>\n",
       "    <tr>\n",
       "      <th>1</th>\n",
       "      <td>age</td>\n",
       "      <td>0.005151</td>\n",
       "    </tr>\n",
       "    <tr>\n",
       "      <th>2</th>\n",
       "      <td>balance</td>\n",
       "      <td>0.000035</td>\n",
       "    </tr>\n",
       "  </tbody>\n",
       "</table>\n",
       "</div>"
      ],
      "text/plain": [
       "     feature  coefficient\n",
       "0  intercept    -2.285626\n",
       "1        age     0.005151\n",
       "2    balance     0.000035"
      ]
     },
     "execution_count": 24,
     "metadata": {},
     "output_type": "execute_result"
    }
   ],
   "source": [
    "#CVのうちの１モデルの係数を確認\n",
    "idx_model = 0\n",
    "\n",
    "#モデルの係数を保存したデータフレームの作成\n",
    "coef_df = pd.DataFrame({\n",
    "    \"feature\":train_x.columns,\n",
    "    \"coefficient\":cv[\"estimator\"][idx_model].coef_[0]\n",
    "})\n",
    "\n",
    "#モデルの切片を保存したデータフレームの作成\n",
    "intercept_df = pd.DataFrame({\n",
    "    \"feature\":\"intercept\",\n",
    "    \"coefficient\":cv[\"estimator\"][idx_model].intercept_\n",
    "})\n",
    "\n",
    "#作成したデータフレームを一つに結合\n",
    "int_coef_df = pd.concat([intercept_df,coef_df],axis = 0).reset_index(drop = True)\n",
    "\n",
    "int_coef_df"
   ]
  },
  {
   "cell_type": "code",
   "execution_count": 25,
   "metadata": {
    "id": "k5CMka8Euoqs"
   },
   "outputs": [],
   "source": [
    "#CV単位の係数を保存するデータフレームを作成\n",
    "def make_df_coef_cv(cv):\n",
    "    int_coef_df_all = pd.DataFrame()\n",
    "\n",
    "    for idx_model in range(len(cv[\"estimator\"])):\n",
    "        #モデルの係数を保存したデータフレームの作成\n",
    "        coef_df = pd.DataFrame({\n",
    "            \"cv\":idx_model+1,\n",
    "            \"feature\":train_x.columns,\n",
    "            \"coefficient\":cv[\"estimator\"][idx_model].coef_[0]\n",
    "        })\n",
    "        #モデルの切片を保存したデータフレームの作成\n",
    "        intercept_df = pd.DataFrame({\n",
    "            \"cv\":idx_model+1,\n",
    "            \"feature\":\"intercept\",\n",
    "            \"coefficient\":cv[\"estimator\"][idx_model].intercept_\n",
    "        })\n",
    "\n",
    "        #作成したデータフレームを一つに結合\n",
    "        int_coef_df = pd.concat([intercept_df,coef_df])\n",
    "\n",
    "        #作成したモデル別の係数を保存\n",
    "        int_coef_df_all = pd.concat([int_coef_df_all,int_coef_df],axis = 0)\n",
    "\n",
    "    int_coef_df_all = int_coef_df_all.sort_values([\"cv\",\"feature\"]).reset_index(drop = True)\n",
    "\n",
    "    return int_coef_df_all\n"
   ]
  },
  {
   "cell_type": "code",
   "execution_count": 26,
   "metadata": {
    "executionInfo": {
     "elapsed": 1481,
     "status": "aborted",
     "timestamp": 1722763898980,
     "user": {
      "displayName": "Masayuki Ishikawa",
      "userId": "08604023769686287889"
     },
     "user_tz": -540
    },
    "id": "SV2UmJljuoqt",
    "outputId": "f83ed893-5034-41a9-e622-03ec954d6a7e"
   },
   "outputs": [
    {
     "data": {
      "text/html": [
       "<div>\n",
       "<style scoped>\n",
       "    .dataframe tbody tr th:only-of-type {\n",
       "        vertical-align: middle;\n",
       "    }\n",
       "\n",
       "    .dataframe tbody tr th {\n",
       "        vertical-align: top;\n",
       "    }\n",
       "\n",
       "    .dataframe thead th {\n",
       "        text-align: right;\n",
       "    }\n",
       "</style>\n",
       "<table border=\"1\" class=\"dataframe\">\n",
       "  <thead>\n",
       "    <tr style=\"text-align: right;\">\n",
       "      <th></th>\n",
       "      <th>mean</th>\n",
       "      <th>std</th>\n",
       "    </tr>\n",
       "    <tr>\n",
       "      <th>feature</th>\n",
       "      <th></th>\n",
       "      <th></th>\n",
       "    </tr>\n",
       "  </thead>\n",
       "  <tbody>\n",
       "    <tr>\n",
       "      <th>age</th>\n",
       "      <td>0.003861</td>\n",
       "      <td>1.854899e-03</td>\n",
       "    </tr>\n",
       "    <tr>\n",
       "      <th>balance</th>\n",
       "      <td>0.000034</td>\n",
       "      <td>7.856455e-07</td>\n",
       "    </tr>\n",
       "    <tr>\n",
       "      <th>intercept</th>\n",
       "      <td>-2.227505</td>\n",
       "      <td>8.251872e-02</td>\n",
       "    </tr>\n",
       "  </tbody>\n",
       "</table>\n",
       "</div>"
      ],
      "text/plain": [
       "               mean           std\n",
       "feature                          \n",
       "age        0.003861  1.854899e-03\n",
       "balance    0.000034  7.856455e-07\n",
       "intercept -2.227505  8.251872e-02"
      ]
     },
     "execution_count": 26,
     "metadata": {},
     "output_type": "execute_result"
    }
   ],
   "source": [
    "coef_cv = make_df_coef_cv(cv)\n",
    "coef_cv.groupby([\"feature\"])[\"coefficient\"].agg([\"mean\",\"std\"])"
   ]
  },
  {
   "cell_type": "code",
   "execution_count": 27,
   "metadata": {
    "id": "duQzo-ejuoqt",
    "outputId": "78d25121-9568-43d1-936e-9d7a0baba739"
   },
   "outputs": [
    {
     "data": {
      "text/html": [
       "<div>\n",
       "<style scoped>\n",
       "    .dataframe tbody tr th:only-of-type {\n",
       "        vertical-align: middle;\n",
       "    }\n",
       "\n",
       "    .dataframe tbody tr th {\n",
       "        vertical-align: top;\n",
       "    }\n",
       "\n",
       "    .dataframe thead th {\n",
       "        text-align: right;\n",
       "    }\n",
       "</style>\n",
       "<table border=\"1\" class=\"dataframe\">\n",
       "  <thead>\n",
       "    <tr style=\"text-align: right;\">\n",
       "      <th>feature</th>\n",
       "      <th>age</th>\n",
       "      <th>balance</th>\n",
       "      <th>intercept</th>\n",
       "    </tr>\n",
       "    <tr>\n",
       "      <th>cv</th>\n",
       "      <th></th>\n",
       "      <th></th>\n",
       "      <th></th>\n",
       "    </tr>\n",
       "  </thead>\n",
       "  <tbody>\n",
       "    <tr>\n",
       "      <th>1</th>\n",
       "      <td>0.005151</td>\n",
       "      <td>0.000035</td>\n",
       "      <td>-2.285626</td>\n",
       "    </tr>\n",
       "    <tr>\n",
       "      <th>2</th>\n",
       "      <td>0.004839</td>\n",
       "      <td>0.000034</td>\n",
       "      <td>-2.269958</td>\n",
       "    </tr>\n",
       "    <tr>\n",
       "      <th>3</th>\n",
       "      <td>0.003715</td>\n",
       "      <td>0.000035</td>\n",
       "      <td>-2.225364</td>\n",
       "    </tr>\n",
       "    <tr>\n",
       "      <th>4</th>\n",
       "      <td>0.003795</td>\n",
       "      <td>0.000035</td>\n",
       "      <td>-2.230070</td>\n",
       "    </tr>\n",
       "    <tr>\n",
       "      <th>5</th>\n",
       "      <td>-0.000036</td>\n",
       "      <td>0.000034</td>\n",
       "      <td>-2.050329</td>\n",
       "    </tr>\n",
       "    <tr>\n",
       "      <th>6</th>\n",
       "      <td>0.004831</td>\n",
       "      <td>0.000034</td>\n",
       "      <td>-2.269192</td>\n",
       "    </tr>\n",
       "    <tr>\n",
       "      <th>7</th>\n",
       "      <td>0.005838</td>\n",
       "      <td>0.000034</td>\n",
       "      <td>-2.310975</td>\n",
       "    </tr>\n",
       "    <tr>\n",
       "      <th>8</th>\n",
       "      <td>0.005104</td>\n",
       "      <td>0.000033</td>\n",
       "      <td>-2.279509</td>\n",
       "    </tr>\n",
       "    <tr>\n",
       "      <th>9</th>\n",
       "      <td>0.004097</td>\n",
       "      <td>0.000035</td>\n",
       "      <td>-2.241017</td>\n",
       "    </tr>\n",
       "    <tr>\n",
       "      <th>10</th>\n",
       "      <td>0.001275</td>\n",
       "      <td>0.000034</td>\n",
       "      <td>-2.113009</td>\n",
       "    </tr>\n",
       "  </tbody>\n",
       "</table>\n",
       "</div>"
      ],
      "text/plain": [
       "feature       age   balance  intercept\n",
       "cv                                    \n",
       "1        0.005151  0.000035  -2.285626\n",
       "2        0.004839  0.000034  -2.269958\n",
       "3        0.003715  0.000035  -2.225364\n",
       "4        0.003795  0.000035  -2.230070\n",
       "5       -0.000036  0.000034  -2.050329\n",
       "6        0.004831  0.000034  -2.269192\n",
       "7        0.005838  0.000034  -2.310975\n",
       "8        0.005104  0.000033  -2.279509\n",
       "9        0.004097  0.000035  -2.241017\n",
       "10       0.001275  0.000034  -2.113009"
      ]
     },
     "execution_count": 27,
     "metadata": {},
     "output_type": "execute_result"
    }
   ],
   "source": [
    "#各係数を確認\n",
    "coef_cv.pivot_table(\n",
    "    index = \"cv\",\n",
    "    columns = \"feature\",\n",
    "    values = \"coefficient\",\n",
    "    aggfunc = \"mean\"\n",
    ")"
   ]
  },
  {
   "cell_type": "markdown",
   "metadata": {
    "id": "bYPQstfruoqt"
   },
   "source": [
    "特徴量それぞれの単位が異なるため、特徴量間における係数の比較には意味がないことにご注意ください。例えば、ageの係数の値の桁が、balanceと比較して大きい値となっていますが、大きな係数となっている特徴量が重要という解釈はできません。\n",
    "- これに対して、標準化を行い、係数の大きさを揃えることで係数の大小で特徴量の間の比較が可能になります。その一方で、特徴量の単位が変わるため、特徴量の１単位が変わった場合の解釈などが難しくなります。"
   ]
  },
  {
   "cell_type": "markdown",
   "metadata": {
    "id": "vQVxmXp2uoqt"
   },
   "source": [
    "---"
   ]
  },
  {
   "cell_type": "markdown",
   "metadata": {
    "id": "DmnYP1lMuoqt"
   },
   "source": [
    "## 2回目：`age` の線形化"
   ]
  },
  {
   "cell_type": "markdown",
   "metadata": {
    "id": "Pk7_yOGHuoqt"
   },
   "source": [
    "### `age` の線形性の確認"
   ]
  },
  {
   "cell_type": "markdown",
   "metadata": {
    "id": "Tz60U0RAuoqt"
   },
   "source": [
    "ロジスティック回帰モデルは要因と欲求の線形性を仮定しているため、その仮定を `age` が満たしているか確認する。  \n",
    "ロジスティック回帰モデルでは欲求と対数オッズが一致するため、線形性を確かめるには `age` と対数オッズの散布図を描けばよい。"
   ]
  },
  {
   "cell_type": "code",
   "execution_count": 28,
   "metadata": {
    "id": "xYst6Yjmuoqt"
   },
   "outputs": [],
   "source": [
    "# 対数オッズを計算する関数\n",
    "def calc_logodds(x, tol=1e-6):\n",
    "    p = x.mean()\n",
    "    # p=0 のときに log(odds) が発散したり、p=1 のときにゼロ除算が発生したりすることを防ぐため、微小値 tol を足す\n",
    "    odds = (p + tol) / (1 - p + tol)\n",
    "    logodds = np.log(odds)\n",
    "    return logodds"
   ]
  },
  {
   "cell_type": "code",
   "execution_count": 29,
   "metadata": {
    "id": "NPGnf2EiQio-"
   },
   "outputs": [],
   "source": [
    "# 年齢別の対数オッズを計算する\n",
    "#ビン化する特徴量の設定\n",
    "bin_feature = 'age'\n",
    "\n",
    "logodds_bin = train[[bin_feature, 'y']].copy()\n",
    "logodds_bin[bin_feature] = logodds_bin[bin_feature] // 10 * 10  # 10歳刻みに変換\n",
    "logodds_bin = logodds_bin.groupby([bin_feature], as_index=False).agg({'y':['count','mean',calc_logodds]})\n",
    "\n",
    "logodds_bin.columns = [bin_feature,'N','y_mean','log_odds']"
   ]
  },
  {
   "cell_type": "code",
   "execution_count": 30,
   "metadata": {
    "id": "uindJX1Auoqu",
    "outputId": "6581c8f0-75c9-4226-e577-6b16fa49d522"
   },
   "outputs": [
    {
     "data": {
      "image/png": "[encoded data removed]",
      "text/plain": [
       "<Figure size 640x480 with 1 Axes>"
      ]
     },
     "metadata": {},
     "output_type": "display_data"
    }
   ],
   "source": [
    "# 年齢と対数オッズの散布図を描く\n",
    "plt.plot(logodds_bin[bin_feature], logodds_bin['log_odds'], marker='o')\n",
    "plt.xlabel(bin_feature)\n",
    "plt.ylabel('log odds')\n",
    "plt.show()"
   ]
  },
  {
   "cell_type": "markdown",
   "metadata": {
    "id": "sWjqllROuoqu"
   },
   "source": [
    "確認の結果、`age` は欲求に対して線形になっておらず、50代を境にV字を描いていることがわかった。"
   ]
  },
  {
   "cell_type": "markdown",
   "metadata": {
    "id": "i2-V74Zcuoqu"
   },
   "source": [
    "### `age` の線形化"
   ]
  },
  {
   "cell_type": "markdown",
   "metadata": {
    "id": "XJ0y39R5uoqu"
   },
   "source": [
    "`age` に対して欲求がV字を描くように変化していることから、新たに以下のような仮説を立てた。\n",
    "\n",
    "- 50代以前の世代\n",
    "    - 子供の進学や住宅ローンの返済が重なるため、50代で支出がピークを迎える。\n",
    "    - ゆえに、50代以前の世代は50代に向けた資産形成が必要。\n",
    "    - 支出の少ないうちに資産を形成する必要があるため、若いほど定期預金の必要性が増す。\n",
    "- 60代以降の世代\n",
    "    - ピークを越え支出が減るものの、退職することから収入も大幅に減る。\n",
    "    - ゆえに、60代以降の世代は老後に向けた資産形成が必要。\n",
    "    - 余命が短いとリスクを取れなくなるため、高齢であるほど低リスクな定期預金の必要性が増す。\n",
    "\n",
    "これらの仮説をまとめると「年齢が50代から離れているほど、定期預金の必要性が増す」ということだから、  \n",
    "定期預金の必要性を表す変数として `age` の代わりに「50歳から何歳離れているか `margin`」を作成し用いることにした。"
   ]
  },
  {
   "cell_type": "code",
   "execution_count": 32,
   "metadata": {
    "id": "K8ZrlSbyuoqu"
   },
   "outputs": [],
   "source": [
    "train['margin'] = (50 - train['age']).abs()"
   ]
  },
  {
   "cell_type": "markdown",
   "metadata": {
    "id": "SahCqiofuoqu"
   },
   "source": [
    "新たに作成した変数 `margin` が欲求に対して線形になっているか確認する。"
   ]
  },
  {
   "cell_type": "code",
   "execution_count": 33,
   "metadata": {
    "id": "nfhIvZFBuoqu",
    "outputId": "5981a20a-ca0f-4ac0-b537-adf556577dc7"
   },
   "outputs": [
    {
     "data": {
      "image/png": "[encoded data removed]",
      "text/plain": [
       "<Figure size 640x480 with 1 Axes>"
      ]
     },
     "metadata": {},
     "output_type": "display_data"
    }
   ],
   "source": [
    "# 年齢別の対数オッズを計算する\n",
    "logodds_age = train[['margin', 'y']].copy()\n",
    "logodds_age['margin'] = logodds_age['margin'] // 10 * 10  # 10歳刻みに変換\n",
    "logodds_age = logodds_age.groupby(['margin'], as_index=False)['y'].apply(calc_logodds)\n",
    "\n",
    "# 年齢と対数オッズの散布図を描く\n",
    "plt.plot(logodds_age['margin'], logodds_age['y'], marker='o')\n",
    "plt.xlabel('margin')\n",
    "plt.ylabel('log odds')\n",
    "plt.show()"
   ]
  },
  {
   "cell_type": "markdown",
   "metadata": {
    "id": "LzxOBidquoqv"
   },
   "source": [
    "確認の結果、概ね線形になっており、ロジスティック回帰モデルの仮定を満たしていることがわかった。"
   ]
  },
  {
   "cell_type": "markdown",
   "metadata": {
    "id": "dToABNVCuoqz"
   },
   "source": [
    "### 予測精度の確認"
   ]
  },
  {
   "cell_type": "markdown",
   "metadata": {
    "id": "jxsplp__uoqz"
   },
   "source": [
    "`age` の代わりに `margin` を用いてモデルを構築し、その予測精度をクロスバリデーションで確認する。"
   ]
  },
  {
   "cell_type": "code",
   "execution_count": 35,
   "metadata": {
    "id": "3G1b9nGUuoqz"
   },
   "outputs": [],
   "source": [
    "# 学習データ\n",
    "train_x = train[['margin', 'balance']].copy()\n",
    "train_y = train['y'].copy()\n",
    "\n",
    "# ロジスティック回帰モデルを作成する\n",
    "model = LogisticRegression(solver=\"liblinear\")\n",
    "\n",
    "# クロスバリデーション\n",
    "cv = cross_validate(\n",
    "    # クロスバリデーションに用いるモデルとデータを指定する\n",
    "    model, train_x, train_y,\n",
    "    # データの分割方法を指定する\n",
    "    # データを5分割する、分割前にデータをシャッフルする、再現性を担保するためシャッフル時の乱数を固定する\n",
    "    cv=StratifiedKFold(n_splits=10, shuffle=True, random_state=37),\n",
    "    # 予測精度としてAUCを使う\n",
    "    scoring='roc_auc',\n",
    "    # 学習データに対する予測精度も計算する\n",
    "    return_train_score=True,\n",
    "    # 各foldで学習させたモデルを返す\n",
    "    return_estimator=True\n",
    ")"
   ]
  },
  {
   "cell_type": "code",
   "execution_count": 36,
   "metadata": {
    "id": "juhOO3qiuoqz",
    "outputId": "251886d6-03b3-4d6e-b2c4-7fdc2e37bcbc"
   },
   "outputs": [
    {
     "data": {
      "text/plain": [
       "np.float64(0.5900071364616503)"
      ]
     },
     "execution_count": 36,
     "metadata": {},
     "output_type": "execute_result"
    }
   ],
   "source": [
    "# 学習データに対するAUC\n",
    "cv['train_score'].mean()"
   ]
  },
  {
   "cell_type": "code",
   "execution_count": 37,
   "metadata": {
    "id": "d_QHh0A5uoq0",
    "outputId": "a6a86e42-008c-4b7e-e71a-26fa710866b7"
   },
   "outputs": [
    {
     "data": {
      "text/plain": [
       "np.float64(0.5897671425526009)"
      ]
     },
     "execution_count": 37,
     "metadata": {},
     "output_type": "execute_result"
    }
   ],
   "source": [
    "# テストデータに対するAUC\n",
    "cv['test_score'].mean()"
   ]
  },
  {
   "cell_type": "markdown",
   "metadata": {
    "id": "eqczRW-Nuoq0"
   },
   "source": [
    "`age` を `margin` へ差し替えたことで、0.54から0.59へ予測精度が向上した。  \n",
    "同様に係数を確認"
   ]
  },
  {
   "cell_type": "code",
   "execution_count": 38,
   "metadata": {
    "id": "o3H9HiCRuoq0",
    "outputId": "16022b2c-9a70-4c76-e43b-7586df86c1e3"
   },
   "outputs": [
    {
     "data": {
      "text/html": [
       "<div>\n",
       "<style scoped>\n",
       "    .dataframe tbody tr th:only-of-type {\n",
       "        vertical-align: middle;\n",
       "    }\n",
       "\n",
       "    .dataframe tbody tr th {\n",
       "        vertical-align: top;\n",
       "    }\n",
       "\n",
       "    .dataframe thead th {\n",
       "        text-align: right;\n",
       "    }\n",
       "</style>\n",
       "<table border=\"1\" class=\"dataframe\">\n",
       "  <thead>\n",
       "    <tr style=\"text-align: right;\">\n",
       "      <th>feature</th>\n",
       "      <th>balance</th>\n",
       "      <th>intercept</th>\n",
       "      <th>margin</th>\n",
       "    </tr>\n",
       "    <tr>\n",
       "      <th>cv</th>\n",
       "      <th></th>\n",
       "      <th></th>\n",
       "      <th></th>\n",
       "    </tr>\n",
       "  </thead>\n",
       "  <tbody>\n",
       "    <tr>\n",
       "      <th>1</th>\n",
       "      <td>0.000041</td>\n",
       "      <td>-2.609964</td>\n",
       "      <td>0.041701</td>\n",
       "    </tr>\n",
       "    <tr>\n",
       "      <th>2</th>\n",
       "      <td>0.000039</td>\n",
       "      <td>-2.611998</td>\n",
       "      <td>0.041995</td>\n",
       "    </tr>\n",
       "    <tr>\n",
       "      <th>3</th>\n",
       "      <td>0.000040</td>\n",
       "      <td>-2.621105</td>\n",
       "      <td>0.042583</td>\n",
       "    </tr>\n",
       "    <tr>\n",
       "      <th>4</th>\n",
       "      <td>0.000040</td>\n",
       "      <td>-2.618836</td>\n",
       "      <td>0.042382</td>\n",
       "    </tr>\n",
       "    <tr>\n",
       "      <th>5</th>\n",
       "      <td>0.000040</td>\n",
       "      <td>-2.586788</td>\n",
       "      <td>0.040256</td>\n",
       "    </tr>\n",
       "    <tr>\n",
       "      <th>6</th>\n",
       "      <td>0.000039</td>\n",
       "      <td>-2.588965</td>\n",
       "      <td>0.040461</td>\n",
       "    </tr>\n",
       "    <tr>\n",
       "      <th>7</th>\n",
       "      <td>0.000039</td>\n",
       "      <td>-2.594332</td>\n",
       "      <td>0.040611</td>\n",
       "    </tr>\n",
       "    <tr>\n",
       "      <th>8</th>\n",
       "      <td>0.000039</td>\n",
       "      <td>-2.580738</td>\n",
       "      <td>0.039814</td>\n",
       "    </tr>\n",
       "    <tr>\n",
       "      <th>9</th>\n",
       "      <td>0.000040</td>\n",
       "      <td>-2.611284</td>\n",
       "      <td>0.041971</td>\n",
       "    </tr>\n",
       "    <tr>\n",
       "      <th>10</th>\n",
       "      <td>0.000040</td>\n",
       "      <td>-2.586335</td>\n",
       "      <td>0.040194</td>\n",
       "    </tr>\n",
       "  </tbody>\n",
       "</table>\n",
       "</div>"
      ],
      "text/plain": [
       "feature   balance  intercept    margin\n",
       "cv                                    \n",
       "1        0.000041  -2.609964  0.041701\n",
       "2        0.000039  -2.611998  0.041995\n",
       "3        0.000040  -2.621105  0.042583\n",
       "4        0.000040  -2.618836  0.042382\n",
       "5        0.000040  -2.586788  0.040256\n",
       "6        0.000039  -2.588965  0.040461\n",
       "7        0.000039  -2.594332  0.040611\n",
       "8        0.000039  -2.580738  0.039814\n",
       "9        0.000040  -2.611284  0.041971\n",
       "10       0.000040  -2.586335  0.040194"
      ]
     },
     "execution_count": 38,
     "metadata": {},
     "output_type": "execute_result"
    }
   ],
   "source": [
    "coef_cv = make_df_coef_cv(cv)\n",
    "#各係数を確認\n",
    "coef_cv.pivot_table(\n",
    "    index = \"cv\",\n",
    "    columns = \"feature\",\n",
    "    values = \"coefficient\",\n",
    "    aggfunc = \"mean\"\n",
    ")"
   ]
  },
  {
   "cell_type": "markdown",
   "metadata": {
    "id": "t8MHoV4Nuoq0"
   },
   "source": [
    "marginに対して正の係数が大きくなり、50歳から離れるにつれ欲求が強くなる傾向を推定できている。"
   ]
  },
  {
   "cell_type": "markdown",
   "metadata": {
    "id": "cp9-DcJxuoq0"
   },
   "source": [
    "---"
   ]
  },
  {
   "cell_type": "markdown",
   "metadata": {
    "id": "NAM4C6bguoq1"
   },
   "source": [
    "## 3回目：`balance` の外れ値処理"
   ]
  },
  {
   "cell_type": "markdown",
   "metadata": {
    "id": "1Ov5_kJLuoq1"
   },
   "source": [
    "### `balance` の線形性の確認"
   ]
  },
  {
   "cell_type": "markdown",
   "metadata": {
    "id": "6rwuQ3jguoq1"
   },
   "source": [
    "`age` と同様に、`balance` についても欲求に対して線形になっているか確認する。"
   ]
  },
  {
   "cell_type": "code",
   "execution_count": 40,
   "metadata": {
    "id": "lTMlKOPmuoq1",
    "outputId": "3c7e1b4a-f33e-49ee-d7ab-f79a854aed60"
   },
   "outputs": [
    {
     "data": {
      "image/png": "[encoded data removed]",
      "text/plain": [
       "<Figure size 640x480 with 1 Axes>"
      ]
     },
     "metadata": {},
     "output_type": "display_data"
    }
   ],
   "source": [
    "# 残高別の対数オッズを計算する\n",
    "logodds_balance = train[['balance', 'y']].copy()\n",
    "logodds_balance['balance'] = logodds_balance['balance'] // 1000 * 1000  # €1,000 (約10万円) 刻みに変換\n",
    "logodds_balance = logodds_balance.groupby(['balance'], as_index=False)['y'].apply(calc_logodds)\n",
    "\n",
    "# 残高と対数オッズの散布図を描く\n",
    "plt.plot(logodds_balance['balance'], logodds_balance['y'], marker='o')\n",
    "plt.xlabel('balance')\n",
    "plt.ylabel('log odds')\n",
    "plt.show()"
   ]
  },
  {
   "cell_type": "markdown",
   "metadata": {
    "id": "ev_rlMTbuoq1"
   },
   "source": [
    "確認の結果、線形性以前に、`balance` が少ない場合や多い場合に対数オッズが極端な値 (特に、極端に小さな値) を取ることがわかった。"
   ]
  },
  {
   "cell_type": "markdown",
   "metadata": {
    "id": "iqbCjD1Ouoq2"
   },
   "source": [
    "### `balance` の分布の確認"
   ]
  },
  {
   "cell_type": "markdown",
   "metadata": {
    "id": "uNVktvLnuoq2"
   },
   "source": [
    "対数オッズが極端な値を取るのは、`balance` の少ない層や高い層が数名しかいないためだと考えられる。  \n",
    "そこで、`balance` の分布を確認する。"
   ]
  },
  {
   "cell_type": "code",
   "execution_count": 41,
   "metadata": {
    "id": "Ccstkkyvuoq2",
    "outputId": "1a6d7c44-df5b-4568-c8a2-280c75c491d4"
   },
   "outputs": [
    {
     "data": {
      "image/png": "[encoded data removed]",
      "text/plain": [
       "<Figure size 640x480 with 1 Axes>"
      ]
     },
     "metadata": {},
     "output_type": "display_data"
    }
   ],
   "source": [
    "plt.hist(train['balance'], bins=logodds_balance['balance'])\n",
    "plt.xlabel('balance')\n",
    "plt.ylabel('frequency')\n",
    "plt.show()"
   ]
  },
  {
   "cell_type": "code",
   "execution_count": 42,
   "metadata": {
    "id": "rsTJl87euoq2",
    "outputId": "09411466-1abc-47a0-a657-27d222cc4afb"
   },
   "outputs": [
    {
     "data": {
      "text/plain": [
       "0.00     -6847.0\n",
       "0.05      -176.0\n",
       "0.25        72.0\n",
       "0.50       449.0\n",
       "0.75      1428.0\n",
       "0.95      5704.0\n",
       "1.00    102127.0\n",
       "Name: balance, dtype: float64"
      ]
     },
     "execution_count": 42,
     "metadata": {},
     "output_type": "execute_result"
    }
   ],
   "source": [
    "train['balance'].quantile([0.00, 0.05, 0.25, 0.5, 0.75, 0.95, 1.00])"
   ]
  },
  {
   "cell_type": "markdown",
   "metadata": {
    "id": "fALTIkvIuoq2"
   },
   "source": [
    "確認の結果、大部分の顧客は [€-176, €5,704] の範囲に収まっており、  \n",
    "`balance` が大きくマイナス or プラスになる層はごく一部であることがわかった。"
   ]
  },
  {
   "cell_type": "markdown",
   "metadata": {
    "id": "COCUVYDTuoq3"
   },
   "source": [
    "### `balance` の外れ値の処理"
   ]
  },
  {
   "cell_type": "markdown",
   "metadata": {
    "id": "GcUawlqAuoq3"
   },
   "source": [
    "このままモデルを構築すると、`balance` が小さい or 大きい層の極端に小さな対数オッズに引っ張られて、  \n",
    "顧客全体の対数オッズ (＝欲求) が低く見積もられてしまう。  \n",
    "そこで、以下のような仮説を立て、外れ値に対処しつつ `balance` がより正確に資産的余裕を表すよう処理した。\n",
    "\n",
    "- 残高マイナスの顧客の資産的余裕は、定期預金口座に預ける資産がないわけだから残高0の顧客と同じ。\n",
    "    - → `balance` がマイナスの場合、`0` に置き換える。\n",
    "- 収入が増えても支出はあまり変わらないから、残高 (≒収入) の増加に対して資産的余裕の増加は徐々に収束する。\n",
    "    - → `balance` が「資産的余裕が収束した時の値」を超えた場合、その「資産的余裕が収束した時の値」に置き換える。\n",
    "    - ここでは「資産的余裕が収束した時の値」の見積もりとして、`balance` の95%点を用いる。\n",
    "\n",
    "外れ値の上下限処理としてPandasのclipメソッドを使用します。  \n",
    "これは引数lowerの設定で値の下限を揃え、引数upperの設定で値の上限を揃える処理です。"
   ]
  },
  {
   "cell_type": "code",
   "execution_count": 43,
   "metadata": {
    "id": "DWhC_WP8uoq3"
   },
   "outputs": [],
   "source": [
    "train['trimmed_balance'] = train['balance'].copy()\n",
    "train['trimmed_balance'] = train['trimmed_balance'].clip(lower = 0,upper = 5704)"
   ]
  },
  {
   "cell_type": "markdown",
   "metadata": {
    "id": "y6BmxWCduoq3"
   },
   "source": [
    "外れ値処理後の `balance` が欲求に対して線形になっているか確認する。"
   ]
  },
  {
   "cell_type": "code",
   "execution_count": 44,
   "metadata": {
    "id": "BAEMZNkAuoq3",
    "outputId": "65803c6f-2ad8-4393-9019-e0a663424cd4"
   },
   "outputs": [
    {
     "data": {
      "image/png": "[encoded data removed]",
      "text/plain": [
       "<Figure size 640x480 with 1 Axes>"
      ]
     },
     "metadata": {},
     "output_type": "display_data"
    }
   ],
   "source": [
    "# 残高別の対数オッズを計算する\n",
    "logodds_balance = train[['trimmed_balance', 'y']].copy()\n",
    "logodds_balance['trimmed_balance'] = logodds_balance['trimmed_balance'] // 1000 * 1000  # €1,000 (約10万円) 刻みに変換\n",
    "logodds_balance = logodds_balance.groupby(['trimmed_balance'], as_index=False)['y'].apply(calc_logodds)\n",
    "\n",
    "# 残高と対数オッズの散布図を描く\n",
    "plt.plot(logodds_balance['trimmed_balance'], logodds_balance['y'], marker='o')\n",
    "plt.xlabel('trimmed_balance')\n",
    "plt.ylabel('log odds')\n",
    "plt.show()"
   ]
  },
  {
   "cell_type": "markdown",
   "metadata": {
    "id": "Pz1xCkLPuoq3"
   },
   "source": [
    "確認の結果、きれいな線形にはなっていないものの、「`balance` が大きいと欲求も高くなる」という大まかな傾向はあることがわかった。"
   ]
  },
  {
   "cell_type": "markdown",
   "metadata": {
    "id": "8nO4d2zwuoq3"
   },
   "source": [
    "### 予測精度の確認"
   ]
  },
  {
   "cell_type": "markdown",
   "metadata": {
    "id": "EbzVOh3luoq4"
   },
   "source": [
    "外れ値処理後の `balance` を用いてモデルを構築し、その予測精度をクロスバリデーションで確認する。"
   ]
  },
  {
   "cell_type": "code",
   "execution_count": 45,
   "metadata": {
    "id": "z1hbr5wWuoq4"
   },
   "outputs": [],
   "source": [
    "# 学習データ\n",
    "train_x = train[['margin', 'trimmed_balance']].copy()\n",
    "train_y = train['y'].copy()\n",
    "\n",
    "# ロジスティック回帰モデルを作成する\n",
    "model = LogisticRegression(solver=\"liblinear\")\n",
    "\n",
    "# クロスバリデーション\n",
    "cv = cross_validate(\n",
    "    # クロスバリデーションに用いるモデルとデータを指定する\n",
    "    model, train_x, train_y,\n",
    "    # データの分割方法を指定する\n",
    "    # データを5分割する、分割前にデータをシャッフルする、再現性を担保するためシャッフル時の乱数を固定する\n",
    "    cv=StratifiedKFold(n_splits=10, shuffle=True, random_state=37),\n",
    "    # 予測精度としてAUCを使う\n",
    "    scoring='roc_auc',\n",
    "    # 学習データに対する予測精度も計算する\n",
    "    return_train_score=True,\n",
    "    # 各foldで学習させたモデルを返す\n",
    "    return_estimator=True\n",
    ")"
   ]
  },
  {
   "cell_type": "code",
   "execution_count": 46,
   "metadata": {
    "id": "wxSAZ0b4uoq4",
    "outputId": "dfa14323-416f-4492-fa64-fccea8021069"
   },
   "outputs": [
    {
     "data": {
      "text/plain": [
       "np.float64(0.6067671376763261)"
      ]
     },
     "execution_count": 46,
     "metadata": {},
     "output_type": "execute_result"
    }
   ],
   "source": [
    "# 学習データに対するAUC\n",
    "cv['train_score'].mean()"
   ]
  },
  {
   "cell_type": "code",
   "execution_count": 47,
   "metadata": {
    "id": "HdTTq2iguoq4",
    "outputId": "401bb86b-8765-4734-f8d0-de3887276031"
   },
   "outputs": [
    {
     "data": {
      "text/plain": [
       "np.float64(0.6065165544742628)"
      ]
     },
     "execution_count": 47,
     "metadata": {},
     "output_type": "execute_result"
    }
   ],
   "source": [
    "# テストデータに対するAUC\n",
    "cv['test_score'].mean()"
   ]
  },
  {
   "cell_type": "markdown",
   "metadata": {
    "id": "FDNnxPlnuoq4"
   },
   "source": [
    "`balance` の外れ値を処理したことで、0.58から0.60へ予測精度が向上した。  \n",
    "同様に係数についても確認"
   ]
  },
  {
   "cell_type": "code",
   "execution_count": 48,
   "metadata": {
    "id": "MsZex0lvuoq4",
    "outputId": "69acccb0-2a0f-409d-e335-52c0aa31ffe2"
   },
   "outputs": [
    {
     "data": {
      "text/html": [
       "<div>\n",
       "<style scoped>\n",
       "    .dataframe tbody tr th:only-of-type {\n",
       "        vertical-align: middle;\n",
       "    }\n",
       "\n",
       "    .dataframe tbody tr th {\n",
       "        vertical-align: top;\n",
       "    }\n",
       "\n",
       "    .dataframe thead th {\n",
       "        text-align: right;\n",
       "    }\n",
       "</style>\n",
       "<table border=\"1\" class=\"dataframe\">\n",
       "  <thead>\n",
       "    <tr style=\"text-align: right;\">\n",
       "      <th>feature</th>\n",
       "      <th>intercept</th>\n",
       "      <th>margin</th>\n",
       "      <th>trimmed_balance</th>\n",
       "    </tr>\n",
       "    <tr>\n",
       "      <th>cv</th>\n",
       "      <th></th>\n",
       "      <th></th>\n",
       "      <th></th>\n",
       "    </tr>\n",
       "  </thead>\n",
       "  <tbody>\n",
       "    <tr>\n",
       "      <th>1</th>\n",
       "      <td>-2.763935</td>\n",
       "      <td>0.043428</td>\n",
       "      <td>0.000151</td>\n",
       "    </tr>\n",
       "    <tr>\n",
       "      <th>2</th>\n",
       "      <td>-2.735870</td>\n",
       "      <td>0.042654</td>\n",
       "      <td>0.000143</td>\n",
       "    </tr>\n",
       "    <tr>\n",
       "      <th>3</th>\n",
       "      <td>-2.771298</td>\n",
       "      <td>0.044274</td>\n",
       "      <td>0.000148</td>\n",
       "    </tr>\n",
       "    <tr>\n",
       "      <th>4</th>\n",
       "      <td>-2.768364</td>\n",
       "      <td>0.043977</td>\n",
       "      <td>0.000149</td>\n",
       "    </tr>\n",
       "    <tr>\n",
       "      <th>5</th>\n",
       "      <td>-2.711267</td>\n",
       "      <td>0.041035</td>\n",
       "      <td>0.000141</td>\n",
       "    </tr>\n",
       "    <tr>\n",
       "      <th>6</th>\n",
       "      <td>-2.711663</td>\n",
       "      <td>0.041005</td>\n",
       "      <td>0.000143</td>\n",
       "    </tr>\n",
       "    <tr>\n",
       "      <th>7</th>\n",
       "      <td>-2.750856</td>\n",
       "      <td>0.042350</td>\n",
       "      <td>0.000152</td>\n",
       "    </tr>\n",
       "    <tr>\n",
       "      <th>8</th>\n",
       "      <td>-2.710097</td>\n",
       "      <td>0.040578</td>\n",
       "      <td>0.000144</td>\n",
       "    </tr>\n",
       "    <tr>\n",
       "      <th>9</th>\n",
       "      <td>-2.737349</td>\n",
       "      <td>0.042828</td>\n",
       "      <td>0.000143</td>\n",
       "    </tr>\n",
       "    <tr>\n",
       "      <th>10</th>\n",
       "      <td>-2.716308</td>\n",
       "      <td>0.040862</td>\n",
       "      <td>0.000148</td>\n",
       "    </tr>\n",
       "  </tbody>\n",
       "</table>\n",
       "</div>"
      ],
      "text/plain": [
       "feature  intercept    margin  trimmed_balance\n",
       "cv                                           \n",
       "1        -2.763935  0.043428         0.000151\n",
       "2        -2.735870  0.042654         0.000143\n",
       "3        -2.771298  0.044274         0.000148\n",
       "4        -2.768364  0.043977         0.000149\n",
       "5        -2.711267  0.041035         0.000141\n",
       "6        -2.711663  0.041005         0.000143\n",
       "7        -2.750856  0.042350         0.000152\n",
       "8        -2.710097  0.040578         0.000144\n",
       "9        -2.737349  0.042828         0.000143\n",
       "10       -2.716308  0.040862         0.000148"
      ]
     },
     "execution_count": 48,
     "metadata": {},
     "output_type": "execute_result"
    }
   ],
   "source": [
    "coef_cv = make_df_coef_cv(cv)\n",
    "#各係数を確認\n",
    "coef_cv.pivot_table(\n",
    "    index = \"cv\",\n",
    "    columns = \"feature\",\n",
    "    values = \"coefficient\",\n",
    "    aggfunc = \"mean\"\n",
    ")"
   ]
  },
  {
   "cell_type": "markdown",
   "metadata": {
    "id": "syCn6g_8uoq5"
   },
   "source": [
    "`balance`の外れ値によって正の係数の傾きは小さく推定されていたが、外れ値の上下限処理を行うことで正の傾きは大きく推定された。\n",
    "- 例として、cv1での`balance`の係数が0.000037となっていたのに対し、`trimmed_balance`では0.000141となっている。"
   ]
  },
  {
   "cell_type": "code",
   "execution_count": 54,
   "metadata": {},
   "outputs": [
    {
     "data": {
      "image/png": "[encoded data removed]",
      "text/plain": [
       "<Figure size 640x480 with 1 Axes>"
      ]
     },
     "metadata": {},
     "output_type": "display_data"
    }
   ],
   "source": [
    "# pdaysの対数オッズを計算する\n",
    "logodds_pdays = train[['pdays', 'y']].copy()\n",
    "logodds_pdays['pdays'] = logodds_pdays['pdays'] // 7 * 7  \n",
    "logodds_pdays = logodds_pdays.groupby(['pdays'], as_index=False)['y'].apply(calc_logodds)\n",
    "\n",
    "# pdaysと対数オッズの散布図を描く\n",
    "plt.plot(logodds_pdays['pdays'], logodds_pdays['y'], marker='o')\n",
    "plt.xlabel('pdays')\n",
    "plt.ylabel('log odds')\n",
    "plt.show()"
   ]
  },
  {
   "cell_type": "code",
   "execution_count": 56,
   "metadata": {},
   "outputs": [
    {
     "data": {
      "text/plain": [
       "0.00     -1.0\n",
       "0.05     -1.0\n",
       "0.25     -1.0\n",
       "0.50     -1.0\n",
       "0.75     -1.0\n",
       "0.95    318.0\n",
       "0.99    370.0\n",
       "1.00    871.0\n",
       "Name: pdays, dtype: float64"
      ]
     },
     "execution_count": 56,
     "metadata": {},
     "output_type": "execute_result"
    }
   ],
   "source": [
    "train['pdays'].quantile([0.00, 0.05, 0.25, 0.5, 0.75, 0.95, 0.99, 1.00])"
   ]
  },
  {
   "cell_type": "code",
   "execution_count": 57,
   "metadata": {},
   "outputs": [],
   "source": [
    "train['trimmed_pdays'] = train['pdays'].clip(lower= 0, upper = 365)"
   ]
  },
  {
   "cell_type": "code",
   "execution_count": 53,
   "metadata": {},
   "outputs": [
    {
     "data": {
      "image/png": "[encoded data removed]",
      "text/plain": [
       "<Figure size 640x480 with 1 Axes>"
      ]
     },
     "metadata": {},
     "output_type": "display_data"
    }
   ],
   "source": [
    "bin_feature = 'trimmed_pdays'\n",
    "\n",
    "logodds_bin = train[[bin_feature, 'y']].copy()\n",
    "#logodds_bin[bin_feature] = np.cos(logodds_bin[bin_feature] * 2 * np.pi / 365)\n",
    "logodds_bin[bin_feature] = logodds_bin[bin_feature] //7 *7\n",
    "logodds_bin = logodds_bin.groupby([bin_feature], as_index=False).agg({'y':['count','mean',calc_logodds]})\n",
    "\n",
    "logodds_bin.columns = [bin_feature,'N','y_mean','log_odds']\n",
    "#オッズの散布図を描く\n",
    "plt.plot(logodds_bin[bin_feature], logodds_bin['log_odds'], marker='o')\n",
    "plt.xlabel(bin_feature)\n",
    "plt.ylabel('log odds')\n",
    "plt.show()"
   ]
  },
  {
   "cell_type": "code",
   "execution_count": 59,
   "metadata": {},
   "outputs": [
    {
     "data": {
      "text/plain": [
       "(np.float64(0.636249982909108), np.float64(0.6360340907524599))"
      ]
     },
     "execution_count": 59,
     "metadata": {},
     "output_type": "execute_result"
    }
   ],
   "source": [
    "# 学習データ\n",
    "train_x = train[['margin', 'trimmed_balance','trimmed_pdays']].copy()\n",
    "train_y = train['y'].copy()\n",
    "\n",
    "# ロジスティック回帰モデルを作成する\n",
    "model = LogisticRegression(solver=\"liblinear\")\n",
    "\n",
    "# クロスバリデーション\n",
    "cv = cross_validate(\n",
    "    # クロスバリデーションに用いるモデルとデータを指定する\n",
    "    model, train_x, train_y,\n",
    "    # データの分割方法を指定する\n",
    "    # データを5分割する、分割前にデータをシャッフルする、再現性を担保するためシャッフル時の乱数を固定する\n",
    "    cv=StratifiedKFold(n_splits=10, shuffle=True, random_state=37),\n",
    "    # 予測精度としてAUCを使う\n",
    "    scoring='roc_auc',\n",
    "    # 学習データに対する予測精度も計算する\n",
    "    return_train_score=True,\n",
    "    # 各foldで学習させたモデルを返す\n",
    "    return_estimator=True\n",
    ")\n",
    "cv['train_score'].mean(), cv['test_score'].mean()"
   ]
  },
  {
   "cell_type": "code",
   "execution_count": 88,
   "metadata": {},
   "outputs": [
    {
     "data": {
      "image/png": "[encoded data removed]",
      "text/plain": [
       "<Figure size 640x480 with 1 Axes>"
      ]
     },
     "metadata": {},
     "output_type": "display_data"
    }
   ],
   "source": [
    "#calculate day in year by combining month and day\n",
    "train[\"day_in_year\"] = pd.to_datetime( train[\"month\"] + \" \" + train[\"day\"].astype(str) + \" 2020\", format=\"%b %d %Y\").dt.dayofyear\n",
    "#train[\"day_in_year\"]\n",
    "\n",
    "bin_feature = 'day_in_year'\n",
    "\n",
    "logodds_bin = train[[bin_feature, 'y']].copy()\n",
    "#logodds_bin[bin_feature] = np.cos(logodds_bin[bin_feature] * 2 * np.pi / 365)\n",
    "logodds_bin[bin_feature] = logodds_bin[bin_feature] //7 *7\n",
    "logodds_bin = logodds_bin.groupby([bin_feature], as_index=False).agg({'y':['sum','count','mean',calc_logodds]})\n",
    "\n",
    "logodds_bin.columns = [bin_feature,'sum','N','y_mean','log_odds']\n",
    "#オッズの散布図を描く\n",
    "plt.plot(logodds_bin[bin_feature], logodds_bin[['y_mean']], marker='o',label =['y_mean'])\n",
    "plt.xlabel(bin_feature)\n",
    "plt.ylabel('log odds')\n",
    "plt.legend()\n",
    "plt.show()"
   ]
  },
  {
   "cell_type": "code",
   "execution_count": 103,
   "metadata": {},
   "outputs": [
    {
     "data": {
      "image/png": "[encoded data removed]",
      "text/plain": [
       "<Figure size 640x480 with 1 Axes>"
      ]
     },
     "metadata": {},
     "output_type": "display_data"
    }
   ],
   "source": [
    "train[\"campaign_date\"] = abs(train[\"day_in_year\"].copy() - 183)\n",
    "#train[\"campaign_date\"] = np.log1p(train[\"campaign_date\"])\n",
    "\n",
    "bin_feature = 'campaign_date'\n",
    "\n",
    "logodds_bin = train[[bin_feature, 'y']].copy()\n",
    "#logodds_bin[bin_feature] = np.cos(logodds_bin[bin_feature] * 2 * np.pi / 365)\n",
    "logodds_bin[bin_feature] = logodds_bin[bin_feature] // 7 * 7\n",
    "logodds_bin = logodds_bin.groupby([bin_feature], as_index=False).agg({'y':['sum','count','mean',calc_logodds]})\n",
    "\n",
    "logodds_bin.columns = [bin_feature,'sum','N','y_mean','log_odds']\n",
    "#オッズの散布図を描く\n",
    "plt.plot(logodds_bin[bin_feature], logodds_bin[['log_odds']], marker='o',label =['log_odds'])\n",
    "plt.xlabel(bin_feature)\n",
    "plt.ylabel('log odds')\n",
    "#plt.legend()\n",
    "plt.show()"
   ]
  },
  {
   "cell_type": "code",
   "execution_count": 96,
   "metadata": {},
   "outputs": [
    {
     "data": {
      "text/plain": [
       "(np.float64(0.6440236429129648), np.float64(0.6433593319963007))"
      ]
     },
     "execution_count": 96,
     "metadata": {},
     "output_type": "execute_result"
    }
   ],
   "source": [
    "# 学習データ\n",
    "train_x = train[['campaign_date','margin', 'trimmed_balance','trimmed_pdays']].copy()\n",
    "train_y = train['y'].copy()\n",
    "\n",
    "# ロジスティック回帰モデルを作成する\n",
    "model = LogisticRegression(solver=\"liblinear\")\n",
    "\n",
    "# クロスバリデーション\n",
    "cv = cross_validate(\n",
    "    # クロスバリデーションに用いるモデルとデータを指定する\n",
    "    model, train_x, train_y,\n",
    "    # データの分割方法を指定する\n",
    "    # データを5分割する、分割前にデータをシャッフルする、再現性を担保するためシャッフル時の乱数を固定する\n",
    "    cv=StratifiedKFold(n_splits=10, shuffle=True, random_state=37),\n",
    "    # 予測精度としてAUCを使う\n",
    "    scoring='roc_auc',\n",
    "    # 学習データに対する予測精度も計算する\n",
    "    return_train_score=True,\n",
    "    # 各foldで学習させたモデルを返す\n",
    "    return_estimator=True\n",
    ")\n",
    "cv['train_score'].mean(), cv['test_score'].mean()"
   ]
  },
  {
   "cell_type": "markdown",
   "metadata": {
    "id": "H9cWZAHduoq5"
   },
   "source": [
    "---"
   ]
  }
 ],
 "metadata": {
  "colab": {
   "provenance": []
  },
  "kernelspec": {
   "display_name": "Python 3 (ipykernel)",
   "language": "python",
   "name": "python3"
  },
  "language_info": {
   "codemirror_mode": {
    "name": "ipython",
    "version": 3
   },
   "file_extension": ".py",
   "mimetype": "text/x-python",
   "name": "python",
   "nbconvert_exporter": "python",
   "pygments_lexer": "ipython3",
   "version": "3.13.5"
  }
 },
 "nbformat": 4,
 "nbformat_minor": 4
}
