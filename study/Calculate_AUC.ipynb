{
 "cells": [
  {
   "cell_type": "markdown",
   "id": "korean-liberty",
   "metadata": {},
   "source": [
    "# AUCを計算する\n",
    "　この課題はAUCを理解するためのもので, ライブラリを使用するのでなく, 実際にご自身のプログラムでAUCを計算することを目的とします. また, 参考としてPrecision, Recallという指標についても触れます.\n",
    " - **課題の前提条件：予測値が重複する(ROC曲線上の点が斜めに移動する)可能性は考慮しなくてよい**\n",
    "   - 本編第2回でやる決定木などでは予測値は重複し, そのときROC曲線の変化は階段状(長方形)ではなく, 台形になります\n",
    "   - ここではあくまでAUCの理解が目的なので, 例外処理(台形)は一旦考慮しません\n",
    " - 前半はAUCを計算するためのヒントを記載しています\n",
    " - 後半にAUC計算の作成課題とPrecision, Recallについての説明を記載しています\n",
    " - 末尾に解答例を載せてあります\n",
    "\n",
    "## Import"
   ]
  },
  {
   "cell_type": "code",
   "execution_count": 1,
   "id": "equal-eugene",
   "metadata": {},
   "outputs": [],
   "source": [
    "import pandas as pd\n",
    "import numpy as np\n",
    "\n",
    "# 計算時間の計測\n",
    "import time\n",
    "\n",
    "# 可視化ライブラリ\n",
    "import seaborn as sns\n",
    "import matplotlib.pyplot as plt\n",
    "\n",
    "# 検算用のAUC計算ライブラリ\n",
    "from sklearn.metrics import roc_auc_score"
   ]
  },
  {
   "cell_type": "markdown",
   "id": "attached-scanner",
   "metadata": {},
   "source": [
    "## Setting"
   ]
  },
  {
   "cell_type": "code",
   "execution_count": 2,
   "id": "banned-prior",
   "metadata": {},
   "outputs": [],
   "source": [
    "# Figure Size\n",
    "plt.rcParams[\"figure.figsize\"] = (15.0, 10.0)\n",
    "plt.rcParams[\"font.size\"] = 15"
   ]
  },
  {
   "cell_type": "markdown",
   "id": "early-twenty",
   "metadata": {},
   "source": [
    "## Make Data\n",
    "　課題用のデータを擬似的に作成します. 設定は, 危険運転をする人を予測したデータです. **ここで課題用データを作成しているので, 必ず実行してください.**\n",
    " - これは**擬似的に作るデータ**です\n",
    " - 各変数の意味\n",
    "  - y:目的変数で危険運転をした人は1, 通常の運転をした人は0が入っています\n",
    "  - pred:とある予測モデルが算出した危険運転をする確率となります"
   ]
  },
  {
   "cell_type": "code",
   "execution_count": 3,
   "id": "chicken-doctor",
   "metadata": {},
   "outputs": [],
   "source": [
    "### ここのセルのプログラムは理解しなくても良いです\n",
    "def make_predict(x):\n",
    "    if x==1:\n",
    "        y = np.random.normal(loc=0.6, scale=0.1, size=1)[0]\n",
    "    else:\n",
    "        y = np.random.normal(loc=0.4, scale=0.1, size=1)[0]\n",
    "    y = max(min(y, 1), 0)\n",
    "    return y\n",
    "\n",
    "np.random.seed(seed=17)\n",
    "dat = pd.DataFrame()\n",
    "dat[\"y\"] = np.random.choice(a=[1,0], size=50000, p=[1/10, 9/10])\n",
    "dat[\"pred\"] = dat[\"y\"].apply(make_predict)"
   ]
  },
  {
   "cell_type": "markdown",
   "id": "modular-things",
   "metadata": {},
   "source": [
    "　データを確認してみましょう."
   ]
  },
  {
   "cell_type": "code",
   "execution_count": 4,
   "id": "suburban-poker",
   "metadata": {},
   "outputs": [
    {
     "data": {
      "text/html": [
       "<div>\n",
       "<style scoped>\n",
       "    .dataframe tbody tr th:only-of-type {\n",
       "        vertical-align: middle;\n",
       "    }\n",
       "\n",
       "    .dataframe tbody tr th {\n",
       "        vertical-align: top;\n",
       "    }\n",
       "\n",
       "    .dataframe thead th {\n",
       "        text-align: right;\n",
       "    }\n",
       "</style>\n",
       "<table border=\"1\" class=\"dataframe\">\n",
       "  <thead>\n",
       "    <tr style=\"text-align: right;\">\n",
       "      <th></th>\n",
       "      <th>y</th>\n",
       "      <th>pred</th>\n",
       "    </tr>\n",
       "  </thead>\n",
       "  <tbody>\n",
       "    <tr>\n",
       "      <th>0</th>\n",
       "      <td>0</td>\n",
       "      <td>0.552671</td>\n",
       "    </tr>\n",
       "    <tr>\n",
       "      <th>1</th>\n",
       "      <td>0</td>\n",
       "      <td>0.331018</td>\n",
       "    </tr>\n",
       "    <tr>\n",
       "      <th>2</th>\n",
       "      <td>0</td>\n",
       "      <td>0.447690</td>\n",
       "    </tr>\n",
       "    <tr>\n",
       "      <th>3</th>\n",
       "      <td>1</td>\n",
       "      <td>0.709084</td>\n",
       "    </tr>\n",
       "    <tr>\n",
       "      <th>4</th>\n",
       "      <td>0</td>\n",
       "      <td>0.308230</td>\n",
       "    </tr>\n",
       "  </tbody>\n",
       "</table>\n",
       "</div>"
      ],
      "text/plain": [
       "   y      pred\n",
       "0  0  0.552671\n",
       "1  0  0.331018\n",
       "2  0  0.447690\n",
       "3  1  0.709084\n",
       "4  0  0.308230"
      ]
     },
     "execution_count": 4,
     "metadata": {},
     "output_type": "execute_result"
    }
   ],
   "source": [
    "dat.head()"
   ]
  },
  {
   "cell_type": "code",
   "execution_count": 5,
   "id": "humanitarian-poverty",
   "metadata": {},
   "outputs": [
    {
     "data": {
      "text/plain": [
       "(50000, 2)"
      ]
     },
     "execution_count": 5,
     "metadata": {},
     "output_type": "execute_result"
    }
   ],
   "source": [
    "dat.shape"
   ]
  },
  {
   "cell_type": "code",
   "execution_count": 6,
   "id": "administrative-solution",
   "metadata": {},
   "outputs": [
    {
     "data": {
      "text/plain": [
       "0.10012"
      ]
     },
     "execution_count": 6,
     "metadata": {},
     "output_type": "execute_result"
    }
   ],
   "source": [
    "# 危険運転率\n",
    "dat[\"y\"].mean()"
   ]
  },
  {
   "cell_type": "code",
   "execution_count": 7,
   "id": "defined-challenge",
   "metadata": {},
   "outputs": [
    {
     "data": {
      "text/plain": [
       "1.0"
      ]
     },
     "execution_count": 7,
     "metadata": {},
     "output_type": "execute_result"
    }
   ],
   "source": [
    "dat[\"pred\"].max()"
   ]
  },
  {
   "cell_type": "code",
   "execution_count": 8,
   "id": "auburn-approach",
   "metadata": {},
   "outputs": [
    {
     "data": {
      "text/plain": [
       "0.0"
      ]
     },
     "execution_count": 8,
     "metadata": {},
     "output_type": "execute_result"
    }
   ],
   "source": [
    "dat[\"pred\"].min()"
   ]
  },
  {
   "cell_type": "markdown",
   "id": "interracial-warrior",
   "metadata": {},
   "source": [
    "## AUCを計算する準備：ROC曲線\n",
    "　まずは視覚的にpredの分布がy=1, 0でどのくらい差があるのかを確認し, 次に**データをまたぐ閾値ごとに, 真陽性率と偽陽性率を計算してみます.** 最後に計算した真陽性率と偽陽性率をもとにROC曲線を描いてみます.\n",
    " - ポイント\n",
    "  - **配布資料(モデルの精度評価資料.pdf)の体重データにあたるのが, 今回はpred(モデル予測値)となります**\n",
    "  - モデル予測値が高いほど危険運転の割合が高くなります\n",
    "\n",
    "### 分布の確認\n",
    "　y=0, 1でどれくらいpred(モデル予測値)が違うのか確認してみましょう."
   ]
  },
  {
   "cell_type": "code",
   "execution_count": 9,
   "id": "instrumental-cathedral",
   "metadata": {},
   "outputs": [
    {
     "data": {
      "image/png": "[encoded data removed]",
      "text/plain": [
       "<Figure size 1080x720 with 1 Axes>"
      ]
     },
     "metadata": {
      "needs_background": "light"
     },
     "output_type": "display_data"
    }
   ],
   "source": [
    "sns.histplot(\n",
    "    dat, x=\"pred\", hue=\"y\", element=\"poly\", stat=\"density\", common_norm=False).set(xlim=(0, 1))\n",
    "plt.grid()"
   ]
  },
  {
   "cell_type": "markdown",
   "id": "coastal-marks",
   "metadata": {},
   "source": [
    "　重なり合っている部分がありますが, ある程度綺麗に分かれていることが分かりました.\n",
    "### 真陽性率と偽陽性率の計算\n",
    "　今回は, 閾値をpredの最大値から下げていき, 閾値以上の場合に「危険運転をした」, 閾値未満の場合に「通常運転をした」と予測したとして,\n",
    " - 真陽性率 = 実際に危険運転をした人の内, 「危険運転をした」と正しく予測できた割合\n",
    " - 偽陽性率 = 実際は通常運転をした人の内, 「危険運転をした」と間違って予測してしまった割合\n",
    "\n",
    "となります. このとき, **閾値がデータを1つまたいだ時に真陽性率と偽陽性率のどちらかが変化するので, 閾値として予測値自体を利用します.** なぜなら, 閾値 **「以上」** を「危険運転をした」と予測するので, 閾値として予測値を利用して良い分けです.    \n",
    "　今回は, 2つの計算方法を参考として載せます.\n",
    " - 方法1：for文で愚直に計算する\n",
    "   - ROC曲線のための真陽性率と偽陽性率の計算を理解するのが目的です\n",
    " - 方法2：工夫して計算し, 計算時間を高速化する\n",
    "   - 既存のライブラリを使わない目的の1つでもある「高速化」を実現するためのものです\n",
    " - 共通で大事なポイント\n",
    "   - **pred(モデル予測値)の大きい順に並べ替えるのを忘れないように！**\n",
    "     - 上のグラフの1から0まで閾値を変化させたときの真陽性率と偽陽性率の計算をしたいからです"
   ]
  },
  {
   "cell_type": "code",
   "execution_count": 10,
   "id": "reliable-catalog",
   "metadata": {},
   "outputs": [
    {
     "name": "stdout",
     "output_type": "stream",
     "text": [
      "Wall time: 10.3 s\n"
     ]
    }
   ],
   "source": [
    "%%time\n",
    "##### 方法1：分かりやすいが計算速度が遅いやり方\n",
    "# predの大きい順(降順)にデータを並べ替え\n",
    "ROC_1 = dat.sort_values(\"pred\", ascending=False)\n",
    "\n",
    "# 各閾値で計算した真陽性率と偽陽性率を格納するリスト\n",
    "tp_rate = []\n",
    "fp_rate = []\n",
    "\n",
    "# 累積されるTP(実際に予測通りy=1であったデータ数)\n",
    "tp = 0\n",
    "\n",
    "# 累積されるFP(実際は予測と違いy=0であったデータ数)\n",
    "fp = 0\n",
    "\n",
    "# 実際にy=1の件数\n",
    "tp_all = ROC_1[ROC_1[\"y\"]==1].shape[0]\n",
    "\n",
    "# 実際にy=0の件数\n",
    "fp_all = ROC_1[ROC_1[\"y\"]==0].shape[0]\n",
    "\n",
    "# DataFrameを上から1行ずつ行名をindex, 行をrowに代入して最終行までループします\n",
    "# つまり閾値を順番に下げていることになります(predの値で降順に並べ替えている場合)\n",
    "for index, row in ROC_1.iterrows():\n",
    "    \n",
    "    # row.yはyの値を取り出している\n",
    "    if row.y == 1:\n",
    "        # 閾値以上の正しく予測できた件数(y=1の数)を加算\n",
    "        tp = tp + 1\n",
    "    else:\n",
    "        # 閾値以上の間違って予測してしまった件数(y=0の件数)を加算\n",
    "        fp = fp + 1\n",
    "    \n",
    "    # 真陽性率を閾値ごとにリストに格納する\n",
    "    tp_rate = tp_rate + [tp / tp_all]\n",
    "    \n",
    "    # 偽陽性率を閾値ごとにリストに格納する\n",
    "    fp_rate = fp_rate + [fp / fp_all]\n",
    "\n",
    "# DataFrameに列追加\n",
    "ROC_1[\"tp_rate\"] = tp_rate\n",
    "ROC_1[\"fp_rate\"] = fp_rate"
   ]
  },
  {
   "cell_type": "markdown",
   "id": "exempt-trauma",
   "metadata": {},
   "source": [
    "　この資料を作成した環境では計算に**約10秒**掛かりました."
   ]
  },
  {
   "cell_type": "code",
   "execution_count": 11,
   "id": "early-shelter",
   "metadata": {},
   "outputs": [
    {
     "data": {
      "text/html": [
       "<div>\n",
       "<style scoped>\n",
       "    .dataframe tbody tr th:only-of-type {\n",
       "        vertical-align: middle;\n",
       "    }\n",
       "\n",
       "    .dataframe tbody tr th {\n",
       "        vertical-align: top;\n",
       "    }\n",
       "\n",
       "    .dataframe thead th {\n",
       "        text-align: right;\n",
       "    }\n",
       "</style>\n",
       "<table border=\"1\" class=\"dataframe\">\n",
       "  <thead>\n",
       "    <tr style=\"text-align: right;\">\n",
       "      <th></th>\n",
       "      <th>y</th>\n",
       "      <th>pred</th>\n",
       "      <th>tp_rate</th>\n",
       "      <th>fp_rate</th>\n",
       "    </tr>\n",
       "  </thead>\n",
       "  <tbody>\n",
       "    <tr>\n",
       "      <th>35640</th>\n",
       "      <td>1</td>\n",
       "      <td>1.000000</td>\n",
       "      <td>0.000200</td>\n",
       "      <td>0.0</td>\n",
       "    </tr>\n",
       "    <tr>\n",
       "      <th>38271</th>\n",
       "      <td>1</td>\n",
       "      <td>0.964984</td>\n",
       "      <td>0.000400</td>\n",
       "      <td>0.0</td>\n",
       "    </tr>\n",
       "    <tr>\n",
       "      <th>22473</th>\n",
       "      <td>1</td>\n",
       "      <td>0.917551</td>\n",
       "      <td>0.000599</td>\n",
       "      <td>0.0</td>\n",
       "    </tr>\n",
       "    <tr>\n",
       "      <th>8213</th>\n",
       "      <td>1</td>\n",
       "      <td>0.906928</td>\n",
       "      <td>0.000799</td>\n",
       "      <td>0.0</td>\n",
       "    </tr>\n",
       "    <tr>\n",
       "      <th>33232</th>\n",
       "      <td>1</td>\n",
       "      <td>0.905862</td>\n",
       "      <td>0.000999</td>\n",
       "      <td>0.0</td>\n",
       "    </tr>\n",
       "    <tr>\n",
       "      <th>19046</th>\n",
       "      <td>1</td>\n",
       "      <td>0.895647</td>\n",
       "      <td>0.001199</td>\n",
       "      <td>0.0</td>\n",
       "    </tr>\n",
       "    <tr>\n",
       "      <th>4490</th>\n",
       "      <td>1</td>\n",
       "      <td>0.894280</td>\n",
       "      <td>0.001398</td>\n",
       "      <td>0.0</td>\n",
       "    </tr>\n",
       "    <tr>\n",
       "      <th>31081</th>\n",
       "      <td>1</td>\n",
       "      <td>0.891910</td>\n",
       "      <td>0.001598</td>\n",
       "      <td>0.0</td>\n",
       "    </tr>\n",
       "    <tr>\n",
       "      <th>36876</th>\n",
       "      <td>1</td>\n",
       "      <td>0.887383</td>\n",
       "      <td>0.001798</td>\n",
       "      <td>0.0</td>\n",
       "    </tr>\n",
       "    <tr>\n",
       "      <th>12727</th>\n",
       "      <td>1</td>\n",
       "      <td>0.880598</td>\n",
       "      <td>0.001998</td>\n",
       "      <td>0.0</td>\n",
       "    </tr>\n",
       "  </tbody>\n",
       "</table>\n",
       "</div>"
      ],
      "text/plain": [
       "       y      pred   tp_rate  fp_rate\n",
       "35640  1  1.000000  0.000200      0.0\n",
       "38271  1  0.964984  0.000400      0.0\n",
       "22473  1  0.917551  0.000599      0.0\n",
       "8213   1  0.906928  0.000799      0.0\n",
       "33232  1  0.905862  0.000999      0.0\n",
       "19046  1  0.895647  0.001199      0.0\n",
       "4490   1  0.894280  0.001398      0.0\n",
       "31081  1  0.891910  0.001598      0.0\n",
       "36876  1  0.887383  0.001798      0.0\n",
       "12727  1  0.880598  0.001998      0.0"
      ]
     },
     "execution_count": 11,
     "metadata": {},
     "output_type": "execute_result"
    }
   ],
   "source": [
    "# データ確認：先頭10行\n",
    "ROC_1.head(10)"
   ]
  },
  {
   "cell_type": "code",
   "execution_count": 12,
   "id": "exceptional-genealogy",
   "metadata": {},
   "outputs": [
    {
     "data": {
      "text/html": [
       "<div>\n",
       "<style scoped>\n",
       "    .dataframe tbody tr th:only-of-type {\n",
       "        vertical-align: middle;\n",
       "    }\n",
       "\n",
       "    .dataframe tbody tr th {\n",
       "        vertical-align: top;\n",
       "    }\n",
       "\n",
       "    .dataframe thead th {\n",
       "        text-align: right;\n",
       "    }\n",
       "</style>\n",
       "<table border=\"1\" class=\"dataframe\">\n",
       "  <thead>\n",
       "    <tr style=\"text-align: right;\">\n",
       "      <th></th>\n",
       "      <th>y</th>\n",
       "      <th>pred</th>\n",
       "      <th>tp_rate</th>\n",
       "      <th>fp_rate</th>\n",
       "    </tr>\n",
       "  </thead>\n",
       "  <tbody>\n",
       "    <tr>\n",
       "      <th>32276</th>\n",
       "      <td>0</td>\n",
       "      <td>0.031477</td>\n",
       "      <td>1.0</td>\n",
       "      <td>0.999800</td>\n",
       "    </tr>\n",
       "    <tr>\n",
       "      <th>18732</th>\n",
       "      <td>0</td>\n",
       "      <td>0.027084</td>\n",
       "      <td>1.0</td>\n",
       "      <td>0.999822</td>\n",
       "    </tr>\n",
       "    <tr>\n",
       "      <th>35279</th>\n",
       "      <td>0</td>\n",
       "      <td>0.024852</td>\n",
       "      <td>1.0</td>\n",
       "      <td>0.999844</td>\n",
       "    </tr>\n",
       "    <tr>\n",
       "      <th>4289</th>\n",
       "      <td>0</td>\n",
       "      <td>0.019268</td>\n",
       "      <td>1.0</td>\n",
       "      <td>0.999867</td>\n",
       "    </tr>\n",
       "    <tr>\n",
       "      <th>49535</th>\n",
       "      <td>0</td>\n",
       "      <td>0.017449</td>\n",
       "      <td>1.0</td>\n",
       "      <td>0.999889</td>\n",
       "    </tr>\n",
       "    <tr>\n",
       "      <th>17138</th>\n",
       "      <td>0</td>\n",
       "      <td>0.016622</td>\n",
       "      <td>1.0</td>\n",
       "      <td>0.999911</td>\n",
       "    </tr>\n",
       "    <tr>\n",
       "      <th>37203</th>\n",
       "      <td>0</td>\n",
       "      <td>0.016155</td>\n",
       "      <td>1.0</td>\n",
       "      <td>0.999933</td>\n",
       "    </tr>\n",
       "    <tr>\n",
       "      <th>6599</th>\n",
       "      <td>0</td>\n",
       "      <td>0.013225</td>\n",
       "      <td>1.0</td>\n",
       "      <td>0.999956</td>\n",
       "    </tr>\n",
       "    <tr>\n",
       "      <th>10806</th>\n",
       "      <td>0</td>\n",
       "      <td>0.006244</td>\n",
       "      <td>1.0</td>\n",
       "      <td>0.999978</td>\n",
       "    </tr>\n",
       "    <tr>\n",
       "      <th>2852</th>\n",
       "      <td>0</td>\n",
       "      <td>0.000000</td>\n",
       "      <td>1.0</td>\n",
       "      <td>1.000000</td>\n",
       "    </tr>\n",
       "  </tbody>\n",
       "</table>\n",
       "</div>"
      ],
      "text/plain": [
       "       y      pred  tp_rate   fp_rate\n",
       "32276  0  0.031477      1.0  0.999800\n",
       "18732  0  0.027084      1.0  0.999822\n",
       "35279  0  0.024852      1.0  0.999844\n",
       "4289   0  0.019268      1.0  0.999867\n",
       "49535  0  0.017449      1.0  0.999889\n",
       "17138  0  0.016622      1.0  0.999911\n",
       "37203  0  0.016155      1.0  0.999933\n",
       "6599   0  0.013225      1.0  0.999956\n",
       "10806  0  0.006244      1.0  0.999978\n",
       "2852   0  0.000000      1.0  1.000000"
      ]
     },
     "execution_count": 12,
     "metadata": {},
     "output_type": "execute_result"
    }
   ],
   "source": [
    "# データ確認：末尾10行\n",
    "ROC_1.tail(10)"
   ]
  },
  {
   "cell_type": "code",
   "execution_count": 13,
   "id": "dental-playback",
   "metadata": {},
   "outputs": [
    {
     "name": "stdout",
     "output_type": "stream",
     "text": [
      "Wall time: 7.98 ms\n"
     ]
    }
   ],
   "source": [
    "%%time\n",
    "##### 方法2：工夫して高速で計算する方法\n",
    "# predの大きい順(降順)にデータを並べ替え\n",
    "ROC_2 = dat.sort_values(\"pred\", ascending=False)\n",
    "\n",
    "# 累積和cumsumを使って一気に真陽性率を閾値ごとに計算\n",
    "ROC_2[\"tp_rate\"] = ROC_2[\"y\"].cumsum() / ROC_2[\"y\"].sum()\n",
    "ROC_2[\"fp_rate\"] = (ROC_2[\"y\"] == 0).cumsum() / (ROC_2[\"y\"]==0).sum()"
   ]
  },
  {
   "cell_type": "markdown",
   "id": "confidential-rough",
   "metadata": {},
   "source": [
    "　この資料を作成した環境では計算に**約0.01秒**掛かりました."
   ]
  },
  {
   "cell_type": "code",
   "execution_count": 14,
   "id": "bridal-break",
   "metadata": {},
   "outputs": [
    {
     "data": {
      "text/html": [
       "<div>\n",
       "<style scoped>\n",
       "    .dataframe tbody tr th:only-of-type {\n",
       "        vertical-align: middle;\n",
       "    }\n",
       "\n",
       "    .dataframe tbody tr th {\n",
       "        vertical-align: top;\n",
       "    }\n",
       "\n",
       "    .dataframe thead th {\n",
       "        text-align: right;\n",
       "    }\n",
       "</style>\n",
       "<table border=\"1\" class=\"dataframe\">\n",
       "  <thead>\n",
       "    <tr style=\"text-align: right;\">\n",
       "      <th></th>\n",
       "      <th>y</th>\n",
       "      <th>pred</th>\n",
       "      <th>tp_rate</th>\n",
       "      <th>fp_rate</th>\n",
       "    </tr>\n",
       "  </thead>\n",
       "  <tbody>\n",
       "    <tr>\n",
       "      <th>35640</th>\n",
       "      <td>1</td>\n",
       "      <td>1.000000</td>\n",
       "      <td>0.000200</td>\n",
       "      <td>0.0</td>\n",
       "    </tr>\n",
       "    <tr>\n",
       "      <th>38271</th>\n",
       "      <td>1</td>\n",
       "      <td>0.964984</td>\n",
       "      <td>0.000400</td>\n",
       "      <td>0.0</td>\n",
       "    </tr>\n",
       "    <tr>\n",
       "      <th>22473</th>\n",
       "      <td>1</td>\n",
       "      <td>0.917551</td>\n",
       "      <td>0.000599</td>\n",
       "      <td>0.0</td>\n",
       "    </tr>\n",
       "    <tr>\n",
       "      <th>8213</th>\n",
       "      <td>1</td>\n",
       "      <td>0.906928</td>\n",
       "      <td>0.000799</td>\n",
       "      <td>0.0</td>\n",
       "    </tr>\n",
       "    <tr>\n",
       "      <th>33232</th>\n",
       "      <td>1</td>\n",
       "      <td>0.905862</td>\n",
       "      <td>0.000999</td>\n",
       "      <td>0.0</td>\n",
       "    </tr>\n",
       "    <tr>\n",
       "      <th>19046</th>\n",
       "      <td>1</td>\n",
       "      <td>0.895647</td>\n",
       "      <td>0.001199</td>\n",
       "      <td>0.0</td>\n",
       "    </tr>\n",
       "    <tr>\n",
       "      <th>4490</th>\n",
       "      <td>1</td>\n",
       "      <td>0.894280</td>\n",
       "      <td>0.001398</td>\n",
       "      <td>0.0</td>\n",
       "    </tr>\n",
       "    <tr>\n",
       "      <th>31081</th>\n",
       "      <td>1</td>\n",
       "      <td>0.891910</td>\n",
       "      <td>0.001598</td>\n",
       "      <td>0.0</td>\n",
       "    </tr>\n",
       "    <tr>\n",
       "      <th>36876</th>\n",
       "      <td>1</td>\n",
       "      <td>0.887383</td>\n",
       "      <td>0.001798</td>\n",
       "      <td>0.0</td>\n",
       "    </tr>\n",
       "    <tr>\n",
       "      <th>12727</th>\n",
       "      <td>1</td>\n",
       "      <td>0.880598</td>\n",
       "      <td>0.001998</td>\n",
       "      <td>0.0</td>\n",
       "    </tr>\n",
       "  </tbody>\n",
       "</table>\n",
       "</div>"
      ],
      "text/plain": [
       "       y      pred   tp_rate  fp_rate\n",
       "35640  1  1.000000  0.000200      0.0\n",
       "38271  1  0.964984  0.000400      0.0\n",
       "22473  1  0.917551  0.000599      0.0\n",
       "8213   1  0.906928  0.000799      0.0\n",
       "33232  1  0.905862  0.000999      0.0\n",
       "19046  1  0.895647  0.001199      0.0\n",
       "4490   1  0.894280  0.001398      0.0\n",
       "31081  1  0.891910  0.001598      0.0\n",
       "36876  1  0.887383  0.001798      0.0\n",
       "12727  1  0.880598  0.001998      0.0"
      ]
     },
     "execution_count": 14,
     "metadata": {},
     "output_type": "execute_result"
    }
   ],
   "source": [
    "# データ確認：先頭10行\n",
    "ROC_2.head(10)"
   ]
  },
  {
   "cell_type": "code",
   "execution_count": 15,
   "id": "becoming-highland",
   "metadata": {},
   "outputs": [
    {
     "data": {
      "text/html": [
       "<div>\n",
       "<style scoped>\n",
       "    .dataframe tbody tr th:only-of-type {\n",
       "        vertical-align: middle;\n",
       "    }\n",
       "\n",
       "    .dataframe tbody tr th {\n",
       "        vertical-align: top;\n",
       "    }\n",
       "\n",
       "    .dataframe thead th {\n",
       "        text-align: right;\n",
       "    }\n",
       "</style>\n",
       "<table border=\"1\" class=\"dataframe\">\n",
       "  <thead>\n",
       "    <tr style=\"text-align: right;\">\n",
       "      <th></th>\n",
       "      <th>y</th>\n",
       "      <th>pred</th>\n",
       "      <th>tp_rate</th>\n",
       "      <th>fp_rate</th>\n",
       "    </tr>\n",
       "  </thead>\n",
       "  <tbody>\n",
       "    <tr>\n",
       "      <th>32276</th>\n",
       "      <td>0</td>\n",
       "      <td>0.031477</td>\n",
       "      <td>1.0</td>\n",
       "      <td>0.999800</td>\n",
       "    </tr>\n",
       "    <tr>\n",
       "      <th>18732</th>\n",
       "      <td>0</td>\n",
       "      <td>0.027084</td>\n",
       "      <td>1.0</td>\n",
       "      <td>0.999822</td>\n",
       "    </tr>\n",
       "    <tr>\n",
       "      <th>35279</th>\n",
       "      <td>0</td>\n",
       "      <td>0.024852</td>\n",
       "      <td>1.0</td>\n",
       "      <td>0.999844</td>\n",
       "    </tr>\n",
       "    <tr>\n",
       "      <th>4289</th>\n",
       "      <td>0</td>\n",
       "      <td>0.019268</td>\n",
       "      <td>1.0</td>\n",
       "      <td>0.999867</td>\n",
       "    </tr>\n",
       "    <tr>\n",
       "      <th>49535</th>\n",
       "      <td>0</td>\n",
       "      <td>0.017449</td>\n",
       "      <td>1.0</td>\n",
       "      <td>0.999889</td>\n",
       "    </tr>\n",
       "    <tr>\n",
       "      <th>17138</th>\n",
       "      <td>0</td>\n",
       "      <td>0.016622</td>\n",
       "      <td>1.0</td>\n",
       "      <td>0.999911</td>\n",
       "    </tr>\n",
       "    <tr>\n",
       "      <th>37203</th>\n",
       "      <td>0</td>\n",
       "      <td>0.016155</td>\n",
       "      <td>1.0</td>\n",
       "      <td>0.999933</td>\n",
       "    </tr>\n",
       "    <tr>\n",
       "      <th>6599</th>\n",
       "      <td>0</td>\n",
       "      <td>0.013225</td>\n",
       "      <td>1.0</td>\n",
       "      <td>0.999956</td>\n",
       "    </tr>\n",
       "    <tr>\n",
       "      <th>10806</th>\n",
       "      <td>0</td>\n",
       "      <td>0.006244</td>\n",
       "      <td>1.0</td>\n",
       "      <td>0.999978</td>\n",
       "    </tr>\n",
       "    <tr>\n",
       "      <th>2852</th>\n",
       "      <td>0</td>\n",
       "      <td>0.000000</td>\n",
       "      <td>1.0</td>\n",
       "      <td>1.000000</td>\n",
       "    </tr>\n",
       "  </tbody>\n",
       "</table>\n",
       "</div>"
      ],
      "text/plain": [
       "       y      pred  tp_rate   fp_rate\n",
       "32276  0  0.031477      1.0  0.999800\n",
       "18732  0  0.027084      1.0  0.999822\n",
       "35279  0  0.024852      1.0  0.999844\n",
       "4289   0  0.019268      1.0  0.999867\n",
       "49535  0  0.017449      1.0  0.999889\n",
       "17138  0  0.016622      1.0  0.999911\n",
       "37203  0  0.016155      1.0  0.999933\n",
       "6599   0  0.013225      1.0  0.999956\n",
       "10806  0  0.006244      1.0  0.999978\n",
       "2852   0  0.000000      1.0  1.000000"
      ]
     },
     "execution_count": 15,
     "metadata": {},
     "output_type": "execute_result"
    }
   ],
   "source": [
    "# データ確認：末尾10行\n",
    "ROC_2.tail(10)"
   ]
  },
  {
   "cell_type": "code",
   "execution_count": 16,
   "id": "white-formula",
   "metadata": {},
   "outputs": [
    {
     "data": {
      "text/plain": [
       "True"
      ]
     },
     "execution_count": 16,
     "metadata": {},
     "output_type": "execute_result"
    }
   ],
   "source": [
    "# データが等しいことを確認\n",
    "ROC_1.equals(ROC_2)"
   ]
  },
  {
   "cell_type": "markdown",
   "id": "oriented-wisconsin",
   "metadata": {},
   "source": [
    "### ROC曲線を描く\n",
    "　ROC曲線は横軸が偽陽性率, 縦軸が真陽性率でした."
   ]
  },
  {
   "cell_type": "code",
   "execution_count": 17,
   "id": "weighted-kazakhstan",
   "metadata": {},
   "outputs": [
    {
     "data": {
      "image/png": "[encoded data removed]",
      "text/plain": [
       "<Figure size 1080x720 with 1 Axes>"
      ]
     },
     "metadata": {
      "needs_background": "light"
     },
     "output_type": "display_data"
    }
   ],
   "source": [
    "plt.plot(ROC_1[\"fp_rate\"], ROC_1[\"tp_rate\"])\n",
    "plt.title(\"ROC Curve\", fontsize=20)\n",
    "plt.xlabel(\"fp_rate\", fontsize=20)\n",
    "plt.ylabel(\"tp_rate\", fontsize=20)\n",
    "plt.grid()"
   ]
  },
  {
   "cell_type": "markdown",
   "id": "capital-weight",
   "metadata": {},
   "source": [
    "## AUCを計算する準備：面積の計算\n",
    "　今回は有限個のデータですので, 階段状にROC曲線が描かれています. 横軸の偽陽性率は**y=0のデータが来るたびに一定の値増加します,** つまりy=0の行が来るたびに横幅 = 1/(データ全体のy=0の件数), 高さ = その時の真陽性率の長方形を加算すれば良い分けです.  \n",
    "　参考例として, 次の曲線の面積を計算してみます.\n",
    " - **ヒント：縦軸が増加したフラグ(increase_flag)はROC_1のデータではyと一致し, 0の時に横軸方向に増加する**"
   ]
  },
  {
   "cell_type": "code",
   "execution_count": 18,
   "id": "plain-ethics",
   "metadata": {},
   "outputs": [],
   "source": [
    "area = pd.DataFrame()\n",
    "# 縦軸が増加したフラグ\n",
    "area[\"increase_flag\"] = [1, 1, 1, 0, 1, 0, 1, 0, 0, 0]\n",
    "\n",
    "area[\"X\"] = [0, 0, 0, 0.2, 0.2, 0.4, 0.4, 0.6, 0.8, 1]\n",
    "area[\"Y\"] = [0.2, 0.4, 0.6, 0.6, 0.8, 0.8, 1, 1, 1, 1]"
   ]
  },
  {
   "cell_type": "code",
   "execution_count": 19,
   "id": "annoying-dakota",
   "metadata": {},
   "outputs": [
    {
     "data": {
      "text/html": [
       "<div>\n",
       "<style scoped>\n",
       "    .dataframe tbody tr th:only-of-type {\n",
       "        vertical-align: middle;\n",
       "    }\n",
       "\n",
       "    .dataframe tbody tr th {\n",
       "        vertical-align: top;\n",
       "    }\n",
       "\n",
       "    .dataframe thead th {\n",
       "        text-align: right;\n",
       "    }\n",
       "</style>\n",
       "<table border=\"1\" class=\"dataframe\">\n",
       "  <thead>\n",
       "    <tr style=\"text-align: right;\">\n",
       "      <th></th>\n",
       "      <th>increase_flag</th>\n",
       "      <th>X</th>\n",
       "      <th>Y</th>\n",
       "    </tr>\n",
       "  </thead>\n",
       "  <tbody>\n",
       "    <tr>\n",
       "      <th>0</th>\n",
       "      <td>1</td>\n",
       "      <td>0.0</td>\n",
       "      <td>0.2</td>\n",
       "    </tr>\n",
       "    <tr>\n",
       "      <th>1</th>\n",
       "      <td>1</td>\n",
       "      <td>0.0</td>\n",
       "      <td>0.4</td>\n",
       "    </tr>\n",
       "    <tr>\n",
       "      <th>2</th>\n",
       "      <td>1</td>\n",
       "      <td>0.0</td>\n",
       "      <td>0.6</td>\n",
       "    </tr>\n",
       "    <tr>\n",
       "      <th>3</th>\n",
       "      <td>0</td>\n",
       "      <td>0.2</td>\n",
       "      <td>0.6</td>\n",
       "    </tr>\n",
       "    <tr>\n",
       "      <th>4</th>\n",
       "      <td>1</td>\n",
       "      <td>0.2</td>\n",
       "      <td>0.8</td>\n",
       "    </tr>\n",
       "    <tr>\n",
       "      <th>5</th>\n",
       "      <td>0</td>\n",
       "      <td>0.4</td>\n",
       "      <td>0.8</td>\n",
       "    </tr>\n",
       "    <tr>\n",
       "      <th>6</th>\n",
       "      <td>1</td>\n",
       "      <td>0.4</td>\n",
       "      <td>1.0</td>\n",
       "    </tr>\n",
       "    <tr>\n",
       "      <th>7</th>\n",
       "      <td>0</td>\n",
       "      <td>0.6</td>\n",
       "      <td>1.0</td>\n",
       "    </tr>\n",
       "    <tr>\n",
       "      <th>8</th>\n",
       "      <td>0</td>\n",
       "      <td>0.8</td>\n",
       "      <td>1.0</td>\n",
       "    </tr>\n",
       "    <tr>\n",
       "      <th>9</th>\n",
       "      <td>0</td>\n",
       "      <td>1.0</td>\n",
       "      <td>1.0</td>\n",
       "    </tr>\n",
       "  </tbody>\n",
       "</table>\n",
       "</div>"
      ],
      "text/plain": [
       "   increase_flag    X    Y\n",
       "0              1  0.0  0.2\n",
       "1              1  0.0  0.4\n",
       "2              1  0.0  0.6\n",
       "3              0  0.2  0.6\n",
       "4              1  0.2  0.8\n",
       "5              0  0.4  0.8\n",
       "6              1  0.4  1.0\n",
       "7              0  0.6  1.0\n",
       "8              0  0.8  1.0\n",
       "9              0  1.0  1.0"
      ]
     },
     "execution_count": 19,
     "metadata": {},
     "output_type": "execute_result"
    }
   ],
   "source": [
    "# データ確認\n",
    "area"
   ]
  },
  {
   "cell_type": "code",
   "execution_count": 20,
   "id": "virgin-slope",
   "metadata": {},
   "outputs": [
    {
     "data": {
      "image/png": "[encoded data removed]",
      "text/plain": [
       "<Figure size 1080x720 with 1 Axes>"
      ]
     },
     "metadata": {
      "needs_background": "light"
     },
     "output_type": "display_data"
    }
   ],
   "source": [
    "plt.plot(area[\"X\"], area[\"Y\"])\n",
    "plt.title(\"Curve\", fontsize=20)\n",
    "plt.xlabel(\"X\", fontsize=20)\n",
    "plt.ylabel(\"Y\", fontsize=20)\n",
    "plt.grid()"
   ]
  },
  {
   "cell_type": "code",
   "execution_count": 21,
   "id": "verbal-emphasis",
   "metadata": {},
   "outputs": [
    {
     "name": "stdout",
     "output_type": "stream",
     "text": [
      "X:0.2, Y: 0.6, width: 0.2, height: 0.6\n",
      "X:0.4, Y: 0.8, width: 0.2, height: 0.8\n",
      "X:0.6, Y: 1.0, width: 0.2, height: 1.0\n",
      "X:0.8, Y: 1.0, width: 0.2, height: 1.0\n",
      "X:1.0, Y: 1.0, width: 0.2, height: 1.0\n",
      "面積：0.8800000000000001\n"
     ]
    }
   ],
   "source": [
    "# 面積の計算\n",
    "ans = 0\n",
    "# 横幅\n",
    "width = 1 / sum(area[\"increase_flag\"] == 0)\n",
    "for index, row in area.iterrows():\n",
    "    # グラフが横に移動するごとに追加される長方形の面積を加算していく\n",
    "    if row.increase_flag == 0:\n",
    "        # 高さ\n",
    "        height = row.Y\n",
    "        # 長方形の面積を加算\n",
    "        ans = ans + width * height\n",
    "        \n",
    "        print(\"X:\" + str(row.X) + \", Y: \" + str(row.Y) + \", width: \" + str(width) + \", height: \" + str(height))\n",
    "\n",
    "print(\"面積：\" + str(ans))"
   ]
  },
  {
   "cell_type": "markdown",
   "id": "circular-fruit",
   "metadata": {},
   "source": [
    "## 課題：AUCを計算する\n",
    "　擬似的に作ったデータdatのyが目的変数, predが予測値としてAUCを計算する課題です. まずはAUCを計算できるようになるために, 1に取り組んでください. AUCを理解する(自分で計算する)という観点ではここまでで大丈夫です. 実際に利用するときには計算速度を早くする必要があるので, 2の工夫して計算する方法に取り組んでみてください. また, Pythonで関数の作成の仕方を知っている方は, せっかくですので関数として作成してみましょう.  \n",
    "**※課題の解答例はこのNotebookの最後に載せてあります, 最初は見ないで自分で考えてみましょう**\n",
    " 1. すでに真陽性率と偽陽性率が計算されているROC_1を用いて, AUCを計算してみて下さい\n",
    "   - 上記の面積の計算例のプログラムを書き換えることで, 計算できます\n",
    "   - ROC_1を作成するための, 真陽性率と偽陽性率の計算については理解している前提としています\n",
    "     - **真陽性率と偽陽性率の計算について理解してから取り組んでください**\n",
    " 2. 工夫して計算し, AUCを計算する速度を早くする\n",
    "   - このとき, datから計算するプログラムにしましょう\n",
    " 3. 関数化する\n",
    "   - 引数はお任せしますが, こだわりが無ければ引数はdat[\"y\"]とda[\"pred\"]で作成してみて下さい"
   ]
  },
  {
   "cell_type": "code",
   "execution_count": 22,
   "id": "altered-siemens",
   "metadata": {},
   "outputs": [
    {
     "data": {
      "text/plain": [
       "0.9195429368830835"
      ]
     },
     "execution_count": 22,
     "metadata": {},
     "output_type": "execute_result"
    }
   ],
   "source": [
    "# 検算用にAUCを既存のライブラリで計算する\n",
    "roc_auc_score(dat[\"y\"], dat[\"pred\"])"
   ]
  },
  {
   "cell_type": "code",
   "execution_count": 23,
   "id": "therapeutic-correspondence",
   "metadata": {},
   "outputs": [],
   "source": [
    "##### 解答欄：1"
   ]
  },
  {
   "cell_type": "code",
   "execution_count": 24,
   "id": "cubic-packet",
   "metadata": {},
   "outputs": [],
   "source": [
    "##### 解答欄：2"
   ]
  },
  {
   "cell_type": "code",
   "execution_count": 25,
   "id": "viral-raise",
   "metadata": {},
   "outputs": [],
   "source": [
    "##### 解答欄：3"
   ]
  },
  {
   "cell_type": "markdown",
   "id": "smooth-charleston",
   "metadata": {},
   "source": [
    "## 参考：PrecisionとRecall\n",
    "　予測モデルを実際のビジネスに応用するときに良く使う指標として, PrecisionとRecallがあります. この指標について追加で参考として解説します.  \n",
    "**※ここで出てくるビジネスに関する設定は全て説明のためのフィクションです**  \n",
    " \n",
    "　AUCを計算する過程で出てきた真陽性率と偽陽性率が登場した時に, 混同行列(Confusion Matrix)というものが出てきました. 混同行列の値を使用した指標例として, 配布した「モデルの精度評価資料.pdf」の補足資料にPrecisionとRecallの定義が記載されていますが, 一般化されて定義しているので, $p^*_{all}$という分かりにくい用語が使われています, 今回は分かりやすく下記で**改めてPrecisionとRecallを定義します.**  \n",
    "　さて, 今回わざわざ擬似的に危険運転の予測をするデータを作成したのは, このPrecisionとRecallを説明するためです. 今回の危険運転予測の例でPrecisionとRecallを定義すると下記の様になります.\n",
    " - **Precision：危険運転をすると予測した人の内, 実際に危険運転をする人の割合**\n",
    " - **Recall：実際に危険運転をする人の内, 危険運転をすると予測できた人の割合**\n",
    "   - このとき, データ上に全ての危険運転をする人のデータがあるとしています\n",
    "   - または, データに記録される危険運転する人のみを危険運転者の対象としているとも考えられます\n",
    " - Precisionのことを適合率, Recallのことを再現率といいます\n",
    " \n",
    "この2つはトレードオフの関係で, **一方を高めようとするともう一方が低くなる関係**にあります.  \n",
    "　それでは, 今回のデータ例でPrecisionとRecallについて見ていきましょう. 今回, 予測値は**危険運転をする確率**でした. つまり**この予測モデルで危険運転者を抽出する時には, 予測値に対して閾値を決めて閾値以上であれば危険運転者**とする必要があるわけです. **閾値を変えると危険運転者と予測する数も変わってきます**. では, まず危険運転確率が**0.5**を超えたときに危険運転者とすると"
   ]
  },
  {
   "cell_type": "code",
   "execution_count": 26,
   "id": "streaming-climate",
   "metadata": {},
   "outputs": [
    {
     "data": {
      "text/plain": [
       "0.3699601240584847"
      ]
     },
     "execution_count": 26,
     "metadata": {},
     "output_type": "execute_result"
    }
   ],
   "source": [
    "# Precision：危険運転をすると予測した人の内, 実際に危険運転をする人の割合\n",
    "dat[dat[\"pred\"] > 0.5][\"y\"].mean()"
   ]
  },
  {
   "cell_type": "code",
   "execution_count": 27,
   "id": "anonymous-alpha",
   "metadata": {},
   "outputs": [
    {
     "data": {
      "text/plain": [
       "0.8339992009588494"
      ]
     },
     "execution_count": 27,
     "metadata": {},
     "output_type": "execute_result"
    }
   ],
   "source": [
    "# Recall：実際に危険運転をする人の内, 危険運転をすると予測できた人の割合\n",
    "dat[dat[\"pred\"] > 0.5][\"y\"].sum() / dat[\"y\"].sum()"
   ]
  },
  {
   "cell_type": "markdown",
   "id": "grave-craps",
   "metadata": {},
   "source": [
    "　上記の計算結果の様に, Precisionは**約37%**, Recallは**約83%** となりました(※実行環境によって数値が少し変わることがあります). 皆さんは, 予測モデルを作成したら, それで終わりでなく**ビジネスに使う**はずです. このとき, この予測結果をそのままビジネスに使えるでしょうか？もちろん問題設定によります. 例えば, 皆さんの会社が今回の危険運転を行う人を予測するAIを作成したので, 警察に対して, このAIを使用すると交通課の仕事を省くために使えると売り込んだとしましょう. このとき, AIが危険運転者だと予測したら自動的に違反切符を切って罰金を科すとすると, とんでもないことになってしまいます. いま, Recallは約83%なので自動で8割も違反者を捕まえるのはすごい！となりますが, Precisionが約37%なので, 予測モデルが捕まえた人の4割は確かに違反者ですが, **残りの6割は危険運転をしていない善良な市民**です. とてもじゃないですが, これでは使い物にはなりません. では, 危険運転確率が**0.99**を超えたときに危険運転者とすると"
   ]
  },
  {
   "cell_type": "code",
   "execution_count": 28,
   "id": "identical-bleeding",
   "metadata": {},
   "outputs": [
    {
     "data": {
      "text/plain": [
       "1.0"
      ]
     },
     "execution_count": 28,
     "metadata": {},
     "output_type": "execute_result"
    }
   ],
   "source": [
    "# Precision：危険運転をすると予測した人の内, 実際に危険運転をする人の割合\n",
    "dat[dat[\"pred\"] > 0.99][\"y\"].mean()"
   ]
  },
  {
   "cell_type": "code",
   "execution_count": 29,
   "id": "apart-spelling",
   "metadata": {},
   "outputs": [
    {
     "data": {
      "text/plain": [
       "0.00019976028765481422"
      ]
     },
     "execution_count": 29,
     "metadata": {},
     "output_type": "execute_result"
    }
   ],
   "source": [
    "# Recall：実際に危険運転をする人の内, 危険運転をすると予測できた人の割合\n",
    "dat[dat[\"pred\"] > 0.99][\"y\"].sum() / dat[\"y\"].sum()"
   ]
  },
  {
   "cell_type": "markdown",
   "id": "welsh-socket",
   "metadata": {},
   "source": [
    "　今回は, Precisionが**100%** でRecallが**約0.02%** です. 確かに, 危険運転者として捕まえた人は100%間違いなく実際に危険運転者ですが, **実際の危険運転者の99.98%は見逃してしまっている**ことになります. このAIは間違えませんが, 甘々な判定です. これもとてもじゃないですが, 使い物になりません. では, 閾値を変化させるとPrecisionとRecallはどのような値を取るか見てみましょう."
   ]
  },
  {
   "cell_type": "code",
   "execution_count": 30,
   "id": "freelance-person",
   "metadata": {},
   "outputs": [
    {
     "data": {
      "image/png": "[encoded data removed]",
      "text/plain": [
       "<Figure size 1080x720 with 1 Axes>"
      ]
     },
     "metadata": {
      "needs_background": "light"
     },
     "output_type": "display_data"
    }
   ],
   "source": [
    "### Precision, Recallのグラフ作成\n",
    "pre = []\n",
    "rec = []\n",
    "th = []\n",
    "N_rate = []\n",
    "N_all = dat.shape[0]\n",
    "P = dat[\"y\"].sum()\n",
    "for i in range(101):\n",
    "    tmp = dat[dat[\"pred\"] >= i/100].copy()\n",
    "    tp = tmp[tmp[\"y\"]==1].shape[0]\n",
    "    fp = tmp[tmp[\"y\"]==0].shape[0]\n",
    "    fn = P - tp\n",
    "    pre += [tp/(tp+fp)]\n",
    "    rec += [tp/(tp+fn)]\n",
    "    th += [i/100]\n",
    "    N_rate += [tmp.shape[0] / N_all]\n",
    "\n",
    "table = pd.DataFrame()\n",
    "table[\"Precision\"] = pre\n",
    "table[\"Recall\"] = rec\n",
    "table[\"N_rate\"] = N_rate\n",
    "table.index = th\n",
    "\n",
    "table[[\"Precision\", \"Recall\"]].plot()\n",
    "plt.xlabel(\"Threshold\", fontsize=20)\n",
    "plt.grid()"
   ]
  },
  {
   "cell_type": "code",
   "execution_count": 31,
   "id": "purple-federal",
   "metadata": {},
   "outputs": [
    {
     "data": {
      "image/png": "[encoded data removed]",
      "text/plain": [
       "<Figure size 1080x720 with 1 Axes>"
      ]
     },
     "metadata": {
      "needs_background": "light"
     },
     "output_type": "display_data"
    }
   ],
   "source": [
    "plt.plot(table[\"Precision\"], table[\"Recall\"])\n",
    "plt.title(\"PR Curve\", fontsize=20)\n",
    "plt.xlabel(\"Precision\", fontsize=20)\n",
    "plt.ylabel(\"Recall\", fontsize=20)\n",
    "plt.xlim(0,1)\n",
    "plt.grid()"
   ]
  },
  {
   "cell_type": "markdown",
   "id": "divine-singer",
   "metadata": {},
   "source": [
    "　上記の2つのグラフで, 閾値を変えたときのPrecisionとRecallの値と, PrecisionとRecallの関係が確認できました.  \n",
    " \n",
    "　さて, ではビジネスの話に戻すと, 落としどころを見つけなければなりません. 警察で, 検挙に利用するとなると予測ミスは許されません. Precisionは100%が絶対で, Recallも90%以上(少しの見逃しは許容できる)は必要です. この問題設定では, 今回の精度では無理でしょう.\n",
    " \n",
    "　では, 損害保険会社で自動審査としてこのAIを利用して, 現状全て人間が書類審査して自動車保険に加入して大丈夫か判断しているものを自動化することはどうでしょうか？  \n",
    " \n",
    "　損害保険会社の担当者にヒアリングすると, 一定数は事故を起こす前提で保険は作られているため, AIによる自動審査で実際に危険運転者の何割かは入ってきても許容できるとのことでした(**※フィクションです**). ただし, 契約者を少なくはしたくないので, 危険運転をする可能性が高い集団に対しては**人間が今まで通り審査**をしてその中にいる通常運転を行う人は今まで通り審査を通したいとのことでした. したがって, **Recallと目検割合(N_rate)がポイントになります.**  \n",
    "　では, Recallと目検割合の関係を確認してみましょう.\n",
    " - 日本全体の危険運転者の分布(学習データ)と, 自動車保険に申し込む人の危険運転者の分布は変わらないものとします\n",
    " - 危険運転確率が, ある閾値以上の人は人間が今まで通り目検審査をする\n",
    " - 危険運転確率が, ある閾値未満の人は自動的に審査を通過する"
   ]
  },
  {
   "cell_type": "code",
   "execution_count": 32,
   "id": "chinese-atlanta",
   "metadata": {},
   "outputs": [
    {
     "data": {
      "image/png": "[encoded data removed]",
      "text/plain": [
       "<Figure size 1080x720 with 1 Axes>"
      ]
     },
     "metadata": {
      "needs_background": "light"
     },
     "output_type": "display_data"
    }
   ],
   "source": [
    "plt.plot(table[\"N_rate\"], table[\"Recall\"])\n",
    "plt.xlabel(\"N_rate\", fontsize=20)\n",
    "plt.ylabel(\"Recall\", fontsize=20)\n",
    "plt.xlim(0,1)\n",
    "plt.grid()"
   ]
  },
  {
   "cell_type": "markdown",
   "id": "hollywood-desert",
   "metadata": {},
   "source": [
    "　上のグラフからRecallを約80%(つまり危険運転者の約2割はAI自動審査を通過する)のを許容すると, 目検率(N_rate)を現状の約20%(人件費を80%カット)にできることが分かる. または, Recallを約90%(つまり危険運転者の約1割はAI自動審査を通過する)のを許容すると, 目検率(N_rate)を現状の約40%(人件費を60%カット)にできる.  \n",
    "　後はどの塩梅を使用するかで損害保険会社と調整すれば, 皆さんの作成した危険運転予測AIは無事リリースして, AIのビジネス活用を達成するかもしれません.  \n",
    "\n",
    "　このようにして, PrecisionとRecallは予測モデルを評価したり, 使用したりする上で重要な指標となっています. 特に実際に**予測モデルを使う際に, 意思決定者とのやりとりで重要となることが多い指標**です."
   ]
  },
  {
   "cell_type": "markdown",
   "id": "median-waters",
   "metadata": {},
   "source": [
    "## 課題：AUCを計算する(解答例)"
   ]
  },
  {
   "cell_type": "code",
   "execution_count": 33,
   "id": "straight-wagon",
   "metadata": {},
   "outputs": [
    {
     "name": "stdout",
     "output_type": "stream",
     "text": [
      "Wall time: 8.98 ms\n"
     ]
    },
    {
     "data": {
      "text/plain": [
       "0.9195429368830835"
      ]
     },
     "execution_count": 33,
     "metadata": {},
     "output_type": "execute_result"
    }
   ],
   "source": [
    "%%time\n",
    "\n",
    "# 検算用にAUCを既存のライブラリで計算する\n",
    "roc_auc_score(dat[\"y\"], dat[\"pred\"])"
   ]
  },
  {
   "cell_type": "markdown",
   "id": "separate-penny",
   "metadata": {},
   "source": [
    "　この資料の実行環境では計算に**約0.009秒**掛かりました."
   ]
  },
  {
   "cell_type": "markdown",
   "id": "fabulous-panama",
   "metadata": {},
   "source": [
    "1. ROC_1を利用して, AUCの計算(愚直にfor文使用)"
   ]
  },
  {
   "cell_type": "code",
   "execution_count": 34,
   "id": "velvet-thermal",
   "metadata": {},
   "outputs": [
    {
     "name": "stdout",
     "output_type": "stream",
     "text": [
      "AUC：0.9195429368832562\n",
      "Wall time: 2.37 s\n"
     ]
    }
   ],
   "source": [
    "%%time\n",
    "\n",
    "# 面積の計算\n",
    "ans = 0\n",
    "# 横幅\n",
    "width = 1 / sum(ROC_1[\"y\"] == 0)\n",
    "for index, row in ROC_1.iterrows():\n",
    "    # グラフが横に移動するごとに追加される長方形の面積を加算していく\n",
    "    if row.y == 0:\n",
    "        # 高さ\n",
    "        height = row.tp_rate\n",
    "        # 長方形の面積を加算\n",
    "        ans = ans + width * height\n",
    "\n",
    "print(\"AUC：\" + str(ans))"
   ]
  },
  {
   "cell_type": "markdown",
   "id": "pressing-visitor",
   "metadata": {},
   "source": [
    "　この資料の実行環境では計算に**約2秒**掛かりました. ライブラリとは小数第13位まで一致したことを確認しました."
   ]
  },
  {
   "cell_type": "markdown",
   "id": "collectible-estate",
   "metadata": {},
   "source": [
    "　2, 3を合わせて解答."
   ]
  },
  {
   "cell_type": "code",
   "execution_count": 35,
   "id": "colored-tuesday",
   "metadata": {},
   "outputs": [],
   "source": [
    "# AUC計算関数の定義\n",
    "def calculate_auc_fun(y, pred):\n",
    "    # 行列化\n",
    "    y = y.values\n",
    "    pred = pred.values\n",
    "    \n",
    "    # predの大きい順にyを並べ替え\n",
    "    y = y[np.argsort(-pred)]\n",
    "    \n",
    "    # 真陽性率\n",
    "    tp_rate = np.cumsum(y) / np.sum(y)\n",
    "    \n",
    "    # 偽陽性率\n",
    "    fp_rate = np.cumsum(y == 0) / np.sum(y == 0)\n",
    "    \n",
    "    # 偽陽性率が増加したとき以外は真陽性率を0とする\n",
    "    tp_rate = tp_rate * ((y == 0) + 0)\n",
    "    \n",
    "    # AUC\n",
    "    auc = 0\n",
    "    width = 1 / np.sum(y == 0)\n",
    "    auc = np.sum(width * tp_rate)\n",
    "    \n",
    "    return auc"
   ]
  },
  {
   "cell_type": "code",
   "execution_count": 36,
   "id": "distant-museum",
   "metadata": {},
   "outputs": [
    {
     "name": "stdout",
     "output_type": "stream",
     "text": [
      "Wall time: 2.99 ms\n"
     ]
    },
    {
     "data": {
      "text/plain": [
       "0.9195429368830835"
      ]
     },
     "execution_count": 36,
     "metadata": {},
     "output_type": "execute_result"
    }
   ],
   "source": [
    "%%time\n",
    "\n",
    "# AUC計算の実行\n",
    "calculate_auc_fun(dat[\"y\"], dat[\"pred\"])"
   ]
  },
  {
   "cell_type": "markdown",
   "id": "rolled-dublin",
   "metadata": {},
   "source": [
    "　この資料の実行環境では計算に**約0.003秒**掛かりました. ライブラリとは小数第16位まで一致したことを確認しました."
   ]
  }
 ],
 "metadata": {
  "kernelspec": {
   "display_name": "Python 3 (ipykernel)",
   "language": "python",
   "name": "python3"
  },
  "language_info": {
   "codemirror_mode": {
    "name": "ipython",
    "version": 3
   },
   "file_extension": ".py",
   "mimetype": "text/x-python",
   "name": "python",
   "nbconvert_exporter": "python",
   "pygments_lexer": "ipython3",
   "version": "3.13.5"
  }
 },
 "nbformat": 4,
 "nbformat_minor": 5
}
