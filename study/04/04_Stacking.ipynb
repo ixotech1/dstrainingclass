{
 "cells": [
  {
   "cell_type": "markdown",
   "metadata": {},
   "source": [
    "# Stacking\n",
    "　スタッキングの実装例."
   ]
  },
  {
   "cell_type": "markdown",
   "metadata": {},
   "source": [
    "## Import"
   ]
  },
  {
   "cell_type": "code",
   "execution_count": 1,
   "metadata": {},
   "outputs": [],
   "source": [
    "import numpy as np\n",
    "import pandas as pd\n",
    "import math\n",
    "\n",
    "from sklearn.linear_model import LogisticRegression\n",
    "from sklearn.tree import DecisionTreeClassifier\n",
    "\n",
    "from sklearn.metrics import roc_auc_score\n",
    "from sklearn.model_selection import train_test_split"
   ]
  },
  {
   "cell_type": "markdown",
   "metadata": {},
   "source": [
    "## Setting"
   ]
  },
  {
   "cell_type": "code",
   "execution_count": 2,
   "metadata": {},
   "outputs": [],
   "source": [
    "# Path\n",
    "input_path = \"../input_data/\"\n",
    "\n",
    "# Set Display Max Columns\n",
    "pd.set_option(\"display.max_columns\", 50)"
   ]
  },
  {
   "cell_type": "markdown",
   "metadata": {},
   "source": [
    "## Read Data and Make Data"
   ]
  },
  {
   "cell_type": "code",
   "execution_count": 3,
   "metadata": {},
   "outputs": [],
   "source": [
    "train = pd.read_csv(\n",
    "    input_path + \"bank/train.csv\",\n",
    "    sep = \",\",\n",
    "    header = 0,\n",
    "    quotechar = \"\\\"\"\n",
    ")\n",
    "\n",
    "train = pd.get_dummies(train, drop_first=True) # drop_first=Trueでk-1個のダミー変数となる"
   ]
  },
  {
   "cell_type": "markdown",
   "metadata": {},
   "source": [
    "## Hold Out\n",
    "　投稿せずに, 精度を確かめるためにホールドアウト法で検証データを作成."
   ]
  },
  {
   "cell_type": "code",
   "execution_count": 4,
   "metadata": {},
   "outputs": [],
   "source": [
    "# Hold Out\n",
    "train_x, valid_x, train_y, valid_y = train_test_split(\n",
    "    train.drop(columns = \"y\"), train[[\"y\"]],\n",
    "    # 検証データ割合\n",
    "    test_size = 0.3,\n",
    "    # 再現性のためシードを固定\n",
    "    random_state = 17\n",
    ")"
   ]
  },
  {
   "cell_type": "markdown",
   "metadata": {},
   "source": [
    "## 決定木構築"
   ]
  },
  {
   "cell_type": "code",
   "execution_count": 5,
   "metadata": {},
   "outputs": [],
   "source": [
    "tree_model = DecisionTreeClassifier(\n",
    "    criterion = \"gini\",             # Entropy基準の場合は\"entropy”\n",
    "    splitter = \"best\",              # 分割をランダムで行う場合は\"random\"\n",
    "    max_depth = 7,                  # 決定木の深さの最大値\n",
    "    min_samples_split = 20,          # 分割する最小データ数\n",
    "    random_state = 17,\n",
    "    \n",
    ")\n",
    "tree_model.fit(train_x, train_y)\n",
    "\n",
    "# 構築データへの当てはめ\n",
    "pred_train_tree = tree_model.predict_proba(train_x)[:, 1]"
   ]
  },
  {
   "cell_type": "markdown",
   "metadata": {},
   "source": [
    "　検証データでAUCの確認."
   ]
  },
  {
   "cell_type": "code",
   "execution_count": 6,
   "metadata": {},
   "outputs": [
    {
     "data": {
      "text/plain": [
       "0.8283425547241918"
      ]
     },
     "execution_count": 6,
     "metadata": {},
     "output_type": "execute_result"
    }
   ],
   "source": [
    "pred_valid_tree = tree_model.predict_proba(valid_x)[:, 1]\n",
    "roc_auc_score(valid_y, pred_valid_tree)"
   ]
  },
  {
   "cell_type": "markdown",
   "metadata": {},
   "source": [
    "## ロジスティック回帰構築"
   ]
  },
  {
   "cell_type": "code",
   "execution_count": 7,
   "metadata": {},
   "outputs": [],
   "source": [
    "Logi_model = LogisticRegression(solver=\"liblinear\")\n",
    "Logi_model.fit(train_x, train_y[\"y\"])\n",
    "\n",
    "# 構築データへの当てはめ\n",
    "pred_train_logi = Logi_model.predict_proba(train_x)[:, 1]"
   ]
  },
  {
   "cell_type": "markdown",
   "metadata": {},
   "source": [
    "　検証データでAUCの確認."
   ]
  },
  {
   "cell_type": "code",
   "execution_count": 8,
   "metadata": {},
   "outputs": [
    {
     "data": {
      "text/plain": [
       "0.8978653340492817"
      ]
     },
     "execution_count": 8,
     "metadata": {},
     "output_type": "execute_result"
    }
   ],
   "source": [
    "pred_valid_logi = Logi_model.predict_proba(valid_x)[:, 1]\n",
    "roc_auc_score(valid_y, pred_valid_logi)"
   ]
  },
  {
   "cell_type": "markdown",
   "metadata": {},
   "source": [
    "## 比較用：平均\n",
    "　検証データでAUCの確認."
   ]
  },
  {
   "cell_type": "code",
   "execution_count": 9,
   "metadata": {},
   "outputs": [
    {
     "data": {
      "text/plain": [
       "0.901796224660881"
      ]
     },
     "execution_count": 9,
     "metadata": {},
     "output_type": "execute_result"
    }
   ],
   "source": [
    "pred_mean = (pred_valid_tree + pred_valid_logi) / 2\n",
    "roc_auc_score(valid_y, pred_mean)"
   ]
  },
  {
   "cell_type": "markdown",
   "metadata": {},
   "source": [
    "## 比較用：メタモデル\n",
    "　メタモデルはロジスティック回帰を使用."
   ]
  },
  {
   "cell_type": "code",
   "execution_count": 10,
   "metadata": {},
   "outputs": [
    {
     "data": {
      "text/html": [
       "<style>#sk-container-id-1 {color: black;}#sk-container-id-1 pre{padding: 0;}#sk-container-id-1 div.sk-toggleable {background-color: white;}#sk-container-id-1 label.sk-toggleable__label {cursor: pointer;display: block;width: 100%;margin-bottom: 0;padding: 0.3em;box-sizing: border-box;text-align: center;}#sk-container-id-1 label.sk-toggleable__label-arrow:before {content: \"▸\";float: left;margin-right: 0.25em;color: #696969;}#sk-container-id-1 label.sk-toggleable__label-arrow:hover:before {color: black;}#sk-container-id-1 div.sk-estimator:hover label.sk-toggleable__label-arrow:before {color: black;}#sk-container-id-1 div.sk-toggleable__content {max-height: 0;max-width: 0;overflow: hidden;text-align: left;background-color: #f0f8ff;}#sk-container-id-1 div.sk-toggleable__content pre {margin: 0.2em;color: black;border-radius: 0.25em;background-color: #f0f8ff;}#sk-container-id-1 input.sk-toggleable__control:checked~div.sk-toggleable__content {max-height: 200px;max-width: 100%;overflow: auto;}#sk-container-id-1 input.sk-toggleable__control:checked~label.sk-toggleable__label-arrow:before {content: \"▾\";}#sk-container-id-1 div.sk-estimator input.sk-toggleable__control:checked~label.sk-toggleable__label {background-color: #d4ebff;}#sk-container-id-1 div.sk-label input.sk-toggleable__control:checked~label.sk-toggleable__label {background-color: #d4ebff;}#sk-container-id-1 input.sk-hidden--visually {border: 0;clip: rect(1px 1px 1px 1px);clip: rect(1px, 1px, 1px, 1px);height: 1px;margin: -1px;overflow: hidden;padding: 0;position: absolute;width: 1px;}#sk-container-id-1 div.sk-estimator {font-family: monospace;background-color: #f0f8ff;border: 1px dotted black;border-radius: 0.25em;box-sizing: border-box;margin-bottom: 0.5em;}#sk-container-id-1 div.sk-estimator:hover {background-color: #d4ebff;}#sk-container-id-1 div.sk-parallel-item::after {content: \"\";width: 100%;border-bottom: 1px solid gray;flex-grow: 1;}#sk-container-id-1 div.sk-label:hover label.sk-toggleable__label {background-color: #d4ebff;}#sk-container-id-1 div.sk-serial::before {content: \"\";position: absolute;border-left: 1px solid gray;box-sizing: border-box;top: 0;bottom: 0;left: 50%;z-index: 0;}#sk-container-id-1 div.sk-serial {display: flex;flex-direction: column;align-items: center;background-color: white;padding-right: 0.2em;padding-left: 0.2em;position: relative;}#sk-container-id-1 div.sk-item {position: relative;z-index: 1;}#sk-container-id-1 div.sk-parallel {display: flex;align-items: stretch;justify-content: center;background-color: white;position: relative;}#sk-container-id-1 div.sk-item::before, #sk-container-id-1 div.sk-parallel-item::before {content: \"\";position: absolute;border-left: 1px solid gray;box-sizing: border-box;top: 0;bottom: 0;left: 50%;z-index: -1;}#sk-container-id-1 div.sk-parallel-item {display: flex;flex-direction: column;z-index: 1;position: relative;background-color: white;}#sk-container-id-1 div.sk-parallel-item:first-child::after {align-self: flex-end;width: 50%;}#sk-container-id-1 div.sk-parallel-item:last-child::after {align-self: flex-start;width: 50%;}#sk-container-id-1 div.sk-parallel-item:only-child::after {width: 0;}#sk-container-id-1 div.sk-dashed-wrapped {border: 1px dashed gray;margin: 0 0.4em 0.5em 0.4em;box-sizing: border-box;padding-bottom: 0.4em;background-color: white;}#sk-container-id-1 div.sk-label label {font-family: monospace;font-weight: bold;display: inline-block;line-height: 1.2em;}#sk-container-id-1 div.sk-label-container {text-align: center;}#sk-container-id-1 div.sk-container {/* jupyter's `normalize.less` sets `[hidden] { display: none; }` but bootstrap.min.css set `[hidden] { display: none !important; }` so we also need the `!important` here to be able to override the default hidden behavior on the sphinx rendered scikit-learn.org. See: https://github.com/scikit-learn/scikit-learn/issues/21755 */display: inline-block !important;position: relative;}#sk-container-id-1 div.sk-text-repr-fallback {display: none;}</style><div id=\"sk-container-id-1\" class=\"sk-top-container\"><div class=\"sk-text-repr-fallback\"><pre>LogisticRegression(solver=&#x27;liblinear&#x27;)</pre><b>In a Jupyter environment, please rerun this cell to show the HTML representation or trust the notebook. <br />On GitHub, the HTML representation is unable to render, please try loading this page with nbviewer.org.</b></div><div class=\"sk-container\" hidden><div class=\"sk-item\"><div class=\"sk-estimator sk-toggleable\"><input class=\"sk-toggleable__control sk-hidden--visually\" id=\"sk-estimator-id-1\" type=\"checkbox\" checked><label for=\"sk-estimator-id-1\" class=\"sk-toggleable__label sk-toggleable__label-arrow\">LogisticRegression</label><div class=\"sk-toggleable__content\"><pre>LogisticRegression(solver=&#x27;liblinear&#x27;)</pre></div></div></div></div></div>"
      ],
      "text/plain": [
       "LogisticRegression(solver='liblinear')"
      ]
     },
     "execution_count": 10,
     "metadata": {},
     "output_type": "execute_result"
    }
   ],
   "source": [
    "# メタモデル用説明変数\n",
    "m_train_x = pd.concat(\n",
    "    [\n",
    "        pd.DataFrame(data = pred_train_tree, columns = [\"pred_tree\"]),\n",
    "        pd.DataFrame(data = pred_train_logi, columns = [\"pred_logi\"])\n",
    "    ],\n",
    "    axis = 1\n",
    ")\n",
    "\n",
    "m_valid_x = pd.concat(\n",
    "    [\n",
    "        pd.DataFrame(data = pred_valid_tree, columns = [\"pred_tree\"]),\n",
    "        pd.DataFrame(data = pred_valid_logi, columns = [\"pred_logi\"])\n",
    "    ],\n",
    "    axis = 1\n",
    ")\n",
    "\n",
    "# メタモデル構築\n",
    "meta_model_1 = LogisticRegression(solver=\"liblinear\")\n",
    "meta_model_1.fit(m_train_x, train_y[\"y\"])"
   ]
  },
  {
   "cell_type": "markdown",
   "metadata": {},
   "source": [
    "　検証データでAUCの確認."
   ]
  },
  {
   "cell_type": "code",
   "execution_count": 11,
   "metadata": {},
   "outputs": [
    {
     "data": {
      "text/plain": [
       "0.8978409660457104"
      ]
     },
     "execution_count": 11,
     "metadata": {},
     "output_type": "execute_result"
    }
   ],
   "source": [
    "pred_valid_m = meta_model_1.predict_proba(m_valid_x)[:, 1]\n",
    "roc_auc_score(valid_y, pred_valid_m)"
   ]
  },
  {
   "cell_type": "markdown",
   "metadata": {},
   "source": [
    "## Stackingの実装"
   ]
  },
  {
   "cell_type": "code",
   "execution_count": 12,
   "metadata": {},
   "outputs": [
    {
     "data": {
      "text/html": [
       "<style>#sk-container-id-2 {color: black;}#sk-container-id-2 pre{padding: 0;}#sk-container-id-2 div.sk-toggleable {background-color: white;}#sk-container-id-2 label.sk-toggleable__label {cursor: pointer;display: block;width: 100%;margin-bottom: 0;padding: 0.3em;box-sizing: border-box;text-align: center;}#sk-container-id-2 label.sk-toggleable__label-arrow:before {content: \"▸\";float: left;margin-right: 0.25em;color: #696969;}#sk-container-id-2 label.sk-toggleable__label-arrow:hover:before {color: black;}#sk-container-id-2 div.sk-estimator:hover label.sk-toggleable__label-arrow:before {color: black;}#sk-container-id-2 div.sk-toggleable__content {max-height: 0;max-width: 0;overflow: hidden;text-align: left;background-color: #f0f8ff;}#sk-container-id-2 div.sk-toggleable__content pre {margin: 0.2em;color: black;border-radius: 0.25em;background-color: #f0f8ff;}#sk-container-id-2 input.sk-toggleable__control:checked~div.sk-toggleable__content {max-height: 200px;max-width: 100%;overflow: auto;}#sk-container-id-2 input.sk-toggleable__control:checked~label.sk-toggleable__label-arrow:before {content: \"▾\";}#sk-container-id-2 div.sk-estimator input.sk-toggleable__control:checked~label.sk-toggleable__label {background-color: #d4ebff;}#sk-container-id-2 div.sk-label input.sk-toggleable__control:checked~label.sk-toggleable__label {background-color: #d4ebff;}#sk-container-id-2 input.sk-hidden--visually {border: 0;clip: rect(1px 1px 1px 1px);clip: rect(1px, 1px, 1px, 1px);height: 1px;margin: -1px;overflow: hidden;padding: 0;position: absolute;width: 1px;}#sk-container-id-2 div.sk-estimator {font-family: monospace;background-color: #f0f8ff;border: 1px dotted black;border-radius: 0.25em;box-sizing: border-box;margin-bottom: 0.5em;}#sk-container-id-2 div.sk-estimator:hover {background-color: #d4ebff;}#sk-container-id-2 div.sk-parallel-item::after {content: \"\";width: 100%;border-bottom: 1px solid gray;flex-grow: 1;}#sk-container-id-2 div.sk-label:hover label.sk-toggleable__label {background-color: #d4ebff;}#sk-container-id-2 div.sk-serial::before {content: \"\";position: absolute;border-left: 1px solid gray;box-sizing: border-box;top: 0;bottom: 0;left: 50%;z-index: 0;}#sk-container-id-2 div.sk-serial {display: flex;flex-direction: column;align-items: center;background-color: white;padding-right: 0.2em;padding-left: 0.2em;position: relative;}#sk-container-id-2 div.sk-item {position: relative;z-index: 1;}#sk-container-id-2 div.sk-parallel {display: flex;align-items: stretch;justify-content: center;background-color: white;position: relative;}#sk-container-id-2 div.sk-item::before, #sk-container-id-2 div.sk-parallel-item::before {content: \"\";position: absolute;border-left: 1px solid gray;box-sizing: border-box;top: 0;bottom: 0;left: 50%;z-index: -1;}#sk-container-id-2 div.sk-parallel-item {display: flex;flex-direction: column;z-index: 1;position: relative;background-color: white;}#sk-container-id-2 div.sk-parallel-item:first-child::after {align-self: flex-end;width: 50%;}#sk-container-id-2 div.sk-parallel-item:last-child::after {align-self: flex-start;width: 50%;}#sk-container-id-2 div.sk-parallel-item:only-child::after {width: 0;}#sk-container-id-2 div.sk-dashed-wrapped {border: 1px dashed gray;margin: 0 0.4em 0.5em 0.4em;box-sizing: border-box;padding-bottom: 0.4em;background-color: white;}#sk-container-id-2 div.sk-label label {font-family: monospace;font-weight: bold;display: inline-block;line-height: 1.2em;}#sk-container-id-2 div.sk-label-container {text-align: center;}#sk-container-id-2 div.sk-container {/* jupyter's `normalize.less` sets `[hidden] { display: none; }` but bootstrap.min.css set `[hidden] { display: none !important; }` so we also need the `!important` here to be able to override the default hidden behavior on the sphinx rendered scikit-learn.org. See: https://github.com/scikit-learn/scikit-learn/issues/21755 */display: inline-block !important;position: relative;}#sk-container-id-2 div.sk-text-repr-fallback {display: none;}</style><div id=\"sk-container-id-2\" class=\"sk-top-container\"><div class=\"sk-text-repr-fallback\"><pre>LogisticRegression(solver=&#x27;liblinear&#x27;)</pre><b>In a Jupyter environment, please rerun this cell to show the HTML representation or trust the notebook. <br />On GitHub, the HTML representation is unable to render, please try loading this page with nbviewer.org.</b></div><div class=\"sk-container\" hidden><div class=\"sk-item\"><div class=\"sk-estimator sk-toggleable\"><input class=\"sk-toggleable__control sk-hidden--visually\" id=\"sk-estimator-id-2\" type=\"checkbox\" checked><label for=\"sk-estimator-id-2\" class=\"sk-toggleable__label sk-toggleable__label-arrow\">LogisticRegression</label><div class=\"sk-toggleable__content\"><pre>LogisticRegression(solver=&#x27;liblinear&#x27;)</pre></div></div></div></div></div>"
      ],
      "text/plain": [
       "LogisticRegression(solver='liblinear')"
      ]
     },
     "execution_count": 12,
     "metadata": {},
     "output_type": "execute_result"
    }
   ],
   "source": [
    "# 学習データをK個にグループ分け\n",
    "K = 5\n",
    "\n",
    "# 乱数シード設定\n",
    "np.random.seed(seed = 17)\n",
    "\n",
    "train_x[\"cv_group\"] = np.random.randint(\n",
    "    # low以上high未満の整数をsize数だけ生成する\n",
    "    low = 0, high = K, size = train_x.shape[0]).tolist()\n",
    "train_y[\"cv_group\"] = train_x[\"cv_group\"]\n",
    "\n",
    "# CV内での構築, 検証予測スコアの初期化\n",
    "pred_train_tree = list()\n",
    "pred_train_logi = list()\n",
    "pred_valid_tree = np.zeros(valid_x.shape[0]) \n",
    "pred_valid_logi = np.zeros(valid_x.shape[0]) \n",
    "m_train_y = list()\n",
    "\n",
    "# クロスバリデーション\n",
    "for i in range(K):\n",
    "    # 分割\n",
    "    train_x_tmp = train_x[train_x[\"cv_group\"] != i]\n",
    "    train_y_tmp = train_y[train_y[\"cv_group\"] != i]\n",
    "    valid_x_tmp = train_x[train_x[\"cv_group\"] == i]\n",
    "    valid_y_tmp = train_y[train_y[\"cv_group\"] == i]\n",
    "    \n",
    "    del train_x_tmp[\"cv_group\"]\n",
    "    del train_y_tmp[\"cv_group\"]\n",
    "    del valid_x_tmp[\"cv_group\"]\n",
    "    del valid_y_tmp[\"cv_group\"]\n",
    "    \n",
    "    # 決定木構築\n",
    "    tree_model_tmp = DecisionTreeClassifier(\n",
    "        random_state = 17,\n",
    "        criterion = \"gini\",             # Entropy基準の場合は\"entropy”\n",
    "        splitter = \"best\",              # 分割をランダムで行う場合は\"random\"\n",
    "        max_depth = 7,                  # 決定木の深さの最大値\n",
    "        min_samples_split = 20          # 分割する最小データ数\n",
    "    )\n",
    "    tree_model_tmp.fit(train_x_tmp, train_y_tmp)\n",
    "    \n",
    "    # ロジスティック回帰構築\n",
    "    Logi_model_tmp = LogisticRegression(solver=\"liblinear\")\n",
    "    Logi_model_tmp.fit(train_x_tmp, train_y_tmp[\"y\"])\n",
    "    \n",
    "    # モデル構築に使用していないデータの予測値と目的変数\n",
    "    pred_train_tree.extend(tree_model_tmp.predict_proba(valid_x_tmp)[:, 1].tolist())\n",
    "    pred_train_logi.extend(Logi_model_tmp.predict_proba(valid_x_tmp)[:, 1].tolist())\n",
    "    m_train_y.extend(valid_y_tmp[\"y\"].tolist())\n",
    "    \n",
    "    # 検証データの予測値\n",
    "    pred_valid_tree = pred_valid_tree + tree_model_tmp.predict_proba(valid_x)[:, 1]\n",
    "    pred_valid_logi = pred_valid_logi + Logi_model_tmp.predict_proba(valid_x)[:, 1]\n",
    "\n",
    "    \n",
    "# 検証データの予測値の平均\n",
    "pred_valid_tree = pred_valid_tree / K\n",
    "pred_valid_logi = pred_valid_logi / K\n",
    "\n",
    "pred_valid_tree = pred_valid_tree.tolist()\n",
    "pred_valid_logi = pred_valid_logi.tolist()\n",
    "\n",
    "\n",
    "# メタモデル用変数\n",
    "m_train_x = pd.concat(\n",
    "    [\n",
    "        pd.DataFrame(data = pred_train_tree, columns = [\"pred_tree\"]),\n",
    "        pd.DataFrame(data = pred_train_logi, columns = [\"pred_logi\"])\n",
    "    ],\n",
    "    axis = 1\n",
    ")\n",
    "m_train_y = pd.DataFrame(data = m_train_y, columns = [\"y\"])\n",
    "\n",
    "\n",
    "# メタモデル構築\n",
    "meta_model_2 = LogisticRegression(solver=\"liblinear\")\n",
    "meta_model_2.fit(m_train_x, m_train_y[\"y\"])"
   ]
  },
  {
   "cell_type": "markdown",
   "metadata": {},
   "source": [
    "## 検証データ適用方法1"
   ]
  },
  {
   "cell_type": "code",
   "execution_count": 13,
   "metadata": {},
   "outputs": [
    {
     "data": {
      "text/plain": [
       "0.9033122316996293"
      ]
     },
     "execution_count": 13,
     "metadata": {},
     "output_type": "execute_result"
    }
   ],
   "source": [
    "# メタモデル用変数\n",
    "m_valid_x_1 = pd.concat(\n",
    "    [\n",
    "        pd.DataFrame(data = pred_valid_tree, columns = [\"pred_tree\"]),\n",
    "        pd.DataFrame(data = pred_valid_logi, columns = [\"pred_logi\"])\n",
    "    ],\n",
    "    axis = 1\n",
    ")\n",
    "\n",
    "# メタモデルの当てはめ\n",
    "pred_valid_m_1 = meta_model_2.predict_proba(m_valid_x_1)[:, 1]\n",
    "\n",
    "# AUC確認\n",
    "roc_auc_score(valid_y, pred_valid_m_1)"
   ]
  },
  {
   "cell_type": "markdown",
   "metadata": {},
   "source": [
    "## 検証データ適用方法2"
   ]
  },
  {
   "cell_type": "code",
   "execution_count": 14,
   "metadata": {},
   "outputs": [],
   "source": [
    "del train_x[\"cv_group\"]"
   ]
  },
  {
   "cell_type": "code",
   "execution_count": 15,
   "metadata": {},
   "outputs": [
    {
     "data": {
      "text/plain": [
       "0.9019099900740037"
      ]
     },
     "execution_count": 15,
     "metadata": {},
     "output_type": "execute_result"
    }
   ],
   "source": [
    "# 決定木：構築データ全体でモデル構築\n",
    "tree_model_all = DecisionTreeClassifier(\n",
    "    criterion = \"gini\",             # Entropy基準の場合は\"entropy”\n",
    "    splitter = \"best\",              # 分割をランダムで行う場合は\"random\"\n",
    "    max_depth = 7,                  # 決定木の深さの最大値\n",
    "    min_samples_split = 20         # 分割する最小データ数\n",
    ")\n",
    "tree_model_all = tree_model_all.fit(train_x, train_y[\"y\"])\n",
    "\n",
    "# ロジスティック回帰：構築データ全体でモデル構築\n",
    "Logi_model_all = LogisticRegression(solver=\"liblinear\")\n",
    "Logi_model_all.fit(train_x, train_y[\"y\"])\n",
    "\n",
    "# 検証データへの当てはめ\n",
    "pred_valid_tree_all = tree_model_all.predict_proba(valid_x)[:, 1]\n",
    "pred_valid_logi_all = Logi_model_all.predict_proba(valid_x)[:, 1]\n",
    "\n",
    "# メタモデル用変数\n",
    "m_valid_x_2 = pd.concat(\n",
    "    [\n",
    "        pd.DataFrame(data = pred_valid_tree_all, columns = [\"pred_tree\"]),\n",
    "        pd.DataFrame(data = pred_valid_logi_all, columns = [\"pred_logi\"])\n",
    "    ],\n",
    "    axis = 1\n",
    ")\n",
    "\n",
    "# メタモデルの当てはめ\n",
    "pred_valid_m_2 = meta_model_2.predict_proba(m_valid_x_2)[:, 1]\n",
    "\n",
    "# AUC確認\n",
    "roc_auc_score(valid_y, pred_valid_m_2)"
   ]
  },
  {
   "cell_type": "markdown",
   "metadata": {},
   "source": [
    "## 結果まとめ"
   ]
  },
  {
   "cell_type": "markdown",
   "metadata": {},
   "source": [
    "|手法|AUC|\n",
    "| --- | --- |\n",
    "|決定木単体             |  0.8283425547241918  |\n",
    "|ロジスティック回帰単体 |  0.8978653340492817  |\n",
    "|単純平均               |  0.901796224660881  |\n",
    "|メタモデル             |  0.8978409660457104  |\n",
    "|スタッキング(適用方法1)|  0.9033122316996293  |\n",
    "|スタッキング(適用方法2)|  0.9019099900740037  |"
   ]
  }
 ],
 "metadata": {
  "kernelspec": {
   "display_name": "Python 3",
   "language": "python",
   "name": "python3"
  },
  "language_info": {
   "codemirror_mode": {
    "name": "ipython",
    "version": 3
   },
   "file_extension": ".py",
   "mimetype": "text/x-python",
   "name": "python",
   "nbconvert_exporter": "python",
   "pygments_lexer": "ipython3",
   "version": "3.8.5"
  }
 },
 "nbformat": 4,
 "nbformat_minor": 4
}
