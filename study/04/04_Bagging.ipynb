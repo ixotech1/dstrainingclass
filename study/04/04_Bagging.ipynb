{
 "cells": [
  {
   "cell_type": "markdown",
   "metadata": {},
   "source": [
    "# Bagging\n",
    "　バギングの実装例."
   ]
  },
  {
   "cell_type": "markdown",
   "metadata": {},
   "source": [
    "## Import"
   ]
  },
  {
   "cell_type": "code",
   "execution_count": 1,
   "metadata": {},
   "outputs": [],
   "source": [
    "import numpy as np\n",
    "import pandas as pd\n",
    "\n",
    "from sklearn.tree import DecisionTreeClassifier\n",
    "from sklearn.metrics import roc_auc_score\n",
    "from sklearn.model_selection import train_test_split"
   ]
  },
  {
   "cell_type": "markdown",
   "metadata": {},
   "source": [
    "## Setting"
   ]
  },
  {
   "cell_type": "code",
   "execution_count": 2,
   "metadata": {},
   "outputs": [],
   "source": [
    "# Path\n",
    "input_path = \"../input_data/\"\n",
    "\n",
    "# Set Display Max Columns\n",
    "pd.set_option(\"display.max_columns\", 50)"
   ]
  },
  {
   "cell_type": "markdown",
   "metadata": {},
   "source": [
    "## Read Data and Make Data"
   ]
  },
  {
   "cell_type": "code",
   "execution_count": 3,
   "metadata": {},
   "outputs": [],
   "source": [
    "train = pd.read_csv(\n",
    "    input_path + \"bank/train.csv\",\n",
    "    sep = \",\",\n",
    "    header = 0,\n",
    "    quotechar = \"\\\"\"\n",
    ")\n",
    "\n",
    "train = pd.get_dummies(train, drop_first=True) # drop_first=Trueでk-1個のダミー変数となる"
   ]
  },
  {
   "cell_type": "markdown",
   "metadata": {},
   "source": [
    "## Hold Out"
   ]
  },
  {
   "cell_type": "code",
   "execution_count": 4,
   "metadata": {},
   "outputs": [],
   "source": [
    "# Hold Out\n",
    "train_x, valid_x, train_y, valid_y = train_test_split(\n",
    "    train.drop(columns = \"y\"), train[[\"y\"]],\n",
    "    # 検証データ割合\n",
    "    test_size = 0.3,\n",
    "    # 再現性のためシードを固定\n",
    "    random_state = 17\n",
    ")"
   ]
  },
  {
   "cell_type": "code",
   "execution_count": 5,
   "metadata": {},
   "outputs": [],
   "source": [
    "tree_model = DecisionTreeClassifier(\n",
    "    criterion = \"gini\",             # Entropy基準の場合は\"entropy”\n",
    "    splitter = \"best\",              # 分割をランダムで行う場合は\"random\"\n",
    "    max_depth = 7,                  # 決定木の深さの最大値\n",
    "    min_samples_split = 10         # 分割する最小データ数\n",
    ")\n",
    "tree_model = tree_model.fit(train_x, train_y)"
   ]
  },
  {
   "cell_type": "code",
   "execution_count": 6,
   "metadata": {},
   "outputs": [
    {
     "data": {
      "text/plain": [
       "0.8197424518306571"
      ]
     },
     "execution_count": 6,
     "metadata": {},
     "output_type": "execute_result"
    }
   ],
   "source": [
    "pred = tree_model.predict_proba(valid_x)[:, 1]\n",
    "roc_auc_score(valid_y, pred)"
   ]
  },
  {
   "cell_type": "markdown",
   "metadata": {},
   "source": [
    "## Bagging"
   ]
  },
  {
   "cell_type": "code",
   "execution_count": 7,
   "metadata": {},
   "outputs": [],
   "source": [
    "# モデル構築回数\n",
    "L = 10\n",
    "\n",
    "# 1回の構築での使用データ割合\n",
    "rate_M = 0.1\n",
    "M = int(train_x.shape[0] * rate_M)\n",
    "\n",
    "\n",
    "auc = list()\n",
    "pred_all = np.zeros(valid_x.shape[0])\n",
    "\n",
    "# Bagging\n",
    "for i in range(L):\n",
    "    \n",
    "    np.random.seed(17 * i)\n",
    "    row = np.random.randint(0, train_x.shape[0], M).tolist()\n",
    "    train_x_tmp = train_x.iloc[row,]\n",
    "    train_y_tmp = train_y.iloc[row,]\n",
    "    \n",
    "    # 決定木構築\n",
    "    tree_model_tmp = DecisionTreeClassifier(\n",
    "        random_state = 17,\n",
    "        criterion = \"gini\",             # Entropy基準の場合は\"entropy”\n",
    "        splitter = \"best\",              # 分割をランダムで行う場合は\"random\"\n",
    "        max_depth = 7,                  # 決定木の深さの最大値\n",
    "        min_samples_split = 10          # 分割する最小データ数\n",
    "    )\n",
    "    tree_model_tmp.fit(train_x_tmp, train_y_tmp)\n",
    "    \n",
    "    # 検証データへ当てはめ\n",
    "    pred = tree_model_tmp.predict_proba(valid_x)[:, 1]\n",
    "    pred_all = pred_all + pred\n",
    "    \n",
    "    #  AUC\n",
    "    auc.extend([roc_auc_score(valid_y, pred)])\n",
    "\n",
    "    \n",
    "# 予測結果の平均\n",
    "pred_all = pred_all / L"
   ]
  },
  {
   "cell_type": "markdown",
   "metadata": {},
   "source": [
    "　個別のAUC."
   ]
  },
  {
   "cell_type": "code",
   "execution_count": 8,
   "metadata": {},
   "outputs": [
    {
     "data": {
      "text/plain": [
       "[0.7227544812614378,\n",
       " 0.7573628139074685,\n",
       " 0.7689531159611288,\n",
       " 0.7254960979472624,\n",
       " 0.7522692523089042,\n",
       " 0.7938737973885573,\n",
       " 0.7683571812939092,\n",
       " 0.7815019168534881,\n",
       " 0.7297783780541471,\n",
       " 0.7429096319076081]"
      ]
     },
     "execution_count": 8,
     "metadata": {},
     "output_type": "execute_result"
    }
   ],
   "source": [
    "auc"
   ]
  },
  {
   "cell_type": "markdown",
   "metadata": {},
   "source": [
    "　Baggingした結果のAUC."
   ]
  },
  {
   "cell_type": "code",
   "execution_count": 9,
   "metadata": {},
   "outputs": [
    {
     "data": {
      "text/plain": [
       "0.8860070560510223"
      ]
     },
     "execution_count": 9,
     "metadata": {},
     "output_type": "execute_result"
    }
   ],
   "source": [
    "roc_auc_score(valid_y, pred_all)"
   ]
  }
 ],
 "metadata": {
  "kernelspec": {
   "display_name": "Python 3",
   "language": "python",
   "name": "python3"
  },
  "language_info": {
   "codemirror_mode": {
    "name": "ipython",
    "version": 3
   },
   "file_extension": ".py",
   "mimetype": "text/x-python",
   "name": "python",
   "nbconvert_exporter": "python",
   "pygments_lexer": "ipython3",
   "version": "3.7.4"
  }
 },
 "nbformat": 4,
 "nbformat_minor": 2
}
