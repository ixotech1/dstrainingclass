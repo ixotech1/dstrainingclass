{
 "cells": [
  {
   "cell_type": "markdown",
   "metadata": {},
   "source": [
    "# XGBoost\n",
    "　XGBoostのサンプルプログラム.  \n",
    "ドキュメント：https://xgboost.readthedocs.io/en/latest/python/python_api.html  \n",
    " XGBoostの理論を知りたい人へのドキュメント：https://xgboost.readthedocs.io/en/latest/tutorials/model.html"
   ]
  },
  {
   "cell_type": "markdown",
   "metadata": {},
   "source": [
    "## Import"
   ]
  },
  {
   "cell_type": "code",
   "execution_count": 1,
   "metadata": {},
   "outputs": [],
   "source": [
    "import numpy as np\n",
    "import pandas as pd\n",
    "import xgboost as xgb\n",
    "from sklearn import datasets"
   ]
  },
  {
   "cell_type": "markdown",
   "metadata": {},
   "source": [
    "Pythonのバージョン"
   ]
  },
  {
   "cell_type": "code",
   "execution_count": 2,
   "metadata": {},
   "outputs": [
    {
     "data": {
      "text/plain": [
       "'3.7.4 (default, Aug  9 2019, 18:34:13) [MSC v.1915 64 bit (AMD64)]'"
      ]
     },
     "execution_count": 2,
     "metadata": {},
     "output_type": "execute_result"
    }
   ],
   "source": [
    "import sys\n",
    "sys.version"
   ]
  },
  {
   "cell_type": "markdown",
   "metadata": {},
   "source": [
    "xgboostのバージョン"
   ]
  },
  {
   "cell_type": "code",
   "execution_count": 3,
   "metadata": {},
   "outputs": [
    {
     "data": {
      "text/plain": [
       "'1.2.0'"
      ]
     },
     "execution_count": 3,
     "metadata": {},
     "output_type": "execute_result"
    }
   ],
   "source": [
    "xgb.__version__"
   ]
  },
  {
   "cell_type": "markdown",
   "metadata": {},
   "source": [
    "## Setting"
   ]
  },
  {
   "cell_type": "code",
   "execution_count": 4,
   "metadata": {},
   "outputs": [],
   "source": [
    "# Path\n",
    "input_path = \"../input_data/\"\n",
    "\n",
    "# Set Display Max Columns\n",
    "pd.set_option(\"display.max_columns\", 50)\n",
    "\n",
    "%matplotlib inline"
   ]
  },
  {
   "cell_type": "markdown",
   "metadata": {},
   "source": [
    "## Read Data and Make Data"
   ]
  },
  {
   "cell_type": "code",
   "execution_count": 5,
   "metadata": {},
   "outputs": [],
   "source": [
    "# Train\n",
    "train = pd.read_csv(\n",
    "    input_path + \"bank/train.csv\",\n",
    "    sep = \",\",\n",
    "    header = 0,\n",
    "    quotechar = \"\\\"\"\n",
    ")\n",
    "train = pd.get_dummies(train, drop_first=True) # drop_first=Trueでk-1個のダミー変数となる\n",
    "\n",
    "# Test\n",
    "test = pd.read_csv(\n",
    "    input_path + \"bank/test.csv\",\n",
    "    sep = \",\",\n",
    "    header = 0,\n",
    "    quotechar = \"\\\"\"\n",
    ")\n",
    "\n",
    "test = pd.get_dummies(test, drop_first=True) # drop_first=Trueでk-1個のダミー変数となる"
   ]
  },
  {
   "cell_type": "code",
   "execution_count": 6,
   "metadata": {},
   "outputs": [],
   "source": [
    "# 説明変数\n",
    "train_x = train.copy()\n",
    "del train_x[\"y\"]\n",
    "\n",
    "# 目的変数\n",
    "train_y = train[\"y\"].tolist()"
   ]
  },
  {
   "cell_type": "markdown",
   "metadata": {},
   "source": [
    "　XGBoostの関数に入れる形に整形."
   ]
  },
  {
   "cell_type": "code",
   "execution_count": 7,
   "metadata": {},
   "outputs": [],
   "source": [
    "dtrain = xgb.DMatrix(train_x, label = train_y)"
   ]
  },
  {
   "cell_type": "markdown",
   "metadata": {},
   "source": [
    "## Cross Validation\n",
    "　CVで最適な学習回数を求める."
   ]
  },
  {
   "cell_type": "code",
   "execution_count": 8,
   "metadata": {},
   "outputs": [],
   "source": [
    "seed_num = 17                       # ランダムシードの固定\n",
    "params={\n",
    "    \"booster\": \"gbtree\",\n",
    "    \"nthread\": 3,                   # 使用するスレッド数\n",
    "    \"objective\": \"binary:logistic\", # バイナリ予測で確率出力\n",
    "    \"eval_metric\": \"auc\",           # 確認する評価指標(これを最適化しているわけではない)\n",
    "    \"eta\": 0.1,                     # 学習率\n",
    "    \"max_depth\": 5,                 # 1回に作る木の深さ\n",
    "    \"min_child_weight\": 10,         # 最小ノード数\n",
    "    \"subsample\": 0.7,               # 1回に使う学習データ割合(毎回ランダムに決定)\n",
    "    \"colsample_bytree\": 0.6,        # 1回に使う説明変数の割合(毎回ランダムに決定)\n",
    "    \"seed\": seed_num                # ランダムシードの固定\n",
    "}"
   ]
  },
  {
   "cell_type": "code",
   "execution_count": 9,
   "metadata": {},
   "outputs": [
    {
     "name": "stdout",
     "output_type": "stream",
     "text": [
      "[0]\ttrain-auc:0.83823+0.00509\ttest-auc:0.83132+0.00869\n",
      "[1]\ttrain-auc:0.87166+0.00512\ttest-auc:0.86676+0.00509\n",
      "[2]\ttrain-auc:0.88692+0.00389\ttest-auc:0.88113+0.00585\n",
      "[3]\ttrain-auc:0.89265+0.00695\ttest-auc:0.88554+0.00922\n",
      "[4]\ttrain-auc:0.90194+0.00555\ttest-auc:0.89518+0.00764\n",
      "[5]\ttrain-auc:0.90673+0.00409\ttest-auc:0.89986+0.00540\n",
      "[6]\ttrain-auc:0.90735+0.00353\ttest-auc:0.90028+0.00705\n",
      "[7]\ttrain-auc:0.90865+0.00402\ttest-auc:0.90191+0.00857\n",
      "[8]\ttrain-auc:0.90945+0.00266\ttest-auc:0.90270+0.00853\n",
      "[9]\ttrain-auc:0.91117+0.00388\ttest-auc:0.90418+0.00787\n",
      "[10]\ttrain-auc:0.91083+0.00358\ttest-auc:0.90367+0.00837\n",
      "[11]\ttrain-auc:0.91251+0.00241\ttest-auc:0.90482+0.00841\n",
      "[12]\ttrain-auc:0.91326+0.00210\ttest-auc:0.90529+0.00911\n",
      "[13]\ttrain-auc:0.91596+0.00182\ttest-auc:0.90808+0.00744\n",
      "[14]\ttrain-auc:0.91701+0.00137\ttest-auc:0.90889+0.00807\n",
      "[15]\ttrain-auc:0.91825+0.00111\ttest-auc:0.91024+0.00734\n",
      "[16]\ttrain-auc:0.91880+0.00123\ttest-auc:0.91102+0.00671\n",
      "[17]\ttrain-auc:0.91944+0.00132\ttest-auc:0.91136+0.00637\n",
      "[18]\ttrain-auc:0.92007+0.00129\ttest-auc:0.91192+0.00683\n",
      "[19]\ttrain-auc:0.92100+0.00137\ttest-auc:0.91255+0.00676\n",
      "[20]\ttrain-auc:0.92155+0.00144\ttest-auc:0.91303+0.00677\n",
      "[21]\ttrain-auc:0.92198+0.00125\ttest-auc:0.91321+0.00684\n",
      "[22]\ttrain-auc:0.92274+0.00111\ttest-auc:0.91389+0.00679\n",
      "[23]\ttrain-auc:0.92288+0.00118\ttest-auc:0.91384+0.00694\n",
      "[24]\ttrain-auc:0.92364+0.00155\ttest-auc:0.91420+0.00664\n",
      "[25]\ttrain-auc:0.92390+0.00147\ttest-auc:0.91434+0.00651\n",
      "[26]\ttrain-auc:0.92433+0.00155\ttest-auc:0.91482+0.00651\n",
      "[27]\ttrain-auc:0.92480+0.00140\ttest-auc:0.91541+0.00642\n",
      "[28]\ttrain-auc:0.92540+0.00118\ttest-auc:0.91586+0.00640\n",
      "[29]\ttrain-auc:0.92562+0.00149\ttest-auc:0.91591+0.00605\n",
      "[30]\ttrain-auc:0.92621+0.00148\ttest-auc:0.91631+0.00582\n",
      "[31]\ttrain-auc:0.92646+0.00165\ttest-auc:0.91636+0.00578\n",
      "[32]\ttrain-auc:0.92675+0.00168\ttest-auc:0.91642+0.00582\n",
      "[33]\ttrain-auc:0.92722+0.00173\ttest-auc:0.91664+0.00571\n",
      "[34]\ttrain-auc:0.92757+0.00159\ttest-auc:0.91683+0.00582\n",
      "[35]\ttrain-auc:0.92794+0.00140\ttest-auc:0.91700+0.00589\n",
      "[36]\ttrain-auc:0.92829+0.00124\ttest-auc:0.91734+0.00582\n",
      "[37]\ttrain-auc:0.92847+0.00131\ttest-auc:0.91745+0.00573\n",
      "[38]\ttrain-auc:0.92871+0.00133\ttest-auc:0.91765+0.00576\n",
      "[39]\ttrain-auc:0.92910+0.00127\ttest-auc:0.91814+0.00564\n",
      "[40]\ttrain-auc:0.92935+0.00128\ttest-auc:0.91826+0.00573\n",
      "[41]\ttrain-auc:0.92961+0.00118\ttest-auc:0.91841+0.00577\n",
      "[42]\ttrain-auc:0.92990+0.00122\ttest-auc:0.91865+0.00575\n",
      "[43]\ttrain-auc:0.93035+0.00134\ttest-auc:0.91898+0.00574\n",
      "[44]\ttrain-auc:0.93059+0.00142\ttest-auc:0.91906+0.00577\n",
      "[45]\ttrain-auc:0.93091+0.00132\ttest-auc:0.91934+0.00565\n",
      "[46]\ttrain-auc:0.93108+0.00120\ttest-auc:0.91924+0.00570\n",
      "[47]\ttrain-auc:0.93135+0.00136\ttest-auc:0.91943+0.00563\n",
      "[48]\ttrain-auc:0.93162+0.00141\ttest-auc:0.91951+0.00564\n",
      "[49]\ttrain-auc:0.93194+0.00129\ttest-auc:0.91965+0.00555\n",
      "[50]\ttrain-auc:0.93219+0.00115\ttest-auc:0.91978+0.00561\n",
      "[51]\ttrain-auc:0.93235+0.00113\ttest-auc:0.91981+0.00570\n",
      "[52]\ttrain-auc:0.93261+0.00106\ttest-auc:0.91989+0.00576\n",
      "[53]\ttrain-auc:0.93275+0.00107\ttest-auc:0.91984+0.00578\n",
      "[54]\ttrain-auc:0.93304+0.00108\ttest-auc:0.91998+0.00572\n",
      "[55]\ttrain-auc:0.93332+0.00094\ttest-auc:0.92012+0.00567\n",
      "[56]\ttrain-auc:0.93365+0.00111\ttest-auc:0.92041+0.00547\n",
      "[57]\ttrain-auc:0.93408+0.00132\ttest-auc:0.92074+0.00531\n",
      "[58]\ttrain-auc:0.93428+0.00132\ttest-auc:0.92082+0.00522\n",
      "[59]\ttrain-auc:0.93449+0.00114\ttest-auc:0.92084+0.00530\n",
      "[60]\ttrain-auc:0.93468+0.00116\ttest-auc:0.92095+0.00537\n",
      "[61]\ttrain-auc:0.93498+0.00102\ttest-auc:0.92114+0.00559\n",
      "[62]\ttrain-auc:0.93527+0.00100\ttest-auc:0.92121+0.00543\n",
      "[63]\ttrain-auc:0.93547+0.00101\ttest-auc:0.92144+0.00547\n",
      "[64]\ttrain-auc:0.93599+0.00072\ttest-auc:0.92192+0.00571\n",
      "[65]\ttrain-auc:0.93621+0.00081\ttest-auc:0.92214+0.00570\n",
      "[66]\ttrain-auc:0.93647+0.00082\ttest-auc:0.92221+0.00567\n",
      "[67]\ttrain-auc:0.93660+0.00091\ttest-auc:0.92215+0.00567\n",
      "[68]\ttrain-auc:0.93698+0.00108\ttest-auc:0.92244+0.00550\n",
      "[69]\ttrain-auc:0.93712+0.00105\ttest-auc:0.92248+0.00544\n",
      "[70]\ttrain-auc:0.93742+0.00089\ttest-auc:0.92260+0.00533\n",
      "[71]\ttrain-auc:0.93770+0.00101\ttest-auc:0.92275+0.00521\n",
      "[72]\ttrain-auc:0.93789+0.00088\ttest-auc:0.92280+0.00540\n",
      "[73]\ttrain-auc:0.93809+0.00097\ttest-auc:0.92292+0.00538\n",
      "[74]\ttrain-auc:0.93836+0.00091\ttest-auc:0.92313+0.00560\n",
      "[75]\ttrain-auc:0.93847+0.00085\ttest-auc:0.92318+0.00571\n",
      "[76]\ttrain-auc:0.93868+0.00083\ttest-auc:0.92325+0.00572\n",
      "[77]\ttrain-auc:0.93881+0.00084\ttest-auc:0.92327+0.00570\n",
      "[78]\ttrain-auc:0.93905+0.00086\ttest-auc:0.92347+0.00579\n",
      "[79]\ttrain-auc:0.93917+0.00089\ttest-auc:0.92347+0.00580\n",
      "[80]\ttrain-auc:0.93933+0.00094\ttest-auc:0.92357+0.00577\n",
      "[81]\ttrain-auc:0.93951+0.00100\ttest-auc:0.92368+0.00564\n",
      "[82]\ttrain-auc:0.93959+0.00095\ttest-auc:0.92373+0.00566\n",
      "[83]\ttrain-auc:0.93975+0.00104\ttest-auc:0.92378+0.00565\n",
      "[84]\ttrain-auc:0.93999+0.00102\ttest-auc:0.92389+0.00566\n",
      "[85]\ttrain-auc:0.94017+0.00096\ttest-auc:0.92395+0.00571\n",
      "[86]\ttrain-auc:0.94042+0.00104\ttest-auc:0.92404+0.00569\n",
      "[87]\ttrain-auc:0.94080+0.00084\ttest-auc:0.92440+0.00581\n",
      "[88]\ttrain-auc:0.94104+0.00085\ttest-auc:0.92451+0.00585\n",
      "[89]\ttrain-auc:0.94121+0.00094\ttest-auc:0.92461+0.00585\n",
      "[90]\ttrain-auc:0.94133+0.00089\ttest-auc:0.92466+0.00579\n",
      "[91]\ttrain-auc:0.94154+0.00089\ttest-auc:0.92478+0.00583\n",
      "[92]\ttrain-auc:0.94172+0.00088\ttest-auc:0.92482+0.00578\n",
      "[93]\ttrain-auc:0.94189+0.00090\ttest-auc:0.92477+0.00592\n",
      "[94]\ttrain-auc:0.94214+0.00077\ttest-auc:0.92492+0.00607\n",
      "[95]\ttrain-auc:0.94221+0.00078\ttest-auc:0.92497+0.00602\n",
      "[96]\ttrain-auc:0.94242+0.00076\ttest-auc:0.92520+0.00608\n",
      "[97]\ttrain-auc:0.94262+0.00076\ttest-auc:0.92521+0.00607\n",
      "[98]\ttrain-auc:0.94289+0.00087\ttest-auc:0.92535+0.00596\n",
      "[99]\ttrain-auc:0.94310+0.00095\ttest-auc:0.92547+0.00592\n",
      "[100]\ttrain-auc:0.94334+0.00090\ttest-auc:0.92566+0.00598\n",
      "[101]\ttrain-auc:0.94346+0.00094\ttest-auc:0.92580+0.00601\n",
      "[102]\ttrain-auc:0.94357+0.00089\ttest-auc:0.92587+0.00605\n",
      "[103]\ttrain-auc:0.94374+0.00084\ttest-auc:0.92593+0.00603\n",
      "[104]\ttrain-auc:0.94401+0.00084\ttest-auc:0.92609+0.00608\n",
      "[105]\ttrain-auc:0.94413+0.00087\ttest-auc:0.92613+0.00608\n",
      "[106]\ttrain-auc:0.94430+0.00092\ttest-auc:0.92626+0.00602\n",
      "[107]\ttrain-auc:0.94461+0.00092\ttest-auc:0.92651+0.00588\n",
      "[108]\ttrain-auc:0.94484+0.00094\ttest-auc:0.92658+0.00597\n",
      "[109]\ttrain-auc:0.94498+0.00083\ttest-auc:0.92666+0.00605\n",
      "[110]\ttrain-auc:0.94515+0.00085\ttest-auc:0.92681+0.00617\n",
      "[111]\ttrain-auc:0.94534+0.00072\ttest-auc:0.92688+0.00622\n",
      "[112]\ttrain-auc:0.94547+0.00071\ttest-auc:0.92690+0.00625\n",
      "[113]\ttrain-auc:0.94564+0.00067\ttest-auc:0.92693+0.00627\n",
      "[114]\ttrain-auc:0.94572+0.00066\ttest-auc:0.92693+0.00627\n",
      "[115]\ttrain-auc:0.94581+0.00065\ttest-auc:0.92699+0.00626\n",
      "[116]\ttrain-auc:0.94594+0.00065\ttest-auc:0.92696+0.00625\n",
      "[117]\ttrain-auc:0.94616+0.00069\ttest-auc:0.92699+0.00621\n",
      "[118]\ttrain-auc:0.94629+0.00073\ttest-auc:0.92708+0.00618\n",
      "[119]\ttrain-auc:0.94636+0.00075\ttest-auc:0.92706+0.00616\n",
      "[120]\ttrain-auc:0.94659+0.00072\ttest-auc:0.92714+0.00623\n",
      "[121]\ttrain-auc:0.94671+0.00077\ttest-auc:0.92715+0.00628\n",
      "[122]\ttrain-auc:0.94689+0.00078\ttest-auc:0.92722+0.00632\n",
      "[123]\ttrain-auc:0.94706+0.00068\ttest-auc:0.92725+0.00634\n",
      "[124]\ttrain-auc:0.94716+0.00073\ttest-auc:0.92726+0.00632\n",
      "[125]\ttrain-auc:0.94727+0.00075\ttest-auc:0.92728+0.00623\n",
      "[126]\ttrain-auc:0.94742+0.00077\ttest-auc:0.92729+0.00616\n",
      "[127]\ttrain-auc:0.94754+0.00078\ttest-auc:0.92725+0.00616\n",
      "[128]\ttrain-auc:0.94765+0.00080\ttest-auc:0.92726+0.00620\n",
      "[129]\ttrain-auc:0.94780+0.00078\ttest-auc:0.92729+0.00621\n",
      "[130]\ttrain-auc:0.94797+0.00076\ttest-auc:0.92740+0.00622\n",
      "[131]\ttrain-auc:0.94822+0.00082\ttest-auc:0.92754+0.00608\n",
      "[132]\ttrain-auc:0.94842+0.00081\ttest-auc:0.92757+0.00601\n",
      "[133]\ttrain-auc:0.94852+0.00082\ttest-auc:0.92758+0.00602\n",
      "[134]\ttrain-auc:0.94866+0.00084\ttest-auc:0.92752+0.00603\n",
      "[135]\ttrain-auc:0.94880+0.00087\ttest-auc:0.92758+0.00606\n",
      "[136]\ttrain-auc:0.94892+0.00087\ttest-auc:0.92759+0.00608\n",
      "[137]\ttrain-auc:0.94907+0.00090\ttest-auc:0.92768+0.00608\n",
      "[138]\ttrain-auc:0.94921+0.00091\ttest-auc:0.92774+0.00609\n",
      "[139]\ttrain-auc:0.94932+0.00088\ttest-auc:0.92784+0.00612\n",
      "[140]\ttrain-auc:0.94942+0.00091\ttest-auc:0.92781+0.00614\n",
      "[141]\ttrain-auc:0.94952+0.00092\ttest-auc:0.92788+0.00613\n",
      "[142]\ttrain-auc:0.94958+0.00091\ttest-auc:0.92787+0.00616\n",
      "[143]\ttrain-auc:0.94968+0.00091\ttest-auc:0.92786+0.00615\n",
      "[144]\ttrain-auc:0.94979+0.00089\ttest-auc:0.92786+0.00616\n",
      "[145]\ttrain-auc:0.94992+0.00093\ttest-auc:0.92786+0.00615\n"
     ]
    },
    {
     "name": "stdout",
     "output_type": "stream",
     "text": [
      "[146]\ttrain-auc:0.95000+0.00095\ttest-auc:0.92786+0.00615\n",
      "[147]\ttrain-auc:0.95017+0.00096\ttest-auc:0.92784+0.00620\n",
      "[148]\ttrain-auc:0.95029+0.00098\ttest-auc:0.92788+0.00623\n",
      "[149]\ttrain-auc:0.95040+0.00098\ttest-auc:0.92783+0.00618\n",
      "[150]\ttrain-auc:0.95048+0.00099\ttest-auc:0.92788+0.00615\n",
      "[151]\ttrain-auc:0.95060+0.00100\ttest-auc:0.92793+0.00606\n",
      "[152]\ttrain-auc:0.95072+0.00099\ttest-auc:0.92791+0.00607\n",
      "[153]\ttrain-auc:0.95082+0.00095\ttest-auc:0.92788+0.00604\n",
      "[154]\ttrain-auc:0.95093+0.00096\ttest-auc:0.92792+0.00601\n",
      "[155]\ttrain-auc:0.95107+0.00090\ttest-auc:0.92787+0.00603\n",
      "[156]\ttrain-auc:0.95121+0.00090\ttest-auc:0.92786+0.00598\n",
      "[157]\ttrain-auc:0.95135+0.00086\ttest-auc:0.92785+0.00598\n",
      "[158]\ttrain-auc:0.95143+0.00084\ttest-auc:0.92784+0.00597\n",
      "[159]\ttrain-auc:0.95156+0.00087\ttest-auc:0.92786+0.00592\n",
      "[160]\ttrain-auc:0.95170+0.00080\ttest-auc:0.92784+0.00592\n",
      "[161]\ttrain-auc:0.95181+0.00082\ttest-auc:0.92789+0.00595\n",
      "[162]\ttrain-auc:0.95189+0.00082\ttest-auc:0.92788+0.00598\n",
      "[163]\ttrain-auc:0.95203+0.00084\ttest-auc:0.92793+0.00600\n",
      "[164]\ttrain-auc:0.95215+0.00082\ttest-auc:0.92793+0.00606\n",
      "[165]\ttrain-auc:0.95229+0.00081\ttest-auc:0.92789+0.00607\n",
      "[166]\ttrain-auc:0.95244+0.00080\ttest-auc:0.92796+0.00605\n",
      "[167]\ttrain-auc:0.95256+0.00082\ttest-auc:0.92792+0.00599\n",
      "[168]\ttrain-auc:0.95268+0.00081\ttest-auc:0.92794+0.00596\n",
      "[169]\ttrain-auc:0.95275+0.00078\ttest-auc:0.92792+0.00589\n",
      "[170]\ttrain-auc:0.95285+0.00077\ttest-auc:0.92793+0.00588\n",
      "[171]\ttrain-auc:0.95298+0.00076\ttest-auc:0.92790+0.00592\n",
      "[172]\ttrain-auc:0.95308+0.00080\ttest-auc:0.92794+0.00594\n",
      "[173]\ttrain-auc:0.95318+0.00082\ttest-auc:0.92795+0.00599\n",
      "[174]\ttrain-auc:0.95328+0.00080\ttest-auc:0.92790+0.00604\n",
      "[175]\ttrain-auc:0.95339+0.00085\ttest-auc:0.92790+0.00608\n",
      "[176]\ttrain-auc:0.95349+0.00088\ttest-auc:0.92791+0.00607\n",
      "[177]\ttrain-auc:0.95359+0.00088\ttest-auc:0.92799+0.00614\n",
      "[178]\ttrain-auc:0.95375+0.00090\ttest-auc:0.92806+0.00602\n",
      "[179]\ttrain-auc:0.95386+0.00087\ttest-auc:0.92813+0.00608\n",
      "[180]\ttrain-auc:0.95397+0.00089\ttest-auc:0.92815+0.00605\n",
      "[181]\ttrain-auc:0.95409+0.00085\ttest-auc:0.92816+0.00609\n",
      "[182]\ttrain-auc:0.95418+0.00083\ttest-auc:0.92814+0.00610\n",
      "[183]\ttrain-auc:0.95428+0.00087\ttest-auc:0.92811+0.00606\n",
      "[184]\ttrain-auc:0.95439+0.00084\ttest-auc:0.92811+0.00607\n",
      "[185]\ttrain-auc:0.95448+0.00084\ttest-auc:0.92806+0.00607\n",
      "[186]\ttrain-auc:0.95456+0.00084\ttest-auc:0.92807+0.00612\n",
      "[187]\ttrain-auc:0.95464+0.00085\ttest-auc:0.92808+0.00613\n",
      "[188]\ttrain-auc:0.95476+0.00083\ttest-auc:0.92811+0.00610\n",
      "[189]\ttrain-auc:0.95485+0.00083\ttest-auc:0.92812+0.00605\n",
      "[190]\ttrain-auc:0.95490+0.00083\ttest-auc:0.92811+0.00605\n",
      "[191]\ttrain-auc:0.95503+0.00083\ttest-auc:0.92811+0.00607\n",
      "[192]\ttrain-auc:0.95514+0.00085\ttest-auc:0.92814+0.00603\n",
      "[193]\ttrain-auc:0.95524+0.00083\ttest-auc:0.92819+0.00613\n",
      "[194]\ttrain-auc:0.95532+0.00084\ttest-auc:0.92820+0.00616\n",
      "[195]\ttrain-auc:0.95542+0.00082\ttest-auc:0.92818+0.00617\n",
      "[196]\ttrain-auc:0.95549+0.00082\ttest-auc:0.92819+0.00618\n",
      "[197]\ttrain-auc:0.95557+0.00078\ttest-auc:0.92816+0.00615\n",
      "[198]\ttrain-auc:0.95565+0.00078\ttest-auc:0.92813+0.00616\n",
      "[199]\ttrain-auc:0.95573+0.00077\ttest-auc:0.92808+0.00619\n"
     ]
    }
   ],
   "source": [
    "xgb_cv = xgb.cv(\n",
    "    params,\n",
    "    dtrain,\n",
    "    num_boost_round = 200, # 探索する学習回数\n",
    "    nfold = 5,             # クロスバリデーション数\n",
    "    verbose_eval = True\n",
    ")"
   ]
  },
  {
   "cell_type": "markdown",
   "metadata": {},
   "source": [
    "　検証データでのAUCが最大となる学習回数を取得"
   ]
  },
  {
   "cell_type": "code",
   "execution_count": 10,
   "metadata": {},
   "outputs": [
    {
     "data": {
      "text/plain": [
       "0.9281998000000001"
      ]
     },
     "execution_count": 10,
     "metadata": {},
     "output_type": "execute_result"
    }
   ],
   "source": [
    "xgb_cv[\"test-auc-mean\"].max()"
   ]
  },
  {
   "cell_type": "code",
   "execution_count": 11,
   "metadata": {},
   "outputs": [
    {
     "data": {
      "text/plain": [
       "195"
      ]
     },
     "execution_count": 11,
     "metadata": {},
     "output_type": "execute_result"
    }
   ],
   "source": [
    "nrounds = xgb_cv[\"test-auc-mean\"].idxmax() + 1\n",
    "nrounds"
   ]
  },
  {
   "cell_type": "markdown",
   "metadata": {},
   "source": [
    "## Training"
   ]
  },
  {
   "cell_type": "code",
   "execution_count": 12,
   "metadata": {},
   "outputs": [],
   "source": [
    "xgb_model = xgb.train(\n",
    "    params,\n",
    "    dtrain,\n",
    "    num_boost_round = nrounds\n",
    ")"
   ]
  },
  {
   "cell_type": "markdown",
   "metadata": {},
   "source": [
    "## Check Importance\n",
    "　変数重要度の確認. 下記はリファレンスより抜粋.  \n",
    "importance_type (str, default \"weight\") –  \n",
    "How the importance is calculated: either “weight”, “gain”, or “cover”  \n",
    "- ”weight” is the number of times a feature appears in a tree\n",
    "- ”gain” is the average gain of splits which use the feature\n",
    "- ”cover” is the average coverage of splits which use the feature where coverage is defined as the number of samples affected by the split  \n",
    "gainについての解説：https://xgboost.readthedocs.io/en/latest/tutorials/model.html#learn-the-tree-structure"
   ]
  },
  {
   "cell_type": "code",
   "execution_count": 13,
   "metadata": {},
   "outputs": [
    {
     "data": {
      "image/png": "[encoded data removed]",
      "text/plain": [
       "<Figure size 1080x1080 with 1 Axes>"
      ]
     },
     "metadata": {
      "needs_background": "light"
     },
     "output_type": "display_data"
    }
   ],
   "source": [
    "xgb.plot_importance(xgb_model, importance_type=\"weight\").figure.set_size_inches(15, 15)"
   ]
  },
  {
   "cell_type": "markdown",
   "metadata": {},
   "source": [
    "## Predict"
   ]
  },
  {
   "cell_type": "code",
   "execution_count": 14,
   "metadata": {},
   "outputs": [],
   "source": [
    "dtest = xgb.DMatrix(test)\n",
    "submit= pd.DataFrame(xgb_model.predict(dtest), columns = [\"y\"])\n",
    "submit[\"id\"] = test[\"id\"]"
   ]
  },
  {
   "cell_type": "markdown",
   "metadata": {},
   "source": [
    "## Output"
   ]
  },
  {
   "cell_type": "code",
   "execution_count": 15,
   "metadata": {},
   "outputs": [],
   "source": [
    "submit[[\"id\", \"y\"]].to_csv(\n",
    "    \"../submit/submit_xgb.csv\",\n",
    "    sep = \",\",\n",
    "    index = False,\n",
    "    header = False\n",
    ")"
   ]
  }
 ],
 "metadata": {
  "kernelspec": {
   "display_name": "Python 3",
   "language": "python",
   "name": "python3"
  },
  "language_info": {
   "codemirror_mode": {
    "name": "ipython",
    "version": 3
   },
   "file_extension": ".py",
   "mimetype": "text/x-python",
   "name": "python",
   "nbconvert_exporter": "python",
   "pygments_lexer": "ipython3",
   "version": "3.7.4"
  }
 },
 "nbformat": 4,
 "nbformat_minor": 2
}
