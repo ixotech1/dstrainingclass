{
 "cells": [
  {
   "cell_type": "markdown",
   "id": "d06345ff-bd6f-483e-bd7c-18d191b2a6ec",
   "metadata": {},
   "source": [
    "# 1. Sample estimation, event based (AKI rate) #\n",
    "* https://pubmed.ncbi.nlm.nih.gov/21829786/   \n",
    "* Assumptions\n",
    "  * 3 arms (Placebo : Low dose : High dose) 1:1:1  \n",
    "  * Equal n for each arm, equal variance\n",
    "\n",
    "**Formula**  \n",
    ">$$ n = \\frac{(Za + Zb)^2 * [p1 (1-p1) + p2 (1-p2)]}{(p1 – p2)^2} $$\n"
   ]
  },
  {
   "cell_type": "code",
   "execution_count": 7,
   "id": "18b730b2-970b-4cb9-8176-2b283206854f",
   "metadata": {},
   "outputs": [
    {
     "name": "stdout",
     "output_type": "stream",
     "text": [
      "Za is 2.64\n",
      "Zb is 0.84\n",
      "Required number of patients per group (before dropout): 150\n",
      "Adjusted for 10% dropout: 167\n",
      "Total sample size for 4 arms (1:1:1): 668\n"
     ]
    }
   ],
   "source": [
    "import math\n",
    "from scipy.stats import norm\n",
    "\n",
    "# === Input Parameters ===\n",
    "p1 = 0.25   # AKI rate in control group (e.g., 25%)\n",
    "p2 = 0.1   # AKI rate in treatment group (e.g., 10%)\n",
    "alpha = 0.05  # Significance level (2-sided)\n",
    "power = 0.80  # Power (1 - beta)\n",
    "dropout_rate = 0.10  # e.g., 10%\n",
    "number_of_cohorts = 4 # multiarm study, placebo, high, mid, low\n",
    "\n",
    "# === Z-scores ===\n",
    "#Bonferroni correction = alpha / number of comparisons\n",
    "alpha = alpha / 6 # 6 comparisons, placebo vs 3 arms each, high vs low, high vs mid, mid vs low\n",
    "Z_alpha = norm.ppf(1 - alpha / 2)   #two-sided\n",
    "print(f\"Za is {Z_alpha:.2f}\")\n",
    "Z_beta = norm.ppf(power)\n",
    "print(f\"Zb is {Z_beta:.2f}\")\n",
    "\n",
    "# === Sample size per group (before dropout adjustment) ===\n",
    "# === Pooled proportion ===\n",
    "# p_bar = (p1 + p2) / 2\n",
    "#numerator = (Z_alpha * math.sqrt(2 * p_bar * (1 - p_bar)) + Z_beta * math.sqrt(p1 * (1 - p1) + p2 * (1 - p2))) ** 2 #pooled proportion method\n",
    "\n",
    "numerator = ((Z_alpha + Z_beta) ** 2) * ((p1 * (1 - p1)) + (p2 * (1 - p2)))\n",
    "denominator = (p1 - p2) ** 2\n",
    "n_per_group = math.ceil(numerator / denominator)\n",
    "n_per_group_adjusted = math.ceil(n_per_group / (1 - dropout_rate))\n",
    "total_sample_size = n_per_group_adjusted * number_of_cohorts\n",
    "\n",
    "# === Print Output ===\n",
    "print(f\"Required number of patients per group (before dropout): {n_per_group}\")\n",
    "print(f\"Adjusted for {int(dropout_rate * 100)}% dropout: {n_per_group_adjusted}\")\n",
    "print(f\"Total sample size for {number_of_cohorts} arms (1:1:1): {total_sample_size:.0f}\")\n"
   ]
  },
  {
   "cell_type": "markdown",
   "id": "6847de8d-b305-493c-b9ce-5e2deca7166e",
   "metadata": {},
   "source": [
    "# 2. Sample size estimation, mean based (serum creatinine etc) #  \n",
    "* Assumptions: equal standard deviation, 0.45 mg/dL\n",
    "\n",
    "**Formula**\n",
    "> $$n = \\frac{2 * (Z_\\alpha + Z_\\beta)^2 * \\sigma^2}{(μ1 - μ2)^2}$$\n",
    "\n"
   ]
  },
  {
   "cell_type": "code",
   "execution_count": 8,
   "id": "ba655a75-071a-4e23-9c36-c4231868de2b",
   "metadata": {},
   "outputs": [
    {
     "name": "stdout",
     "output_type": "stream",
     "text": [
      "Za is 2.64\n",
      "Zb is 0.84\n",
      "Required number of patients per group (before dropout): 55\n",
      "Adjusted for 10% dropout: 61\n",
      "Total sample size for 4 arms: 244\n"
     ]
    }
   ],
   "source": [
    "# === Input Parameters ===\n",
    "alpha = 0.05\n",
    "power = 0.80\n",
    "delta = 0.3     # (u1-u2), Mean difference in serum creatinine change from baseline (KDIGO: increase of 0.3 mg/dL within 48 hours)\n",
    "sigma = 0.45    # Standard deviation\n",
    "dropout_rate = 0.1\n",
    "number_of_cohorts = 4 # multiarm study, placebo, high, mid, low\n",
    "\n",
    "# === Z-scores ===\n",
    "#Bonferroni correction = alpha / number of comparisons\n",
    "alpha = alpha / 6 # 6 comparisons, placebo vs 3 arms each, high vs low, high vs mid, mid vs low\n",
    "Z_alpha = norm.ppf(1 - alpha / 2)  # two-sided\n",
    "print(f\"Za is {Z_alpha:.2f}\")\n",
    "Z_beta = norm.ppf(power)\n",
    "print(f\"Zb is {Z_beta:.2f}\")\n",
    "\n",
    "# === Sample size per group ===\n",
    "n_per_group = (2 * ((Z_alpha + Z_beta) ** 2) * (sigma ** 2)) / (delta ** 2)\n",
    "n_per_group_adjusted = math.ceil( n_per_group / (1 - dropout_rate))\n",
    "total_sample_size = n_per_group_adjusted * number_of_cohorts\n",
    "\n",
    "# === Print Output ===\n",
    "print(f\"Required number of patients per group (before dropout): {math.ceil(n_per_group)}\")\n",
    "print(f\"Adjusted for {int(dropout_rate * 100)}% dropout: {n_per_group_adjusted}\")\n",
    "print(f\"Total sample size for {number_of_cohorts} arms: {total_sample_size}\")"
   ]
  }
 ],
 "metadata": {
  "kernelspec": {
   "display_name": "Python 3 (ipykernel)",
   "language": "python",
   "name": "python3"
  },
  "language_info": {
   "codemirror_mode": {
    "name": "ipython",
    "version": 3
   },
   "file_extension": ".py",
   "mimetype": "text/x-python",
   "name": "python",
   "nbconvert_exporter": "python",
   "pygments_lexer": "ipython3",
   "version": "3.13.5"
  }
 },
 "nbformat": 4,
 "nbformat_minor": 5
}
