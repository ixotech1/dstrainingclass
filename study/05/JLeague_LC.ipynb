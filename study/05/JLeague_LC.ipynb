{
 "cells": [
  {
   "cell_type": "markdown",
   "id": "c438c7f0-1257-4d9f-b793-ed058fb5f7fb",
   "metadata": {},
   "source": [
    "# Homework for JLeague competition"
   ]
  },
  {
   "cell_type": "markdown",
   "id": "dfa06093-967d-4611-98ce-6039eadb5bef",
   "metadata": {},
   "source": [
    "## Setting up"
   ]
  },
  {
   "cell_type": "code",
   "execution_count": 1,
   "id": "895c215c-d52f-49ad-b2e8-01ce165cb95c",
   "metadata": {},
   "outputs": [],
   "source": [
    "import pandas as pd\n",
    "import numpy as np\n",
    "from sklearn import linear_model\n",
    "\n",
    "import seaborn as sns\n",
    "import matplotlib.pyplot as plt\n",
    "\n",
    "# Path\n",
    "input_path = \"../input_data/\"\n",
    "\n",
    "# Figure Size\n",
    "plt.rcParams[\"figure.figsize\"] = (20.0, 10.0)\n",
    "\n",
    "# Set Display Max Columns\n",
    "pd.set_option(\"display.max_columns\", 50)\n",
    "\n",
    "# Set Display Max Rows\n",
    "pd.set_option(\"display.max_rows\", 200)\n",
    "\n",
    "# Load datasets\n",
    "train = pd.read_csv(input_path + \"jleague/train.csv\", sep=\",\", header=0, quotechar=\"\\\"\", encoding='utf-8')\n",
    "test = pd.read_csv(input_path + \"jleague/test.csv\", sep=\",\", header=0, quotechar=\"\\\"\", encoding='utf-8')\n",
    "condition = pd.read_csv(input_path + \"jleague/condition.csv\", sep=\",\", header=0, quotechar=\"\\\"\", encoding='utf-8')\n",
    "stadium = pd.read_csv(input_path + \"jleague/stadium.csv\", sep=\",\", header=0, quotechar=\"\\\"\", encoding='utf-8')"
   ]
  },
  {
   "cell_type": "markdown",
   "id": "53eb248e-3072-4b5a-90a0-f6217fb656e8",
   "metadata": {},
   "source": [
    "## Merging datasets for feature engineering"
   ]
  },
  {
   "cell_type": "code",
   "execution_count": 2,
   "id": "5d6a8044-2252-4990-8150-95b2e751d581",
   "metadata": {},
   "outputs": [
    {
     "data": {
      "text/plain": [
       "(2034, 45)"
      ]
     },
     "execution_count": 2,
     "metadata": {},
     "output_type": "execute_result"
    }
   ],
   "source": [
    "# Train and Test\n",
    "dat = pd.concat([train, test], axis=0)\n",
    "dat[\"data\"] = dat[\"y\"].apply(lambda x: \"Test\" if np.isnan(x) else \"Train\")\n",
    "\n",
    "# condition\n",
    "dat = pd.merge(dat, condition, how=\"inner\", on=\"id\")\n",
    "\n",
    "# stadium\n",
    "dat = pd.merge(dat, stadium, how=\"inner\", left_on=\"stadium\", right_on=\"name\")\n",
    "dat.shape"
   ]
  },
  {
   "cell_type": "markdown",
   "id": "cd1b47bd-95d6-4103-b05e-9777f75cc06d",
   "metadata": {},
   "source": [
    "## Feature engineering"
   ]
  },
  {
   "cell_type": "code",
   "execution_count": 3,
   "id": "8ad744b8-f5a0-4ac1-8bd2-f63baf63a658",
   "metadata": {},
   "outputs": [],
   "source": [
    "# Original FE by sensei\n",
    "# J1フラグ\n",
    "dat[\"J1_flg\"] = dat[\"stage\"].apply(lambda x: 1 if x==\"Ｊ１\" else 0)\n",
    "\n",
    "# 12月フラグ\n",
    "dat[\"month\"] = dat[\"gameday\"].apply(lambda x: int(x.split(\"/\")[0]))\n",
    "dat[\"December_flg\"] = dat[\"month\"].apply(lambda x: 1 if x==12 else 0)\n",
    "\n",
    "# ホームチームごとの平均観客動員数(y=0の試合を除く)\n",
    "team_attract = dat[(dat[\"data\"]==\"Train\") & (dat[\"y\"] > 0)].groupby(\"home\").agg({\"y\": \"mean\"}).reset_index(drop=False)\n",
    "team_attract.columns = [\"home\", \"attract_mean\"]\n",
    "dat = pd.merge(dat, team_attract, how=\"inner\", on=\"home\")\n",
    "\n",
    "# TV放送数\n",
    "dat[\"tv_N\"] = dat[\"tv\"].apply(lambda x: len(x.split(\"／\")))\n",
    "\n",
    "# NHKフラグ\n",
    "dat[\"tv_NHK_flg\"] = dat[\"tv\"].apply(lambda x: 1 if \"ＮＨＫ\" in x else 0)\n",
    "\n",
    "# capa\n",
    "dat[\"capa_cate\"] = dat[\"capa\"].apply(lambda x: x // 10000)"
   ]
  },
  {
   "cell_type": "code",
   "execution_count": 4,
   "id": "d5f80482-73d7-47fe-b5ab-d6db160edb69",
   "metadata": {},
   "outputs": [],
   "source": [
    "# Added for V2 submission\n",
    "# calculate capa %\n",
    "capa_pct = dat[(dat[\"data\"]==\"Train\") & (dat[\"y\"] > 0)].assign(capa_pct=lambda x: x[\"y\"]/x[\"capa\"])\n",
    "# home team and stadium mean capa %\n",
    "team_capa_pct = capa_pct.groupby(\"home\").agg(team_capa_pct=(\"capa_pct\",\"mean\")).reset_index()\n",
    "stadium_capa_pct = capa_pct.groupby(\"stadium\").agg(stadium_capa_pct=(\"capa_pct\",\"mean\")).reset_index()\n",
    "dat = pd.merge(dat, team_capa_pct, how=\"left\", on=\"home\")\n",
    "dat = pd.merge(dat, stadium_capa_pct, how=\"left\", on='stadium')\n",
    "dat['stadium_capa_pct'] = dat['stadium_capa_pct'].fillna(stadium_capa_pct['stadium_capa_pct'].mean())\n",
    "dat[\"team_capa_pct_y\"] = dat['team_capa_pct'] * dat['capa']\n",
    "dat['stadium_capa_pct_y'] = dat['stadium_capa_pct'] * dat['capa']"
   ]
  },
  {
   "cell_type": "code",
   "execution_count": 43,
   "id": "e043b38a-47fb-49e9-a157-efa29c609897",
   "metadata": {},
   "outputs": [
    {
     "data": {
      "text/html": [
       "<div>\n",
       "<style scoped>\n",
       "    .dataframe tbody tr th:only-of-type {\n",
       "        vertical-align: middle;\n",
       "    }\n",
       "\n",
       "    .dataframe tbody tr th {\n",
       "        vertical-align: top;\n",
       "    }\n",
       "\n",
       "    .dataframe thead th {\n",
       "        text-align: right;\n",
       "    }\n",
       "</style>\n",
       "<table border=\"1\" class=\"dataframe\">\n",
       "  <thead>\n",
       "    <tr style=\"text-align: right;\">\n",
       "      <th></th>\n",
       "      <th>name</th>\n",
       "      <th>capa_pct</th>\n",
       "      <th>match_count</th>\n",
       "      <th>total_y</th>\n",
       "    </tr>\n",
       "  </thead>\n",
       "  <tbody>\n",
       "    <tr>\n",
       "      <th>0</th>\n",
       "      <td>林　卓人</td>\n",
       "      <td>0.640082</td>\n",
       "      <td>75</td>\n",
       "      <td>1243211.0</td>\n",
       "    </tr>\n",
       "    <tr>\n",
       "      <th>1</th>\n",
       "      <td>菅井　直樹</td>\n",
       "      <td>0.658546</td>\n",
       "      <td>58</td>\n",
       "      <td>924031.0</td>\n",
       "    </tr>\n",
       "    <tr>\n",
       "      <th>2</th>\n",
       "      <td>鎌田　次郎</td>\n",
       "      <td>0.654062</td>\n",
       "      <td>65</td>\n",
       "      <td>1045027.0</td>\n",
       "    </tr>\n",
       "  </tbody>\n",
       "</table>\n",
       "</div>"
      ],
      "text/plain": [
       "    name  capa_pct  match_count    total_y\n",
       "0   林　卓人  0.640082           75  1243211.0\n",
       "1  菅井　直樹  0.658546           58   924031.0\n",
       "2  鎌田　次郎  0.654062           65  1045027.0"
      ]
     },
     "execution_count": 43,
     "metadata": {},
     "output_type": "execute_result"
    }
   ],
   "source": [
    "# For V3 submission\n",
    "# getting all players\n",
    "# setting player name columns\n",
    "home_col = []\n",
    "away_col = []\n",
    "for n in range(1,12):\n",
    "    home_col.append('home_'+f\"{n:02d}\")\n",
    "    away_col.append('away_'+f\"{n:02d}\")\n",
    "\n",
    "player_col = home_col + away_col\n",
    "\n",
    "# unique player list from columns (train+test)\n",
    "player = dat[player_col].stack().unique().tolist()\n",
    "# adding list of players in single column\n",
    "dat['home_players'] = tuple(dat[home_col].itertuples(index=False))\n",
    "dat['away_players'] = tuple(dat[away_col].itertuples(index=False))\n",
    "dat['players'] = tuple(dat[player_col].itertuples(index=False))\n",
    "capa_pct['home_players'] = tuple(capa_pct[home_col].itertuples(index=False))\n",
    "capa_pct['away_players'] = tuple(capa_pct[away_col].itertuples(index=False))\n",
    "capa_pct['players'] = tuple(capa_pct[player_col].itertuples(index=False))\n",
    "\n",
    "# compute player popularity\n",
    "player_df = pd.DataFrame()\n",
    "player_capa_pct = []\n",
    "player_count = []\n",
    "total_y = []\n",
    "for name in player:\n",
    "    played = capa_pct[ capa_pct['players'].apply(lambda x: name in x)]\n",
    "    player_capa_pct.append(played['capa_pct'].mean())\n",
    "    player_count.append(len(played['capa_pct']))\n",
    "    total_y.append(played['y'].sum())\n",
    "    \n",
    "player_df['name'] = player\n",
    "player_df['capa_pct'] = player_capa_pct\n",
    "player_df['match_count'] = player_count\n",
    "player_df['total_y'] = total_y\n",
    "# fill in missing data with mean capa pct (players not in train)\n",
    "player_df['capa_pct'] = player_df['capa_pct'].fillna(capa_pct['capa_pct'].mean())\n",
    "\n",
    "player_df.head(3)"
   ]
  },
  {
   "cell_type": "code",
   "execution_count": 46,
   "id": "d35036ee-f100-419a-bd34-6c81bb35fc6c",
   "metadata": {},
   "outputs": [
    {
     "data": {
      "text/html": [
       "<div>\n",
       "<style scoped>\n",
       "    .dataframe tbody tr th:only-of-type {\n",
       "        vertical-align: middle;\n",
       "    }\n",
       "\n",
       "    .dataframe tbody tr th {\n",
       "        vertical-align: top;\n",
       "    }\n",
       "\n",
       "    .dataframe thead th {\n",
       "        text-align: right;\n",
       "    }\n",
       "</style>\n",
       "<table border=\"1\" class=\"dataframe\">\n",
       "  <thead>\n",
       "    <tr style=\"text-align: right;\">\n",
       "      <th></th>\n",
       "      <th>name</th>\n",
       "      <th>capa_pct</th>\n",
       "      <th>match_count</th>\n",
       "      <th>total_y</th>\n",
       "    </tr>\n",
       "  </thead>\n",
       "  <tbody>\n",
       "    <tr>\n",
       "      <th>1146</th>\n",
       "      <td>ゴイコ　カチャル</td>\n",
       "      <td>0.769855</td>\n",
       "      <td>10</td>\n",
       "      <td>272282.0</td>\n",
       "    </tr>\n",
       "    <tr>\n",
       "      <th>982</th>\n",
       "      <td>ニール</td>\n",
       "      <td>0.764991</td>\n",
       "      <td>5</td>\n",
       "      <td>116824.0</td>\n",
       "    </tr>\n",
       "    <tr>\n",
       "      <th>1139</th>\n",
       "      <td>フォルラン</td>\n",
       "      <td>0.762775</td>\n",
       "      <td>13</td>\n",
       "      <td>368923.0</td>\n",
       "    </tr>\n",
       "  </tbody>\n",
       "</table>\n",
       "</div>"
      ],
      "text/plain": [
       "          name  capa_pct  match_count   total_y\n",
       "1146  ゴイコ　カチャル  0.769855           10  272282.0\n",
       "982        ニール  0.764991            5  116824.0\n",
       "1139     フォルラン  0.762775           13  368923.0"
      ]
     },
     "execution_count": 46,
     "metadata": {},
     "output_type": "execute_result"
    }
   ],
   "source": [
    "#find hot player?\n",
    "player_df.sort_values(by='capa_pct',ascending=False).query('match_count >= 5').head(3)"
   ]
  },
  {
   "cell_type": "code",
   "execution_count": 107,
   "id": "536f1ffd-87c6-4942-a263-c996271392cd",
   "metadata": {},
   "outputs": [
    {
     "data": {
      "text/plain": [
       "((2034, 4), (1858, 4), (1893, 4))"
      ]
     },
     "execution_count": 107,
     "metadata": {},
     "output_type": "execute_result"
    }
   ],
   "source": [
    "# compute mean capa_pct for players of both teams, home, and away\n",
    "match_players = dat.groupby(\"players\").agg(allplayer_y=(\"y\",\"sum\")).reset_index()\n",
    "mean_capa_pct = []\n",
    "mean_match_count = []\n",
    "for match in match_players[\"players\"]:\n",
    "    members = player_df[ player_df[\"name\"].apply(lambda x: x in match) ]\n",
    "    mean_capa_pct.append(members[\"capa_pct\"].mean())\n",
    "    mean_match_count.append(members[\"match_count\"].mean())\n",
    "\n",
    "match_players[\"mean_allplayer_capa_pct\"] = mean_capa_pct\n",
    "match_players[\"mean_allplayer_match_count\"] = mean_match_count\n",
    "\n",
    "# home players\n",
    "home_players = dat.groupby(\"home_players\").agg(homeplayer_y=(\"y\",\"sum\")).reset_index()\n",
    "mean_capa_pct = []\n",
    "mean_match_count = []\n",
    "for match in home_players[\"home_players\"]:\n",
    "    members = player_df[ player_df[\"name\"].apply(lambda x: x in match) ]\n",
    "    mean_capa_pct.append(members[\"capa_pct\"].mean())\n",
    "    mean_match_count.append(members[\"match_count\"].mean())\n",
    "\n",
    "home_players[\"mean_home_capa_pct\"] = mean_capa_pct\n",
    "home_players[\"mean_home_match_count\"] = mean_match_count\n",
    "\n",
    "# away players\n",
    "away_players = dat.groupby(\"away_players\").agg(awayplayer_y=(\"y\",\"sum\")).reset_index()\n",
    "mean_capa_pct = []\n",
    "mean_match_count = []\n",
    "for match in away_players[\"away_players\"]:\n",
    "    members = player_df[ player_df[\"name\"].apply(lambda x: x in match) ]\n",
    "    mean_capa_pct.append(members[\"capa_pct\"].mean())\n",
    "    mean_match_count.append(members[\"match_count\"].mean())\n",
    "\n",
    "away_players[\"mean_away_capa_pct\"] = mean_capa_pct\n",
    "away_players[\"mean_away_match_count\"] = mean_match_count\n",
    "\n",
    "match_players.shape, home_players.shape, away_players.shape"
   ]
  },
  {
   "cell_type": "code",
   "execution_count": 108,
   "id": "382c1953-0896-4f46-987f-6fd7ae621c93",
   "metadata": {},
   "outputs": [
    {
     "data": {
      "text/plain": [
       "(2034, 89)"
      ]
     },
     "execution_count": 108,
     "metadata": {},
     "output_type": "execute_result"
    }
   ],
   "source": [
    "# Merge into dat\n",
    "dat = pd.merge(dat, match_players, how=\"inner\", on=\"players\")\n",
    "dat = pd.merge(dat, home_players, how=\"inner\", on=\"home_players\")\n",
    "dat = pd.merge(dat, away_players, how=\"inner\", on=\"away_players\")\n",
    "dat[\"mean_home_capa_y\"] = dat[\"mean_home_capa_pct\"] * dat[\"capa\"]\n",
    "dat[\"mean_away_capa_y\"] = dat[\"mean_away_capa_pct\"] * dat[\"capa\"]\n",
    "dat[\"mean_allplayer_capa_y\"] = dat[\"mean_allplayer_capa_pct\"] * dat[\"capa\"]\n",
    "dat.shape"
   ]
  },
  {
   "cell_type": "markdown",
   "id": "f66f051e-1548-4ddf-b0f9-1e2e850504e1",
   "metadata": {},
   "source": [
    "## Check Multicollinearity\n",
    "　多重共線性の確認は, 相関係数にて行う."
   ]
  },
  {
   "cell_type": "code",
   "execution_count": 109,
   "id": "f0cc710e-441c-4dda-a57e-2c05325e18e9",
   "metadata": {},
   "outputs": [
    {
     "data": {
      "text/html": [
       "<div>\n",
       "<style scoped>\n",
       "    .dataframe tbody tr th:only-of-type {\n",
       "        vertical-align: middle;\n",
       "    }\n",
       "\n",
       "    .dataframe tbody tr th {\n",
       "        vertical-align: top;\n",
       "    }\n",
       "\n",
       "    .dataframe thead th {\n",
       "        text-align: right;\n",
       "    }\n",
       "</style>\n",
       "<table border=\"1\" class=\"dataframe\">\n",
       "  <thead>\n",
       "    <tr style=\"text-align: right;\">\n",
       "      <th></th>\n",
       "      <th>J1_flg</th>\n",
       "      <th>December_flg</th>\n",
       "      <th>attract_mean</th>\n",
       "      <th>tv_N</th>\n",
       "      <th>tv_NHK_flg</th>\n",
       "      <th>capa_cate</th>\n",
       "      <th>team_capa_pct_y</th>\n",
       "      <th>stadium_capa_pct_y</th>\n",
       "      <th>mean_home_capa_y</th>\n",
       "      <th>mean_away_capa_y</th>\n",
       "      <th>mean_allplayer_capa_y</th>\n",
       "    </tr>\n",
       "  </thead>\n",
       "  <tbody>\n",
       "    <tr>\n",
       "      <th>J1_flg</th>\n",
       "      <td>1.000000</td>\n",
       "      <td>0.133775</td>\n",
       "      <td>0.790255</td>\n",
       "      <td>0.102055</td>\n",
       "      <td>0.209452</td>\n",
       "      <td>0.303099</td>\n",
       "      <td>0.763627</td>\n",
       "      <td>0.733872</td>\n",
       "      <td>0.729628</td>\n",
       "      <td>0.707027</td>\n",
       "      <td>0.736597</td>\n",
       "    </tr>\n",
       "    <tr>\n",
       "      <th>December_flg</th>\n",
       "      <td>0.133775</td>\n",
       "      <td>1.000000</td>\n",
       "      <td>0.108735</td>\n",
       "      <td>0.075221</td>\n",
       "      <td>0.100478</td>\n",
       "      <td>0.070637</td>\n",
       "      <td>0.105500</td>\n",
       "      <td>0.101055</td>\n",
       "      <td>0.104457</td>\n",
       "      <td>0.108737</td>\n",
       "      <td>0.109194</td>\n",
       "    </tr>\n",
       "    <tr>\n",
       "      <th>attract_mean</th>\n",
       "      <td>0.790255</td>\n",
       "      <td>0.108735</td>\n",
       "      <td>1.000000</td>\n",
       "      <td>0.077389</td>\n",
       "      <td>0.181134</td>\n",
       "      <td>0.515022</td>\n",
       "      <td>0.962358</td>\n",
       "      <td>0.938370</td>\n",
       "      <td>0.908519</td>\n",
       "      <td>0.743515</td>\n",
       "      <td>0.848482</td>\n",
       "    </tr>\n",
       "    <tr>\n",
       "      <th>tv_N</th>\n",
       "      <td>0.102055</td>\n",
       "      <td>0.075221</td>\n",
       "      <td>0.077389</td>\n",
       "      <td>1.000000</td>\n",
       "      <td>0.486005</td>\n",
       "      <td>0.055149</td>\n",
       "      <td>0.082448</td>\n",
       "      <td>0.065706</td>\n",
       "      <td>0.048444</td>\n",
       "      <td>0.057744</td>\n",
       "      <td>0.046573</td>\n",
       "    </tr>\n",
       "    <tr>\n",
       "      <th>tv_NHK_flg</th>\n",
       "      <td>0.209452</td>\n",
       "      <td>0.100478</td>\n",
       "      <td>0.181134</td>\n",
       "      <td>0.486005</td>\n",
       "      <td>1.000000</td>\n",
       "      <td>0.148563</td>\n",
       "      <td>0.195460</td>\n",
       "      <td>0.187519</td>\n",
       "      <td>0.192627</td>\n",
       "      <td>0.196323</td>\n",
       "      <td>0.199185</td>\n",
       "    </tr>\n",
       "    <tr>\n",
       "      <th>capa_cate</th>\n",
       "      <td>0.303099</td>\n",
       "      <td>0.070637</td>\n",
       "      <td>0.515022</td>\n",
       "      <td>0.055149</td>\n",
       "      <td>0.148563</td>\n",
       "      <td>1.000000</td>\n",
       "      <td>0.594104</td>\n",
       "      <td>0.626437</td>\n",
       "      <td>0.724786</td>\n",
       "      <td>0.758197</td>\n",
       "      <td>0.759616</td>\n",
       "    </tr>\n",
       "    <tr>\n",
       "      <th>team_capa_pct_y</th>\n",
       "      <td>0.763627</td>\n",
       "      <td>0.105500</td>\n",
       "      <td>0.962358</td>\n",
       "      <td>0.082448</td>\n",
       "      <td>0.195460</td>\n",
       "      <td>0.594104</td>\n",
       "      <td>1.000000</td>\n",
       "      <td>0.973476</td>\n",
       "      <td>0.945636</td>\n",
       "      <td>0.782040</td>\n",
       "      <td>0.885571</td>\n",
       "    </tr>\n",
       "    <tr>\n",
       "      <th>stadium_capa_pct_y</th>\n",
       "      <td>0.733872</td>\n",
       "      <td>0.101055</td>\n",
       "      <td>0.938370</td>\n",
       "      <td>0.065706</td>\n",
       "      <td>0.187519</td>\n",
       "      <td>0.626437</td>\n",
       "      <td>0.973476</td>\n",
       "      <td>1.000000</td>\n",
       "      <td>0.958043</td>\n",
       "      <td>0.805315</td>\n",
       "      <td>0.902909</td>\n",
       "    </tr>\n",
       "    <tr>\n",
       "      <th>mean_home_capa_y</th>\n",
       "      <td>0.729628</td>\n",
       "      <td>0.104457</td>\n",
       "      <td>0.908519</td>\n",
       "      <td>0.048444</td>\n",
       "      <td>0.192627</td>\n",
       "      <td>0.724786</td>\n",
       "      <td>0.945636</td>\n",
       "      <td>0.958043</td>\n",
       "      <td>1.000000</td>\n",
       "      <td>0.878510</td>\n",
       "      <td>0.964018</td>\n",
       "    </tr>\n",
       "    <tr>\n",
       "      <th>mean_away_capa_y</th>\n",
       "      <td>0.707027</td>\n",
       "      <td>0.108737</td>\n",
       "      <td>0.743515</td>\n",
       "      <td>0.057744</td>\n",
       "      <td>0.196323</td>\n",
       "      <td>0.758197</td>\n",
       "      <td>0.782040</td>\n",
       "      <td>0.805315</td>\n",
       "      <td>0.878510</td>\n",
       "      <td>1.000000</td>\n",
       "      <td>0.969270</td>\n",
       "    </tr>\n",
       "    <tr>\n",
       "      <th>mean_allplayer_capa_y</th>\n",
       "      <td>0.736597</td>\n",
       "      <td>0.109194</td>\n",
       "      <td>0.848482</td>\n",
       "      <td>0.046573</td>\n",
       "      <td>0.199185</td>\n",
       "      <td>0.759616</td>\n",
       "      <td>0.885571</td>\n",
       "      <td>0.902909</td>\n",
       "      <td>0.964018</td>\n",
       "      <td>0.969270</td>\n",
       "      <td>1.000000</td>\n",
       "    </tr>\n",
       "  </tbody>\n",
       "</table>\n",
       "</div>"
      ],
      "text/plain": [
       "                         J1_flg  December_flg  attract_mean      tv_N  \\\n",
       "J1_flg                 1.000000      0.133775      0.790255  0.102055   \n",
       "December_flg           0.133775      1.000000      0.108735  0.075221   \n",
       "attract_mean           0.790255      0.108735      1.000000  0.077389   \n",
       "tv_N                   0.102055      0.075221      0.077389  1.000000   \n",
       "tv_NHK_flg             0.209452      0.100478      0.181134  0.486005   \n",
       "capa_cate              0.303099      0.070637      0.515022  0.055149   \n",
       "team_capa_pct_y        0.763627      0.105500      0.962358  0.082448   \n",
       "stadium_capa_pct_y     0.733872      0.101055      0.938370  0.065706   \n",
       "mean_home_capa_y       0.729628      0.104457      0.908519  0.048444   \n",
       "mean_away_capa_y       0.707027      0.108737      0.743515  0.057744   \n",
       "mean_allplayer_capa_y  0.736597      0.109194      0.848482  0.046573   \n",
       "\n",
       "                       tv_NHK_flg  capa_cate  team_capa_pct_y  \\\n",
       "J1_flg                   0.209452   0.303099         0.763627   \n",
       "December_flg             0.100478   0.070637         0.105500   \n",
       "attract_mean             0.181134   0.515022         0.962358   \n",
       "tv_N                     0.486005   0.055149         0.082448   \n",
       "tv_NHK_flg               1.000000   0.148563         0.195460   \n",
       "capa_cate                0.148563   1.000000         0.594104   \n",
       "team_capa_pct_y          0.195460   0.594104         1.000000   \n",
       "stadium_capa_pct_y       0.187519   0.626437         0.973476   \n",
       "mean_home_capa_y         0.192627   0.724786         0.945636   \n",
       "mean_away_capa_y         0.196323   0.758197         0.782040   \n",
       "mean_allplayer_capa_y    0.199185   0.759616         0.885571   \n",
       "\n",
       "                       stadium_capa_pct_y  mean_home_capa_y  mean_away_capa_y  \\\n",
       "J1_flg                           0.733872          0.729628          0.707027   \n",
       "December_flg                     0.101055          0.104457          0.108737   \n",
       "attract_mean                     0.938370          0.908519          0.743515   \n",
       "tv_N                             0.065706          0.048444          0.057744   \n",
       "tv_NHK_flg                       0.187519          0.192627          0.196323   \n",
       "capa_cate                        0.626437          0.724786          0.758197   \n",
       "team_capa_pct_y                  0.973476          0.945636          0.782040   \n",
       "stadium_capa_pct_y               1.000000          0.958043          0.805315   \n",
       "mean_home_capa_y                 0.958043          1.000000          0.878510   \n",
       "mean_away_capa_y                 0.805315          0.878510          1.000000   \n",
       "mean_allplayer_capa_y            0.902909          0.964018          0.969270   \n",
       "\n",
       "                       mean_allplayer_capa_y  \n",
       "J1_flg                              0.736597  \n",
       "December_flg                        0.109194  \n",
       "attract_mean                        0.848482  \n",
       "tv_N                                0.046573  \n",
       "tv_NHK_flg                          0.199185  \n",
       "capa_cate                           0.759616  \n",
       "team_capa_pct_y                     0.885571  \n",
       "stadium_capa_pct_y                  0.902909  \n",
       "mean_home_capa_y                    0.964018  \n",
       "mean_away_capa_y                    0.969270  \n",
       "mean_allplayer_capa_y               1.000000  "
      ]
     },
     "execution_count": 109,
     "metadata": {},
     "output_type": "execute_result"
    }
   ],
   "source": [
    "dat[[\"J1_flg\", \"December_flg\", \"attract_mean\", \"tv_N\", \"tv_NHK_flg\", \"capa_cate\",\n",
    "     'team_capa_pct_y','stadium_capa_pct_y',\n",
    "    \"mean_home_capa_y\",\"mean_away_capa_y\",\"mean_allplayer_capa_y\"]].corr(method=\"spearman\")"
   ]
  },
  {
   "cell_type": "markdown",
   "id": "47fcf6d3-33e0-45db-b3dd-43a8878f8872",
   "metadata": {},
   "source": [
    "## Make Model"
   ]
  },
  {
   "cell_type": "code",
   "execution_count": 110,
   "id": "ee8689f4-4c4e-4615-9431-b67419fcb9bf",
   "metadata": {},
   "outputs": [
    {
     "data": {
      "text/plain": [
       "array([[ 4.79062241e+03,  3.61722539e-01, -6.90571738e+01,\n",
       "         1.21505414e+03, -9.73367262e+02, -6.44156735e+02,\n",
       "         5.57003265e-01,  1.05230421e-01,  4.25573799e+01,\n",
       "         4.32274063e+01, -8.56430806e+01]])"
      ]
     },
     "execution_count": 110,
     "metadata": {},
     "output_type": "execute_result"
    }
   ],
   "source": [
    "# Train\n",
    "train = dat[(dat[\"data\"]==\"Train\") & (dat[\"y\"] > 0)].copy()\n",
    "train_x = train[[\"December_flg\", \"attract_mean\", \"tv_N\", \"tv_NHK_flg\", \"capa_cate\", \"J1_flg\",\n",
    "                 'team_capa_pct_y','stadium_capa_pct_y',\n",
    "                \"mean_home_capa_y\",\"mean_away_capa_y\",\"mean_allplayer_capa_y\"]].copy()\n",
    "train_y = train[[\"y\"]].copy()\n",
    "\n",
    "# Test\n",
    "test = dat[dat[\"data\"]==\"Test\"].copy()\n",
    "test_x = test[[\"December_flg\", \"attract_mean\", \"tv_N\", \"tv_NHK_flg\", \"capa_cate\", \"J1_flg\",\n",
    "               'team_capa_pct_y','stadium_capa_pct_y',\n",
    "              \"mean_home_capa_y\",\"mean_away_capa_y\",\"mean_allplayer_capa_y\"]].copy()\n",
    "\n",
    "# Learning\n",
    "model = linear_model.LinearRegression()\n",
    "model.fit(train_x, train_y)\n",
    "model.coef_"
   ]
  },
  {
   "cell_type": "markdown",
   "id": "60445f45-eef0-4412-844a-49b6bcacfd57",
   "metadata": {},
   "source": [
    "## Predict"
   ]
  },
  {
   "cell_type": "code",
   "execution_count": 111,
   "id": "78a1d4ba-a589-469a-a34a-06819013c6b7",
   "metadata": {},
   "outputs": [],
   "source": [
    "pred = model.predict(test_x)"
   ]
  },
  {
   "cell_type": "markdown",
   "id": "416c8970-ed6d-40af-9669-7a82a345ffb3",
   "metadata": {},
   "source": [
    "## Predicted Value Correction"
   ]
  },
  {
   "cell_type": "code",
   "execution_count": 112,
   "id": "0ff1302e-43c8-4fbd-9850-8e9e54610958",
   "metadata": {},
   "outputs": [
    {
     "data": {
      "text/plain": [
       "y    1104.0\n",
       "dtype: float64"
      ]
     },
     "execution_count": 112,
     "metadata": {},
     "output_type": "execute_result"
    }
   ],
   "source": [
    "y_min = train_y.min()\n",
    "y_min"
   ]
  },
  {
   "cell_type": "code",
   "execution_count": 113,
   "id": "07ee1bae-c50c-4a21-9311-8031f528bad8",
   "metadata": {},
   "outputs": [
    {
     "data": {
      "text/plain": [
       "1721    14849.067286\n",
       "1722    15152.572700\n",
       "1723    35007.179233\n",
       "1724    11857.432664\n",
       "1725    26461.851071\n",
       "            ...     \n",
       "2029     4340.006259\n",
       "2030     7844.488438\n",
       "2031     3820.891101\n",
       "2032     4861.081768\n",
       "2033    11343.567445\n",
       "Name: pred, Length: 313, dtype: float64"
      ]
     },
     "execution_count": 113,
     "metadata": {},
     "output_type": "execute_result"
    }
   ],
   "source": [
    "def correction_fun_1(row):\n",
    "    return max(row[\"pred\"], 1104)\n",
    "\n",
    "def correction_fun_2(row):\n",
    "    return min(row[\"pred\"], row[\"capa\"])\n",
    "\n",
    "pred_correction = test[[\"capa\"]].copy()\n",
    "pred_correction[\"pred\"] = pred\n",
    "pred_correction[\"pred\"] = pred_correction.apply(correction_fun_1, axis=1)\n",
    "pred_correction[\"pred\"] = pred_correction.apply(correction_fun_2, axis=1)\n",
    "pred_correction[\"pred\"]"
   ]
  },
  {
   "cell_type": "markdown",
   "id": "1480756c-885f-4b3e-83ce-826400d71570",
   "metadata": {},
   "source": [
    "## Output"
   ]
  },
  {
   "cell_type": "code",
   "execution_count": 114,
   "id": "7f3d2848-0554-4924-a5ed-7202a16810fb",
   "metadata": {},
   "outputs": [
    {
     "data": {
      "text/html": [
       "<div>\n",
       "<style scoped>\n",
       "    .dataframe tbody tr th:only-of-type {\n",
       "        vertical-align: middle;\n",
       "    }\n",
       "\n",
       "    .dataframe tbody tr th {\n",
       "        vertical-align: top;\n",
       "    }\n",
       "\n",
       "    .dataframe thead th {\n",
       "        text-align: right;\n",
       "    }\n",
       "</style>\n",
       "<table border=\"1\" class=\"dataframe\">\n",
       "  <thead>\n",
       "    <tr style=\"text-align: right;\">\n",
       "      <th></th>\n",
       "      <th>id</th>\n",
       "      <th>pred</th>\n",
       "    </tr>\n",
       "  </thead>\n",
       "  <tbody>\n",
       "    <tr>\n",
       "      <th>count</th>\n",
       "      <td>313.000000</td>\n",
       "      <td>313.000000</td>\n",
       "    </tr>\n",
       "    <tr>\n",
       "      <th>mean</th>\n",
       "      <td>16142.252396</td>\n",
       "      <td>11249.683013</td>\n",
       "    </tr>\n",
       "    <tr>\n",
       "      <th>std</th>\n",
       "      <td>224.441223</td>\n",
       "      <td>7556.964775</td>\n",
       "    </tr>\n",
       "    <tr>\n",
       "      <th>min</th>\n",
       "      <td>15822.000000</td>\n",
       "      <td>2746.494004</td>\n",
       "    </tr>\n",
       "    <tr>\n",
       "      <th>25%</th>\n",
       "      <td>15907.000000</td>\n",
       "      <td>5318.265240</td>\n",
       "    </tr>\n",
       "    <tr>\n",
       "      <th>50%</th>\n",
       "      <td>16261.000000</td>\n",
       "      <td>9353.849780</td>\n",
       "    </tr>\n",
       "    <tr>\n",
       "      <th>75%</th>\n",
       "      <td>16346.000000</td>\n",
       "      <td>13786.686328</td>\n",
       "    </tr>\n",
       "    <tr>\n",
       "      <th>max</th>\n",
       "      <td>16436.000000</td>\n",
       "      <td>41644.893429</td>\n",
       "    </tr>\n",
       "  </tbody>\n",
       "</table>\n",
       "</div>"
      ],
      "text/plain": [
       "                 id          pred\n",
       "count    313.000000    313.000000\n",
       "mean   16142.252396  11249.683013\n",
       "std      224.441223   7556.964775\n",
       "min    15822.000000   2746.494004\n",
       "25%    15907.000000   5318.265240\n",
       "50%    16261.000000   9353.849780\n",
       "75%    16346.000000  13786.686328\n",
       "max    16436.000000  41644.893429"
      ]
     },
     "execution_count": 114,
     "metadata": {},
     "output_type": "execute_result"
    }
   ],
   "source": [
    "submit = test[[\"id\"]].copy()\n",
    "submit[\"pred\"] = pred_correction[\"pred\"]\n",
    "submit.describe()"
   ]
  },
  {
   "cell_type": "code",
   "execution_count": 115,
   "id": "715ee52f-1741-4521-adb5-b561a955097e",
   "metadata": {},
   "outputs": [],
   "source": [
    "submit.to_csv(\"../submit/20251014_submit_linear_v3.csv\",  sep=\",\", index=False, header=False)"
   ]
  },
  {
   "cell_type": "markdown",
   "id": "d2b65125-5b88-40c1-afc3-70d56e5376de",
   "metadata": {},
   "source": [
    "## Done!"
   ]
  },
  {
   "cell_type": "code",
   "execution_count": 116,
   "id": "c01ad6da-419e-4871-be7e-e00161feee40",
   "metadata": {},
   "outputs": [
    {
     "data": {
      "text/html": [
       "<div>\n",
       "<style scoped>\n",
       "    .dataframe tbody tr th:only-of-type {\n",
       "        vertical-align: middle;\n",
       "    }\n",
       "\n",
       "    .dataframe tbody tr th {\n",
       "        vertical-align: top;\n",
       "    }\n",
       "\n",
       "    .dataframe thead th {\n",
       "        text-align: right;\n",
       "    }\n",
       "</style>\n",
       "<table border=\"1\" class=\"dataframe\">\n",
       "  <thead>\n",
       "    <tr style=\"text-align: right;\">\n",
       "      <th></th>\n",
       "      <th>name</th>\n",
       "      <th>capa_pct</th>\n",
       "      <th>match_count</th>\n",
       "      <th>total_y</th>\n",
       "    </tr>\n",
       "  </thead>\n",
       "  <tbody>\n",
       "    <tr>\n",
       "      <th>357</th>\n",
       "      <td>内山　俊彦</td>\n",
       "      <td>0.910683</td>\n",
       "      <td>1</td>\n",
       "      <td>17935.0</td>\n",
       "    </tr>\n",
       "    <tr>\n",
       "      <th>959</th>\n",
       "      <td>増田　卓也</td>\n",
       "      <td>0.856731</td>\n",
       "      <td>1</td>\n",
       "      <td>13365.0</td>\n",
       "    </tr>\n",
       "    <tr>\n",
       "      <th>366</th>\n",
       "      <td>ネット　バイアーノ</td>\n",
       "      <td>0.813161</td>\n",
       "      <td>3</td>\n",
       "      <td>41352.0</td>\n",
       "    </tr>\n",
       "  </tbody>\n",
       "</table>\n",
       "</div>"
      ],
      "text/plain": [
       "          name  capa_pct  match_count  total_y\n",
       "357      内山　俊彦  0.910683            1  17935.0\n",
       "959      増田　卓也  0.856731            1  13365.0\n",
       "366  ネット　バイアーノ  0.813161            3  41352.0"
      ]
     },
     "execution_count": 116,
     "metadata": {},
     "output_type": "execute_result"
    }
   ],
   "source": [
    "player_df.sort_values(by='capa_pct',ascending=False).head(3)"
   ]
  }
 ],
 "metadata": {
  "kernelspec": {
   "display_name": "Python 3 (ipykernel)",
   "language": "python",
   "name": "python3"
  },
  "language_info": {
   "codemirror_mode": {
    "name": "ipython",
    "version": 3
   },
   "file_extension": ".py",
   "mimetype": "text/x-python",
   "name": "python",
   "nbconvert_exporter": "python",
   "pygments_lexer": "ipython3",
   "version": "3.13.7"
  }
 },
 "nbformat": 4,
 "nbformat_minor": 5
}
