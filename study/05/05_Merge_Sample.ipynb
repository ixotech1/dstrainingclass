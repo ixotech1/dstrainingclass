{
 "cells": [
  {
   "cell_type": "markdown",
   "metadata": {},
   "source": [
    "# データ結合：Merge\n",
    "　Pandasを用いて, データを結合する."
   ]
  },
  {
   "cell_type": "markdown",
   "metadata": {},
   "source": [
    "## Import"
   ]
  },
  {
   "cell_type": "code",
   "execution_count": 1,
   "metadata": {},
   "outputs": [],
   "source": [
    "import pandas as pd\n",
    "import math\n",
    "\n",
    "import seaborn as sns\n",
    "import matplotlib.pyplot as plt"
   ]
  },
  {
   "cell_type": "markdown",
   "metadata": {},
   "source": [
    "## Setting"
   ]
  },
  {
   "cell_type": "code",
   "execution_count": 2,
   "metadata": {},
   "outputs": [],
   "source": [
    "# Path\n",
    "input_path = \"../input_data/\"\n",
    "\n",
    "# Figure Size\n",
    "plt.rcParams[\"figure.figsize\"] = (15.0, 10.0)\n",
    "\n",
    "# Set Display Max Columns\n",
    "pd.set_option(\"display.max_columns\", 50)"
   ]
  },
  {
   "cell_type": "markdown",
   "metadata": {},
   "source": [
    "## Read Data"
   ]
  },
  {
   "cell_type": "code",
   "execution_count": 3,
   "metadata": {},
   "outputs": [],
   "source": [
    "train = pd.read_csv(input_path + \"jleague/train.csv\", sep=\",\", header=0, quotechar=\"\\\"\")\n",
    "test = pd.read_csv(input_path + \"jleague/test.csv\", sep=\",\", header=0, quotechar=\"\\\"\")\n",
    "condition = pd.read_csv(input_path + \"jleague/condition.csv\", sep=\",\", header=0, quotechar=\"\\\"\")\n",
    "stadium = pd.read_csv(input_path + \"jleague/stadium.csv\", sep=\",\", header=0, quotechar=\"\\\"\")"
   ]
  },
  {
   "cell_type": "markdown",
   "metadata": {},
   "source": [
    "## Check Data"
   ]
  },
  {
   "cell_type": "code",
   "execution_count": 4,
   "metadata": {},
   "outputs": [
    {
     "data": {
      "text/plain": [
       "id          int64\n",
       "y           int64\n",
       "year        int64\n",
       "stage      object\n",
       "match      object\n",
       "gameday    object\n",
       "time       object\n",
       "home       object\n",
       "away       object\n",
       "stadium    object\n",
       "tv         object\n",
       "dtype: object"
      ]
     },
     "execution_count": 4,
     "metadata": {},
     "output_type": "execute_result"
    }
   ],
   "source": [
    "train.dtypes"
   ]
  },
  {
   "cell_type": "code",
   "execution_count": 5,
   "metadata": {},
   "outputs": [
    {
     "data": {
      "text/html": [
       "<div>\n",
       "<style scoped>\n",
       "    .dataframe tbody tr th:only-of-type {\n",
       "        vertical-align: middle;\n",
       "    }\n",
       "\n",
       "    .dataframe tbody tr th {\n",
       "        vertical-align: top;\n",
       "    }\n",
       "\n",
       "    .dataframe thead th {\n",
       "        text-align: right;\n",
       "    }\n",
       "</style>\n",
       "<table border=\"1\" class=\"dataframe\">\n",
       "  <thead>\n",
       "    <tr style=\"text-align: right;\">\n",
       "      <th></th>\n",
       "      <th>id</th>\n",
       "      <th>y</th>\n",
       "      <th>year</th>\n",
       "      <th>stage</th>\n",
       "      <th>match</th>\n",
       "      <th>gameday</th>\n",
       "      <th>time</th>\n",
       "      <th>home</th>\n",
       "      <th>away</th>\n",
       "      <th>stadium</th>\n",
       "      <th>tv</th>\n",
       "    </tr>\n",
       "  </thead>\n",
       "  <tbody>\n",
       "    <tr>\n",
       "      <td>0</td>\n",
       "      <td>13994</td>\n",
       "      <td>18250</td>\n",
       "      <td>2012</td>\n",
       "      <td>Ｊ１</td>\n",
       "      <td>第１節第１日</td>\n",
       "      <td>03/10(土)</td>\n",
       "      <td>14:04</td>\n",
       "      <td>ベガルタ仙台</td>\n",
       "      <td>鹿島アントラーズ</td>\n",
       "      <td>ユアテックスタジアム仙台</td>\n",
       "      <td>スカパー／ｅ２／スカパー光／ＮＨＫ総合</td>\n",
       "    </tr>\n",
       "    <tr>\n",
       "      <td>1</td>\n",
       "      <td>13995</td>\n",
       "      <td>24316</td>\n",
       "      <td>2012</td>\n",
       "      <td>Ｊ１</td>\n",
       "      <td>第１節第１日</td>\n",
       "      <td>03/10(土)</td>\n",
       "      <td>14:04</td>\n",
       "      <td>名古屋グランパス</td>\n",
       "      <td>清水エスパルス</td>\n",
       "      <td>豊田スタジアム</td>\n",
       "      <td>スカパー／ｅ２／スカパー光（Ｊ　ＳＰＯＲＴＳ　４）／ＮＨＫ名古屋</td>\n",
       "    </tr>\n",
       "    <tr>\n",
       "      <td>2</td>\n",
       "      <td>13996</td>\n",
       "      <td>17066</td>\n",
       "      <td>2012</td>\n",
       "      <td>Ｊ１</td>\n",
       "      <td>第１節第１日</td>\n",
       "      <td>03/10(土)</td>\n",
       "      <td>14:04</td>\n",
       "      <td>ガンバ大阪</td>\n",
       "      <td>ヴィッセル神戸</td>\n",
       "      <td>万博記念競技場</td>\n",
       "      <td>スカパー／ｅ２／スカパー光（Ｊ　ＳＰＯＲＴＳ　１）／ＮＨＫ大阪</td>\n",
       "    </tr>\n",
       "    <tr>\n",
       "      <td>3</td>\n",
       "      <td>13997</td>\n",
       "      <td>29603</td>\n",
       "      <td>2012</td>\n",
       "      <td>Ｊ１</td>\n",
       "      <td>第１節第１日</td>\n",
       "      <td>03/10(土)</td>\n",
       "      <td>14:06</td>\n",
       "      <td>サンフレッチェ広島</td>\n",
       "      <td>浦和レッズ</td>\n",
       "      <td>エディオンスタジアム広島</td>\n",
       "      <td>スカパー／ｅ２／スカパー光／ＮＨＫ広島</td>\n",
       "    </tr>\n",
       "    <tr>\n",
       "      <td>4</td>\n",
       "      <td>13998</td>\n",
       "      <td>25353</td>\n",
       "      <td>2012</td>\n",
       "      <td>Ｊ１</td>\n",
       "      <td>第１節第１日</td>\n",
       "      <td>03/10(土)</td>\n",
       "      <td>14:04</td>\n",
       "      <td>コンサドーレ札幌</td>\n",
       "      <td>ジュビロ磐田</td>\n",
       "      <td>札幌ドーム</td>\n",
       "      <td>スカパー／ｅ２／スカパー光（スカイ・Ａ　ｓｐｏｒｔｓ＋）／ＮＨＫ札幌</td>\n",
       "    </tr>\n",
       "  </tbody>\n",
       "</table>\n",
       "</div>"
      ],
      "text/plain": [
       "      id      y  year stage   match   gameday   time       home      away  \\\n",
       "0  13994  18250  2012    Ｊ１  第１節第１日  03/10(土)  14:04     ベガルタ仙台  鹿島アントラーズ   \n",
       "1  13995  24316  2012    Ｊ１  第１節第１日  03/10(土)  14:04   名古屋グランパス   清水エスパルス   \n",
       "2  13996  17066  2012    Ｊ１  第１節第１日  03/10(土)  14:04      ガンバ大阪   ヴィッセル神戸   \n",
       "3  13997  29603  2012    Ｊ１  第１節第１日  03/10(土)  14:06  サンフレッチェ広島     浦和レッズ   \n",
       "4  13998  25353  2012    Ｊ１  第１節第１日  03/10(土)  14:04   コンサドーレ札幌    ジュビロ磐田   \n",
       "\n",
       "        stadium                                  tv  \n",
       "0  ユアテックスタジアム仙台                 スカパー／ｅ２／スカパー光／ＮＨＫ総合  \n",
       "1       豊田スタジアム    スカパー／ｅ２／スカパー光（Ｊ　ＳＰＯＲＴＳ　４）／ＮＨＫ名古屋  \n",
       "2       万博記念競技場     スカパー／ｅ２／スカパー光（Ｊ　ＳＰＯＲＴＳ　１）／ＮＨＫ大阪  \n",
       "3  エディオンスタジアム広島                 スカパー／ｅ２／スカパー光／ＮＨＫ広島  \n",
       "4         札幌ドーム  スカパー／ｅ２／スカパー光（スカイ・Ａ　ｓｐｏｒｔｓ＋）／ＮＨＫ札幌  "
      ]
     },
     "execution_count": 5,
     "metadata": {},
     "output_type": "execute_result"
    }
   ],
   "source": [
    "train.head()"
   ]
  },
  {
   "cell_type": "code",
   "execution_count": 6,
   "metadata": {},
   "outputs": [
    {
     "data": {
      "text/plain": [
       "id          int64\n",
       "year        int64\n",
       "stage      object\n",
       "match      object\n",
       "gameday    object\n",
       "time       object\n",
       "home       object\n",
       "away       object\n",
       "stadium    object\n",
       "tv         object\n",
       "dtype: object"
      ]
     },
     "execution_count": 6,
     "metadata": {},
     "output_type": "execute_result"
    }
   ],
   "source": [
    "test.dtypes"
   ]
  },
  {
   "cell_type": "code",
   "execution_count": 7,
   "metadata": {},
   "outputs": [
    {
     "data": {
      "text/html": [
       "<div>\n",
       "<style scoped>\n",
       "    .dataframe tbody tr th:only-of-type {\n",
       "        vertical-align: middle;\n",
       "    }\n",
       "\n",
       "    .dataframe tbody tr th {\n",
       "        vertical-align: top;\n",
       "    }\n",
       "\n",
       "    .dataframe thead th {\n",
       "        text-align: right;\n",
       "    }\n",
       "</style>\n",
       "<table border=\"1\" class=\"dataframe\">\n",
       "  <thead>\n",
       "    <tr style=\"text-align: right;\">\n",
       "      <th></th>\n",
       "      <th>id</th>\n",
       "      <th>year</th>\n",
       "      <th>stage</th>\n",
       "      <th>match</th>\n",
       "      <th>gameday</th>\n",
       "      <th>time</th>\n",
       "      <th>home</th>\n",
       "      <th>away</th>\n",
       "      <th>stadium</th>\n",
       "      <th>tv</th>\n",
       "    </tr>\n",
       "  </thead>\n",
       "  <tbody>\n",
       "    <tr>\n",
       "      <td>0</td>\n",
       "      <td>15822</td>\n",
       "      <td>2014</td>\n",
       "      <td>Ｊ１</td>\n",
       "      <td>第１８節第１日</td>\n",
       "      <td>08/02(土)</td>\n",
       "      <td>19:04</td>\n",
       "      <td>ベガルタ仙台</td>\n",
       "      <td>大宮アルディージャ</td>\n",
       "      <td>ユアテックスタジアム仙台</td>\n",
       "      <td>スカパー！／スカパー！プレミアムサービス</td>\n",
       "    </tr>\n",
       "    <tr>\n",
       "      <td>1</td>\n",
       "      <td>15823</td>\n",
       "      <td>2014</td>\n",
       "      <td>Ｊ１</td>\n",
       "      <td>第１８節第１日</td>\n",
       "      <td>08/02(土)</td>\n",
       "      <td>18:34</td>\n",
       "      <td>鹿島アントラーズ</td>\n",
       "      <td>サンフレッチェ広島</td>\n",
       "      <td>県立カシマサッカースタジアム</td>\n",
       "      <td>スカパー！／スカパー！プレミアムサービス</td>\n",
       "    </tr>\n",
       "    <tr>\n",
       "      <td>2</td>\n",
       "      <td>15824</td>\n",
       "      <td>2014</td>\n",
       "      <td>Ｊ１</td>\n",
       "      <td>第１８節第１日</td>\n",
       "      <td>08/02(土)</td>\n",
       "      <td>19:04</td>\n",
       "      <td>浦和レッズ</td>\n",
       "      <td>ヴィッセル神戸</td>\n",
       "      <td>埼玉スタジアム２００２</td>\n",
       "      <td>スカパー！／スカパー！プレミアムサービス／ＮＨＫ　ＢＳ１／テレ玉</td>\n",
       "    </tr>\n",
       "    <tr>\n",
       "      <td>3</td>\n",
       "      <td>15825</td>\n",
       "      <td>2014</td>\n",
       "      <td>Ｊ１</td>\n",
       "      <td>第１８節第１日</td>\n",
       "      <td>08/02(土)</td>\n",
       "      <td>19:03</td>\n",
       "      <td>柏レイソル</td>\n",
       "      <td>川崎フロンターレ</td>\n",
       "      <td>日立柏サッカー場</td>\n",
       "      <td>スカパー！／スカパー！プレミアムサービス</td>\n",
       "    </tr>\n",
       "    <tr>\n",
       "      <td>4</td>\n",
       "      <td>15827</td>\n",
       "      <td>2014</td>\n",
       "      <td>Ｊ１</td>\n",
       "      <td>第１８節第１日</td>\n",
       "      <td>08/02(土)</td>\n",
       "      <td>19:03</td>\n",
       "      <td>アルビレックス新潟</td>\n",
       "      <td>セレッソ大阪</td>\n",
       "      <td>デンカビッグスワンスタジアム</td>\n",
       "      <td>スカパー！／スカパー！プレミアムサービス</td>\n",
       "    </tr>\n",
       "  </tbody>\n",
       "</table>\n",
       "</div>"
      ],
      "text/plain": [
       "      id  year stage    match   gameday   time       home       away  \\\n",
       "0  15822  2014    Ｊ１  第１８節第１日  08/02(土)  19:04     ベガルタ仙台  大宮アルディージャ   \n",
       "1  15823  2014    Ｊ１  第１８節第１日  08/02(土)  18:34   鹿島アントラーズ  サンフレッチェ広島   \n",
       "2  15824  2014    Ｊ１  第１８節第１日  08/02(土)  19:04      浦和レッズ    ヴィッセル神戸   \n",
       "3  15825  2014    Ｊ１  第１８節第１日  08/02(土)  19:03      柏レイソル   川崎フロンターレ   \n",
       "4  15827  2014    Ｊ１  第１８節第１日  08/02(土)  19:03  アルビレックス新潟     セレッソ大阪   \n",
       "\n",
       "          stadium                                tv  \n",
       "0    ユアテックスタジアム仙台              スカパー！／スカパー！プレミアムサービス  \n",
       "1  県立カシマサッカースタジアム              スカパー！／スカパー！プレミアムサービス  \n",
       "2     埼玉スタジアム２００２  スカパー！／スカパー！プレミアムサービス／ＮＨＫ　ＢＳ１／テレ玉  \n",
       "3        日立柏サッカー場              スカパー！／スカパー！プレミアムサービス  \n",
       "4  デンカビッグスワンスタジアム              スカパー！／スカパー！プレミアムサービス  "
      ]
     },
     "execution_count": 7,
     "metadata": {},
     "output_type": "execute_result"
    }
   ],
   "source": [
    "test.head()"
   ]
  },
  {
   "cell_type": "code",
   "execution_count": 8,
   "metadata": {},
   "outputs": [
    {
     "data": {
      "text/plain": [
       "id               int64\n",
       "home_score       int64\n",
       "away_score       int64\n",
       "weather         object\n",
       "temperature    float64\n",
       "humidity        object\n",
       "referee         object\n",
       "home_team       object\n",
       "home_01         object\n",
       "home_02         object\n",
       "home_03         object\n",
       "home_04         object\n",
       "home_05         object\n",
       "home_06         object\n",
       "home_07         object\n",
       "home_08         object\n",
       "home_09         object\n",
       "home_10         object\n",
       "home_11         object\n",
       "away_team       object\n",
       "away_01         object\n",
       "away_02         object\n",
       "away_03         object\n",
       "away_04         object\n",
       "away_05         object\n",
       "away_06         object\n",
       "away_07         object\n",
       "away_08         object\n",
       "away_09         object\n",
       "away_10         object\n",
       "away_11         object\n",
       "dtype: object"
      ]
     },
     "execution_count": 8,
     "metadata": {},
     "output_type": "execute_result"
    }
   ],
   "source": [
    "condition.dtypes"
   ]
  },
  {
   "cell_type": "code",
   "execution_count": 9,
   "metadata": {},
   "outputs": [
    {
     "data": {
      "text/html": [
       "<div>\n",
       "<style scoped>\n",
       "    .dataframe tbody tr th:only-of-type {\n",
       "        vertical-align: middle;\n",
       "    }\n",
       "\n",
       "    .dataframe tbody tr th {\n",
       "        vertical-align: top;\n",
       "    }\n",
       "\n",
       "    .dataframe thead th {\n",
       "        text-align: right;\n",
       "    }\n",
       "</style>\n",
       "<table border=\"1\" class=\"dataframe\">\n",
       "  <thead>\n",
       "    <tr style=\"text-align: right;\">\n",
       "      <th></th>\n",
       "      <th>id</th>\n",
       "      <th>home_score</th>\n",
       "      <th>away_score</th>\n",
       "      <th>weather</th>\n",
       "      <th>temperature</th>\n",
       "      <th>humidity</th>\n",
       "      <th>referee</th>\n",
       "      <th>home_team</th>\n",
       "      <th>home_01</th>\n",
       "      <th>home_02</th>\n",
       "      <th>home_03</th>\n",
       "      <th>home_04</th>\n",
       "      <th>home_05</th>\n",
       "      <th>home_06</th>\n",
       "      <th>home_07</th>\n",
       "      <th>home_08</th>\n",
       "      <th>home_09</th>\n",
       "      <th>home_10</th>\n",
       "      <th>home_11</th>\n",
       "      <th>away_team</th>\n",
       "      <th>away_01</th>\n",
       "      <th>away_02</th>\n",
       "      <th>away_03</th>\n",
       "      <th>away_04</th>\n",
       "      <th>away_05</th>\n",
       "      <th>away_06</th>\n",
       "      <th>away_07</th>\n",
       "      <th>away_08</th>\n",
       "      <th>away_09</th>\n",
       "      <th>away_10</th>\n",
       "      <th>away_11</th>\n",
       "    </tr>\n",
       "  </thead>\n",
       "  <tbody>\n",
       "    <tr>\n",
       "      <td>0</td>\n",
       "      <td>13994</td>\n",
       "      <td>1</td>\n",
       "      <td>0</td>\n",
       "      <td>雨</td>\n",
       "      <td>3.8</td>\n",
       "      <td>66%</td>\n",
       "      <td>木村　博之</td>\n",
       "      <td>ベガルタ仙台</td>\n",
       "      <td>林　卓人</td>\n",
       "      <td>菅井　直樹</td>\n",
       "      <td>鎌田　次郎</td>\n",
       "      <td>上本　大海</td>\n",
       "      <td>田村　直也</td>\n",
       "      <td>富田　晋伍</td>\n",
       "      <td>角田　誠</td>\n",
       "      <td>太田　吉彰</td>\n",
       "      <td>関口　訓充</td>\n",
       "      <td>ウイルソン</td>\n",
       "      <td>赤嶺　真吾</td>\n",
       "      <td>鹿島アントラーズ</td>\n",
       "      <td>曽ヶ端　準</td>\n",
       "      <td>新井場　徹</td>\n",
       "      <td>岩政　大樹</td>\n",
       "      <td>中田　浩二</td>\n",
       "      <td>アレックス</td>\n",
       "      <td>青木　剛</td>\n",
       "      <td>増田　誓志</td>\n",
       "      <td>小笠原　満男</td>\n",
       "      <td>本山　雅志</td>\n",
       "      <td>大迫　勇也</td>\n",
       "      <td>ジュニーニョ</td>\n",
       "    </tr>\n",
       "    <tr>\n",
       "      <td>1</td>\n",
       "      <td>13995</td>\n",
       "      <td>1</td>\n",
       "      <td>0</td>\n",
       "      <td>屋内</td>\n",
       "      <td>12.4</td>\n",
       "      <td>43%</td>\n",
       "      <td>西村　雄一</td>\n",
       "      <td>名古屋グランパス</td>\n",
       "      <td>楢﨑　正剛</td>\n",
       "      <td>田中　隼磨</td>\n",
       "      <td>田中　マルクス闘莉王</td>\n",
       "      <td>増川　隆洋</td>\n",
       "      <td>阿部　翔平</td>\n",
       "      <td>中村　直志</td>\n",
       "      <td>ダニルソン</td>\n",
       "      <td>藤本　淳吾</td>\n",
       "      <td>金崎　夢生</td>\n",
       "      <td>ケネディ</td>\n",
       "      <td>玉田　圭司</td>\n",
       "      <td>清水エスパルス</td>\n",
       "      <td>林　彰洋</td>\n",
       "      <td>吉田　豊</td>\n",
       "      <td>岩下　敬輔</td>\n",
       "      <td>カルフィン　ヨン　ア　ピン</td>\n",
       "      <td>李　記帝</td>\n",
       "      <td>村松　大輔</td>\n",
       "      <td>河井　陽介</td>\n",
       "      <td>枝村　匠馬</td>\n",
       "      <td>高木　俊幸</td>\n",
       "      <td>アレックス</td>\n",
       "      <td>大前　元紀</td>\n",
       "    </tr>\n",
       "    <tr>\n",
       "      <td>2</td>\n",
       "      <td>13996</td>\n",
       "      <td>2</td>\n",
       "      <td>3</td>\n",
       "      <td>晴一時雨</td>\n",
       "      <td>11.3</td>\n",
       "      <td>41%</td>\n",
       "      <td>高山　啓義</td>\n",
       "      <td>ガンバ大阪</td>\n",
       "      <td>藤ヶ谷　陽介</td>\n",
       "      <td>加地　亮</td>\n",
       "      <td>中澤　聡太</td>\n",
       "      <td>今野　泰幸</td>\n",
       "      <td>藤春　廣輝</td>\n",
       "      <td>明神　智和</td>\n",
       "      <td>遠藤　保仁</td>\n",
       "      <td>佐々木　勇人</td>\n",
       "      <td>二川　孝広</td>\n",
       "      <td>ラフィーニャ</td>\n",
       "      <td>パウリーニョ</td>\n",
       "      <td>ヴィッセル神戸</td>\n",
       "      <td>徳重　健太</td>\n",
       "      <td>近藤　岳登</td>\n",
       "      <td>北本　久仁衛</td>\n",
       "      <td>伊野波　雅彦</td>\n",
       "      <td>相馬　崇人</td>\n",
       "      <td>三原　雅俊</td>\n",
       "      <td>田中　英雄</td>\n",
       "      <td>野沢　拓也</td>\n",
       "      <td>橋本　英郎</td>\n",
       "      <td>森岡　亮太</td>\n",
       "      <td>大久保　嘉人</td>\n",
       "    </tr>\n",
       "    <tr>\n",
       "      <td>3</td>\n",
       "      <td>13997</td>\n",
       "      <td>1</td>\n",
       "      <td>0</td>\n",
       "      <td>曇一時雨のち晴</td>\n",
       "      <td>11.4</td>\n",
       "      <td>52%</td>\n",
       "      <td>松尾　一</td>\n",
       "      <td>サンフレッチェ広島</td>\n",
       "      <td>西川　周作</td>\n",
       "      <td>森脇　良太</td>\n",
       "      <td>千葉　和彦</td>\n",
       "      <td>水本　裕貴</td>\n",
       "      <td>ミキッチ</td>\n",
       "      <td>青山　敏弘</td>\n",
       "      <td>森﨑　和幸</td>\n",
       "      <td>山岸　智</td>\n",
       "      <td>石原　直樹</td>\n",
       "      <td>髙萩　洋次郎</td>\n",
       "      <td>佐藤　寿人</td>\n",
       "      <td>浦和レッズ</td>\n",
       "      <td>加藤　順大</td>\n",
       "      <td>濱田　水輝</td>\n",
       "      <td>阿部　勇樹</td>\n",
       "      <td>槙野　智章</td>\n",
       "      <td>平川　忠亮</td>\n",
       "      <td>鈴木　啓太</td>\n",
       "      <td>山田　直輝</td>\n",
       "      <td>梅崎　司</td>\n",
       "      <td>柏木　陽介</td>\n",
       "      <td>原口　元気</td>\n",
       "      <td>田中　達也</td>\n",
       "    </tr>\n",
       "    <tr>\n",
       "      <td>4</td>\n",
       "      <td>13998</td>\n",
       "      <td>0</td>\n",
       "      <td>0</td>\n",
       "      <td>屋内</td>\n",
       "      <td>22.5</td>\n",
       "      <td>32%</td>\n",
       "      <td>廣瀬　格</td>\n",
       "      <td>コンサドーレ札幌</td>\n",
       "      <td>李　昊乗</td>\n",
       "      <td>高木　純平</td>\n",
       "      <td>ジェイド　ノース</td>\n",
       "      <td>奈良　竜樹</td>\n",
       "      <td>岩沼　俊介</td>\n",
       "      <td>河合　竜二</td>\n",
       "      <td>山本　真希</td>\n",
       "      <td>近藤　祐介</td>\n",
       "      <td>内村　圭宏</td>\n",
       "      <td>岡本　賢明</td>\n",
       "      <td>前田　俊介</td>\n",
       "      <td>ジュビロ磐田</td>\n",
       "      <td>川口　能活</td>\n",
       "      <td>駒野　友一</td>\n",
       "      <td>チョ　ビョングク</td>\n",
       "      <td>藤田　義明</td>\n",
       "      <td>山本　脩斗</td>\n",
       "      <td>小林　裕紀</td>\n",
       "      <td>山本　康裕</td>\n",
       "      <td>山田　大記</td>\n",
       "      <td>松浦　拓弥</td>\n",
       "      <td>菅沼　実</td>\n",
       "      <td>前田　遼一</td>\n",
       "    </tr>\n",
       "  </tbody>\n",
       "</table>\n",
       "</div>"
      ],
      "text/plain": [
       "      id  home_score  away_score  weather  temperature humidity referee  \\\n",
       "0  13994           1           0        雨          3.8      66%   木村　博之   \n",
       "1  13995           1           0       屋内         12.4      43%   西村　雄一   \n",
       "2  13996           2           3     晴一時雨         11.3      41%   高山　啓義   \n",
       "3  13997           1           0  曇一時雨のち晴         11.4      52%    松尾　一   \n",
       "4  13998           0           0       屋内         22.5      32%    廣瀬　格   \n",
       "\n",
       "   home_team home_01 home_02     home_03 home_04 home_05 home_06 home_07  \\\n",
       "0     ベガルタ仙台    林　卓人   菅井　直樹       鎌田　次郎   上本　大海   田村　直也   富田　晋伍    角田　誠   \n",
       "1   名古屋グランパス   楢﨑　正剛   田中　隼磨  田中　マルクス闘莉王   増川　隆洋   阿部　翔平   中村　直志   ダニルソン   \n",
       "2      ガンバ大阪  藤ヶ谷　陽介    加地　亮       中澤　聡太   今野　泰幸   藤春　廣輝   明神　智和   遠藤　保仁   \n",
       "3  サンフレッチェ広島   西川　周作   森脇　良太       千葉　和彦   水本　裕貴    ミキッチ   青山　敏弘   森﨑　和幸   \n",
       "4   コンサドーレ札幌    李　昊乗   高木　純平    ジェイド　ノース   奈良　竜樹   岩沼　俊介   河合　竜二   山本　真希   \n",
       "\n",
       "  home_08 home_09 home_10 home_11 away_team away_01 away_02   away_03  \\\n",
       "0   太田　吉彰   関口　訓充   ウイルソン   赤嶺　真吾  鹿島アントラーズ   曽ヶ端　準   新井場　徹     岩政　大樹   \n",
       "1   藤本　淳吾   金崎　夢生    ケネディ   玉田　圭司   清水エスパルス    林　彰洋    吉田　豊     岩下　敬輔   \n",
       "2  佐々木　勇人   二川　孝広  ラフィーニャ  パウリーニョ   ヴィッセル神戸   徳重　健太   近藤　岳登    北本　久仁衛   \n",
       "3    山岸　智   石原　直樹  髙萩　洋次郎   佐藤　寿人     浦和レッズ   加藤　順大   濱田　水輝     阿部　勇樹   \n",
       "4   近藤　祐介   内村　圭宏   岡本　賢明   前田　俊介    ジュビロ磐田   川口　能活   駒野　友一  チョ　ビョングク   \n",
       "\n",
       "         away_04 away_05 away_06 away_07 away_08 away_09 away_10 away_11  \n",
       "0          中田　浩二   アレックス    青木　剛   増田　誓志  小笠原　満男   本山　雅志   大迫　勇也  ジュニーニョ  \n",
       "1  カルフィン　ヨン　ア　ピン    李　記帝   村松　大輔   河井　陽介   枝村　匠馬   高木　俊幸   アレックス   大前　元紀  \n",
       "2         伊野波　雅彦   相馬　崇人   三原　雅俊   田中　英雄   野沢　拓也   橋本　英郎   森岡　亮太  大久保　嘉人  \n",
       "3          槙野　智章   平川　忠亮   鈴木　啓太   山田　直輝    梅崎　司   柏木　陽介   原口　元気   田中　達也  \n",
       "4          藤田　義明   山本　脩斗   小林　裕紀   山本　康裕   山田　大記   松浦　拓弥    菅沼　実   前田　遼一  "
      ]
     },
     "execution_count": 9,
     "metadata": {},
     "output_type": "execute_result"
    }
   ],
   "source": [
    "condition.head()"
   ]
  },
  {
   "cell_type": "code",
   "execution_count": 10,
   "metadata": {},
   "outputs": [
    {
     "data": {
      "text/plain": [
       "name       object\n",
       "address    object\n",
       "capa        int64\n",
       "dtype: object"
      ]
     },
     "execution_count": 10,
     "metadata": {},
     "output_type": "execute_result"
    }
   ],
   "source": [
    "stadium.dtypes"
   ]
  },
  {
   "cell_type": "code",
   "execution_count": 11,
   "metadata": {},
   "outputs": [
    {
     "data": {
      "text/html": [
       "<div>\n",
       "<style scoped>\n",
       "    .dataframe tbody tr th:only-of-type {\n",
       "        vertical-align: middle;\n",
       "    }\n",
       "\n",
       "    .dataframe tbody tr th {\n",
       "        vertical-align: top;\n",
       "    }\n",
       "\n",
       "    .dataframe thead th {\n",
       "        text-align: right;\n",
       "    }\n",
       "</style>\n",
       "<table border=\"1\" class=\"dataframe\">\n",
       "  <thead>\n",
       "    <tr style=\"text-align: right;\">\n",
       "      <th></th>\n",
       "      <th>name</th>\n",
       "      <th>address</th>\n",
       "      <th>capa</th>\n",
       "    </tr>\n",
       "  </thead>\n",
       "  <tbody>\n",
       "    <tr>\n",
       "      <td>0</td>\n",
       "      <td>名古屋市瑞穂陸上競技場</td>\n",
       "      <td>愛知県名古屋市瑞穂区山下通5-1</td>\n",
       "      <td>20000</td>\n",
       "    </tr>\n",
       "    <tr>\n",
       "      <td>1</td>\n",
       "      <td>豊田スタジアム</td>\n",
       "      <td>愛知県豊田市千石町7-2</td>\n",
       "      <td>40000</td>\n",
       "    </tr>\n",
       "    <tr>\n",
       "      <td>2</td>\n",
       "      <td>フクダ電子アリーナ</td>\n",
       "      <td>千葉県千葉市中央区川崎町1-20</td>\n",
       "      <td>18500</td>\n",
       "    </tr>\n",
       "    <tr>\n",
       "      <td>3</td>\n",
       "      <td>日立柏サッカー場</td>\n",
       "      <td>千葉県柏市日立台1-2-50</td>\n",
       "      <td>15349</td>\n",
       "    </tr>\n",
       "    <tr>\n",
       "      <td>4</td>\n",
       "      <td>ニンジニアスタジアム</td>\n",
       "      <td>愛媛県松山市上野町乙46</td>\n",
       "      <td>15576</td>\n",
       "    </tr>\n",
       "  </tbody>\n",
       "</table>\n",
       "</div>"
      ],
      "text/plain": [
       "          name           address   capa\n",
       "0  名古屋市瑞穂陸上競技場  愛知県名古屋市瑞穂区山下通5-1  20000\n",
       "1      豊田スタジアム      愛知県豊田市千石町7-2  40000\n",
       "2    フクダ電子アリーナ  千葉県千葉市中央区川崎町1-20  18500\n",
       "3     日立柏サッカー場    千葉県柏市日立台1-2-50  15349\n",
       "4   ニンジニアスタジアム      愛媛県松山市上野町乙46  15576"
      ]
     },
     "execution_count": 11,
     "metadata": {},
     "output_type": "execute_result"
    }
   ],
   "source": [
    "stadium.head()"
   ]
  },
  {
   "cell_type": "markdown",
   "metadata": {},
   "source": [
    "## Overview(trainのみ)"
   ]
  },
  {
   "cell_type": "code",
   "execution_count": 12,
   "metadata": {},
   "outputs": [
    {
     "data": {
      "text/plain": [
       "id         False\n",
       "y          False\n",
       "year       False\n",
       "stage      False\n",
       "match      False\n",
       "gameday    False\n",
       "time       False\n",
       "home       False\n",
       "away       False\n",
       "stadium    False\n",
       "tv         False\n",
       "dtype: bool"
      ]
     },
     "execution_count": 12,
     "metadata": {},
     "output_type": "execute_result"
    }
   ],
   "source": [
    "# 欠損有無\n",
    "train.isnull().any()"
   ]
  },
  {
   "cell_type": "code",
   "execution_count": 13,
   "metadata": {},
   "outputs": [
    {
     "data": {
      "text/plain": [
       "Ｊ２    1046\n",
       "Ｊ１     675\n",
       "Name: stage, dtype: int64"
      ]
     },
     "execution_count": 13,
     "metadata": {},
     "output_type": "execute_result"
    }
   ],
   "source": [
    "train[\"stage\"].value_counts()"
   ]
  },
  {
   "cell_type": "code",
   "execution_count": 14,
   "metadata": {},
   "outputs": [
    {
     "data": {
      "text/plain": [
       "ロアッソ熊本         51\n",
       "愛媛ＦＣ           51\n",
       "栃木ＳＣ           50\n",
       "松本山雅ＦＣ         49\n",
       "モンテディオ山形       49\n",
       "ＦＣ岐阜           48\n",
       "徳島ヴォルティス       48\n",
       "アビスパ福岡         48\n",
       "水戸ホーリーホック      47\n",
       "ファジアーノ岡山       47\n",
       "ジェフユナイテッド千葉    47\n",
       "コンサドーレ札幌       46\n",
       "湘南ベルマーレ        46\n",
       "京都サンガF.C.      46\n",
       "カターレ富山         45\n",
       "横浜ＦＣ           45\n",
       "東京ヴェルディ        44\n",
       "ギラヴァンツ北九州      43\n",
       "ジュビロ磐田         43\n",
       "大分トリニータ        43\n",
       "ヴァンフォーレ甲府      42\n",
       "柏レイソル          41\n",
       "ヴィッセル神戸        41\n",
       "浦和レッズ          40\n",
       "ガンバ大阪          40\n",
       "セレッソ大阪         39\n",
       "清水エスパルス        39\n",
       "川崎フロンターレ       39\n",
       "ベガルタ仙台         39\n",
       "ＦＣ東京           38\n",
       "アルビレックス新潟      37\n",
       "サンフレッチェ広島      37\n",
       "大宮アルディージャ      36\n",
       "横浜Ｆ・マリノス       36\n",
       "サガン鳥栖          36\n",
       "鹿島アントラーズ       36\n",
       "名古屋グランパス       35\n",
       "ガイナーレ鳥取        35\n",
       "ザスパクサツ群馬       28\n",
       "Ｖ・ファーレン長崎      27\n",
       "ＦＣ町田ゼルビア       18\n",
       "ザスパ草津          17\n",
       "カマタマーレ讃岐        9\n",
       "Name: home, dtype: int64"
      ]
     },
     "execution_count": 14,
     "metadata": {},
     "output_type": "execute_result"
    }
   ],
   "source": [
    "train[\"home\"].value_counts()"
   ]
  },
  {
   "cell_type": "code",
   "execution_count": 15,
   "metadata": {},
   "outputs": [
    {
     "data": {
      "text/plain": [
       "<matplotlib.axes._subplots.AxesSubplot at 0x1e2faa1d848>"
      ]
     },
     "execution_count": 15,
     "metadata": {},
     "output_type": "execute_result"
    },
    {
     "data": {
      "image/png": "[encoded data removed]",
      "text/plain": [
       "<Figure size 1080x720 with 1 Axes>"
      ]
     },
     "metadata": {
      "needs_background": "light"
     },
     "output_type": "display_data"
    }
   ],
   "source": [
    "sns.distplot(\n",
    "    train[\"y\"],    # データ\n",
    "    kde = True,      # 近似密度関数の表示有無\n",
    "    bins = 20        # 変数の刻み数\n",
    ") "
   ]
  },
  {
   "cell_type": "code",
   "execution_count": 16,
   "metadata": {},
   "outputs": [
    {
     "data": {
      "text/plain": [
       "0.05     2607.0\n",
       "0.25     4750.0\n",
       "0.50     8650.0\n",
       "0.75    13431.0\n",
       "0.95    26897.0\n",
       "Name: y, dtype: float64"
      ]
     },
     "execution_count": 16,
     "metadata": {},
     "output_type": "execute_result"
    }
   ],
   "source": [
    "train[\"y\"].quantile([0.05, 0.25, 0.5, 0.75, 0.95])"
   ]
  },
  {
   "cell_type": "markdown",
   "metadata": {},
   "source": [
    "## データ結合\n",
    "### train, testとcondition, stadium"
   ]
  },
  {
   "cell_type": "code",
   "execution_count": 17,
   "metadata": {},
   "outputs": [
    {
     "name": "stdout",
     "output_type": "stream",
     "text": [
      "(1721, 11)\n",
      "(313, 10)\n"
     ]
    }
   ],
   "source": [
    "# 結合前の行, 列数\n",
    "print(train.shape)\n",
    "print(test.shape)"
   ]
  },
  {
   "cell_type": "code",
   "execution_count": 18,
   "metadata": {},
   "outputs": [],
   "source": [
    "# condition\n",
    "train_new = pd.merge(train, condition, how=\"inner\", on=\"id\")\n",
    "test_new = pd.merge(test, condition, how=\"inner\", on=\"id\")\n",
    "\n",
    "# stadium\n",
    "train_new = pd.merge(train_new, stadium, how=\"inner\", left_on=\"stadium\", right_on=\"name\")\n",
    "test_new = pd.merge(test_new, stadium, how=\"inner\", left_on=\"stadium\", right_on=\"name\")"
   ]
  },
  {
   "cell_type": "code",
   "execution_count": 19,
   "metadata": {},
   "outputs": [
    {
     "name": "stdout",
     "output_type": "stream",
     "text": [
      "(1721, 44)\n",
      "(313, 43)\n"
     ]
    }
   ],
   "source": [
    "# 結合後の行, 列数\n",
    "print(train_new.shape)\n",
    "print(test_new.shape)"
   ]
  },
  {
   "cell_type": "markdown",
   "metadata": {},
   "source": [
    "## Output"
   ]
  },
  {
   "cell_type": "code",
   "execution_count": 20,
   "metadata": {},
   "outputs": [],
   "source": [
    "# Train\n",
    "train_new.to_csv(\n",
    "    \"../output_data/train_new_20200217.csv\",  sep=\",\", index=False, header=True)\n",
    "\n",
    "# Test\n",
    "test_new.to_csv(\n",
    "    \"../output_data/test_new_20200217.csv\",  sep=\",\", index=False, header=True)"
   ]
  }
 ],
 "metadata": {
  "kernelspec": {
   "display_name": "Python 3",
   "language": "python",
   "name": "python3"
  },
  "language_info": {
   "codemirror_mode": {
    "name": "ipython",
    "version": 3
   },
   "file_extension": ".py",
   "mimetype": "text/x-python",
   "name": "python",
   "nbconvert_exporter": "python",
   "pygments_lexer": "ipython3",
   "version": "3.7.4"
  }
 },
 "nbformat": 4,
 "nbformat_minor": 2
}
