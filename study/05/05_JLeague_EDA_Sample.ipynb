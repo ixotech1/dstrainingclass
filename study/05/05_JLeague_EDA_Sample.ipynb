{
 "cells": [
  {
   "cell_type": "markdown",
   "metadata": {
    "id": "oyihdVwvvhF0"
   },
   "source": [
    "# JLeague EDA Sample\n",
    "- JLeagueデータについて概要を把握する(追加データは使用しない)\n",
    "- サンプルなので単変数に着目(複数変数の組合せは考慮しない)\n",
    "- 目的変数と説明変数の組合せは確認する\n",
    "- サンプルなので網羅的にはみない"
   ]
  },
  {
   "cell_type": "markdown",
   "metadata": {
    "id": "xtmVXp7IvhF3"
   },
   "source": [
    "## Import"
   ]
  },
  {
   "cell_type": "code",
   "execution_count": null,
   "metadata": {
    "id": "p0t9SEFtvhF3"
   },
   "outputs": [],
   "source": [
    "import pandas as pd\n",
    "import numpy as np\n",
    "import math\n",
    "\n",
    "import seaborn as sns\n",
    "import matplotlib.pyplot as plt\n",
    "import japanize_matplotlib"
   ]
  },
  {
   "cell_type": "markdown",
   "metadata": {
    "id": "JhnfGLBJvhF4"
   },
   "source": [
    "## Setting"
   ]
  },
  {
   "cell_type": "code",
   "execution_count": null,
   "metadata": {
    "id": "5fbhGJZrvhF4"
   },
   "outputs": [],
   "source": [
    "# Path\n",
    "input_path = \"../input_data/\"\n",
    "\n",
    "# Figure Size\n",
    "plt.rcParams[\"figure.figsize\"] = (20.0, 10.0)\n",
    "\n",
    "# Set Display Max Columns\n",
    "pd.set_option(\"display.max_columns\", 50)\n",
    "\n",
    "# Set Display Max Rows\n",
    "pd.set_option(\"display.max_rows\", 200)"
   ]
  },
  {
   "cell_type": "markdown",
   "metadata": {
    "id": "pp-SrTicvhF4"
   },
   "source": [
    "## Read Data"
   ]
  },
  {
   "cell_type": "code",
   "execution_count": null,
   "metadata": {
    "id": "iBewRAV7vhF5"
   },
   "outputs": [],
   "source": [
    "train = pd.read_csv(input_path + \"jleague/train.csv\", sep=\",\", header=0, quotechar=\"\\\"\")\n",
    "test = pd.read_csv(input_path + \"jleague/test.csv\", sep=\",\", header=0, quotechar=\"\\\"\")\n",
    "condition = pd.read_csv(input_path + \"jleague/condition.csv\", sep=\",\", header=0, quotechar=\"\\\"\")\n",
    "stadium = pd.read_csv(input_path + \"jleague/stadium.csv\", sep=\",\", header=0, quotechar=\"\\\"\")"
   ]
  },
  {
   "cell_type": "code",
   "execution_count": null,
   "metadata": {
    "id": "ijLg1Cs4vhF5",
    "outputId": "99d06aa4-66ff-4db4-f30f-c7f6f15cf45e"
   },
   "outputs": [
    {
     "data": {
      "text/plain": [
       "(1721, 11)"
      ]
     },
     "execution_count": 4,
     "metadata": {},
     "output_type": "execute_result"
    }
   ],
   "source": [
    "train.shape"
   ]
  },
  {
   "cell_type": "code",
   "execution_count": null,
   "metadata": {
    "id": "ORsZHktGvhF6",
    "outputId": "3eb8bbdb-7c1d-41b1-c783-e50f941e6681"
   },
   "outputs": [
    {
     "data": {
      "text/plain": [
       "(313, 10)"
      ]
     },
     "execution_count": 5,
     "metadata": {},
     "output_type": "execute_result"
    }
   ],
   "source": [
    "test.shape"
   ]
  },
  {
   "cell_type": "code",
   "execution_count": null,
   "metadata": {
    "id": "cjgaspFtvhF6",
    "outputId": "e13e071a-d596-4777-eb6e-f95ef061495c"
   },
   "outputs": [
    {
     "data": {
      "text/plain": [
       "(2034, 31)"
      ]
     },
     "execution_count": 6,
     "metadata": {},
     "output_type": "execute_result"
    }
   ],
   "source": [
    "condition.shape"
   ]
  },
  {
   "cell_type": "code",
   "execution_count": null,
   "metadata": {
    "id": "mO1Eh-A6vhF6",
    "outputId": "64944fbe-3fab-4603-e427-57a4667265db"
   },
   "outputs": [
    {
     "data": {
      "text/plain": [
       "(59, 3)"
      ]
     },
     "execution_count": 7,
     "metadata": {},
     "output_type": "execute_result"
    }
   ],
   "source": [
    "stadium.shape"
   ]
  },
  {
   "cell_type": "markdown",
   "metadata": {
    "id": "BzekhXAVvhF6"
   },
   "source": [
    "## Merge Data\n",
    "### Train and Test"
   ]
  },
  {
   "cell_type": "code",
   "execution_count": null,
   "metadata": {
    "id": "jXyEC2ajvhF7"
   },
   "outputs": [],
   "source": [
    "dat = pd.concat([train, test], axis=0)\n",
    "dat[\"data\"] = dat[\"y\"].apply(lambda x: \"Test\" if np.isnan(x) else \"Train\")"
   ]
  },
  {
   "cell_type": "code",
   "execution_count": null,
   "metadata": {
    "id": "e-JNLPbhvhF7",
    "outputId": "35588c17-b54c-4a71-e7f3-91a062c98946"
   },
   "outputs": [
    {
     "data": {
      "text/plain": [
       "(2034, 12)"
      ]
     },
     "execution_count": 9,
     "metadata": {},
     "output_type": "execute_result"
    }
   ],
   "source": [
    "#　行数\n",
    "dat.shape"
   ]
  },
  {
   "cell_type": "markdown",
   "metadata": {
    "id": "0WyFf0hTvhF7"
   },
   "source": [
    "### condition"
   ]
  },
  {
   "cell_type": "code",
   "execution_count": null,
   "metadata": {
    "id": "odC2CBNavhF7"
   },
   "outputs": [],
   "source": [
    "dat = pd.merge(dat, condition, how=\"inner\", on=\"id\")"
   ]
  },
  {
   "cell_type": "code",
   "execution_count": null,
   "metadata": {
    "id": "lAlP2OurvhF7",
    "outputId": "4ad52a0c-375e-4aa8-890a-22d91bcea8fd"
   },
   "outputs": [
    {
     "data": {
      "text/plain": [
       "(2034, 42)"
      ]
     },
     "execution_count": 11,
     "metadata": {},
     "output_type": "execute_result"
    }
   ],
   "source": [
    "# 行が減っていないか確認\n",
    "dat.shape"
   ]
  },
  {
   "cell_type": "markdown",
   "metadata": {
    "id": "P-Z8IzKgvhF7"
   },
   "source": [
    "### stadium"
   ]
  },
  {
   "cell_type": "code",
   "execution_count": null,
   "metadata": {
    "id": "xSIZBQFZvhF7",
    "outputId": "0b4bc9ea-f4fd-4e7e-c9cc-aacf13a2a6fc"
   },
   "outputs": [
    {
     "data": {
      "text/html": [
       "<div>\n",
       "<style scoped>\n",
       "    .dataframe tbody tr th:only-of-type {\n",
       "        vertical-align: middle;\n",
       "    }\n",
       "\n",
       "    .dataframe tbody tr th {\n",
       "        vertical-align: top;\n",
       "    }\n",
       "\n",
       "    .dataframe thead th {\n",
       "        text-align: right;\n",
       "    }\n",
       "</style>\n",
       "<table border=\"1\" class=\"dataframe\">\n",
       "  <thead>\n",
       "    <tr style=\"text-align: right;\">\n",
       "      <th></th>\n",
       "      <th>name</th>\n",
       "      <th>address</th>\n",
       "      <th>capa</th>\n",
       "    </tr>\n",
       "  </thead>\n",
       "  <tbody>\n",
       "    <tr>\n",
       "      <th>0</th>\n",
       "      <td>名古屋市瑞穂陸上競技場</td>\n",
       "      <td>愛知県名古屋市瑞穂区山下通5-1</td>\n",
       "      <td>20000</td>\n",
       "    </tr>\n",
       "    <tr>\n",
       "      <th>1</th>\n",
       "      <td>豊田スタジアム</td>\n",
       "      <td>愛知県豊田市千石町7-2</td>\n",
       "      <td>40000</td>\n",
       "    </tr>\n",
       "    <tr>\n",
       "      <th>2</th>\n",
       "      <td>フクダ電子アリーナ</td>\n",
       "      <td>千葉県千葉市中央区川崎町1-20</td>\n",
       "      <td>18500</td>\n",
       "    </tr>\n",
       "    <tr>\n",
       "      <th>3</th>\n",
       "      <td>日立柏サッカー場</td>\n",
       "      <td>千葉県柏市日立台1-2-50</td>\n",
       "      <td>15349</td>\n",
       "    </tr>\n",
       "    <tr>\n",
       "      <th>4</th>\n",
       "      <td>ニンジニアスタジアム</td>\n",
       "      <td>愛媛県松山市上野町乙46</td>\n",
       "      <td>15576</td>\n",
       "    </tr>\n",
       "  </tbody>\n",
       "</table>\n",
       "</div>"
      ],
      "text/plain": [
       "          name           address   capa\n",
       "0  名古屋市瑞穂陸上競技場  愛知県名古屋市瑞穂区山下通5-1  20000\n",
       "1      豊田スタジアム      愛知県豊田市千石町7-2  40000\n",
       "2    フクダ電子アリーナ  千葉県千葉市中央区川崎町1-20  18500\n",
       "3     日立柏サッカー場    千葉県柏市日立台1-2-50  15349\n",
       "4   ニンジニアスタジアム      愛媛県松山市上野町乙46  15576"
      ]
     },
     "execution_count": 12,
     "metadata": {},
     "output_type": "execute_result"
    }
   ],
   "source": [
    "stadium.head()"
   ]
  },
  {
   "cell_type": "code",
   "execution_count": null,
   "metadata": {
    "id": "cc2I9rDXvhF8"
   },
   "outputs": [],
   "source": [
    "dat = pd.merge(dat, stadium, how=\"inner\", left_on=\"stadium\", right_on=\"name\")"
   ]
  },
  {
   "cell_type": "code",
   "execution_count": null,
   "metadata": {
    "id": "EgxV_C8SvhF8",
    "outputId": "09111de7-410c-4f0d-b324-a2457403e74a"
   },
   "outputs": [
    {
     "data": {
      "text/plain": [
       "(2034, 45)"
      ]
     },
     "execution_count": 14,
     "metadata": {},
     "output_type": "execute_result"
    }
   ],
   "source": [
    "# 行が減っていないか確認\n",
    "dat.shape"
   ]
  },
  {
   "cell_type": "markdown",
   "metadata": {
    "id": "BXS1ycthvhF8"
   },
   "source": [
    "　データ数が少ないのでシンプルなモデルが良さそう."
   ]
  },
  {
   "cell_type": "code",
   "execution_count": null,
   "metadata": {
    "id": "eikXRGqgvhF8",
    "outputId": "85bad837-4a6c-4ec6-c0a1-54726712ed59"
   },
   "outputs": [
    {
     "data": {
      "text/html": [
       "<div>\n",
       "<style scoped>\n",
       "    .dataframe tbody tr th:only-of-type {\n",
       "        vertical-align: middle;\n",
       "    }\n",
       "\n",
       "    .dataframe tbody tr th {\n",
       "        vertical-align: top;\n",
       "    }\n",
       "\n",
       "    .dataframe thead th {\n",
       "        text-align: right;\n",
       "    }\n",
       "</style>\n",
       "<table border=\"1\" class=\"dataframe\">\n",
       "  <thead>\n",
       "    <tr style=\"text-align: right;\">\n",
       "      <th></th>\n",
       "      <th>id</th>\n",
       "      <th>y</th>\n",
       "      <th>year</th>\n",
       "      <th>stage</th>\n",
       "      <th>match</th>\n",
       "      <th>gameday</th>\n",
       "      <th>time</th>\n",
       "      <th>home</th>\n",
       "      <th>away</th>\n",
       "      <th>stadium</th>\n",
       "      <th>tv</th>\n",
       "      <th>data</th>\n",
       "      <th>home_score</th>\n",
       "      <th>away_score</th>\n",
       "      <th>weather</th>\n",
       "      <th>temperature</th>\n",
       "      <th>humidity</th>\n",
       "      <th>referee</th>\n",
       "      <th>home_team</th>\n",
       "      <th>home_01</th>\n",
       "      <th>home_02</th>\n",
       "      <th>home_03</th>\n",
       "      <th>home_04</th>\n",
       "      <th>home_05</th>\n",
       "      <th>home_06</th>\n",
       "      <th>home_07</th>\n",
       "      <th>home_08</th>\n",
       "      <th>home_09</th>\n",
       "      <th>home_10</th>\n",
       "      <th>home_11</th>\n",
       "      <th>away_team</th>\n",
       "      <th>away_01</th>\n",
       "      <th>away_02</th>\n",
       "      <th>away_03</th>\n",
       "      <th>away_04</th>\n",
       "      <th>away_05</th>\n",
       "      <th>away_06</th>\n",
       "      <th>away_07</th>\n",
       "      <th>away_08</th>\n",
       "      <th>away_09</th>\n",
       "      <th>away_10</th>\n",
       "      <th>away_11</th>\n",
       "      <th>name</th>\n",
       "      <th>address</th>\n",
       "      <th>capa</th>\n",
       "    </tr>\n",
       "  </thead>\n",
       "  <tbody>\n",
       "    <tr>\n",
       "      <th>0</th>\n",
       "      <td>13994</td>\n",
       "      <td>18250.0</td>\n",
       "      <td>2012</td>\n",
       "      <td>Ｊ１</td>\n",
       "      <td>第１節第１日</td>\n",
       "      <td>03/10(土)</td>\n",
       "      <td>14:04</td>\n",
       "      <td>ベガルタ仙台</td>\n",
       "      <td>鹿島アントラーズ</td>\n",
       "      <td>ユアテックスタジアム仙台</td>\n",
       "      <td>スカパー／ｅ２／スカパー光／ＮＨＫ総合</td>\n",
       "      <td>Train</td>\n",
       "      <td>1</td>\n",
       "      <td>0</td>\n",
       "      <td>雨</td>\n",
       "      <td>3.8</td>\n",
       "      <td>66%</td>\n",
       "      <td>木村　博之</td>\n",
       "      <td>ベガルタ仙台</td>\n",
       "      <td>林　卓人</td>\n",
       "      <td>菅井　直樹</td>\n",
       "      <td>鎌田　次郎</td>\n",
       "      <td>上本　大海</td>\n",
       "      <td>田村　直也</td>\n",
       "      <td>富田　晋伍</td>\n",
       "      <td>角田　誠</td>\n",
       "      <td>太田　吉彰</td>\n",
       "      <td>関口　訓充</td>\n",
       "      <td>ウイルソン</td>\n",
       "      <td>赤嶺　真吾</td>\n",
       "      <td>鹿島アントラーズ</td>\n",
       "      <td>曽ヶ端　準</td>\n",
       "      <td>新井場　徹</td>\n",
       "      <td>岩政　大樹</td>\n",
       "      <td>中田　浩二</td>\n",
       "      <td>アレックス</td>\n",
       "      <td>青木　剛</td>\n",
       "      <td>増田　誓志</td>\n",
       "      <td>小笠原　満男</td>\n",
       "      <td>本山　雅志</td>\n",
       "      <td>大迫　勇也</td>\n",
       "      <td>ジュニーニョ</td>\n",
       "      <td>ユアテックスタジアム仙台</td>\n",
       "      <td>宮城県仙台市泉区七北田字柳78</td>\n",
       "      <td>19694</td>\n",
       "    </tr>\n",
       "    <tr>\n",
       "      <th>1</th>\n",
       "      <td>14012</td>\n",
       "      <td>11831.0</td>\n",
       "      <td>2012</td>\n",
       "      <td>Ｊ１</td>\n",
       "      <td>第３節第１日</td>\n",
       "      <td>03/24(土)</td>\n",
       "      <td>13:03</td>\n",
       "      <td>ベガルタ仙台</td>\n",
       "      <td>大宮アルディージャ</td>\n",
       "      <td>ユアテックスタジアム仙台</td>\n",
       "      <td>スカパー／ｅ２／スカパー光（Ｊ　ＳＰＯＲＴＳ　１）</td>\n",
       "      <td>Train</td>\n",
       "      <td>4</td>\n",
       "      <td>1</td>\n",
       "      <td>曇時々雨</td>\n",
       "      <td>8.9</td>\n",
       "      <td>57%</td>\n",
       "      <td>東城　穣</td>\n",
       "      <td>ベガルタ仙台</td>\n",
       "      <td>林　卓人</td>\n",
       "      <td>菅井　直樹</td>\n",
       "      <td>渡辺　広大</td>\n",
       "      <td>上本　大海</td>\n",
       "      <td>田村　直也</td>\n",
       "      <td>富田　晋伍</td>\n",
       "      <td>角田　誠</td>\n",
       "      <td>太田　吉彰</td>\n",
       "      <td>関口　訓充</td>\n",
       "      <td>柳沢　敦</td>\n",
       "      <td>赤嶺　真吾</td>\n",
       "      <td>大宮アルディージャ</td>\n",
       "      <td>北野　貴之</td>\n",
       "      <td>村上　和弘</td>\n",
       "      <td>菊地　光将</td>\n",
       "      <td>金　英權</td>\n",
       "      <td>下平　匠</td>\n",
       "      <td>青木　拓矢</td>\n",
       "      <td>上田　康太</td>\n",
       "      <td>渡邉　大剛</td>\n",
       "      <td>曺　永哲</td>\n",
       "      <td>東　慶悟</td>\n",
       "      <td>ラファエル</td>\n",
       "      <td>ユアテックスタジアム仙台</td>\n",
       "      <td>宮城県仙台市泉区七北田字柳78</td>\n",
       "      <td>19694</td>\n",
       "    </tr>\n",
       "    <tr>\n",
       "      <th>2</th>\n",
       "      <td>14031</td>\n",
       "      <td>13147.0</td>\n",
       "      <td>2012</td>\n",
       "      <td>Ｊ１</td>\n",
       "      <td>第５節第１日</td>\n",
       "      <td>04/07(土)</td>\n",
       "      <td>14:03</td>\n",
       "      <td>ベガルタ仙台</td>\n",
       "      <td>ジュビロ磐田</td>\n",
       "      <td>ユアテックスタジアム仙台</td>\n",
       "      <td>スカパー／ｅ２／スカパー光／ＮＨＫ仙台／ＮＨＫ静岡</td>\n",
       "      <td>Train</td>\n",
       "      <td>2</td>\n",
       "      <td>2</td>\n",
       "      <td>曇</td>\n",
       "      <td>6.1</td>\n",
       "      <td>53%</td>\n",
       "      <td>吉田　寿光</td>\n",
       "      <td>ベガルタ仙台</td>\n",
       "      <td>林　卓人</td>\n",
       "      <td>菅井　直樹</td>\n",
       "      <td>鎌田　次郎</td>\n",
       "      <td>上本　大海</td>\n",
       "      <td>田村　直也</td>\n",
       "      <td>富田　晋伍</td>\n",
       "      <td>角田　誠</td>\n",
       "      <td>太田　吉彰</td>\n",
       "      <td>関口　訓充</td>\n",
       "      <td>ウイルソン</td>\n",
       "      <td>赤嶺　真吾</td>\n",
       "      <td>ジュビロ磐田</td>\n",
       "      <td>八田　直樹</td>\n",
       "      <td>駒野　友一</td>\n",
       "      <td>チョ　ビョングク</td>\n",
       "      <td>藤田　義明</td>\n",
       "      <td>宮崎　智彦</td>\n",
       "      <td>山本　康裕</td>\n",
       "      <td>小林　裕紀</td>\n",
       "      <td>山田　大記</td>\n",
       "      <td>松浦　拓弥</td>\n",
       "      <td>菅沼　実</td>\n",
       "      <td>前田　遼一</td>\n",
       "      <td>ユアテックスタジアム仙台</td>\n",
       "      <td>宮城県仙台市泉区七北田字柳78</td>\n",
       "      <td>19694</td>\n",
       "    </tr>\n",
       "    <tr>\n",
       "      <th>3</th>\n",
       "      <td>14055</td>\n",
       "      <td>17192.0</td>\n",
       "      <td>2012</td>\n",
       "      <td>Ｊ１</td>\n",
       "      <td>第７節第１日</td>\n",
       "      <td>04/21(土)</td>\n",
       "      <td>19:04</td>\n",
       "      <td>ベガルタ仙台</td>\n",
       "      <td>ＦＣ東京</td>\n",
       "      <td>ユアテックスタジアム仙台</td>\n",
       "      <td>スカパー／ｅ２／スカパー光／ＮＨＫ　ＢＳ１</td>\n",
       "      <td>Train</td>\n",
       "      <td>4</td>\n",
       "      <td>0</td>\n",
       "      <td>晴</td>\n",
       "      <td>10.4</td>\n",
       "      <td>55%</td>\n",
       "      <td>東城　穣</td>\n",
       "      <td>ベガルタ仙台</td>\n",
       "      <td>林　卓人</td>\n",
       "      <td>菅井　直樹</td>\n",
       "      <td>鎌田　次郎</td>\n",
       "      <td>上本　大海</td>\n",
       "      <td>朴　柱成</td>\n",
       "      <td>富田　晋伍</td>\n",
       "      <td>角田　誠</td>\n",
       "      <td>太田　吉彰</td>\n",
       "      <td>関口　訓充</td>\n",
       "      <td>ウイルソン</td>\n",
       "      <td>赤嶺　真吾</td>\n",
       "      <td>ＦＣ東京</td>\n",
       "      <td>権田　修一</td>\n",
       "      <td>徳永　悠平</td>\n",
       "      <td>森重　真人</td>\n",
       "      <td>チャン　ヒョンス</td>\n",
       "      <td>太田　宏介</td>\n",
       "      <td>高橋　秀人</td>\n",
       "      <td>米本　拓司</td>\n",
       "      <td>石川　直宏</td>\n",
       "      <td>大竹　洋平</td>\n",
       "      <td>羽生　直剛</td>\n",
       "      <td>渡邉　千真</td>\n",
       "      <td>ユアテックスタジアム仙台</td>\n",
       "      <td>宮城県仙台市泉区七北田字柳78</td>\n",
       "      <td>19694</td>\n",
       "    </tr>\n",
       "    <tr>\n",
       "      <th>4</th>\n",
       "      <td>14075</td>\n",
       "      <td>18525.0</td>\n",
       "      <td>2012</td>\n",
       "      <td>Ｊ１</td>\n",
       "      <td>第１０節第１日</td>\n",
       "      <td>05/06(日)</td>\n",
       "      <td>13:04</td>\n",
       "      <td>ベガルタ仙台</td>\n",
       "      <td>清水エスパルス</td>\n",
       "      <td>ユアテックスタジアム仙台</td>\n",
       "      <td>スカパー／ｅ２／スカパー光／ＮＨＫ仙台</td>\n",
       "      <td>Train</td>\n",
       "      <td>0</td>\n",
       "      <td>1</td>\n",
       "      <td>曇のち雨</td>\n",
       "      <td>16.9</td>\n",
       "      <td>68%</td>\n",
       "      <td>佐藤　隆治</td>\n",
       "      <td>ベガルタ仙台</td>\n",
       "      <td>林　卓人</td>\n",
       "      <td>菅井　直樹</td>\n",
       "      <td>鎌田　次郎</td>\n",
       "      <td>上本　大海</td>\n",
       "      <td>朴　柱成</td>\n",
       "      <td>富田　晋伍</td>\n",
       "      <td>角田　誠</td>\n",
       "      <td>梁　勇基</td>\n",
       "      <td>関口　訓充</td>\n",
       "      <td>太田　吉彰</td>\n",
       "      <td>ウイルソン</td>\n",
       "      <td>清水エスパルス</td>\n",
       "      <td>林　彰洋</td>\n",
       "      <td>吉田　豊</td>\n",
       "      <td>岩下　敬輔</td>\n",
       "      <td>カルフィン　ヨン　ア　ピン</td>\n",
       "      <td>李　記帝</td>\n",
       "      <td>村松　大輔</td>\n",
       "      <td>アレックス</td>\n",
       "      <td>河井　陽介</td>\n",
       "      <td>ジミー　フランサ</td>\n",
       "      <td>大前　元紀</td>\n",
       "      <td>高木　俊幸</td>\n",
       "      <td>ユアテックスタジアム仙台</td>\n",
       "      <td>宮城県仙台市泉区七北田字柳78</td>\n",
       "      <td>19694</td>\n",
       "    </tr>\n",
       "  </tbody>\n",
       "</table>\n",
       "</div>"
      ],
      "text/plain": [
       "      id        y  year stage    match   gameday   time    home       away  \\\n",
       "0  13994  18250.0  2012    Ｊ１   第１節第１日  03/10(土)  14:04  ベガルタ仙台   鹿島アントラーズ   \n",
       "1  14012  11831.0  2012    Ｊ１   第３節第１日  03/24(土)  13:03  ベガルタ仙台  大宮アルディージャ   \n",
       "2  14031  13147.0  2012    Ｊ１   第５節第１日  04/07(土)  14:03  ベガルタ仙台     ジュビロ磐田   \n",
       "3  14055  17192.0  2012    Ｊ１   第７節第１日  04/21(土)  19:04  ベガルタ仙台       ＦＣ東京   \n",
       "4  14075  18525.0  2012    Ｊ１  第１０節第１日  05/06(日)  13:04  ベガルタ仙台    清水エスパルス   \n",
       "\n",
       "        stadium                         tv   data  home_score  away_score  \\\n",
       "0  ユアテックスタジアム仙台        スカパー／ｅ２／スカパー光／ＮＨＫ総合  Train           1           0   \n",
       "1  ユアテックスタジアム仙台  スカパー／ｅ２／スカパー光（Ｊ　ＳＰＯＲＴＳ　１）  Train           4           1   \n",
       "2  ユアテックスタジアム仙台  スカパー／ｅ２／スカパー光／ＮＨＫ仙台／ＮＨＫ静岡  Train           2           2   \n",
       "3  ユアテックスタジアム仙台      スカパー／ｅ２／スカパー光／ＮＨＫ　ＢＳ１  Train           4           0   \n",
       "4  ユアテックスタジアム仙台        スカパー／ｅ２／スカパー光／ＮＨＫ仙台  Train           0           1   \n",
       "\n",
       "  weather  temperature humidity referee home_team home_01 home_02 home_03  \\\n",
       "0       雨          3.8      66%   木村　博之    ベガルタ仙台    林　卓人   菅井　直樹   鎌田　次郎   \n",
       "1    曇時々雨          8.9      57%    東城　穣    ベガルタ仙台    林　卓人   菅井　直樹   渡辺　広大   \n",
       "2       曇          6.1      53%   吉田　寿光    ベガルタ仙台    林　卓人   菅井　直樹   鎌田　次郎   \n",
       "3       晴         10.4      55%    東城　穣    ベガルタ仙台    林　卓人   菅井　直樹   鎌田　次郎   \n",
       "4    曇のち雨         16.9      68%   佐藤　隆治    ベガルタ仙台    林　卓人   菅井　直樹   鎌田　次郎   \n",
       "\n",
       "  home_04 home_05 home_06 home_07 home_08 home_09 home_10 home_11  away_team  \\\n",
       "0   上本　大海   田村　直也   富田　晋伍    角田　誠   太田　吉彰   関口　訓充   ウイルソン   赤嶺　真吾   鹿島アントラーズ   \n",
       "1   上本　大海   田村　直也   富田　晋伍    角田　誠   太田　吉彰   関口　訓充    柳沢　敦   赤嶺　真吾  大宮アルディージャ   \n",
       "2   上本　大海   田村　直也   富田　晋伍    角田　誠   太田　吉彰   関口　訓充   ウイルソン   赤嶺　真吾     ジュビロ磐田   \n",
       "3   上本　大海    朴　柱成   富田　晋伍    角田　誠   太田　吉彰   関口　訓充   ウイルソン   赤嶺　真吾       ＦＣ東京   \n",
       "4   上本　大海    朴　柱成   富田　晋伍    角田　誠    梁　勇基   関口　訓充   太田　吉彰   ウイルソン    清水エスパルス   \n",
       "\n",
       "  away_01 away_02   away_03        away_04 away_05 away_06 away_07 away_08  \\\n",
       "0   曽ヶ端　準   新井場　徹     岩政　大樹          中田　浩二   アレックス    青木　剛   増田　誓志  小笠原　満男   \n",
       "1   北野　貴之   村上　和弘     菊地　光将           金　英權    下平　匠   青木　拓矢   上田　康太   渡邉　大剛   \n",
       "2   八田　直樹   駒野　友一  チョ　ビョングク          藤田　義明   宮崎　智彦   山本　康裕   小林　裕紀   山田　大記   \n",
       "3   権田　修一   徳永　悠平     森重　真人       チャン　ヒョンス   太田　宏介   高橋　秀人   米本　拓司   石川　直宏   \n",
       "4    林　彰洋    吉田　豊     岩下　敬輔  カルフィン　ヨン　ア　ピン    李　記帝   村松　大輔   アレックス   河井　陽介   \n",
       "\n",
       "    away_09 away_10 away_11          name          address   capa  \n",
       "0     本山　雅志   大迫　勇也  ジュニーニョ  ユアテックスタジアム仙台  宮城県仙台市泉区七北田字柳78  19694  \n",
       "1      曺　永哲    東　慶悟   ラファエル  ユアテックスタジアム仙台  宮城県仙台市泉区七北田字柳78  19694  \n",
       "2     松浦　拓弥    菅沼　実   前田　遼一  ユアテックスタジアム仙台  宮城県仙台市泉区七北田字柳78  19694  \n",
       "3     大竹　洋平   羽生　直剛   渡邉　千真  ユアテックスタジアム仙台  宮城県仙台市泉区七北田字柳78  19694  \n",
       "4  ジミー　フランサ   大前　元紀   高木　俊幸  ユアテックスタジアム仙台  宮城県仙台市泉区七北田字柳78  19694  "
      ]
     },
     "execution_count": 15,
     "metadata": {},
     "output_type": "execute_result"
    }
   ],
   "source": [
    "# 全て結合したのでデータの頭確認\n",
    "dat.head()"
   ]
  },
  {
   "cell_type": "markdown",
   "metadata": {
    "id": "I_Cri69_vhF8"
   },
   "source": [
    "## Check Data\n",
    "### 欠損(NA)確認"
   ]
  },
  {
   "cell_type": "code",
   "execution_count": null,
   "metadata": {
    "id": "QN57puqVvhF8",
    "outputId": "aec0486f-eb77-4e3f-c3c2-501530b2b82a"
   },
   "outputs": [
    {
     "data": {
      "text/plain": [
       "id             0.000000\n",
       "y              0.153884\n",
       "year           0.000000\n",
       "stage          0.000000\n",
       "match          0.000000\n",
       "gameday        0.000000\n",
       "time           0.000000\n",
       "home           0.000000\n",
       "away           0.000000\n",
       "stadium        0.000000\n",
       "tv             0.000000\n",
       "data           0.000000\n",
       "home_score     0.000000\n",
       "away_score     0.000000\n",
       "weather        0.000000\n",
       "temperature    0.000000\n",
       "humidity       0.000000\n",
       "referee        0.000000\n",
       "home_team      0.000000\n",
       "home_01        0.000000\n",
       "home_02        0.000000\n",
       "home_03        0.000000\n",
       "home_04        0.000000\n",
       "home_05        0.000000\n",
       "home_06        0.000000\n",
       "home_07        0.000000\n",
       "home_08        0.000000\n",
       "home_09        0.000000\n",
       "home_10        0.000000\n",
       "home_11        0.000000\n",
       "away_team      0.000000\n",
       "away_01        0.000000\n",
       "away_02        0.000000\n",
       "away_03        0.000000\n",
       "away_04        0.000000\n",
       "away_05        0.000000\n",
       "away_06        0.000000\n",
       "away_07        0.000000\n",
       "away_08        0.000000\n",
       "away_09        0.000000\n",
       "away_10        0.000000\n",
       "away_11        0.000000\n",
       "name           0.000000\n",
       "address        0.000000\n",
       "capa           0.000000\n",
       "dtype: float64"
      ]
     },
     "execution_count": 16,
     "metadata": {},
     "output_type": "execute_result"
    }
   ],
   "source": [
    "# yは結合によりtestで欠損となる, それ以外は欠損なし\n",
    "dat.isnull().agg(\"mean\")"
   ]
  },
  {
   "cell_type": "markdown",
   "metadata": {
    "id": "TX2odzcRvhF8"
   },
   "source": [
    "　列を順番に確認する.\n",
    " ### id"
   ]
  },
  {
   "cell_type": "code",
   "execution_count": null,
   "metadata": {
    "id": "PlXK_aiPvhF8",
    "outputId": "d8b8fff3-d51e-4d41-bf7e-c886fb65cb32"
   },
   "outputs": [
    {
     "data": {
      "text/plain": [
       "2034"
      ]
     },
     "execution_count": 17,
     "metadata": {},
     "output_type": "execute_result"
    }
   ],
   "source": [
    "# idは一意か -> yes\n",
    "dat[\"id\"].nunique()"
   ]
  },
  {
   "cell_type": "markdown",
   "metadata": {
    "id": "MUas30AMvhF9"
   },
   "source": [
    "### y(単体)"
   ]
  },
  {
   "cell_type": "code",
   "execution_count": null,
   "metadata": {
    "id": "tKJXBSS6vhF9",
    "outputId": "7a36ab4d-d64d-4b36-95e5-deefc46d1a16"
   },
   "outputs": [
    {
     "data": {
      "text/plain": [
       "array([[<AxesSubplot:title={'center':'y'}>]], dtype=object)"
      ]
     },
     "execution_count": 18,
     "metadata": {},
     "output_type": "execute_result"
    },
    {
     "data": {
      "image/png": "[encoded data removed]",
      "text/plain": [
       "<Figure size 1440x720 with 1 Axes>"
      ]
     },
     "metadata": {
      "needs_background": "light"
     },
     "output_type": "display_data"
    }
   ],
   "source": [
    "# 分布\n",
    "y = dat[dat[\"data\"] == \"Train\"][[\"y\"]].copy()\n",
    "y.hist()"
   ]
  },
  {
   "cell_type": "code",
   "execution_count": null,
   "metadata": {
    "id": "IqkZ_Y87vhF9",
    "outputId": "8e827196-ec30-4336-f271-be3cea75fde9"
   },
   "outputs": [
    {
     "data": {
      "text/html": [
       "<div>\n",
       "<style scoped>\n",
       "    .dataframe tbody tr th:only-of-type {\n",
       "        vertical-align: middle;\n",
       "    }\n",
       "\n",
       "    .dataframe tbody tr th {\n",
       "        vertical-align: top;\n",
       "    }\n",
       "\n",
       "    .dataframe thead th {\n",
       "        text-align: right;\n",
       "    }\n",
       "</style>\n",
       "<table border=\"1\" class=\"dataframe\">\n",
       "  <thead>\n",
       "    <tr style=\"text-align: right;\">\n",
       "      <th></th>\n",
       "      <th>y</th>\n",
       "    </tr>\n",
       "  </thead>\n",
       "  <tbody>\n",
       "    <tr>\n",
       "      <th>0.00</th>\n",
       "      <td>0.0</td>\n",
       "    </tr>\n",
       "    <tr>\n",
       "      <th>0.25</th>\n",
       "      <td>4750.0</td>\n",
       "    </tr>\n",
       "    <tr>\n",
       "      <th>0.50</th>\n",
       "      <td>8650.0</td>\n",
       "    </tr>\n",
       "    <tr>\n",
       "      <th>0.75</th>\n",
       "      <td>13431.0</td>\n",
       "    </tr>\n",
       "    <tr>\n",
       "      <th>1.00</th>\n",
       "      <td>54905.0</td>\n",
       "    </tr>\n",
       "  </tbody>\n",
       "</table>\n",
       "</div>"
      ],
      "text/plain": [
       "            y\n",
       "0.00      0.0\n",
       "0.25   4750.0\n",
       "0.50   8650.0\n",
       "0.75  13431.0\n",
       "1.00  54905.0"
      ]
     },
     "execution_count": 19,
     "metadata": {},
     "output_type": "execute_result"
    }
   ],
   "source": [
    "# 四分位数\n",
    "# 最小値に0があることを発見\n",
    "y.quantile([0, 0.25, 0.5, 0.75, 1.0])"
   ]
  },
  {
   "cell_type": "markdown",
   "metadata": {
    "id": "HdcuE0gFvhF9"
   },
   "source": [
    "　上記のy=0の試合をデータで確認する."
   ]
  },
  {
   "cell_type": "code",
   "execution_count": null,
   "metadata": {
    "id": "npLUVjvzvhF9",
    "outputId": "52fc5cc1-5388-49e4-bfff-8f4a09da81fd"
   },
   "outputs": [
    {
     "data": {
      "text/html": [
       "<div>\n",
       "<style scoped>\n",
       "    .dataframe tbody tr th:only-of-type {\n",
       "        vertical-align: middle;\n",
       "    }\n",
       "\n",
       "    .dataframe tbody tr th {\n",
       "        vertical-align: top;\n",
       "    }\n",
       "\n",
       "    .dataframe thead th {\n",
       "        text-align: right;\n",
       "    }\n",
       "</style>\n",
       "<table border=\"1\" class=\"dataframe\">\n",
       "  <thead>\n",
       "    <tr style=\"text-align: right;\">\n",
       "      <th></th>\n",
       "      <th>id</th>\n",
       "      <th>y</th>\n",
       "      <th>year</th>\n",
       "      <th>stage</th>\n",
       "      <th>match</th>\n",
       "      <th>gameday</th>\n",
       "      <th>time</th>\n",
       "      <th>home</th>\n",
       "      <th>away</th>\n",
       "      <th>stadium</th>\n",
       "      <th>tv</th>\n",
       "      <th>data</th>\n",
       "      <th>home_score</th>\n",
       "      <th>away_score</th>\n",
       "      <th>weather</th>\n",
       "      <th>temperature</th>\n",
       "      <th>humidity</th>\n",
       "      <th>referee</th>\n",
       "      <th>home_team</th>\n",
       "      <th>home_01</th>\n",
       "      <th>home_02</th>\n",
       "      <th>home_03</th>\n",
       "      <th>home_04</th>\n",
       "      <th>home_05</th>\n",
       "      <th>home_06</th>\n",
       "      <th>home_07</th>\n",
       "      <th>home_08</th>\n",
       "      <th>home_09</th>\n",
       "      <th>home_10</th>\n",
       "      <th>home_11</th>\n",
       "      <th>away_team</th>\n",
       "      <th>away_01</th>\n",
       "      <th>away_02</th>\n",
       "      <th>away_03</th>\n",
       "      <th>away_04</th>\n",
       "      <th>away_05</th>\n",
       "      <th>away_06</th>\n",
       "      <th>away_07</th>\n",
       "      <th>away_08</th>\n",
       "      <th>away_09</th>\n",
       "      <th>away_10</th>\n",
       "      <th>away_11</th>\n",
       "      <th>name</th>\n",
       "      <th>address</th>\n",
       "      <th>capa</th>\n",
       "    </tr>\n",
       "  </thead>\n",
       "  <tbody>\n",
       "    <tr>\n",
       "      <th>399</th>\n",
       "      <td>15699</td>\n",
       "      <td>0.0</td>\n",
       "      <td>2014</td>\n",
       "      <td>Ｊ１</td>\n",
       "      <td>第４節第１日</td>\n",
       "      <td>03/23(日)</td>\n",
       "      <td>15:04</td>\n",
       "      <td>浦和レッズ</td>\n",
       "      <td>清水エスパルス</td>\n",
       "      <td>埼玉スタジアム２００２</td>\n",
       "      <td>スカパー！／スカパー！プレミアムサービス／テレ玉</td>\n",
       "      <td>Train</td>\n",
       "      <td>1</td>\n",
       "      <td>1</td>\n",
       "      <td>晴</td>\n",
       "      <td>16.2</td>\n",
       "      <td>23%</td>\n",
       "      <td>飯田　淳平</td>\n",
       "      <td>浦和レッズ</td>\n",
       "      <td>西川　周作</td>\n",
       "      <td>阿部　勇樹</td>\n",
       "      <td>那須　大亮</td>\n",
       "      <td>槙野　智章</td>\n",
       "      <td>平川　忠亮</td>\n",
       "      <td>鈴木　啓太</td>\n",
       "      <td>柏木　陽介</td>\n",
       "      <td>宇賀神　友弥</td>\n",
       "      <td>梅崎　司</td>\n",
       "      <td>原口　元気</td>\n",
       "      <td>興梠　慎三</td>\n",
       "      <td>清水エスパルス</td>\n",
       "      <td>櫛引　政敏</td>\n",
       "      <td>石毛　秀樹</td>\n",
       "      <td>平岡　康裕</td>\n",
       "      <td>カルフィン　ヨン　ア　ピン</td>\n",
       "      <td>吉田　豊</td>\n",
       "      <td>河井　陽介</td>\n",
       "      <td>六平　光成</td>\n",
       "      <td>竹内　涼</td>\n",
       "      <td>大前　元紀</td>\n",
       "      <td>ノヴァコヴィッチ</td>\n",
       "      <td>長沢　駿</td>\n",
       "      <td>埼玉スタジアム２００２</td>\n",
       "      <td>埼玉県さいたま市緑区中野田500</td>\n",
       "      <td>63700</td>\n",
       "    </tr>\n",
       "  </tbody>\n",
       "</table>\n",
       "</div>"
      ],
      "text/plain": [
       "        id    y  year stage   match   gameday   time   home     away  \\\n",
       "399  15699  0.0  2014    Ｊ１  第４節第１日  03/23(日)  15:04  浦和レッズ  清水エスパルス   \n",
       "\n",
       "         stadium                        tv   data  home_score  away_score  \\\n",
       "399  埼玉スタジアム２００２  スカパー！／スカパー！プレミアムサービス／テレ玉  Train           1           1   \n",
       "\n",
       "    weather  temperature humidity referee home_team home_01 home_02 home_03  \\\n",
       "399       晴         16.2      23%   飯田　淳平     浦和レッズ   西川　周作   阿部　勇樹   那須　大亮   \n",
       "\n",
       "    home_04 home_05 home_06 home_07 home_08 home_09 home_10 home_11 away_team  \\\n",
       "399   槙野　智章   平川　忠亮   鈴木　啓太   柏木　陽介  宇賀神　友弥    梅崎　司   原口　元気   興梠　慎三   清水エスパルス   \n",
       "\n",
       "    away_01 away_02 away_03        away_04 away_05 away_06 away_07 away_08  \\\n",
       "399   櫛引　政敏   石毛　秀樹   平岡　康裕  カルフィン　ヨン　ア　ピン    吉田　豊   河井　陽介   六平　光成    竹内　涼   \n",
       "\n",
       "    away_09   away_10 away_11         name           address   capa  \n",
       "399   大前　元紀  ノヴァコヴィッチ    長沢　駿  埼玉スタジアム２００２  埼玉県さいたま市緑区中野田500  63700  "
      ]
     },
     "execution_count": 20,
     "metadata": {},
     "output_type": "execute_result"
    }
   ],
   "source": [
    "# 極端に少ない試合が他にないか1000未満で確認\n",
    "# 該当する試合は1試合あった, 学習時に注意!\n",
    "check_y_min = dat[dat[\"y\"] < 1000].copy()\n",
    "check_y_min"
   ]
  },
  {
   "cell_type": "markdown",
   "metadata": {
    "id": "gP6B1nkkvhF9"
   },
   "source": [
    "### year"
   ]
  },
  {
   "cell_type": "code",
   "execution_count": null,
   "metadata": {
    "id": "w_2d3lVhvhF9",
    "outputId": "89178573-d23c-4e76-aabd-af154c07c6f0"
   },
   "outputs": [
    {
     "data": {
      "text/plain": [
       "<AxesSubplot:xlabel='year', ylabel='count'>"
      ]
     },
     "execution_count": 21,
     "metadata": {},
     "output_type": "execute_result"
    },
    {
     "data": {
      "image/png": "[encoded data removed]",
      "text/plain": [
       "<Figure size 1440x720 with 1 Axes>"
      ]
     },
     "metadata": {
      "needs_background": "light"
     },
     "output_type": "display_data"
    }
   ],
   "source": [
    "# 年毎のデータ数(Train, Testも区別)\n",
    "sns.countplot(x=\"year\", hue=\"data\",data=dat)"
   ]
  },
  {
   "cell_type": "code",
   "execution_count": null,
   "metadata": {
    "id": "iAkj9dTJvhF9",
    "outputId": "29bfbea7-97e2-4282-b363-ead587547574"
   },
   "outputs": [
    {
     "data": {
      "text/html": [
       "<div>\n",
       "<style scoped>\n",
       "    .dataframe tbody tr th:only-of-type {\n",
       "        vertical-align: middle;\n",
       "    }\n",
       "\n",
       "    .dataframe tbody tr th {\n",
       "        vertical-align: top;\n",
       "    }\n",
       "\n",
       "    .dataframe thead th {\n",
       "        text-align: right;\n",
       "    }\n",
       "</style>\n",
       "<table border=\"1\" class=\"dataframe\">\n",
       "  <thead>\n",
       "    <tr style=\"text-align: right;\">\n",
       "      <th></th>\n",
       "      <th></th>\n",
       "      <th>id</th>\n",
       "    </tr>\n",
       "    <tr>\n",
       "      <th>year</th>\n",
       "      <th>data</th>\n",
       "      <th></th>\n",
       "    </tr>\n",
       "  </thead>\n",
       "  <tbody>\n",
       "    <tr>\n",
       "      <th>2012</th>\n",
       "      <th>Train</th>\n",
       "      <td>682</td>\n",
       "    </tr>\n",
       "    <tr>\n",
       "      <th>2013</th>\n",
       "      <th>Train</th>\n",
       "      <td>675</td>\n",
       "    </tr>\n",
       "    <tr>\n",
       "      <th rowspan=\"2\" valign=\"top\">2014</th>\n",
       "      <th>Test</th>\n",
       "      <td>313</td>\n",
       "    </tr>\n",
       "    <tr>\n",
       "      <th>Train</th>\n",
       "      <td>364</td>\n",
       "    </tr>\n",
       "  </tbody>\n",
       "</table>\n",
       "</div>"
      ],
      "text/plain": [
       "             id\n",
       "year data      \n",
       "2012 Train  682\n",
       "2013 Train  675\n",
       "2014 Test   313\n",
       "     Train  364"
      ]
     },
     "execution_count": 22,
     "metadata": {},
     "output_type": "execute_result"
    }
   ],
   "source": [
    "# 数値で確認\n",
    "dat.groupby([\"year\", \"data\"]).agg({\"id\": \"count\"})"
   ]
  },
  {
   "cell_type": "code",
   "execution_count": null,
   "metadata": {
    "id": "zoX7ZIc-vhF9",
    "outputId": "8b1a72c8-13f9-4301-bc70-38c4e7eacdb2"
   },
   "outputs": [
    {
     "data": {
      "text/plain": [
       "<AxesSubplot:xlabel='year', ylabel='y'>"
      ]
     },
     "execution_count": 23,
     "metadata": {},
     "output_type": "execute_result"
    },
    {
     "data": {
      "image/png": "[encoded data removed]",
      "text/plain": [
       "<Figure size 1440x720 with 1 Axes>"
      ]
     },
     "metadata": {
      "needs_background": "light"
     },
     "output_type": "display_data"
    }
   ],
   "source": [
    "# 年毎にyの分布を確認\n",
    "# -> 大きな違いはなさそう\n",
    "check_y = dat[dat[\"data\"]==\"Train\"].copy()\n",
    "sns.boxplot(x=\"year\", y=\"y\", data=check_y)"
   ]
  },
  {
   "cell_type": "markdown",
   "metadata": {
    "id": "6GZpry2CvhF-"
   },
   "source": [
    "### stage"
   ]
  },
  {
   "cell_type": "code",
   "execution_count": null,
   "metadata": {
    "id": "8M_GLwqmvhF-",
    "outputId": "4d09b86d-c7bc-485d-f5cb-1be17cd9d2f6"
   },
   "outputs": [
    {
     "data": {
      "text/plain": [
       "<AxesSubplot:xlabel='stage', ylabel='count'>"
      ]
     },
     "execution_count": 24,
     "metadata": {},
     "output_type": "execute_result"
    },
    {
     "data": {
      "image/png": "[encoded data removed]",
      "text/plain": [
       "<Figure size 1440x720 with 1 Axes>"
      ]
     },
     "metadata": {
      "needs_background": "light"
     },
     "output_type": "display_data"
    }
   ],
   "source": [
    "# stageごとの試合数\n",
    "# -> J2の試合数が多い\n",
    "sns.countplot(x=\"stage\", hue=\"data\", data=dat)"
   ]
  },
  {
   "cell_type": "code",
   "execution_count": null,
   "metadata": {
    "id": "BZQvybICvhF_",
    "outputId": "00ae0736-531c-4234-996a-fcdcde7b68a2"
   },
   "outputs": [
    {
     "data": {
      "text/html": [
       "<div>\n",
       "<style scoped>\n",
       "    .dataframe tbody tr th:only-of-type {\n",
       "        vertical-align: middle;\n",
       "    }\n",
       "\n",
       "    .dataframe tbody tr th {\n",
       "        vertical-align: top;\n",
       "    }\n",
       "\n",
       "    .dataframe thead th {\n",
       "        text-align: right;\n",
       "    }\n",
       "</style>\n",
       "<table border=\"1\" class=\"dataframe\">\n",
       "  <thead>\n",
       "    <tr style=\"text-align: right;\">\n",
       "      <th></th>\n",
       "      <th></th>\n",
       "      <th>id</th>\n",
       "    </tr>\n",
       "    <tr>\n",
       "      <th>stage</th>\n",
       "      <th>data</th>\n",
       "      <th></th>\n",
       "    </tr>\n",
       "  </thead>\n",
       "  <tbody>\n",
       "    <tr>\n",
       "      <th rowspan=\"2\" valign=\"top\">Ｊ１</th>\n",
       "      <th>Test</th>\n",
       "      <td>139</td>\n",
       "    </tr>\n",
       "    <tr>\n",
       "      <th>Train</th>\n",
       "      <td>675</td>\n",
       "    </tr>\n",
       "    <tr>\n",
       "      <th rowspan=\"2\" valign=\"top\">Ｊ２</th>\n",
       "      <th>Test</th>\n",
       "      <td>174</td>\n",
       "    </tr>\n",
       "    <tr>\n",
       "      <th>Train</th>\n",
       "      <td>1046</td>\n",
       "    </tr>\n",
       "  </tbody>\n",
       "</table>\n",
       "</div>"
      ],
      "text/plain": [
       "               id\n",
       "stage data       \n",
       "Ｊ１    Test    139\n",
       "      Train   675\n",
       "Ｊ２    Test    174\n",
       "      Train  1046"
      ]
     },
     "execution_count": 25,
     "metadata": {},
     "output_type": "execute_result"
    }
   ],
   "source": [
    "# 数値で確認\n",
    "dat.groupby([\"stage\", \"data\"]).agg({\"id\": \"count\"})"
   ]
  },
  {
   "cell_type": "code",
   "execution_count": null,
   "metadata": {
    "id": "KZ86eSLYvhGC",
    "outputId": "360cbcd2-a61a-462e-b297-17622bd855d2"
   },
   "outputs": [
    {
     "data": {
      "text/plain": [
       "<AxesSubplot:xlabel='stage', ylabel='y'>"
      ]
     },
     "execution_count": 26,
     "metadata": {},
     "output_type": "execute_result"
    },
    {
     "data": {
      "image/png": "[encoded data removed]",
      "text/plain": [
       "<Figure size 1440x720 with 1 Axes>"
      ]
     },
     "metadata": {
      "needs_background": "light"
     },
     "output_type": "display_data"
    }
   ],
   "source": [
    "# 年毎にyの分布を確認\n",
    "# -> J1とJ2で違いあり\n",
    "check_y = dat[dat[\"data\"]==\"Train\"].copy()\n",
    "sns.boxplot(x=\"stage\", y=\"y\", data=check_y)"
   ]
  },
  {
   "cell_type": "markdown",
   "metadata": {
    "id": "8z8519f5vhGC"
   },
   "source": [
    "### match"
   ]
  },
  {
   "cell_type": "code",
   "execution_count": null,
   "metadata": {
    "id": "MYIw06-YvhGC"
   },
   "outputs": [],
   "source": [
    "# 節を数値として抽出\n",
    "dat_match = dat[[\"match\", \"y\", \"data\", \"stage\"]].copy()\n",
    "dat_match[\"match_num\"] = dat_match[\"match\"].apply(lambda x: int(x.split(\"節\")[0].replace(\"第\", \"\")))"
   ]
  },
  {
   "cell_type": "code",
   "execution_count": null,
   "metadata": {
    "id": "WibYqWt7vhGC",
    "outputId": "b0b2d15b-0a7f-4753-e54f-8e8fa7b91a66"
   },
   "outputs": [
    {
     "data": {
      "text/plain": [
       "<AxesSubplot:xlabel='match_num', ylabel='count'>"
      ]
     },
     "execution_count": 28,
     "metadata": {},
     "output_type": "execute_result"
    },
    {
     "data": {
      "image/png": "[encoded data removed]",
      "text/plain": [
       "<Figure size 1440x720 with 1 Axes>"
      ]
     },
     "metadata": {
      "needs_background": "light"
     },
     "output_type": "display_data"
    }
   ],
   "source": [
    "# 節毎のデータ数(Train, Testも区別)\n",
    "sns.countplot(x=\"match_num\", hue=\"data\",data=dat_match)"
   ]
  },
  {
   "cell_type": "code",
   "execution_count": null,
   "metadata": {
    "id": "Rq7ZEAr2vhGC",
    "outputId": "7c5c49e2-11d8-4bd3-e0c1-8c895a43d777"
   },
   "outputs": [
    {
     "data": {
      "text/html": [
       "<div>\n",
       "<style scoped>\n",
       "    .dataframe tbody tr th:only-of-type {\n",
       "        vertical-align: middle;\n",
       "    }\n",
       "\n",
       "    .dataframe tbody tr th {\n",
       "        vertical-align: top;\n",
       "    }\n",
       "\n",
       "    .dataframe thead th {\n",
       "        text-align: right;\n",
       "    }\n",
       "</style>\n",
       "<table border=\"1\" class=\"dataframe\">\n",
       "  <thead>\n",
       "    <tr style=\"text-align: right;\">\n",
       "      <th>data</th>\n",
       "      <th>Test</th>\n",
       "      <th>Train</th>\n",
       "      <th>sum</th>\n",
       "    </tr>\n",
       "    <tr>\n",
       "      <th>match_num</th>\n",
       "      <th></th>\n",
       "      <th></th>\n",
       "      <th></th>\n",
       "    </tr>\n",
       "  </thead>\n",
       "  <tbody>\n",
       "    <tr>\n",
       "      <th>1</th>\n",
       "      <td>0</td>\n",
       "      <td>50</td>\n",
       "      <td>50</td>\n",
       "    </tr>\n",
       "    <tr>\n",
       "      <th>2</th>\n",
       "      <td>0</td>\n",
       "      <td>48</td>\n",
       "      <td>48</td>\n",
       "    </tr>\n",
       "    <tr>\n",
       "      <th>3</th>\n",
       "      <td>0</td>\n",
       "      <td>53</td>\n",
       "      <td>53</td>\n",
       "    </tr>\n",
       "    <tr>\n",
       "      <th>4</th>\n",
       "      <td>0</td>\n",
       "      <td>51</td>\n",
       "      <td>51</td>\n",
       "    </tr>\n",
       "    <tr>\n",
       "      <th>5</th>\n",
       "      <td>0</td>\n",
       "      <td>55</td>\n",
       "      <td>55</td>\n",
       "    </tr>\n",
       "    <tr>\n",
       "      <th>6</th>\n",
       "      <td>0</td>\n",
       "      <td>56</td>\n",
       "      <td>56</td>\n",
       "    </tr>\n",
       "    <tr>\n",
       "      <th>7</th>\n",
       "      <td>0</td>\n",
       "      <td>51</td>\n",
       "      <td>51</td>\n",
       "    </tr>\n",
       "    <tr>\n",
       "      <th>8</th>\n",
       "      <td>0</td>\n",
       "      <td>57</td>\n",
       "      <td>57</td>\n",
       "    </tr>\n",
       "    <tr>\n",
       "      <th>9</th>\n",
       "      <td>0</td>\n",
       "      <td>57</td>\n",
       "      <td>57</td>\n",
       "    </tr>\n",
       "    <tr>\n",
       "      <th>10</th>\n",
       "      <td>0</td>\n",
       "      <td>49</td>\n",
       "      <td>49</td>\n",
       "    </tr>\n",
       "    <tr>\n",
       "      <th>11</th>\n",
       "      <td>0</td>\n",
       "      <td>51</td>\n",
       "      <td>51</td>\n",
       "    </tr>\n",
       "    <tr>\n",
       "      <th>12</th>\n",
       "      <td>0</td>\n",
       "      <td>55</td>\n",
       "      <td>55</td>\n",
       "    </tr>\n",
       "    <tr>\n",
       "      <th>13</th>\n",
       "      <td>0</td>\n",
       "      <td>53</td>\n",
       "      <td>53</td>\n",
       "    </tr>\n",
       "    <tr>\n",
       "      <th>14</th>\n",
       "      <td>0</td>\n",
       "      <td>50</td>\n",
       "      <td>50</td>\n",
       "    </tr>\n",
       "    <tr>\n",
       "      <th>15</th>\n",
       "      <td>0</td>\n",
       "      <td>51</td>\n",
       "      <td>51</td>\n",
       "    </tr>\n",
       "    <tr>\n",
       "      <th>16</th>\n",
       "      <td>0</td>\n",
       "      <td>53</td>\n",
       "      <td>53</td>\n",
       "    </tr>\n",
       "    <tr>\n",
       "      <th>17</th>\n",
       "      <td>0</td>\n",
       "      <td>52</td>\n",
       "      <td>52</td>\n",
       "    </tr>\n",
       "    <tr>\n",
       "      <th>18</th>\n",
       "      <td>8</td>\n",
       "      <td>47</td>\n",
       "      <td>55</td>\n",
       "    </tr>\n",
       "    <tr>\n",
       "      <th>19</th>\n",
       "      <td>6</td>\n",
       "      <td>45</td>\n",
       "      <td>51</td>\n",
       "    </tr>\n",
       "    <tr>\n",
       "      <th>20</th>\n",
       "      <td>9</td>\n",
       "      <td>44</td>\n",
       "      <td>53</td>\n",
       "    </tr>\n",
       "    <tr>\n",
       "      <th>21</th>\n",
       "      <td>9</td>\n",
       "      <td>44</td>\n",
       "      <td>53</td>\n",
       "    </tr>\n",
       "    <tr>\n",
       "      <th>22</th>\n",
       "      <td>9</td>\n",
       "      <td>44</td>\n",
       "      <td>53</td>\n",
       "    </tr>\n",
       "    <tr>\n",
       "      <th>23</th>\n",
       "      <td>8</td>\n",
       "      <td>45</td>\n",
       "      <td>53</td>\n",
       "    </tr>\n",
       "    <tr>\n",
       "      <th>24</th>\n",
       "      <td>9</td>\n",
       "      <td>43</td>\n",
       "      <td>52</td>\n",
       "    </tr>\n",
       "    <tr>\n",
       "      <th>25</th>\n",
       "      <td>17</td>\n",
       "      <td>35</td>\n",
       "      <td>52</td>\n",
       "    </tr>\n",
       "    <tr>\n",
       "      <th>26</th>\n",
       "      <td>16</td>\n",
       "      <td>36</td>\n",
       "      <td>52</td>\n",
       "    </tr>\n",
       "    <tr>\n",
       "      <th>27</th>\n",
       "      <td>18</td>\n",
       "      <td>35</td>\n",
       "      <td>53</td>\n",
       "    </tr>\n",
       "    <tr>\n",
       "      <th>28</th>\n",
       "      <td>19</td>\n",
       "      <td>38</td>\n",
       "      <td>57</td>\n",
       "    </tr>\n",
       "    <tr>\n",
       "      <th>29</th>\n",
       "      <td>20</td>\n",
       "      <td>37</td>\n",
       "      <td>57</td>\n",
       "    </tr>\n",
       "    <tr>\n",
       "      <th>30</th>\n",
       "      <td>18</td>\n",
       "      <td>39</td>\n",
       "      <td>57</td>\n",
       "    </tr>\n",
       "    <tr>\n",
       "      <th>31</th>\n",
       "      <td>17</td>\n",
       "      <td>38</td>\n",
       "      <td>55</td>\n",
       "    </tr>\n",
       "    <tr>\n",
       "      <th>32</th>\n",
       "      <td>17</td>\n",
       "      <td>38</td>\n",
       "      <td>55</td>\n",
       "    </tr>\n",
       "    <tr>\n",
       "      <th>33</th>\n",
       "      <td>18</td>\n",
       "      <td>38</td>\n",
       "      <td>56</td>\n",
       "    </tr>\n",
       "    <tr>\n",
       "      <th>34</th>\n",
       "      <td>19</td>\n",
       "      <td>35</td>\n",
       "      <td>54</td>\n",
       "    </tr>\n",
       "    <tr>\n",
       "      <th>35</th>\n",
       "      <td>10</td>\n",
       "      <td>19</td>\n",
       "      <td>29</td>\n",
       "    </tr>\n",
       "    <tr>\n",
       "      <th>36</th>\n",
       "      <td>10</td>\n",
       "      <td>18</td>\n",
       "      <td>28</td>\n",
       "    </tr>\n",
       "    <tr>\n",
       "      <th>37</th>\n",
       "      <td>10</td>\n",
       "      <td>20</td>\n",
       "      <td>30</td>\n",
       "    </tr>\n",
       "    <tr>\n",
       "      <th>38</th>\n",
       "      <td>8</td>\n",
       "      <td>18</td>\n",
       "      <td>26</td>\n",
       "    </tr>\n",
       "    <tr>\n",
       "      <th>39</th>\n",
       "      <td>7</td>\n",
       "      <td>19</td>\n",
       "      <td>26</td>\n",
       "    </tr>\n",
       "    <tr>\n",
       "      <th>40</th>\n",
       "      <td>11</td>\n",
       "      <td>20</td>\n",
       "      <td>31</td>\n",
       "    </tr>\n",
       "    <tr>\n",
       "      <th>41</th>\n",
       "      <td>11</td>\n",
       "      <td>18</td>\n",
       "      <td>29</td>\n",
       "    </tr>\n",
       "    <tr>\n",
       "      <th>42</th>\n",
       "      <td>9</td>\n",
       "      <td>16</td>\n",
       "      <td>25</td>\n",
       "    </tr>\n",
       "  </tbody>\n",
       "</table>\n",
       "</div>"
      ],
      "text/plain": [
       "data       Test  Train  sum\n",
       "match_num                  \n",
       "1             0     50   50\n",
       "2             0     48   48\n",
       "3             0     53   53\n",
       "4             0     51   51\n",
       "5             0     55   55\n",
       "6             0     56   56\n",
       "7             0     51   51\n",
       "8             0     57   57\n",
       "9             0     57   57\n",
       "10            0     49   49\n",
       "11            0     51   51\n",
       "12            0     55   55\n",
       "13            0     53   53\n",
       "14            0     50   50\n",
       "15            0     51   51\n",
       "16            0     53   53\n",
       "17            0     52   52\n",
       "18            8     47   55\n",
       "19            6     45   51\n",
       "20            9     44   53\n",
       "21            9     44   53\n",
       "22            9     44   53\n",
       "23            8     45   53\n",
       "24            9     43   52\n",
       "25           17     35   52\n",
       "26           16     36   52\n",
       "27           18     35   53\n",
       "28           19     38   57\n",
       "29           20     37   57\n",
       "30           18     39   57\n",
       "31           17     38   55\n",
       "32           17     38   55\n",
       "33           18     38   56\n",
       "34           19     35   54\n",
       "35           10     19   29\n",
       "36           10     18   28\n",
       "37           10     20   30\n",
       "38            8     18   26\n",
       "39            7     19   26\n",
       "40           11     20   31\n",
       "41           11     18   29\n",
       "42            9     16   25"
      ]
     },
     "execution_count": 29,
     "metadata": {},
     "output_type": "execute_result"
    }
   ],
   "source": [
    "# 数値で確認\n",
    "check_match = pd.crosstab(dat_match[\"match_num\"], dat_match[\"data\"])\n",
    "check_match[\"sum\"] = check_match[\"Test\"] + check_match[\"Train\"]\n",
    "check_match"
   ]
  },
  {
   "cell_type": "code",
   "execution_count": null,
   "metadata": {
    "id": "x-Kys5_GvhGC",
    "outputId": "5b74f0ac-7af5-4a86-aa84-23096547b1f3"
   },
   "outputs": [
    {
     "data": {
      "text/plain": [
       "<AxesSubplot:xlabel='match_num', ylabel='y'>"
      ]
     },
     "execution_count": 30,
     "metadata": {},
     "output_type": "execute_result"
    },
    {
     "data": {
      "image/png": "[encoded data removed]",
      "text/plain": [
       "<Figure size 1440x720 with 1 Axes>"
      ]
     },
     "metadata": {
      "needs_background": "light"
     },
     "output_type": "display_data"
    }
   ],
   "source": [
    "# match毎にyの分布を確認\n",
    "# 最初に山場がある？\n",
    "check_y = dat_match[dat_match[\"data\"]==\"Train\"].copy()\n",
    "sns.boxplot(x=\"match_num\", y=\"y\", data=check_y)"
   ]
  },
  {
   "cell_type": "code",
   "execution_count": null,
   "metadata": {
    "id": "hwkgC9kCvhGD",
    "outputId": "d041e802-70bd-44ea-e7c4-257ed3d64b4e"
   },
   "outputs": [
    {
     "data": {
      "text/plain": [
       "<AxesSubplot:xlabel='match_num', ylabel='y'>"
      ]
     },
     "execution_count": 31,
     "metadata": {},
     "output_type": "execute_result"
    },
    {
     "data": {
      "image/png": "[encoded data removed]",
      "text/plain": [
       "<Figure size 1440x720 with 1 Axes>"
      ]
     },
     "metadata": {
      "needs_background": "light"
     },
     "output_type": "display_data"
    }
   ],
   "source": [
    "# stageごとに確認\n",
    "check_y = dat_match[(dat_match[\"data\"]==\"Train\") & (dat_match[\"stage\"] == \"Ｊ１\")].copy()\n",
    "sns.boxplot(x=\"match_num\", y=\"y\", data=check_y)"
   ]
  },
  {
   "cell_type": "code",
   "execution_count": null,
   "metadata": {
    "id": "u3Sq-tJmvhGD",
    "outputId": "e8e4e5d8-91c7-43af-de67-7e9cbde2ff53"
   },
   "outputs": [
    {
     "data": {
      "text/plain": [
       "<AxesSubplot:xlabel='match_num', ylabel='y'>"
      ]
     },
     "execution_count": 32,
     "metadata": {},
     "output_type": "execute_result"
    },
    {
     "data": {
      "image/png": "[encoded data removed]",
      "text/plain": [
       "<Figure size 1440x720 with 1 Axes>"
      ]
     },
     "metadata": {
      "needs_background": "light"
     },
     "output_type": "display_data"
    }
   ],
   "source": [
    "# stageごとに確認\n",
    "# J2は最後の方に盛り上がる？\n",
    "check_y = dat_match[(dat_match[\"data\"]==\"Train\") & (dat_match[\"stage\"] == \"Ｊ２\")].copy()\n",
    "sns.boxplot(x=\"match_num\", y=\"y\", data=check_y)"
   ]
  },
  {
   "cell_type": "markdown",
   "metadata": {
    "id": "iswJflRzvhGD"
   },
   "source": [
    "### gameday"
   ]
  },
  {
   "cell_type": "code",
   "execution_count": null,
   "metadata": {
    "id": "bmUrvcJ_vhGD"
   },
   "outputs": [],
   "source": [
    "dat_gameday = dat[[\"gameday\", \"y\", \"data\", \"stage\"]].copy()\n",
    "dat_gameday[\"month\"] = dat_gameday[\"gameday\"].apply(lambda x: int(x.split(\"/\")[0]))\n",
    "dat_gameday[\"day\"] = dat_gameday[\"gameday\"].apply(lambda x: int(x.split(\"/\")[1].split(\"(\")[0]))\n",
    "dat_gameday[\"day_of_week\"] = dat_gameday[\"gameday\"].apply(lambda x: x.split(\"/\")[1].split(\"(\")[1].replace(\")\", \"\"))"
   ]
  },
  {
   "cell_type": "code",
   "execution_count": null,
   "metadata": {
    "id": "ePevTUbhvhGD",
    "outputId": "4d2761a8-ab2b-4dc2-9e05-39a8ab95b633"
   },
   "outputs": [
    {
     "data": {
      "text/plain": [
       "<AxesSubplot:xlabel='month', ylabel='count'>"
      ]
     },
     "execution_count": 34,
     "metadata": {},
     "output_type": "execute_result"
    },
    {
     "data": {
      "image/png": "[encoded data removed]",
      "text/plain": [
       "<Figure size 1440x720 with 1 Axes>"
      ]
     },
     "metadata": {
      "needs_background": "light"
     },
     "output_type": "display_data"
    }
   ],
   "source": [
    "# 月毎のデータ数(Train, Testも区別)\n",
    "# -> 12月の試合数は少ない\n",
    "sns.countplot(x=\"month\", hue=\"data\",data=dat_gameday)"
   ]
  },
  {
   "cell_type": "code",
   "execution_count": null,
   "metadata": {
    "id": "xCtOGrNIvhGD",
    "outputId": "292f62ec-de74-4f6b-a0bb-c2f3f385b64e"
   },
   "outputs": [
    {
     "data": {
      "text/plain": [
       "<AxesSubplot:xlabel='month', ylabel='y'>"
      ]
     },
     "execution_count": 35,
     "metadata": {},
     "output_type": "execute_result"
    },
    {
     "data": {
      "image/png": "[encoded data removed]",
      "text/plain": [
       "<Figure size 1440x720 with 1 Axes>"
      ]
     },
     "metadata": {
      "needs_background": "light"
     },
     "output_type": "display_data"
    }
   ],
   "source": [
    "# 月毎のy\n",
    "# -> 明らかに12月のyが大きい\n",
    "check_y = dat_gameday[dat_gameday[\"data\"]==\"Train\"].copy()\n",
    "sns.boxplot(x=\"month\", y=\"y\", data=check_y)"
   ]
  },
  {
   "cell_type": "code",
   "execution_count": null,
   "metadata": {
    "id": "0_0XlSWXvhGD",
    "outputId": "1df3fbf9-d54f-4efb-ffb4-cf09c505c4d4"
   },
   "outputs": [
    {
     "data": {
      "text/plain": [
       "<AxesSubplot:xlabel='day_of_week', ylabel='y'>"
      ]
     },
     "execution_count": 36,
     "metadata": {},
     "output_type": "execute_result"
    },
    {
     "data": {
      "image/png": "[encoded data removed]",
      "text/plain": [
       "<Figure size 1440x720 with 1 Axes>"
      ]
     },
     "metadata": {
      "needs_background": "light"
     },
     "output_type": "display_data"
    }
   ],
   "source": [
    "# 曜日毎のy\n",
    "# -> 土曜日が多く, 日曜, その他は同じ程度？\n",
    "check_y = dat_gameday[dat_gameday[\"data\"]==\"Train\"].copy()\n",
    "sns.boxplot(x=\"day_of_week\", y=\"y\", data=check_y)"
   ]
  },
  {
   "cell_type": "markdown",
   "metadata": {
    "id": "IPrzVgiJvhGD"
   },
   "source": [
    "### time"
   ]
  },
  {
   "cell_type": "code",
   "execution_count": null,
   "metadata": {
    "id": "yeuaz4knvhGE"
   },
   "outputs": [],
   "source": [
    "# 時を数値として抽出\n",
    "dat_time = dat[[\"time\", \"y\", \"data\", \"stage\"]].copy()\n",
    "dat_time[\"time_hour\"] = dat_time[\"time\"].apply(lambda x: int(x.split(\":\")[0]))"
   ]
  },
  {
   "cell_type": "code",
   "execution_count": null,
   "metadata": {
    "id": "HrR4G0OzvhGE",
    "outputId": "17ee0941-e7a6-423e-e538-0f1edd8da4d9"
   },
   "outputs": [
    {
     "data": {
      "text/plain": [
       "<AxesSubplot:xlabel='time_hour', ylabel='count'>"
      ]
     },
     "execution_count": 38,
     "metadata": {},
     "output_type": "execute_result"
    },
    {
     "data": {
      "image/png": "[encoded data removed]",
      "text/plain": [
       "<Figure size 1440x720 with 1 Axes>"
      ]
     },
     "metadata": {
      "needs_background": "light"
     },
     "output_type": "display_data"
    }
   ],
   "source": [
    "# 時毎のデータ数(Train, Testも区別)\n",
    "sns.countplot(x=\"time_hour\", hue=\"data\",data=dat_time)"
   ]
  },
  {
   "cell_type": "code",
   "execution_count": null,
   "metadata": {
    "id": "pINR0IfCvhGE",
    "outputId": "81f3db3b-b252-4763-df8e-93ff9f4c8aad"
   },
   "outputs": [
    {
     "data": {
      "text/plain": [
       "<AxesSubplot:xlabel='time_hour', ylabel='y'>"
      ]
     },
     "execution_count": 39,
     "metadata": {},
     "output_type": "execute_result"
    },
    {
     "data": {
      "image/png": "[encoded data removed]",
      "text/plain": [
       "<Figure size 1440x720 with 1 Axes>"
      ]
     },
     "metadata": {
      "needs_background": "light"
     },
     "output_type": "display_data"
    }
   ],
   "source": [
    "# 時毎のy\n",
    "# -> 14, 15, 17時が大きい？\n",
    "check_y = dat_time[dat_time[\"data\"]==\"Train\"].copy()\n",
    "sns.boxplot(x=\"time_hour\", y=\"y\", data=check_y)"
   ]
  },
  {
   "cell_type": "markdown",
   "metadata": {
    "id": "AcERgdq3vhGE"
   },
   "source": [
    "### home, away"
   ]
  },
  {
   "cell_type": "code",
   "execution_count": null,
   "metadata": {
    "id": "XSbR5Ny8vhGE",
    "outputId": "3bb7e099-b5c8-41da-8158-11c5e96b42a6"
   },
   "outputs": [
    {
     "data": {
      "text/plain": [
       "<AxesSubplot:xlabel='home', ylabel='count'>"
      ]
     },
     "execution_count": 40,
     "metadata": {},
     "output_type": "execute_result"
    },
    {
     "data": {
      "image/png": "[encoded data removed]",
      "text/plain": [
       "<Figure size 1440x720 with 1 Axes>"
      ]
     },
     "metadata": {
      "needs_background": "light"
     },
     "output_type": "display_data"
    }
   ],
   "source": [
    "# home毎のデータ数(Train, Testも区別)\n",
    "sns.countplot(x=\"home\", hue=\"data\",data=dat)"
   ]
  },
  {
   "cell_type": "code",
   "execution_count": null,
   "metadata": {
    "id": "HOOt13HVvhGE",
    "outputId": "ec0ff81b-edec-4708-9f68-8308e550066c"
   },
   "outputs": [
    {
     "data": {
      "text/plain": [
       "<AxesSubplot:xlabel='away', ylabel='count'>"
      ]
     },
     "execution_count": 41,
     "metadata": {},
     "output_type": "execute_result"
    },
    {
     "data": {
      "image/png": "[encoded data removed]",
      "text/plain": [
       "<Figure size 1440x720 with 1 Axes>"
      ]
     },
     "metadata": {
      "needs_background": "light"
     },
     "output_type": "display_data"
    }
   ],
   "source": [
    "sns.countplot(x=\"away\", hue=\"data\",data=dat)"
   ]
  },
  {
   "cell_type": "code",
   "execution_count": null,
   "metadata": {
    "id": "Aykx2uCLvhGE",
    "outputId": "64a96b8c-bea8-4bc5-cb66-b67ef0253382"
   },
   "outputs": [
    {
     "data": {
      "text/plain": [
       "<AxesSubplot:xlabel='home', ylabel='y'>"
      ]
     },
     "execution_count": 42,
     "metadata": {},
     "output_type": "execute_result"
    },
    {
     "data": {
      "image/png": "[encoded data removed]",
      "text/plain": [
       "<Figure size 1440x720 with 1 Axes>"
      ]
     },
     "metadata": {
      "needs_background": "light"
     },
     "output_type": "display_data"
    }
   ],
   "source": [
    "# home(J1)毎のy\n",
    "# -> 浦和レッズが大きい,\n",
    "check_y = dat[(dat[\"data\"]==\"Train\") & (dat[\"stage\"] == \"Ｊ１\")].copy()\n",
    "sns.boxplot(x=\"home\", y=\"y\", data=check_y)\n",
    "\n",
    "plt.xticks(rotation=90);"
   ]
  },
  {
   "cell_type": "code",
   "execution_count": null,
   "metadata": {
    "id": "FLgoRt1gvhGF",
    "outputId": "17d07823-4580-4809-a400-80283905d52b"
   },
   "outputs": [
    {
     "data": {
      "text/plain": [
       "<AxesSubplot:xlabel='home', ylabel='y'>"
      ]
     },
     "execution_count": 43,
     "metadata": {},
     "output_type": "execute_result"
    },
    {
     "data": {
      "image/png": "[encoded data removed]",
      "text/plain": [
       "<Figure size 1440x720 with 1 Axes>"
      ]
     },
     "metadata": {
      "needs_background": "light"
     },
     "output_type": "display_data"
    }
   ],
   "source": [
    "# home(J2)毎のy\n",
    "# -> ガンバ大阪などが大きい,\n",
    "check_y = dat[(dat[\"data\"]==\"Train\") & (dat[\"stage\"] == \"Ｊ２\")].copy()\n",
    "sns.boxplot(x=\"home\", y=\"y\", data=check_y)"
   ]
  },
  {
   "cell_type": "markdown",
   "metadata": {
    "id": "nijy1G_dvhGF"
   },
   "source": [
    "### stadium(name)"
   ]
  },
  {
   "cell_type": "code",
   "execution_count": null,
   "metadata": {
    "id": "1mDBc2J3vhGF",
    "outputId": "3d1a5fa6-0a59-4b87-c97d-854219bbe37f"
   },
   "outputs": [
    {
     "data": {
      "text/html": [
       "<div>\n",
       "<style scoped>\n",
       "    .dataframe tbody tr th:only-of-type {\n",
       "        vertical-align: middle;\n",
       "    }\n",
       "\n",
       "    .dataframe tbody tr th {\n",
       "        vertical-align: top;\n",
       "    }\n",
       "\n",
       "    .dataframe thead th {\n",
       "        text-align: right;\n",
       "    }\n",
       "</style>\n",
       "<table border=\"1\" class=\"dataframe\">\n",
       "  <thead>\n",
       "    <tr style=\"text-align: right;\">\n",
       "      <th>data</th>\n",
       "      <th>Test</th>\n",
       "      <th>Train</th>\n",
       "    </tr>\n",
       "    <tr>\n",
       "      <th>stadium</th>\n",
       "      <th></th>\n",
       "      <th></th>\n",
       "    </tr>\n",
       "  </thead>\n",
       "  <tbody>\n",
       "    <tr>\n",
       "      <th>うまかな・よかなスタジアム</th>\n",
       "      <td>7</td>\n",
       "      <td>45</td>\n",
       "    </tr>\n",
       "    <tr>\n",
       "      <th>とりぎんバードスタジアム</th>\n",
       "      <td>0</td>\n",
       "      <td>35</td>\n",
       "    </tr>\n",
       "    <tr>\n",
       "      <th>エコパスタジアム</th>\n",
       "      <td>1</td>\n",
       "      <td>5</td>\n",
       "    </tr>\n",
       "    <tr>\n",
       "      <th>エディオンスタジアム広島</th>\n",
       "      <td>7</td>\n",
       "      <td>37</td>\n",
       "    </tr>\n",
       "    <tr>\n",
       "      <th>キンチョウスタジアム</th>\n",
       "      <td>1</td>\n",
       "      <td>24</td>\n",
       "    </tr>\n",
       "    <tr>\n",
       "      <th>ケーズデンキスタジアム水戸</th>\n",
       "      <td>6</td>\n",
       "      <td>47</td>\n",
       "    </tr>\n",
       "    <tr>\n",
       "      <th>シティライトスタジアム</th>\n",
       "      <td>9</td>\n",
       "      <td>46</td>\n",
       "    </tr>\n",
       "    <tr>\n",
       "      <th>デンカビッグスワンスタジアム</th>\n",
       "      <td>7</td>\n",
       "      <td>37</td>\n",
       "    </tr>\n",
       "    <tr>\n",
       "      <th>ニッパツ三ツ沢球技場</th>\n",
       "      <td>9</td>\n",
       "      <td>49</td>\n",
       "    </tr>\n",
       "    <tr>\n",
       "      <th>ニンジニアスタジアム</th>\n",
       "      <td>7</td>\n",
       "      <td>51</td>\n",
       "    </tr>\n",
       "    <tr>\n",
       "      <th>ノエビアスタジアム神戸</th>\n",
       "      <td>7</td>\n",
       "      <td>39</td>\n",
       "    </tr>\n",
       "    <tr>\n",
       "      <th>フクダ電子アリーナ</th>\n",
       "      <td>8</td>\n",
       "      <td>47</td>\n",
       "    </tr>\n",
       "    <tr>\n",
       "      <th>ベストアメニティスタジアム</th>\n",
       "      <td>8</td>\n",
       "      <td>33</td>\n",
       "    </tr>\n",
       "    <tr>\n",
       "      <th>ヤマハスタジアム（磐田）</th>\n",
       "      <td>6</td>\n",
       "      <td>40</td>\n",
       "    </tr>\n",
       "    <tr>\n",
       "      <th>ヤンマースタジアム長居</th>\n",
       "      <td>6</td>\n",
       "      <td>15</td>\n",
       "    </tr>\n",
       "    <tr>\n",
       "      <th>ユアテックスタジアム仙台</th>\n",
       "      <td>8</td>\n",
       "      <td>38</td>\n",
       "    </tr>\n",
       "    <tr>\n",
       "      <th>レベルファイブスタジアム</th>\n",
       "      <td>9</td>\n",
       "      <td>48</td>\n",
       "    </tr>\n",
       "    <tr>\n",
       "      <th>万博記念競技場</th>\n",
       "      <td>8</td>\n",
       "      <td>40</td>\n",
       "    </tr>\n",
       "    <tr>\n",
       "      <th>京都市西京極総合運動公園陸上競技場兼球技場</th>\n",
       "      <td>10</td>\n",
       "      <td>44</td>\n",
       "    </tr>\n",
       "    <tr>\n",
       "      <th>佐賀県総合運動場陸上競技場</th>\n",
       "      <td>0</td>\n",
       "      <td>3</td>\n",
       "    </tr>\n",
       "    <tr>\n",
       "      <th>北九州市立本城陸上競技場</th>\n",
       "      <td>9</td>\n",
       "      <td>43</td>\n",
       "    </tr>\n",
       "    <tr>\n",
       "      <th>名古屋市瑞穂陸上競技場</th>\n",
       "      <td>4</td>\n",
       "      <td>15</td>\n",
       "    </tr>\n",
       "    <tr>\n",
       "      <th>味の素スタジアム</th>\n",
       "      <td>14</td>\n",
       "      <td>64</td>\n",
       "    </tr>\n",
       "    <tr>\n",
       "      <th>味の素フィールド西が丘</th>\n",
       "      <td>2</td>\n",
       "      <td>4</td>\n",
       "    </tr>\n",
       "    <tr>\n",
       "      <th>国立競技場</th>\n",
       "      <td>0</td>\n",
       "      <td>17</td>\n",
       "    </tr>\n",
       "    <tr>\n",
       "      <th>埼玉スタジアム２００２</th>\n",
       "      <td>8</td>\n",
       "      <td>40</td>\n",
       "    </tr>\n",
       "    <tr>\n",
       "      <th>大分銀行ドーム</th>\n",
       "      <td>9</td>\n",
       "      <td>43</td>\n",
       "    </tr>\n",
       "    <tr>\n",
       "      <th>大垣市浅中公園総合グラウンド陸上競技場</th>\n",
       "      <td>0</td>\n",
       "      <td>1</td>\n",
       "    </tr>\n",
       "    <tr>\n",
       "      <th>宮城スタジアム</th>\n",
       "      <td>0</td>\n",
       "      <td>1</td>\n",
       "    </tr>\n",
       "    <tr>\n",
       "      <th>富山県総合運動公園陸上競技場</th>\n",
       "      <td>7</td>\n",
       "      <td>45</td>\n",
       "    </tr>\n",
       "    <tr>\n",
       "      <th>山梨中銀スタジアム</th>\n",
       "      <td>8</td>\n",
       "      <td>39</td>\n",
       "    </tr>\n",
       "    <tr>\n",
       "      <th>岐阜メモリアルセンター長良川球技メドウ</th>\n",
       "      <td>0</td>\n",
       "      <td>2</td>\n",
       "    </tr>\n",
       "    <tr>\n",
       "      <th>岐阜メモリアルセンター長良川競技場</th>\n",
       "      <td>7</td>\n",
       "      <td>45</td>\n",
       "    </tr>\n",
       "    <tr>\n",
       "      <th>岡山県津山陸上競技場</th>\n",
       "      <td>0</td>\n",
       "      <td>1</td>\n",
       "    </tr>\n",
       "    <tr>\n",
       "      <th>日産スタジアム</th>\n",
       "      <td>6</td>\n",
       "      <td>30</td>\n",
       "    </tr>\n",
       "    <tr>\n",
       "      <th>日立柏サッカー場</th>\n",
       "      <td>8</td>\n",
       "      <td>37</td>\n",
       "    </tr>\n",
       "    <tr>\n",
       "      <th>札幌ドーム</th>\n",
       "      <td>5</td>\n",
       "      <td>26</td>\n",
       "    </tr>\n",
       "    <tr>\n",
       "      <th>札幌厚別公園競技場</th>\n",
       "      <td>1</td>\n",
       "      <td>20</td>\n",
       "    </tr>\n",
       "    <tr>\n",
       "      <th>松本平広域公園総合球技場</th>\n",
       "      <td>8</td>\n",
       "      <td>49</td>\n",
       "    </tr>\n",
       "    <tr>\n",
       "      <th>栃木県グリーンスタジアム</th>\n",
       "      <td>8</td>\n",
       "      <td>50</td>\n",
       "    </tr>\n",
       "    <tr>\n",
       "      <th>正田醤油スタジアム群馬</th>\n",
       "      <td>8</td>\n",
       "      <td>45</td>\n",
       "    </tr>\n",
       "    <tr>\n",
       "      <th>熊本市水前寺競技場</th>\n",
       "      <td>1</td>\n",
       "      <td>6</td>\n",
       "    </tr>\n",
       "    <tr>\n",
       "      <th>熊谷スポーツ文化公園陸上競技場</th>\n",
       "      <td>2</td>\n",
       "      <td>1</td>\n",
       "    </tr>\n",
       "    <tr>\n",
       "      <th>町田市立陸上競技場</th>\n",
       "      <td>0</td>\n",
       "      <td>17</td>\n",
       "    </tr>\n",
       "    <tr>\n",
       "      <th>県立カシマサッカースタジアム</th>\n",
       "      <td>9</td>\n",
       "      <td>36</td>\n",
       "    </tr>\n",
       "    <tr>\n",
       "      <th>神戸総合運動公園ユニバー記念競技場</th>\n",
       "      <td>1</td>\n",
       "      <td>2</td>\n",
       "    </tr>\n",
       "    <tr>\n",
       "      <th>福島県営あづま陸上競技場</th>\n",
       "      <td>0</td>\n",
       "      <td>1</td>\n",
       "    </tr>\n",
       "    <tr>\n",
       "      <th>等々力陸上競技場</th>\n",
       "      <td>8</td>\n",
       "      <td>39</td>\n",
       "    </tr>\n",
       "    <tr>\n",
       "      <th>豊田スタジアム</th>\n",
       "      <td>3</td>\n",
       "      <td>20</td>\n",
       "    </tr>\n",
       "    <tr>\n",
       "      <th>長崎市総合運動公園かきどまり陸上競技場</th>\n",
       "      <td>2</td>\n",
       "      <td>0</td>\n",
       "    </tr>\n",
       "    <tr>\n",
       "      <th>長崎県立総合運動公園陸上競技場</th>\n",
       "      <td>5</td>\n",
       "      <td>27</td>\n",
       "    </tr>\n",
       "    <tr>\n",
       "      <th>香川県立丸亀競技場</th>\n",
       "      <td>7</td>\n",
       "      <td>9</td>\n",
       "    </tr>\n",
       "    <tr>\n",
       "      <th>駒沢オリンピック公園総合運動場陸上競技場</th>\n",
       "      <td>0</td>\n",
       "      <td>6</td>\n",
       "    </tr>\n",
       "    <tr>\n",
       "      <th>鳴門・大塚スポーツパーク　ポカリスエットスタジアム</th>\n",
       "      <td>8</td>\n",
       "      <td>48</td>\n",
       "    </tr>\n",
       "    <tr>\n",
       "      <th>鹿児島県立鴨池陸上競技場</th>\n",
       "      <td>0</td>\n",
       "      <td>2</td>\n",
       "    </tr>\n",
       "    <tr>\n",
       "      <th>ＩＡＩスタジアム日本平</th>\n",
       "      <td>6</td>\n",
       "      <td>37</td>\n",
       "    </tr>\n",
       "    <tr>\n",
       "      <th>ＮＡＣＫ５スタジアム大宮</th>\n",
       "      <td>7</td>\n",
       "      <td>35</td>\n",
       "    </tr>\n",
       "    <tr>\n",
       "      <th>ＮＤソフトスタジアム山形</th>\n",
       "      <td>9</td>\n",
       "      <td>49</td>\n",
       "    </tr>\n",
       "    <tr>\n",
       "      <th>Ｓｈｏｎａｎ　ＢＭＷスタジアム平塚</th>\n",
       "      <td>9</td>\n",
       "      <td>46</td>\n",
       "    </tr>\n",
       "  </tbody>\n",
       "</table>\n",
       "</div>"
      ],
      "text/plain": [
       "data                       Test  Train\n",
       "stadium                               \n",
       "うまかな・よかなスタジアム                 7     45\n",
       "とりぎんバードスタジアム                  0     35\n",
       "エコパスタジアム                      1      5\n",
       "エディオンスタジアム広島                  7     37\n",
       "キンチョウスタジアム                    1     24\n",
       "ケーズデンキスタジアム水戸                 6     47\n",
       "シティライトスタジアム                   9     46\n",
       "デンカビッグスワンスタジアム                7     37\n",
       "ニッパツ三ツ沢球技場                    9     49\n",
       "ニンジニアスタジアム                    7     51\n",
       "ノエビアスタジアム神戸                   7     39\n",
       "フクダ電子アリーナ                     8     47\n",
       "ベストアメニティスタジアム                 8     33\n",
       "ヤマハスタジアム（磐田）                  6     40\n",
       "ヤンマースタジアム長居                   6     15\n",
       "ユアテックスタジアム仙台                  8     38\n",
       "レベルファイブスタジアム                  9     48\n",
       "万博記念競技場                       8     40\n",
       "京都市西京極総合運動公園陸上競技場兼球技場        10     44\n",
       "佐賀県総合運動場陸上競技場                 0      3\n",
       "北九州市立本城陸上競技場                  9     43\n",
       "名古屋市瑞穂陸上競技場                   4     15\n",
       "味の素スタジアム                     14     64\n",
       "味の素フィールド西が丘                   2      4\n",
       "国立競技場                         0     17\n",
       "埼玉スタジアム２００２                   8     40\n",
       "大分銀行ドーム                       9     43\n",
       "大垣市浅中公園総合グラウンド陸上競技場           0      1\n",
       "宮城スタジアム                       0      1\n",
       "富山県総合運動公園陸上競技場                7     45\n",
       "山梨中銀スタジアム                     8     39\n",
       "岐阜メモリアルセンター長良川球技メドウ           0      2\n",
       "岐阜メモリアルセンター長良川競技場             7     45\n",
       "岡山県津山陸上競技場                    0      1\n",
       "日産スタジアム                       6     30\n",
       "日立柏サッカー場                      8     37\n",
       "札幌ドーム                         5     26\n",
       "札幌厚別公園競技場                     1     20\n",
       "松本平広域公園総合球技場                  8     49\n",
       "栃木県グリーンスタジアム                  8     50\n",
       "正田醤油スタジアム群馬                   8     45\n",
       "熊本市水前寺競技場                     1      6\n",
       "熊谷スポーツ文化公園陸上競技場               2      1\n",
       "町田市立陸上競技場                     0     17\n",
       "県立カシマサッカースタジアム                9     36\n",
       "神戸総合運動公園ユニバー記念競技場             1      2\n",
       "福島県営あづま陸上競技場                  0      1\n",
       "等々力陸上競技場                      8     39\n",
       "豊田スタジアム                       3     20\n",
       "長崎市総合運動公園かきどまり陸上競技場           2      0\n",
       "長崎県立総合運動公園陸上競技場               5     27\n",
       "香川県立丸亀競技場                     7      9\n",
       "駒沢オリンピック公園総合運動場陸上競技場          0      6\n",
       "鳴門・大塚スポーツパーク　ポカリスエットスタジアム     8     48\n",
       "鹿児島県立鴨池陸上競技場                  0      2\n",
       "ＩＡＩスタジアム日本平                   6     37\n",
       "ＮＡＣＫ５スタジアム大宮                  7     35\n",
       "ＮＤソフトスタジアム山形                  9     49\n",
       "Ｓｈｏｎａｎ　ＢＭＷスタジアム平塚             9     46"
      ]
     },
     "execution_count": 44,
     "metadata": {},
     "output_type": "execute_result"
    }
   ],
   "source": [
    "# 試合数\n",
    "# -> 味の素スタジアムが多い\n",
    "pd.crosstab(dat[\"stadium\"], dat[\"data\"])"
   ]
  },
  {
   "cell_type": "code",
   "execution_count": null,
   "metadata": {
    "id": "LiVh2gUQvhGF",
    "outputId": "ed64644f-c2d5-40ed-b1ca-a713a0b7caee"
   },
   "outputs": [
    {
     "data": {
      "text/plain": [
       "<AxesSubplot:xlabel='stadium', ylabel='y'>"
      ]
     },
     "execution_count": 45,
     "metadata": {},
     "output_type": "execute_result"
    },
    {
     "data": {
      "image/png": "[encoded data removed]",
      "text/plain": [
       "<Figure size 1440x720 with 1 Axes>"
      ]
     },
     "metadata": {
      "needs_background": "light"
     },
     "output_type": "display_data"
    }
   ],
   "source": [
    "# stadium毎のy\n",
    "# -> スタジアムでyの大小傾向あり\n",
    "check_y = dat[(dat[\"data\"]==\"Train\") & (dat[\"stage\"] == \"Ｊ１\")].copy()\n",
    "sns.boxplot(x=\"stadium\", y=\"y\", data=check_y)"
   ]
  },
  {
   "cell_type": "markdown",
   "metadata": {
    "id": "njJx_umOvhGF"
   },
   "source": [
    "### tv"
   ]
  },
  {
   "cell_type": "code",
   "execution_count": null,
   "metadata": {
    "id": "yYFPomiDvhGF"
   },
   "outputs": [],
   "source": [
    "dat_tv= dat[[\"tv\", \"y\", \"data\", \"stage\"]].copy()\n",
    "# テレビ数\n",
    "dat_tv[\"tv_num\"] = dat_tv[\"tv\"].apply(lambda x: len(x.split(\"／\")))\n",
    "# ＮＨＫフラグ(ＮＨＫ**)\n",
    "dat_tv[\"tv_nhk\"] = dat_tv[\"tv\"].apply(lambda x: 1 if \"ＮＨＫ\" in x else 0)"
   ]
  },
  {
   "cell_type": "code",
   "execution_count": null,
   "metadata": {
    "id": "oK75ioQ5vhGF",
    "outputId": "df92f375-64b3-41a0-c88d-788198588ebe"
   },
   "outputs": [
    {
     "data": {
      "text/plain": [
       "<AxesSubplot:xlabel='tv_num', ylabel='count'>"
      ]
     },
     "execution_count": 47,
     "metadata": {},
     "output_type": "execute_result"
    },
    {
     "data": {
      "image/png": "[encoded data removed]",
      "text/plain": [
       "<Figure size 1440x720 with 1 Axes>"
      ]
     },
     "metadata": {
      "needs_background": "light"
     },
     "output_type": "display_data"
    }
   ],
   "source": [
    "# テレビ数ごと試合数\n",
    "sns.countplot(x=\"tv_num\", hue=\"data\",data=dat_tv)"
   ]
  },
  {
   "cell_type": "code",
   "execution_count": null,
   "metadata": {
    "id": "KBipKLmrvhGF",
    "outputId": "8bc6fccb-7a2b-45fc-bc3a-7aed112dea26"
   },
   "outputs": [
    {
     "data": {
      "text/plain": [
       "<AxesSubplot:xlabel='tv_nhk', ylabel='count'>"
      ]
     },
     "execution_count": 48,
     "metadata": {},
     "output_type": "execute_result"
    },
    {
     "data": {
      "image/png": "[encoded data removed]",
      "text/plain": [
       "<Figure size 1440x720 with 1 Axes>"
      ]
     },
     "metadata": {
      "needs_background": "light"
     },
     "output_type": "display_data"
    }
   ],
   "source": [
    "# NHKフラグごと試合数\n",
    "sns.countplot(x=\"tv_nhk\", hue=\"data\",data=dat_tv)"
   ]
  },
  {
   "cell_type": "code",
   "execution_count": null,
   "metadata": {
    "id": "lkfwGqKmvhGF",
    "outputId": "f9e73b86-7023-4ad3-9945-ce40fcde5f03"
   },
   "outputs": [
    {
     "data": {
      "text/plain": [
       "<AxesSubplot:xlabel='tv_num', ylabel='y'>"
      ]
     },
     "execution_count": 49,
     "metadata": {},
     "output_type": "execute_result"
    },
    {
     "data": {
      "image/png": "[encoded data removed]",
      "text/plain": [
       "<Figure size 1440x720 with 1 Axes>"
      ]
     },
     "metadata": {
      "needs_background": "light"
     },
     "output_type": "display_data"
    }
   ],
   "source": [
    "# tv_num毎のy\n",
    "# -> テレビ数とyの大小傾向あり\n",
    "check_y = dat_tv[dat_tv[\"data\"]==\"Train\"].copy()\n",
    "sns.boxplot(x=\"tv_num\", y=\"y\", data=check_y)"
   ]
  },
  {
   "cell_type": "code",
   "execution_count": null,
   "metadata": {
    "id": "gH24ohFbvhGG",
    "outputId": "f349682d-ac2b-49d9-daf4-f1ca70c941e2"
   },
   "outputs": [
    {
     "data": {
      "text/plain": [
       "<AxesSubplot:xlabel='tv_nhk', ylabel='y'>"
      ]
     },
     "execution_count": 50,
     "metadata": {},
     "output_type": "execute_result"
    },
    {
     "data": {
      "image/png": "[encoded data removed]",
      "text/plain": [
       "<Figure size 1440x720 with 1 Axes>"
      ]
     },
     "metadata": {
      "needs_background": "light"
     },
     "output_type": "display_data"
    }
   ],
   "source": [
    "# nhk毎のy\n",
    "# -> NHKを含むとyは大きい傾向\n",
    "check_y = dat_tv[dat_tv[\"data\"]==\"Train\"].copy()\n",
    "sns.boxplot(x=\"tv_nhk\", y=\"y\", data=check_y)"
   ]
  },
  {
   "cell_type": "markdown",
   "metadata": {
    "id": "LG-H6NcEvhGG"
   },
   "source": [
    "### home_score, away_score"
   ]
  },
  {
   "cell_type": "code",
   "execution_count": null,
   "metadata": {
    "id": "iVA5PXSDvhGG",
    "outputId": "3bdcf6fc-52d8-444f-d1f9-3fbbb85053fe"
   },
   "outputs": [
    {
     "data": {
      "text/plain": [
       "<AxesSubplot:xlabel='home_score', ylabel='count'>"
      ]
     },
     "execution_count": 51,
     "metadata": {},
     "output_type": "execute_result"
    },
    {
     "data": {
      "image/png": "[encoded data removed]",
      "text/plain": [
       "<Figure size 1440x720 with 1 Axes>"
      ]
     },
     "metadata": {
      "needs_background": "light"
     },
     "output_type": "display_data"
    }
   ],
   "source": [
    "# home_score毎のデータ数(Train, Testも区別)\n",
    "sns.countplot(x=\"home_score\", hue=\"data\",data=dat)"
   ]
  },
  {
   "cell_type": "code",
   "execution_count": null,
   "metadata": {
    "id": "pXTIzae2vhGG",
    "outputId": "86911ee5-3ece-46e3-c411-94aa60300bfc"
   },
   "outputs": [
    {
     "data": {
      "text/plain": [
       "<AxesSubplot:xlabel='away_score', ylabel='count'>"
      ]
     },
     "execution_count": 52,
     "metadata": {},
     "output_type": "execute_result"
    },
    {
     "data": {
      "image/png": "[encoded data removed]",
      "text/plain": [
       "<Figure size 1440x720 with 1 Axes>"
      ]
     },
     "metadata": {
      "needs_background": "light"
     },
     "output_type": "display_data"
    }
   ],
   "source": [
    "# away_score毎のデータ数(Train, Testも区別)\n",
    "sns.countplot(x=\"away_score\", hue=\"data\",data=dat)"
   ]
  },
  {
   "cell_type": "code",
   "execution_count": null,
   "metadata": {
    "id": "CKtFdoL6vhGG",
    "outputId": "76ce7207-d096-425d-9f79-a3e43865b1ef"
   },
   "outputs": [
    {
     "data": {
      "text/plain": [
       "<AxesSubplot:xlabel='home_score', ylabel='y'>"
      ]
     },
     "execution_count": 53,
     "metadata": {},
     "output_type": "execute_result"
    },
    {
     "data": {
      "image/png": "[encoded data removed]",
      "text/plain": [
       "<Figure size 1440x720 with 1 Axes>"
      ]
     },
     "metadata": {
      "needs_background": "light"
     },
     "output_type": "display_data"
    }
   ],
   "source": [
    "# home_score毎のy\n",
    "# ->　若干高得点の試合はyが多い？\n",
    "check_y = dat[dat[\"data\"]==\"Train\"].copy()\n",
    "sns.boxplot(x=\"home_score\", y=\"y\", data=check_y)"
   ]
  },
  {
   "cell_type": "code",
   "execution_count": null,
   "metadata": {
    "id": "Gd9Y9QTbvhGG",
    "outputId": "06e313fb-d97a-4742-996a-9941891c39c4"
   },
   "outputs": [
    {
     "data": {
      "text/plain": [
       "<AxesSubplot:xlabel='away_score', ylabel='y'>"
      ]
     },
     "execution_count": 54,
     "metadata": {},
     "output_type": "execute_result"
    },
    {
     "data": {
      "image/png": "[encoded data removed]",
      "text/plain": [
       "<Figure size 1440x720 with 1 Axes>"
      ]
     },
     "metadata": {
      "needs_background": "light"
     },
     "output_type": "display_data"
    }
   ],
   "source": [
    "# away_score毎のy\n",
    "# ->　若干高得点の試合はyが多い？\n",
    "check_y = dat[dat[\"data\"]==\"Train\"].copy()\n",
    "sns.boxplot(x=\"away_score\", y=\"y\", data=check_y)"
   ]
  },
  {
   "cell_type": "markdown",
   "metadata": {
    "id": "5_M1ULnevhGG"
   },
   "source": [
    "### weather, temperature, humidity"
   ]
  },
  {
   "cell_type": "code",
   "execution_count": null,
   "metadata": {
    "id": "5JXVoPmzvhGG",
    "outputId": "23742779-b509-41b2-e667-e6ebefa2fbfe"
   },
   "outputs": [
    {
     "data": {
      "text/plain": [
       "晴           1002\n",
       "曇            499\n",
       "雨            192\n",
       "屋内            59\n",
       "曇のち雨          46\n",
       "雨のち曇          44\n",
       "晴のち曇          38\n",
       "曇のち晴          27\n",
       "曇時々雨          25\n",
       "晴時々曇          22\n",
       "曇一時雨          20\n",
       "曇時々晴          16\n",
       "晴のち雨           9\n",
       "晴一時雨           7\n",
       "雨のち晴           4\n",
       "雨時々曇           4\n",
       "晴一時曇           2\n",
       "晴時々雨           2\n",
       "曇一時雨のち晴        1\n",
       "曇のち雪           1\n",
       "曇一時雷雨のち曇       1\n",
       "雨のち曇時々晴        1\n",
       "雪のち雨           1\n",
       "曇一時晴           1\n",
       "雨時々晴           1\n",
       "晴のち雪           1\n",
       "雨のち曇一時雨        1\n",
       "曇時々晴一時雨        1\n",
       "曇一時晴一時雨        1\n",
       "晴のち曇一時雨        1\n",
       "晴のち曇時々雨        1\n",
       "曇のち雷雨          1\n",
       "晴時々雪           1\n",
       "曇時々雨のち晴        1\n",
       "Name: weather, dtype: int64"
      ]
     },
     "execution_count": 55,
     "metadata": {},
     "output_type": "execute_result"
    }
   ],
   "source": [
    "# 天気の種類確認\n",
    "# 最初の一文字で良さそう\n",
    "dat[\"weather\"].value_counts()"
   ]
  },
  {
   "cell_type": "code",
   "execution_count": null,
   "metadata": {
    "id": "_iL4zOhwvhGH"
   },
   "outputs": [],
   "source": [
    "dat_wea= dat[[\"weather\", \"y\", \"data\", \"stage\"]].copy()\n",
    "# 天気まとめる\n",
    "dat_wea[\"weather_cate\"] = dat_wea[\"weather\"].apply(lambda x: x[0])"
   ]
  },
  {
   "cell_type": "code",
   "execution_count": null,
   "metadata": {
    "id": "0HPVB0EJvhGH",
    "outputId": "fa9950b0-b91b-452e-e2d5-e3c13e475ec9"
   },
   "outputs": [
    {
     "data": {
      "text/plain": [
       "<AxesSubplot:xlabel='weather_cate', ylabel='count'>"
      ]
     },
     "execution_count": 57,
     "metadata": {},
     "output_type": "execute_result"
    },
    {
     "data": {
      "image/png": "[encoded data removed]",
      "text/plain": [
       "<Figure size 1440x720 with 1 Axes>"
      ]
     },
     "metadata": {
      "needs_background": "light"
     },
     "output_type": "display_data"
    }
   ],
   "source": [
    "# weather_cate毎のデータ数(Train, Testも区別)\n",
    "sns.countplot(x=\"weather_cate\", hue=\"data\",data=dat_wea)"
   ]
  },
  {
   "cell_type": "code",
   "execution_count": null,
   "metadata": {
    "id": "DF8mRBaovhGH",
    "outputId": "50837d51-2b41-4ec2-e354-e843a5ddafc5"
   },
   "outputs": [
    {
     "data": {
      "text/plain": [
       "<AxesSubplot:xlabel='weather_cate', ylabel='y'>"
      ]
     },
     "execution_count": 58,
     "metadata": {},
     "output_type": "execute_result"
    },
    {
     "data": {
      "image/png": "[encoded data removed]",
      "text/plain": [
       "<Figure size 1440x720 with 1 Axes>"
      ]
     },
     "metadata": {
      "needs_background": "light"
     },
     "output_type": "display_data"
    }
   ],
   "source": [
    "# weather_cate毎のy\n",
    "# ->　屋内はyが多い？, 雪はyが少ない\n",
    "check_y = dat_wea[dat_wea[\"data\"]==\"Train\"].copy()\n",
    "sns.boxplot(x=\"weather_cate\", y=\"y\", data=check_y)"
   ]
  },
  {
   "cell_type": "markdown",
   "metadata": {
    "id": "n8f3dtqVvhGH"
   },
   "source": [
    "### referee"
   ]
  },
  {
   "cell_type": "code",
   "execution_count": null,
   "metadata": {
    "id": "fwgNYChevhGH",
    "outputId": "b7b5c4d2-7a4a-412a-d8aa-a26959ce2ba9"
   },
   "outputs": [
    {
     "data": {
      "text/html": [
       "<div>\n",
       "<style scoped>\n",
       "    .dataframe tbody tr th:only-of-type {\n",
       "        vertical-align: middle;\n",
       "    }\n",
       "\n",
       "    .dataframe tbody tr th {\n",
       "        vertical-align: top;\n",
       "    }\n",
       "\n",
       "    .dataframe thead th {\n",
       "        text-align: right;\n",
       "    }\n",
       "</style>\n",
       "<table border=\"1\" class=\"dataframe\">\n",
       "  <thead>\n",
       "    <tr style=\"text-align: right;\">\n",
       "      <th>data</th>\n",
       "      <th>Test</th>\n",
       "      <th>Train</th>\n",
       "    </tr>\n",
       "    <tr>\n",
       "      <th>referee</th>\n",
       "      <th></th>\n",
       "      <th></th>\n",
       "    </tr>\n",
       "  </thead>\n",
       "  <tbody>\n",
       "    <tr>\n",
       "      <th>アントニオ　アリアス</th>\n",
       "      <td>0</td>\n",
       "      <td>4</td>\n",
       "    </tr>\n",
       "    <tr>\n",
       "      <th>クート　デービッド</th>\n",
       "      <td>0</td>\n",
       "      <td>2</td>\n",
       "    </tr>\n",
       "    <tr>\n",
       "      <th>ケビン　フレンド</th>\n",
       "      <td>0</td>\n",
       "      <td>2</td>\n",
       "    </tr>\n",
       "    <tr>\n",
       "      <th>シモン　マルチニアク</th>\n",
       "      <td>0</td>\n",
       "      <td>1</td>\n",
       "    </tr>\n",
       "    <tr>\n",
       "      <th>ジェームズ　アドコック</th>\n",
       "      <td>0</td>\n",
       "      <td>1</td>\n",
       "    </tr>\n",
       "    <tr>\n",
       "      <th>スティーブン　マーティン</th>\n",
       "      <td>0</td>\n",
       "      <td>2</td>\n",
       "    </tr>\n",
       "    <tr>\n",
       "      <th>ダーレン　デッドマン</th>\n",
       "      <td>0</td>\n",
       "      <td>1</td>\n",
       "    </tr>\n",
       "    <tr>\n",
       "      <th>ティアニー　ポール</th>\n",
       "      <td>0</td>\n",
       "      <td>2</td>\n",
       "    </tr>\n",
       "    <tr>\n",
       "      <th>パベル　ラチコフスキ</th>\n",
       "      <td>0</td>\n",
       "      <td>2</td>\n",
       "    </tr>\n",
       "    <tr>\n",
       "      <th>三上　正一郎</th>\n",
       "      <td>9</td>\n",
       "      <td>39</td>\n",
       "    </tr>\n",
       "    <tr>\n",
       "      <th>上村　篤史</th>\n",
       "      <td>0</td>\n",
       "      <td>8</td>\n",
       "    </tr>\n",
       "    <tr>\n",
       "      <th>上田　益也</th>\n",
       "      <td>10</td>\n",
       "      <td>47</td>\n",
       "    </tr>\n",
       "    <tr>\n",
       "      <th>中村　太</th>\n",
       "      <td>8</td>\n",
       "      <td>38</td>\n",
       "    </tr>\n",
       "    <tr>\n",
       "      <th>井上　知大</th>\n",
       "      <td>9</td>\n",
       "      <td>47</td>\n",
       "    </tr>\n",
       "    <tr>\n",
       "      <th>今村　亮一</th>\n",
       "      <td>0</td>\n",
       "      <td>10</td>\n",
       "    </tr>\n",
       "    <tr>\n",
       "      <th>今村　義朗</th>\n",
       "      <td>9</td>\n",
       "      <td>50</td>\n",
       "    </tr>\n",
       "    <tr>\n",
       "      <th>佐藤　隆治</th>\n",
       "      <td>10</td>\n",
       "      <td>69</td>\n",
       "    </tr>\n",
       "    <tr>\n",
       "      <th>前田　拓哉</th>\n",
       "      <td>5</td>\n",
       "      <td>48</td>\n",
       "    </tr>\n",
       "    <tr>\n",
       "      <th>吉田　哲朗</th>\n",
       "      <td>8</td>\n",
       "      <td>43</td>\n",
       "    </tr>\n",
       "    <tr>\n",
       "      <th>吉田　寿光</th>\n",
       "      <td>15</td>\n",
       "      <td>70</td>\n",
       "    </tr>\n",
       "    <tr>\n",
       "      <th>塚田　健太</th>\n",
       "      <td>7</td>\n",
       "      <td>28</td>\n",
       "    </tr>\n",
       "    <tr>\n",
       "      <th>塚田　智宏</th>\n",
       "      <td>3</td>\n",
       "      <td>9</td>\n",
       "    </tr>\n",
       "    <tr>\n",
       "      <th>大西　弘幸</th>\n",
       "      <td>0</td>\n",
       "      <td>16</td>\n",
       "    </tr>\n",
       "    <tr>\n",
       "      <th>家本　政明</th>\n",
       "      <td>15</td>\n",
       "      <td>63</td>\n",
       "    </tr>\n",
       "    <tr>\n",
       "      <th>小屋　幸栄</th>\n",
       "      <td>8</td>\n",
       "      <td>32</td>\n",
       "    </tr>\n",
       "    <tr>\n",
       "      <th>小川　直仁</th>\n",
       "      <td>0</td>\n",
       "      <td>10</td>\n",
       "    </tr>\n",
       "    <tr>\n",
       "      <th>山内　宏志</th>\n",
       "      <td>0</td>\n",
       "      <td>8</td>\n",
       "    </tr>\n",
       "    <tr>\n",
       "      <th>山本　雄大</th>\n",
       "      <td>7</td>\n",
       "      <td>49</td>\n",
       "    </tr>\n",
       "    <tr>\n",
       "      <th>岡　宏道</th>\n",
       "      <td>6</td>\n",
       "      <td>42</td>\n",
       "    </tr>\n",
       "    <tr>\n",
       "      <th>岡部　拓人</th>\n",
       "      <td>13</td>\n",
       "      <td>49</td>\n",
       "    </tr>\n",
       "    <tr>\n",
       "      <th>廣瀬　格</th>\n",
       "      <td>8</td>\n",
       "      <td>46</td>\n",
       "    </tr>\n",
       "    <tr>\n",
       "      <th>扇谷　健司</th>\n",
       "      <td>6</td>\n",
       "      <td>66</td>\n",
       "    </tr>\n",
       "    <tr>\n",
       "      <th>日比野　真</th>\n",
       "      <td>0</td>\n",
       "      <td>2</td>\n",
       "    </tr>\n",
       "    <tr>\n",
       "      <th>日高　晴樹</th>\n",
       "      <td>3</td>\n",
       "      <td>35</td>\n",
       "    </tr>\n",
       "    <tr>\n",
       "      <th>早川　一行</th>\n",
       "      <td>0</td>\n",
       "      <td>19</td>\n",
       "    </tr>\n",
       "    <tr>\n",
       "      <th>木村　博之</th>\n",
       "      <td>9</td>\n",
       "      <td>66</td>\n",
       "    </tr>\n",
       "    <tr>\n",
       "      <th>村上　伸次</th>\n",
       "      <td>13</td>\n",
       "      <td>71</td>\n",
       "    </tr>\n",
       "    <tr>\n",
       "      <th>東城　穣</th>\n",
       "      <td>9</td>\n",
       "      <td>65</td>\n",
       "    </tr>\n",
       "    <tr>\n",
       "      <th>松尾　一</th>\n",
       "      <td>12</td>\n",
       "      <td>61</td>\n",
       "    </tr>\n",
       "    <tr>\n",
       "      <th>松村　和彦</th>\n",
       "      <td>0</td>\n",
       "      <td>12</td>\n",
       "    </tr>\n",
       "    <tr>\n",
       "      <th>森川　浩次</th>\n",
       "      <td>7</td>\n",
       "      <td>32</td>\n",
       "    </tr>\n",
       "    <tr>\n",
       "      <th>榎本　一慶</th>\n",
       "      <td>11</td>\n",
       "      <td>45</td>\n",
       "    </tr>\n",
       "    <tr>\n",
       "      <th>池内　明彦</th>\n",
       "      <td>8</td>\n",
       "      <td>43</td>\n",
       "    </tr>\n",
       "    <tr>\n",
       "      <th>河合　英治</th>\n",
       "      <td>7</td>\n",
       "      <td>37</td>\n",
       "    </tr>\n",
       "    <tr>\n",
       "      <th>福島　孝一郎</th>\n",
       "      <td>12</td>\n",
       "      <td>44</td>\n",
       "    </tr>\n",
       "    <tr>\n",
       "      <th>窪田　陽輔</th>\n",
       "      <td>8</td>\n",
       "      <td>35</td>\n",
       "    </tr>\n",
       "    <tr>\n",
       "      <th>篠藤　巧</th>\n",
       "      <td>4</td>\n",
       "      <td>10</td>\n",
       "    </tr>\n",
       "    <tr>\n",
       "      <th>荒木　友輔</th>\n",
       "      <td>0</td>\n",
       "      <td>7</td>\n",
       "    </tr>\n",
       "    <tr>\n",
       "      <th>西村　雄一</th>\n",
       "      <td>15</td>\n",
       "      <td>49</td>\n",
       "    </tr>\n",
       "    <tr>\n",
       "      <th>野田　祐樹</th>\n",
       "      <td>7</td>\n",
       "      <td>46</td>\n",
       "    </tr>\n",
       "    <tr>\n",
       "      <th>長谷　拓</th>\n",
       "      <td>8</td>\n",
       "      <td>25</td>\n",
       "    </tr>\n",
       "    <tr>\n",
       "      <th>飯田　淳平</th>\n",
       "      <td>13</td>\n",
       "      <td>60</td>\n",
       "    </tr>\n",
       "    <tr>\n",
       "      <th>高山　啓義</th>\n",
       "      <td>11</td>\n",
       "      <td>53</td>\n",
       "    </tr>\n",
       "  </tbody>\n",
       "</table>\n",
       "</div>"
      ],
      "text/plain": [
       "data          Test  Train\n",
       "referee                  \n",
       "アントニオ　アリアス       0      4\n",
       "クート　デービッド        0      2\n",
       "ケビン　フレンド         0      2\n",
       "シモン　マルチニアク       0      1\n",
       "ジェームズ　アドコック      0      1\n",
       "スティーブン　マーティン     0      2\n",
       "ダーレン　デッドマン       0      1\n",
       "ティアニー　ポール        0      2\n",
       "パベル　ラチコフスキ       0      2\n",
       "三上　正一郎           9     39\n",
       "上村　篤史            0      8\n",
       "上田　益也           10     47\n",
       "中村　太             8     38\n",
       "井上　知大            9     47\n",
       "今村　亮一            0     10\n",
       "今村　義朗            9     50\n",
       "佐藤　隆治           10     69\n",
       "前田　拓哉            5     48\n",
       "吉田　哲朗            8     43\n",
       "吉田　寿光           15     70\n",
       "塚田　健太            7     28\n",
       "塚田　智宏            3      9\n",
       "大西　弘幸            0     16\n",
       "家本　政明           15     63\n",
       "小屋　幸栄            8     32\n",
       "小川　直仁            0     10\n",
       "山内　宏志            0      8\n",
       "山本　雄大            7     49\n",
       "岡　宏道             6     42\n",
       "岡部　拓人           13     49\n",
       "廣瀬　格             8     46\n",
       "扇谷　健司            6     66\n",
       "日比野　真            0      2\n",
       "日高　晴樹            3     35\n",
       "早川　一行            0     19\n",
       "木村　博之            9     66\n",
       "村上　伸次           13     71\n",
       "東城　穣             9     65\n",
       "松尾　一            12     61\n",
       "松村　和彦            0     12\n",
       "森川　浩次            7     32\n",
       "榎本　一慶           11     45\n",
       "池内　明彦            8     43\n",
       "河合　英治            7     37\n",
       "福島　孝一郎          12     44\n",
       "窪田　陽輔            8     35\n",
       "篠藤　巧             4     10\n",
       "荒木　友輔            0      7\n",
       "西村　雄一           15     49\n",
       "野田　祐樹            7     46\n",
       "長谷　拓             8     25\n",
       "飯田　淳平           13     60\n",
       "高山　啓義           11     53"
      ]
     },
     "execution_count": 59,
     "metadata": {},
     "output_type": "execute_result"
    }
   ],
   "source": [
    "pd.crosstab(dat[\"referee\"], dat[\"data\"])"
   ]
  },
  {
   "cell_type": "code",
   "execution_count": null,
   "metadata": {
    "id": "If5s6tFLvhGH",
    "outputId": "736665e2-741b-450f-87bd-f1279fbd1003"
   },
   "outputs": [
    {
     "data": {
      "text/plain": [
       "<AxesSubplot:xlabel='referee', ylabel='y'>"
      ]
     },
     "execution_count": 60,
     "metadata": {},
     "output_type": "execute_result"
    },
    {
     "data": {
      "image/png": "[encoded data removed]",
      "text/plain": [
       "<Figure size 1440x720 with 1 Axes>"
      ]
     },
     "metadata": {
      "needs_background": "light"
     },
     "output_type": "display_data"
    }
   ],
   "source": [
    "# referee毎のy(J1)\n",
    "# ->　あんまり差はない？\n",
    "check_y = dat[(dat[\"data\"]==\"Train\") & (dat[\"stage\"] == \"Ｊ１\")].copy()\n",
    "sns.boxplot(x=\"referee\", y=\"y\", data=check_y)"
   ]
  },
  {
   "cell_type": "code",
   "execution_count": null,
   "metadata": {
    "id": "OyJCg_78vhGH",
    "outputId": "9de13594-3dfd-4ecc-f7df-319a0aca93ea"
   },
   "outputs": [
    {
     "data": {
      "text/plain": [
       "<AxesSubplot:xlabel='referee', ylabel='y'>"
      ]
     },
     "execution_count": 61,
     "metadata": {},
     "output_type": "execute_result"
    },
    {
     "data": {
      "image/png": "[encoded data removed]",
      "text/plain": [
       "<Figure size 1440x720 with 1 Axes>"
      ]
     },
     "metadata": {
      "needs_background": "light"
     },
     "output_type": "display_data"
    }
   ],
   "source": [
    "# referee毎のy(J2)\n",
    "# ->　あんまり差はない？\n",
    "check_y = dat[(dat[\"data\"]==\"Train\") & (dat[\"stage\"] == \"Ｊ２\")].copy()\n",
    "sns.boxplot(x=\"referee\", y=\"y\", data=check_y)"
   ]
  },
  {
   "cell_type": "markdown",
   "metadata": {
    "id": "bZDHferrvhGH"
   },
   "source": [
    "### 選手名(home_xxx, away_xxx)"
   ]
  },
  {
   "cell_type": "code",
   "execution_count": null,
   "metadata": {
    "id": "HjcyQQGSvhGI",
    "outputId": "4ea99acd-e70d-4997-aa12-d075fb2a2580"
   },
   "outputs": [
    {
     "data": {
      "text/html": [
       "<div>\n",
       "<style scoped>\n",
       "    .dataframe tbody tr th:only-of-type {\n",
       "        vertical-align: middle;\n",
       "    }\n",
       "\n",
       "    .dataframe tbody tr th {\n",
       "        vertical-align: top;\n",
       "    }\n",
       "\n",
       "    .dataframe thead th {\n",
       "        text-align: right;\n",
       "    }\n",
       "</style>\n",
       "<table border=\"1\" class=\"dataframe\">\n",
       "  <thead>\n",
       "    <tr style=\"text-align: right;\">\n",
       "      <th></th>\n",
       "      <th>y</th>\n",
       "      <th>data</th>\n",
       "      <th>home</th>\n",
       "      <th>away</th>\n",
       "      <th>variable</th>\n",
       "      <th>value</th>\n",
       "    </tr>\n",
       "  </thead>\n",
       "  <tbody>\n",
       "    <tr>\n",
       "      <th>0</th>\n",
       "      <td>18250.0</td>\n",
       "      <td>Train</td>\n",
       "      <td>ベガルタ仙台</td>\n",
       "      <td>鹿島アントラーズ</td>\n",
       "      <td>home_01</td>\n",
       "      <td>林　卓人</td>\n",
       "    </tr>\n",
       "    <tr>\n",
       "      <th>1</th>\n",
       "      <td>11831.0</td>\n",
       "      <td>Train</td>\n",
       "      <td>ベガルタ仙台</td>\n",
       "      <td>大宮アルディージャ</td>\n",
       "      <td>home_01</td>\n",
       "      <td>林　卓人</td>\n",
       "    </tr>\n",
       "    <tr>\n",
       "      <th>2</th>\n",
       "      <td>13147.0</td>\n",
       "      <td>Train</td>\n",
       "      <td>ベガルタ仙台</td>\n",
       "      <td>ジュビロ磐田</td>\n",
       "      <td>home_01</td>\n",
       "      <td>林　卓人</td>\n",
       "    </tr>\n",
       "    <tr>\n",
       "      <th>3</th>\n",
       "      <td>17192.0</td>\n",
       "      <td>Train</td>\n",
       "      <td>ベガルタ仙台</td>\n",
       "      <td>ＦＣ東京</td>\n",
       "      <td>home_01</td>\n",
       "      <td>林　卓人</td>\n",
       "    </tr>\n",
       "    <tr>\n",
       "      <th>4</th>\n",
       "      <td>18525.0</td>\n",
       "      <td>Train</td>\n",
       "      <td>ベガルタ仙台</td>\n",
       "      <td>清水エスパルス</td>\n",
       "      <td>home_01</td>\n",
       "      <td>林　卓人</td>\n",
       "    </tr>\n",
       "  </tbody>\n",
       "</table>\n",
       "</div>"
      ],
      "text/plain": [
       "         y   data    home       away variable value\n",
       "0  18250.0  Train  ベガルタ仙台   鹿島アントラーズ  home_01  林　卓人\n",
       "1  11831.0  Train  ベガルタ仙台  大宮アルディージャ  home_01  林　卓人\n",
       "2  13147.0  Train  ベガルタ仙台     ジュビロ磐田  home_01  林　卓人\n",
       "3  17192.0  Train  ベガルタ仙台       ＦＣ東京  home_01  林　卓人\n",
       "4  18525.0  Train  ベガルタ仙台    清水エスパルス  home_01  林　卓人"
      ]
     },
     "execution_count": 62,
     "metadata": {},
     "output_type": "execute_result"
    }
   ],
   "source": [
    "dat_player = dat[[\n",
    "    \"y\", \"data\", \"home\", \"away\",\n",
    "    \"home_01\", \"home_02\", \"home_03\", \"home_04\", \"home_05\",\n",
    "    \"home_06\", \"home_07\", \"home_08\", \"home_09\", \"home_10\", \"home_11\",\n",
    "    \"away_01\", \"away_02\", \"away_03\", \"away_04\", \"away_05\",\n",
    "    \"away_06\", \"away_07\", \"away_08\", \"away_09\", \"away_10\", \"away_11\"]].copy()\n",
    "dat_player = dat_player.melt(id_vars=[\"y\", \"data\", \"home\", \"away\"])\n",
    "dat_player.head()"
   ]
  },
  {
   "cell_type": "code",
   "execution_count": null,
   "metadata": {
    "id": "Z3Bk-MqVvhGI",
    "outputId": "2d2fb74e-e725-4f4c-d496-725671774da5"
   },
   "outputs": [
    {
     "data": {
      "text/html": [
       "<div>\n",
       "<style scoped>\n",
       "    .dataframe tbody tr th:only-of-type {\n",
       "        vertical-align: middle;\n",
       "    }\n",
       "\n",
       "    .dataframe tbody tr th {\n",
       "        vertical-align: top;\n",
       "    }\n",
       "\n",
       "    .dataframe thead th {\n",
       "        text-align: right;\n",
       "    }\n",
       "</style>\n",
       "<table border=\"1\" class=\"dataframe\">\n",
       "  <thead>\n",
       "    <tr style=\"text-align: right;\">\n",
       "      <th>data</th>\n",
       "      <th>Test</th>\n",
       "      <th>Train</th>\n",
       "    </tr>\n",
       "    <tr>\n",
       "      <th>value</th>\n",
       "      <th></th>\n",
       "      <th></th>\n",
       "    </tr>\n",
       "  </thead>\n",
       "  <tbody>\n",
       "    <tr>\n",
       "      <th>秋元　陽太</th>\n",
       "      <td>16</td>\n",
       "      <td>100</td>\n",
       "    </tr>\n",
       "    <tr>\n",
       "      <th>片山　奨典</th>\n",
       "      <td>14</td>\n",
       "      <td>95</td>\n",
       "    </tr>\n",
       "    <tr>\n",
       "      <th>佐藤　優也</th>\n",
       "      <td>11</td>\n",
       "      <td>95</td>\n",
       "    </tr>\n",
       "    <tr>\n",
       "      <th>飯田　真輝</th>\n",
       "      <td>16</td>\n",
       "      <td>95</td>\n",
       "    </tr>\n",
       "    <tr>\n",
       "      <th>南　雄太</th>\n",
       "      <td>17</td>\n",
       "      <td>93</td>\n",
       "    </tr>\n",
       "    <tr>\n",
       "      <th>...</th>\n",
       "      <td>...</td>\n",
       "      <td>...</td>\n",
       "    </tr>\n",
       "    <tr>\n",
       "      <th>浅野　拓磨</th>\n",
       "      <td>2</td>\n",
       "      <td>0</td>\n",
       "    </tr>\n",
       "    <tr>\n",
       "      <th>三浦　弦太</th>\n",
       "      <td>5</td>\n",
       "      <td>0</td>\n",
       "    </tr>\n",
       "    <tr>\n",
       "      <th>江口　直生</th>\n",
       "      <td>2</td>\n",
       "      <td>0</td>\n",
       "    </tr>\n",
       "    <tr>\n",
       "      <th>永井　龍</th>\n",
       "      <td>9</td>\n",
       "      <td>0</td>\n",
       "    </tr>\n",
       "    <tr>\n",
       "      <th>アドリアーノ</th>\n",
       "      <td>6</td>\n",
       "      <td>0</td>\n",
       "    </tr>\n",
       "  </tbody>\n",
       "</table>\n",
       "<p>1323 rows × 2 columns</p>\n",
       "</div>"
      ],
      "text/plain": [
       "data    Test  Train\n",
       "value              \n",
       "秋元　陽太     16    100\n",
       "片山　奨典     14     95\n",
       "佐藤　優也     11     95\n",
       "飯田　真輝     16     95\n",
       "南　雄太      17     93\n",
       "...      ...    ...\n",
       "浅野　拓磨      2      0\n",
       "三浦　弦太      5      0\n",
       "江口　直生      2      0\n",
       "永井　龍       9      0\n",
       "アドリアーノ     6      0\n",
       "\n",
       "[1323 rows x 2 columns]"
      ]
     },
     "execution_count": 63,
     "metadata": {},
     "output_type": "execute_result"
    }
   ],
   "source": [
    "# 先発メンバー登場数\n",
    "pd.crosstab(dat_player[\"value\"], dat_player[\"data\"]).sort_values(\"Train\", ascending=False)"
   ]
  },
  {
   "cell_type": "code",
   "execution_count": null,
   "metadata": {
    "id": "KvGr1jtnvhGI"
   },
   "outputs": [],
   "source": [
    "# 先発メンバー毎のyの値(top20)\n",
    "# ->　チームに引っ張られている？\n",
    "check_y = dat_player[dat_player[\"data\"]==\"Train\"].copy().reset_index(drop=False)\n",
    "top20_home = check_y.groupby([\"home\", \"value\"]).agg(\n",
    "    {\"y\": np.mean}).sort_values(\"y\", ascending=False).reset_index(drop=False).iloc[0:20,:]\n",
    "top20_away = check_y.groupby([\"away\", \"value\"]).agg(\n",
    "    {\"y\": np.mean}).sort_values(\"y\", ascending=False).reset_index(drop=False).iloc[0:20,:]"
   ]
  },
  {
   "cell_type": "code",
   "execution_count": null,
   "metadata": {
    "id": "mOAWlJsFvhGI",
    "outputId": "c835bf85-65b7-453c-faea-7111df007aed"
   },
   "outputs": [
    {
     "data": {
      "text/html": [
       "<div>\n",
       "<style scoped>\n",
       "    .dataframe tbody tr th:only-of-type {\n",
       "        vertical-align: middle;\n",
       "    }\n",
       "\n",
       "    .dataframe tbody tr th {\n",
       "        vertical-align: top;\n",
       "    }\n",
       "\n",
       "    .dataframe thead th {\n",
       "        text-align: right;\n",
       "    }\n",
       "</style>\n",
       "<table border=\"1\" class=\"dataframe\">\n",
       "  <thead>\n",
       "    <tr style=\"text-align: right;\">\n",
       "      <th></th>\n",
       "      <th>home</th>\n",
       "      <th>value</th>\n",
       "      <th>y</th>\n",
       "    </tr>\n",
       "  </thead>\n",
       "  <tbody>\n",
       "    <tr>\n",
       "      <th>0</th>\n",
       "      <td>浦和レッズ</td>\n",
       "      <td>エジノ</td>\n",
       "      <td>54905.0</td>\n",
       "    </tr>\n",
       "    <tr>\n",
       "      <th>1</th>\n",
       "      <td>浦和レッズ</td>\n",
       "      <td>扇原　貴宏</td>\n",
       "      <td>54905.0</td>\n",
       "    </tr>\n",
       "    <tr>\n",
       "      <th>2</th>\n",
       "      <td>浦和レッズ</td>\n",
       "      <td>山下　達也</td>\n",
       "      <td>54627.5</td>\n",
       "    </tr>\n",
       "    <tr>\n",
       "      <th>3</th>\n",
       "      <td>浦和レッズ</td>\n",
       "      <td>南野　拓実</td>\n",
       "      <td>54627.5</td>\n",
       "    </tr>\n",
       "    <tr>\n",
       "      <th>4</th>\n",
       "      <td>浦和レッズ</td>\n",
       "      <td>フォルラン</td>\n",
       "      <td>54350.0</td>\n",
       "    </tr>\n",
       "    <tr>\n",
       "      <th>5</th>\n",
       "      <td>浦和レッズ</td>\n",
       "      <td>山口　蛍</td>\n",
       "      <td>54350.0</td>\n",
       "    </tr>\n",
       "    <tr>\n",
       "      <th>6</th>\n",
       "      <td>浦和レッズ</td>\n",
       "      <td>ゴイコ　カチャル</td>\n",
       "      <td>54350.0</td>\n",
       "    </tr>\n",
       "    <tr>\n",
       "      <th>7</th>\n",
       "      <td>浦和レッズ</td>\n",
       "      <td>ヤキモフスキー</td>\n",
       "      <td>52293.0</td>\n",
       "    </tr>\n",
       "    <tr>\n",
       "      <th>8</th>\n",
       "      <td>浦和レッズ</td>\n",
       "      <td>矢野　貴章</td>\n",
       "      <td>52293.0</td>\n",
       "    </tr>\n",
       "    <tr>\n",
       "      <th>9</th>\n",
       "      <td>浦和レッズ</td>\n",
       "      <td>中村　直志</td>\n",
       "      <td>52293.0</td>\n",
       "    </tr>\n",
       "    <tr>\n",
       "      <th>10</th>\n",
       "      <td>浦和レッズ</td>\n",
       "      <td>阿部　翔平</td>\n",
       "      <td>52086.0</td>\n",
       "    </tr>\n",
       "    <tr>\n",
       "      <th>11</th>\n",
       "      <td>浦和レッズ</td>\n",
       "      <td>田中　隼磨</td>\n",
       "      <td>52086.0</td>\n",
       "    </tr>\n",
       "    <tr>\n",
       "      <th>12</th>\n",
       "      <td>浦和レッズ</td>\n",
       "      <td>増川　隆洋</td>\n",
       "      <td>52086.0</td>\n",
       "    </tr>\n",
       "    <tr>\n",
       "      <th>13</th>\n",
       "      <td>浦和レッズ</td>\n",
       "      <td>小川　佳純</td>\n",
       "      <td>52086.0</td>\n",
       "    </tr>\n",
       "    <tr>\n",
       "      <th>14</th>\n",
       "      <td>浦和レッズ</td>\n",
       "      <td>楢﨑　正剛</td>\n",
       "      <td>52086.0</td>\n",
       "    </tr>\n",
       "    <tr>\n",
       "      <th>15</th>\n",
       "      <td>浦和レッズ</td>\n",
       "      <td>ダニエル</td>\n",
       "      <td>52086.0</td>\n",
       "    </tr>\n",
       "    <tr>\n",
       "      <th>16</th>\n",
       "      <td>浦和レッズ</td>\n",
       "      <td>ダニルソン</td>\n",
       "      <td>52086.0</td>\n",
       "    </tr>\n",
       "    <tr>\n",
       "      <th>17</th>\n",
       "      <td>浦和レッズ</td>\n",
       "      <td>田口　泰士</td>\n",
       "      <td>51879.0</td>\n",
       "    </tr>\n",
       "    <tr>\n",
       "      <th>18</th>\n",
       "      <td>浦和レッズ</td>\n",
       "      <td>永井　謙佑</td>\n",
       "      <td>51879.0</td>\n",
       "    </tr>\n",
       "    <tr>\n",
       "      <th>19</th>\n",
       "      <td>浦和レッズ</td>\n",
       "      <td>玉田　圭司</td>\n",
       "      <td>51879.0</td>\n",
       "    </tr>\n",
       "  </tbody>\n",
       "</table>\n",
       "</div>"
      ],
      "text/plain": [
       "     home     value        y\n",
       "0   浦和レッズ       エジノ  54905.0\n",
       "1   浦和レッズ     扇原　貴宏  54905.0\n",
       "2   浦和レッズ     山下　達也  54627.5\n",
       "3   浦和レッズ     南野　拓実  54627.5\n",
       "4   浦和レッズ     フォルラン  54350.0\n",
       "5   浦和レッズ      山口　蛍  54350.0\n",
       "6   浦和レッズ  ゴイコ　カチャル  54350.0\n",
       "7   浦和レッズ   ヤキモフスキー  52293.0\n",
       "8   浦和レッズ     矢野　貴章  52293.0\n",
       "9   浦和レッズ     中村　直志  52293.0\n",
       "10  浦和レッズ     阿部　翔平  52086.0\n",
       "11  浦和レッズ     田中　隼磨  52086.0\n",
       "12  浦和レッズ     増川　隆洋  52086.0\n",
       "13  浦和レッズ     小川　佳純  52086.0\n",
       "14  浦和レッズ     楢﨑　正剛  52086.0\n",
       "15  浦和レッズ      ダニエル  52086.0\n",
       "16  浦和レッズ     ダニルソン  52086.0\n",
       "17  浦和レッズ     田口　泰士  51879.0\n",
       "18  浦和レッズ     永井　謙佑  51879.0\n",
       "19  浦和レッズ     玉田　圭司  51879.0"
      ]
     },
     "execution_count": 65,
     "metadata": {},
     "output_type": "execute_result"
    }
   ],
   "source": [
    "top20_home"
   ]
  },
  {
   "cell_type": "code",
   "execution_count": null,
   "metadata": {
    "id": "nwolyIV2vhGI",
    "outputId": "06b8d82c-fb47-4fec-9b2d-da8cbfeacb57"
   },
   "outputs": [
    {
     "data": {
      "text/html": [
       "<div>\n",
       "<style scoped>\n",
       "    .dataframe tbody tr th:only-of-type {\n",
       "        vertical-align: middle;\n",
       "    }\n",
       "\n",
       "    .dataframe tbody tr th {\n",
       "        vertical-align: top;\n",
       "    }\n",
       "\n",
       "    .dataframe thead th {\n",
       "        text-align: right;\n",
       "    }\n",
       "</style>\n",
       "<table border=\"1\" class=\"dataframe\">\n",
       "  <thead>\n",
       "    <tr style=\"text-align: right;\">\n",
       "      <th></th>\n",
       "      <th>away</th>\n",
       "      <th>value</th>\n",
       "      <th>y</th>\n",
       "    </tr>\n",
       "  </thead>\n",
       "  <tbody>\n",
       "    <tr>\n",
       "      <th>0</th>\n",
       "      <td>セレッソ大阪</td>\n",
       "      <td>山岸　範宏</td>\n",
       "      <td>54905.000000</td>\n",
       "    </tr>\n",
       "    <tr>\n",
       "      <th>1</th>\n",
       "      <td>セレッソ大阪</td>\n",
       "      <td>平川　忠亮</td>\n",
       "      <td>54905.000000</td>\n",
       "    </tr>\n",
       "    <tr>\n",
       "      <th>2</th>\n",
       "      <td>名古屋グランパス</td>\n",
       "      <td>原口　元気</td>\n",
       "      <td>52293.000000</td>\n",
       "    </tr>\n",
       "    <tr>\n",
       "      <th>3</th>\n",
       "      <td>名古屋グランパス</td>\n",
       "      <td>永田　充</td>\n",
       "      <td>52293.000000</td>\n",
       "    </tr>\n",
       "    <tr>\n",
       "      <th>4</th>\n",
       "      <td>名古屋グランパス</td>\n",
       "      <td>柏木　陽介</td>\n",
       "      <td>52086.000000</td>\n",
       "    </tr>\n",
       "    <tr>\n",
       "      <th>5</th>\n",
       "      <td>名古屋グランパス</td>\n",
       "      <td>梅崎　司</td>\n",
       "      <td>52086.000000</td>\n",
       "    </tr>\n",
       "    <tr>\n",
       "      <th>6</th>\n",
       "      <td>名古屋グランパス</td>\n",
       "      <td>鈴木　啓太</td>\n",
       "      <td>52086.000000</td>\n",
       "    </tr>\n",
       "    <tr>\n",
       "      <th>7</th>\n",
       "      <td>名古屋グランパス</td>\n",
       "      <td>阿部　勇樹</td>\n",
       "      <td>52086.000000</td>\n",
       "    </tr>\n",
       "    <tr>\n",
       "      <th>8</th>\n",
       "      <td>名古屋グランパス</td>\n",
       "      <td>加藤　順大</td>\n",
       "      <td>52086.000000</td>\n",
       "    </tr>\n",
       "    <tr>\n",
       "      <th>9</th>\n",
       "      <td>名古屋グランパス</td>\n",
       "      <td>宇賀神　友弥</td>\n",
       "      <td>52086.000000</td>\n",
       "    </tr>\n",
       "    <tr>\n",
       "      <th>10</th>\n",
       "      <td>名古屋グランパス</td>\n",
       "      <td>槙野　智章</td>\n",
       "      <td>52086.000000</td>\n",
       "    </tr>\n",
       "    <tr>\n",
       "      <th>11</th>\n",
       "      <td>名古屋グランパス</td>\n",
       "      <td>坪井　慶介</td>\n",
       "      <td>51879.000000</td>\n",
       "    </tr>\n",
       "    <tr>\n",
       "      <th>12</th>\n",
       "      <td>名古屋グランパス</td>\n",
       "      <td>マルシオ　リシャルデス</td>\n",
       "      <td>51879.000000</td>\n",
       "    </tr>\n",
       "    <tr>\n",
       "      <th>13</th>\n",
       "      <td>名古屋グランパス</td>\n",
       "      <td>平川　忠亮</td>\n",
       "      <td>51879.000000</td>\n",
       "    </tr>\n",
       "    <tr>\n",
       "      <th>14</th>\n",
       "      <td>名古屋グランパス</td>\n",
       "      <td>山田　暢久</td>\n",
       "      <td>51879.000000</td>\n",
       "    </tr>\n",
       "    <tr>\n",
       "      <th>15</th>\n",
       "      <td>大宮アルディージャ</td>\n",
       "      <td>宇賀神　友弥</td>\n",
       "      <td>47790.000000</td>\n",
       "    </tr>\n",
       "    <tr>\n",
       "      <th>16</th>\n",
       "      <td>大宮アルディージャ</td>\n",
       "      <td>山岸　範宏</td>\n",
       "      <td>47790.000000</td>\n",
       "    </tr>\n",
       "    <tr>\n",
       "      <th>17</th>\n",
       "      <td>セレッソ大阪</td>\n",
       "      <td>森脇　良太</td>\n",
       "      <td>47326.333333</td>\n",
       "    </tr>\n",
       "    <tr>\n",
       "      <th>18</th>\n",
       "      <td>セレッソ大阪</td>\n",
       "      <td>宇賀神　友弥</td>\n",
       "      <td>47115.000000</td>\n",
       "    </tr>\n",
       "    <tr>\n",
       "      <th>19</th>\n",
       "      <td>セレッソ大阪</td>\n",
       "      <td>原口　元気</td>\n",
       "      <td>47115.000000</td>\n",
       "    </tr>\n",
       "  </tbody>\n",
       "</table>\n",
       "</div>"
      ],
      "text/plain": [
       "         away        value             y\n",
       "0      セレッソ大阪        山岸　範宏  54905.000000\n",
       "1      セレッソ大阪        平川　忠亮  54905.000000\n",
       "2    名古屋グランパス        原口　元気  52293.000000\n",
       "3    名古屋グランパス         永田　充  52293.000000\n",
       "4    名古屋グランパス        柏木　陽介  52086.000000\n",
       "5    名古屋グランパス         梅崎　司  52086.000000\n",
       "6    名古屋グランパス        鈴木　啓太  52086.000000\n",
       "7    名古屋グランパス        阿部　勇樹  52086.000000\n",
       "8    名古屋グランパス        加藤　順大  52086.000000\n",
       "9    名古屋グランパス       宇賀神　友弥  52086.000000\n",
       "10   名古屋グランパス        槙野　智章  52086.000000\n",
       "11   名古屋グランパス        坪井　慶介  51879.000000\n",
       "12   名古屋グランパス  マルシオ　リシャルデス  51879.000000\n",
       "13   名古屋グランパス        平川　忠亮  51879.000000\n",
       "14   名古屋グランパス        山田　暢久  51879.000000\n",
       "15  大宮アルディージャ       宇賀神　友弥  47790.000000\n",
       "16  大宮アルディージャ        山岸　範宏  47790.000000\n",
       "17     セレッソ大阪        森脇　良太  47326.333333\n",
       "18     セレッソ大阪       宇賀神　友弥  47115.000000\n",
       "19     セレッソ大阪        原口　元気  47115.000000"
      ]
     },
     "execution_count": 66,
     "metadata": {},
     "output_type": "execute_result"
    }
   ],
   "source": [
    "top20_away"
   ]
  },
  {
   "cell_type": "code",
   "execution_count": null,
   "metadata": {
    "id": "NxcWe8qwvhGI"
   },
   "outputs": [],
   "source": [
    "# チームごとに選手の平均観客動員数の偏差値(home)\n",
    "# チーム平均からの乖離がある選手はそこそこいる, 選手人気か？\n",
    "team_mean_std = check_y[check_y[\"variable\"].str.startswith(\"home_\")].groupby([\"home\"]).agg(\n",
    "    {\"y\": [np.std, np.mean]}).reset_index(drop=False)\n",
    "team_mean_std.columns = [\"home\", \"y_std\", \"y_mean\"]\n",
    "player_mean = check_y[check_y[\"variable\"].str.startswith(\"home_\")].groupby([\"home\", \"value\"]).agg(\n",
    "    {\"y\": np.mean, \"data\": \"count\"}).reset_index(drop=False)\n",
    "player_mean.columns = [\"home\", \"value\", \"y\", \"N\"]\n",
    "player_T_score = pd.merge(player_mean, team_mean_std, how=\"inner\", on=\"home\")\n",
    "player_T_score[\"T_score\"] = 10 * (player_T_score[\"y\"] - player_T_score[\"y_mean\"]) / player_T_score[\"y_std\"] + 50"
   ]
  },
  {
   "cell_type": "code",
   "execution_count": null,
   "metadata": {
    "id": "2hkCdjyKvhGI",
    "outputId": "629757f7-1dcf-46a5-b47a-4c38014afffa"
   },
   "outputs": [
    {
     "data": {
      "text/html": [
       "<div>\n",
       "<style scoped>\n",
       "    .dataframe tbody tr th:only-of-type {\n",
       "        vertical-align: middle;\n",
       "    }\n",
       "\n",
       "    .dataframe tbody tr th {\n",
       "        vertical-align: top;\n",
       "    }\n",
       "\n",
       "    .dataframe thead th {\n",
       "        text-align: right;\n",
       "    }\n",
       "</style>\n",
       "<table border=\"1\" class=\"dataframe\">\n",
       "  <thead>\n",
       "    <tr style=\"text-align: right;\">\n",
       "      <th></th>\n",
       "      <th>home</th>\n",
       "      <th>value</th>\n",
       "      <th>y</th>\n",
       "      <th>N</th>\n",
       "      <th>y_std</th>\n",
       "      <th>y_mean</th>\n",
       "      <th>T_score</th>\n",
       "    </tr>\n",
       "  </thead>\n",
       "  <tbody>\n",
       "    <tr>\n",
       "      <th>783</th>\n",
       "      <td>名古屋グランパス</td>\n",
       "      <td>ハーフナー　ニッキ</td>\n",
       "      <td>38966.0</td>\n",
       "      <td>1</td>\n",
       "      <td>6251.181942</td>\n",
       "      <td>16449.914286</td>\n",
       "      <td>86.018926</td>\n",
       "    </tr>\n",
       "    <tr>\n",
       "      <th>1350</th>\n",
       "      <td>清水エスパルス</td>\n",
       "      <td>犬飼　智也</td>\n",
       "      <td>23188.0</td>\n",
       "      <td>1</td>\n",
       "      <td>2982.527024</td>\n",
       "      <td>14573.512821</td>\n",
       "      <td>78.883182</td>\n",
       "    </tr>\n",
       "    <tr>\n",
       "      <th>758</th>\n",
       "      <td>京都サンガF.C.</td>\n",
       "      <td>内野　貴志</td>\n",
       "      <td>13916.0</td>\n",
       "      <td>2</td>\n",
       "      <td>2404.966187</td>\n",
       "      <td>7494.260870</td>\n",
       "      <td>76.701993</td>\n",
       "    </tr>\n",
       "    <tr>\n",
       "      <th>1117</th>\n",
       "      <td>柏レイソル</td>\n",
       "      <td>水野　晃樹</td>\n",
       "      <td>25782.5</td>\n",
       "      <td>2</td>\n",
       "      <td>5393.210803</td>\n",
       "      <td>12980.829268</td>\n",
       "      <td>73.736641</td>\n",
       "    </tr>\n",
       "    <tr>\n",
       "      <th>49</th>\n",
       "      <td>アルビレックス新潟</td>\n",
       "      <td>小泉　慶</td>\n",
       "      <td>35533.0</td>\n",
       "      <td>1</td>\n",
       "      <td>4958.859812</td>\n",
       "      <td>25248.621622</td>\n",
       "      <td>70.739401</td>\n",
       "    </tr>\n",
       "    <tr>\n",
       "      <th>946</th>\n",
       "      <td>徳島ヴォルティス</td>\n",
       "      <td>小暮　大器</td>\n",
       "      <td>9149.0</td>\n",
       "      <td>2</td>\n",
       "      <td>2185.870681</td>\n",
       "      <td>4786.708333</td>\n",
       "      <td>69.956769</td>\n",
       "    </tr>\n",
       "    <tr>\n",
       "      <th>1166</th>\n",
       "      <td>栃木ＳＣ</td>\n",
       "      <td>西岡　大輝</td>\n",
       "      <td>7513.5</td>\n",
       "      <td>2</td>\n",
       "      <td>1559.279927</td>\n",
       "      <td>4468.460000</td>\n",
       "      <td>69.528501</td>\n",
       "    </tr>\n",
       "    <tr>\n",
       "      <th>950</th>\n",
       "      <td>徳島ヴォルティス</td>\n",
       "      <td>李　栄直</td>\n",
       "      <td>8568.5</td>\n",
       "      <td>2</td>\n",
       "      <td>2185.870681</td>\n",
       "      <td>4786.708333</td>\n",
       "      <td>67.301077</td>\n",
       "    </tr>\n",
       "    <tr>\n",
       "      <th>997</th>\n",
       "      <td>愛媛ＦＣ</td>\n",
       "      <td>福田　健二</td>\n",
       "      <td>6612.0</td>\n",
       "      <td>1</td>\n",
       "      <td>1620.069842</td>\n",
       "      <td>3828.568627</td>\n",
       "      <td>67.180934</td>\n",
       "    </tr>\n",
       "    <tr>\n",
       "      <th>154</th>\n",
       "      <td>ガイナーレ鳥取</td>\n",
       "      <td>安藤　由翔</td>\n",
       "      <td>6816.5</td>\n",
       "      <td>2</td>\n",
       "      <td>1806.451696</td>\n",
       "      <td>3749.057143</td>\n",
       "      <td>66.980486</td>\n",
       "    </tr>\n",
       "    <tr>\n",
       "      <th>545</th>\n",
       "      <td>ファジアーノ岡山</td>\n",
       "      <td>椎名　一馬</td>\n",
       "      <td>12359.0</td>\n",
       "      <td>1</td>\n",
       "      <td>2416.579276</td>\n",
       "      <td>8258.446809</td>\n",
       "      <td>66.968420</td>\n",
       "    </tr>\n",
       "    <tr>\n",
       "      <th>771</th>\n",
       "      <td>京都サンガF.C.</td>\n",
       "      <td>田村　亮介</td>\n",
       "      <td>11512.5</td>\n",
       "      <td>2</td>\n",
       "      <td>2404.966187</td>\n",
       "      <td>7494.260870</td>\n",
       "      <td>66.708090</td>\n",
       "    </tr>\n",
       "    <tr>\n",
       "      <th>868</th>\n",
       "      <td>大宮アルディージャ</td>\n",
       "      <td>増田　誓志</td>\n",
       "      <td>13348.0</td>\n",
       "      <td>1</td>\n",
       "      <td>1580.161407</td>\n",
       "      <td>10779.916667</td>\n",
       "      <td>66.252032</td>\n",
       "    </tr>\n",
       "    <tr>\n",
       "      <th>1494</th>\n",
       "      <td>ＦＣ東京</td>\n",
       "      <td>丸山　祐市</td>\n",
       "      <td>34822.0</td>\n",
       "      <td>1</td>\n",
       "      <td>6567.695792</td>\n",
       "      <td>24850.763158</td>\n",
       "      <td>65.182245</td>\n",
       "    </tr>\n",
       "    <tr>\n",
       "      <th>1428</th>\n",
       "      <td>鹿島アントラーズ</td>\n",
       "      <td>豊川　雄太</td>\n",
       "      <td>23566.0</td>\n",
       "      <td>2</td>\n",
       "      <td>5637.919944</td>\n",
       "      <td>15710.888889</td>\n",
       "      <td>63.932640</td>\n",
       "    </tr>\n",
       "    <tr>\n",
       "      <th>1376</th>\n",
       "      <td>湘南ベルマーレ</td>\n",
       "      <td>大竹　洋平</td>\n",
       "      <td>11188.0</td>\n",
       "      <td>1</td>\n",
       "      <td>2292.157970</td>\n",
       "      <td>8038.326087</td>\n",
       "      <td>63.741086</td>\n",
       "    </tr>\n",
       "    <tr>\n",
       "      <th>1140</th>\n",
       "      <td>栃木ＳＣ</td>\n",
       "      <td>三都主　アレサンドロ</td>\n",
       "      <td>6601.5</td>\n",
       "      <td>6</td>\n",
       "      <td>1559.279927</td>\n",
       "      <td>4468.460000</td>\n",
       "      <td>63.679648</td>\n",
       "    </tr>\n",
       "    <tr>\n",
       "      <th>1449</th>\n",
       "      <td>ＦＣ岐阜</td>\n",
       "      <td>太田　圭輔</td>\n",
       "      <td>9659.0</td>\n",
       "      <td>4</td>\n",
       "      <td>3110.056955</td>\n",
       "      <td>5406.104167</td>\n",
       "      <td>63.674656</td>\n",
       "    </tr>\n",
       "    <tr>\n",
       "      <th>1094</th>\n",
       "      <td>松本山雅ＦＣ</td>\n",
       "      <td>阿部　巧</td>\n",
       "      <td>14070.5</td>\n",
       "      <td>2</td>\n",
       "      <td>2497.616869</td>\n",
       "      <td>10674.448980</td>\n",
       "      <td>63.597166</td>\n",
       "    </tr>\n",
       "    <tr>\n",
       "      <th>1360</th>\n",
       "      <td>湘南ベルマーレ</td>\n",
       "      <td>アレックス　サンターナ</td>\n",
       "      <td>11113.8</td>\n",
       "      <td>5</td>\n",
       "      <td>2292.157970</td>\n",
       "      <td>8038.326087</td>\n",
       "      <td>63.417373</td>\n",
       "    </tr>\n",
       "  </tbody>\n",
       "</table>\n",
       "</div>"
      ],
      "text/plain": [
       "           home        value        y  N        y_std        y_mean    T_score\n",
       "783    名古屋グランパス    ハーフナー　ニッキ  38966.0  1  6251.181942  16449.914286  86.018926\n",
       "1350    清水エスパルス        犬飼　智也  23188.0  1  2982.527024  14573.512821  78.883182\n",
       "758   京都サンガF.C.        内野　貴志  13916.0  2  2404.966187   7494.260870  76.701993\n",
       "1117      柏レイソル        水野　晃樹  25782.5  2  5393.210803  12980.829268  73.736641\n",
       "49    アルビレックス新潟         小泉　慶  35533.0  1  4958.859812  25248.621622  70.739401\n",
       "946    徳島ヴォルティス        小暮　大器   9149.0  2  2185.870681   4786.708333  69.956769\n",
       "1166       栃木ＳＣ        西岡　大輝   7513.5  2  1559.279927   4468.460000  69.528501\n",
       "950    徳島ヴォルティス         李　栄直   8568.5  2  2185.870681   4786.708333  67.301077\n",
       "997        愛媛ＦＣ        福田　健二   6612.0  1  1620.069842   3828.568627  67.180934\n",
       "154     ガイナーレ鳥取        安藤　由翔   6816.5  2  1806.451696   3749.057143  66.980486\n",
       "545    ファジアーノ岡山        椎名　一馬  12359.0  1  2416.579276   8258.446809  66.968420\n",
       "771   京都サンガF.C.        田村　亮介  11512.5  2  2404.966187   7494.260870  66.708090\n",
       "868   大宮アルディージャ        増田　誓志  13348.0  1  1580.161407  10779.916667  66.252032\n",
       "1494       ＦＣ東京        丸山　祐市  34822.0  1  6567.695792  24850.763158  65.182245\n",
       "1428   鹿島アントラーズ        豊川　雄太  23566.0  2  5637.919944  15710.888889  63.932640\n",
       "1376    湘南ベルマーレ        大竹　洋平  11188.0  1  2292.157970   8038.326087  63.741086\n",
       "1140       栃木ＳＣ   三都主　アレサンドロ   6601.5  6  1559.279927   4468.460000  63.679648\n",
       "1449       ＦＣ岐阜        太田　圭輔   9659.0  4  3110.056955   5406.104167  63.674656\n",
       "1094     松本山雅ＦＣ         阿部　巧  14070.5  2  2497.616869  10674.448980  63.597166\n",
       "1360    湘南ベルマーレ  アレックス　サンターナ  11113.8  5  2292.157970   8038.326087  63.417373"
      ]
     },
     "execution_count": 68,
     "metadata": {},
     "output_type": "execute_result"
    }
   ],
   "source": [
    "# top20名\n",
    "player_T_score.sort_values(\"T_score\", ascending=False).head(20)"
   ]
  },
  {
   "cell_type": "code",
   "execution_count": null,
   "metadata": {
    "id": "rx1SV1jgvhGI",
    "outputId": "3b0dd210-dad3-4597-8307-90307e39913e"
   },
   "outputs": [
    {
     "data": {
      "text/html": [
       "<div>\n",
       "<style scoped>\n",
       "    .dataframe tbody tr th:only-of-type {\n",
       "        vertical-align: middle;\n",
       "    }\n",
       "\n",
       "    .dataframe tbody tr th {\n",
       "        vertical-align: top;\n",
       "    }\n",
       "\n",
       "    .dataframe thead th {\n",
       "        text-align: right;\n",
       "    }\n",
       "</style>\n",
       "<table border=\"1\" class=\"dataframe\">\n",
       "  <thead>\n",
       "    <tr style=\"text-align: right;\">\n",
       "      <th></th>\n",
       "      <th>home</th>\n",
       "      <th>value</th>\n",
       "      <th>y</th>\n",
       "      <th>N</th>\n",
       "      <th>y_std</th>\n",
       "      <th>y_mean</th>\n",
       "      <th>T_score</th>\n",
       "    </tr>\n",
       "  </thead>\n",
       "  <tbody>\n",
       "    <tr>\n",
       "      <th>1140</th>\n",
       "      <td>栃木ＳＣ</td>\n",
       "      <td>三都主　アレサンドロ</td>\n",
       "      <td>6601.500000</td>\n",
       "      <td>6</td>\n",
       "      <td>1559.279927</td>\n",
       "      <td>4468.460000</td>\n",
       "      <td>63.679648</td>\n",
       "    </tr>\n",
       "    <tr>\n",
       "      <th>1484</th>\n",
       "      <td>ＦＣ岐阜</td>\n",
       "      <td>難波　宏明</td>\n",
       "      <td>9166.142857</td>\n",
       "      <td>7</td>\n",
       "      <td>3110.056955</td>\n",
       "      <td>5406.104167</td>\n",
       "      <td>62.089935</td>\n",
       "    </tr>\n",
       "    <tr>\n",
       "      <th>1439</th>\n",
       "      <td>ＦＣ岐阜</td>\n",
       "      <td>ヘニキ</td>\n",
       "      <td>8999.000000</td>\n",
       "      <td>7</td>\n",
       "      <td>3110.056955</td>\n",
       "      <td>5406.104167</td>\n",
       "      <td>61.552508</td>\n",
       "    </tr>\n",
       "    <tr>\n",
       "      <th>1450</th>\n",
       "      <td>ＦＣ岐阜</td>\n",
       "      <td>宮沢　正史</td>\n",
       "      <td>8766.100000</td>\n",
       "      <td>10</td>\n",
       "      <td>3110.056955</td>\n",
       "      <td>5406.104167</td>\n",
       "      <td>60.803647</td>\n",
       "    </tr>\n",
       "    <tr>\n",
       "      <th>1453</th>\n",
       "      <td>ＦＣ岐阜</td>\n",
       "      <td>川口　能活</td>\n",
       "      <td>8642.454545</td>\n",
       "      <td>11</td>\n",
       "      <td>3110.056955</td>\n",
       "      <td>5406.104167</td>\n",
       "      <td>60.406081</td>\n",
       "    </tr>\n",
       "    <tr>\n",
       "      <th>1437</th>\n",
       "      <td>ＦＣ岐阜</td>\n",
       "      <td>ナザリト</td>\n",
       "      <td>8642.454545</td>\n",
       "      <td>11</td>\n",
       "      <td>3110.056955</td>\n",
       "      <td>5406.104167</td>\n",
       "      <td>60.406081</td>\n",
       "    </tr>\n",
       "    <tr>\n",
       "      <th>1483</th>\n",
       "      <td>ＦＣ岐阜</td>\n",
       "      <td>阿部　正紀</td>\n",
       "      <td>8539.727273</td>\n",
       "      <td>11</td>\n",
       "      <td>3110.056955</td>\n",
       "      <td>5406.104167</td>\n",
       "      <td>60.075774</td>\n",
       "    </tr>\n",
       "    <tr>\n",
       "      <th>818</th>\n",
       "      <td>大分トリニータ</td>\n",
       "      <td>丹野　研太</td>\n",
       "      <td>13884.125000</td>\n",
       "      <td>8</td>\n",
       "      <td>4014.813464</td>\n",
       "      <td>9892.813953</td>\n",
       "      <td>59.941461</td>\n",
       "    </tr>\n",
       "    <tr>\n",
       "      <th>1441</th>\n",
       "      <td>ＦＣ岐阜</td>\n",
       "      <td>三都主　アレサンドロ</td>\n",
       "      <td>8496.750000</td>\n",
       "      <td>8</td>\n",
       "      <td>3110.056955</td>\n",
       "      <td>5406.104167</td>\n",
       "      <td>59.937586</td>\n",
       "    </tr>\n",
       "    <tr>\n",
       "      <th>457</th>\n",
       "      <td>ジュビロ磐田</td>\n",
       "      <td>ロドリゴ　ソウト</td>\n",
       "      <td>15246.125000</td>\n",
       "      <td>8</td>\n",
       "      <td>4130.726256</td>\n",
       "      <td>11168.906977</td>\n",
       "      <td>59.870463</td>\n",
       "    </tr>\n",
       "    <tr>\n",
       "      <th>1486</th>\n",
       "      <td>ＦＣ岐阜</td>\n",
       "      <td>髙地　系治</td>\n",
       "      <td>8283.083333</td>\n",
       "      <td>12</td>\n",
       "      <td>3110.056955</td>\n",
       "      <td>5406.104167</td>\n",
       "      <td>59.250567</td>\n",
       "    </tr>\n",
       "    <tr>\n",
       "      <th>257</th>\n",
       "      <td>ギラヴァンツ北九州</td>\n",
       "      <td>金　鐘必</td>\n",
       "      <td>4534.666667</td>\n",
       "      <td>6</td>\n",
       "      <td>1408.425124</td>\n",
       "      <td>3336.604651</td>\n",
       "      <td>58.506395</td>\n",
       "    </tr>\n",
       "    <tr>\n",
       "      <th>1378</th>\n",
       "      <td>湘南ベルマーレ</td>\n",
       "      <td>宇佐美　宏和</td>\n",
       "      <td>9773.833333</td>\n",
       "      <td>6</td>\n",
       "      <td>2292.157970</td>\n",
       "      <td>8038.326087</td>\n",
       "      <td>57.571499</td>\n",
       "    </tr>\n",
       "    <tr>\n",
       "      <th>359</th>\n",
       "      <td>サンフレッチェ広島</td>\n",
       "      <td>石川　大徳</td>\n",
       "      <td>20787.428571</td>\n",
       "      <td>7</td>\n",
       "      <td>6042.664446</td>\n",
       "      <td>16380.945946</td>\n",
       "      <td>57.292284</td>\n",
       "    </tr>\n",
       "    <tr>\n",
       "      <th>1408</th>\n",
       "      <td>鹿島アントラーズ</td>\n",
       "      <td>中田　浩二</td>\n",
       "      <td>19713.666667</td>\n",
       "      <td>9</td>\n",
       "      <td>5637.919944</td>\n",
       "      <td>15710.888889</td>\n",
       "      <td>57.099742</td>\n",
       "    </tr>\n",
       "    <tr>\n",
       "      <th>569</th>\n",
       "      <td>ベガルタ仙台</td>\n",
       "      <td>朴　柱成</td>\n",
       "      <td>17060.000000</td>\n",
       "      <td>12</td>\n",
       "      <td>2362.838938</td>\n",
       "      <td>15398.282051</td>\n",
       "      <td>57.032718</td>\n",
       "    </tr>\n",
       "    <tr>\n",
       "      <th>355</th>\n",
       "      <td>サンフレッチェ広島</td>\n",
       "      <td>森﨑　浩司</td>\n",
       "      <td>20520.428571</td>\n",
       "      <td>7</td>\n",
       "      <td>6042.664446</td>\n",
       "      <td>16380.945946</td>\n",
       "      <td>56.850426</td>\n",
       "    </tr>\n",
       "    <tr>\n",
       "      <th>1172</th>\n",
       "      <td>栃木ＳＣ</td>\n",
       "      <td>鈴木　智幸</td>\n",
       "      <td>5534.500000</td>\n",
       "      <td>8</td>\n",
       "      <td>1559.279927</td>\n",
       "      <td>4468.460000</td>\n",
       "      <td>56.836745</td>\n",
       "    </tr>\n",
       "    <tr>\n",
       "      <th>613</th>\n",
       "      <td>モンテディオ山形</td>\n",
       "      <td>永田　亮太</td>\n",
       "      <td>8594.285714</td>\n",
       "      <td>7</td>\n",
       "      <td>2268.414695</td>\n",
       "      <td>7047.938776</td>\n",
       "      <td>56.816862</td>\n",
       "    </tr>\n",
       "    <tr>\n",
       "      <th>305</th>\n",
       "      <td>コンサドーレ札幌</td>\n",
       "      <td>近藤　祐介</td>\n",
       "      <td>14091.000000</td>\n",
       "      <td>8</td>\n",
       "      <td>5042.004614</td>\n",
       "      <td>10800.760870</td>\n",
       "      <td>56.525657</td>\n",
       "    </tr>\n",
       "  </tbody>\n",
       "</table>\n",
       "</div>"
      ],
      "text/plain": [
       "           home       value             y   N        y_std        y_mean  \\\n",
       "1140       栃木ＳＣ  三都主　アレサンドロ   6601.500000   6  1559.279927   4468.460000   \n",
       "1484       ＦＣ岐阜       難波　宏明   9166.142857   7  3110.056955   5406.104167   \n",
       "1439       ＦＣ岐阜         ヘニキ   8999.000000   7  3110.056955   5406.104167   \n",
       "1450       ＦＣ岐阜       宮沢　正史   8766.100000  10  3110.056955   5406.104167   \n",
       "1453       ＦＣ岐阜       川口　能活   8642.454545  11  3110.056955   5406.104167   \n",
       "1437       ＦＣ岐阜        ナザリト   8642.454545  11  3110.056955   5406.104167   \n",
       "1483       ＦＣ岐阜       阿部　正紀   8539.727273  11  3110.056955   5406.104167   \n",
       "818     大分トリニータ       丹野　研太  13884.125000   8  4014.813464   9892.813953   \n",
       "1441       ＦＣ岐阜  三都主　アレサンドロ   8496.750000   8  3110.056955   5406.104167   \n",
       "457      ジュビロ磐田    ロドリゴ　ソウト  15246.125000   8  4130.726256  11168.906977   \n",
       "1486       ＦＣ岐阜       髙地　系治   8283.083333  12  3110.056955   5406.104167   \n",
       "257   ギラヴァンツ北九州        金　鐘必   4534.666667   6  1408.425124   3336.604651   \n",
       "1378    湘南ベルマーレ      宇佐美　宏和   9773.833333   6  2292.157970   8038.326087   \n",
       "359   サンフレッチェ広島       石川　大徳  20787.428571   7  6042.664446  16380.945946   \n",
       "1408   鹿島アントラーズ       中田　浩二  19713.666667   9  5637.919944  15710.888889   \n",
       "569      ベガルタ仙台        朴　柱成  17060.000000  12  2362.838938  15398.282051   \n",
       "355   サンフレッチェ広島       森﨑　浩司  20520.428571   7  6042.664446  16380.945946   \n",
       "1172       栃木ＳＣ       鈴木　智幸   5534.500000   8  1559.279927   4468.460000   \n",
       "613    モンテディオ山形       永田　亮太   8594.285714   7  2268.414695   7047.938776   \n",
       "305    コンサドーレ札幌       近藤　祐介  14091.000000   8  5042.004614  10800.760870   \n",
       "\n",
       "        T_score  \n",
       "1140  63.679648  \n",
       "1484  62.089935  \n",
       "1439  61.552508  \n",
       "1450  60.803647  \n",
       "1453  60.406081  \n",
       "1437  60.406081  \n",
       "1483  60.075774  \n",
       "818   59.941461  \n",
       "1441  59.937586  \n",
       "457   59.870463  \n",
       "1486  59.250567  \n",
       "257   58.506395  \n",
       "1378  57.571499  \n",
       "359   57.292284  \n",
       "1408  57.099742  \n",
       "569   57.032718  \n",
       "355   56.850426  \n",
       "1172  56.836745  \n",
       "613   56.816862  \n",
       "305   56.525657  "
      ]
     },
     "execution_count": 69,
     "metadata": {},
     "output_type": "execute_result"
    }
   ],
   "source": [
    "# top20名(N > 5)\n",
    "player_T_score[player_T_score[\"N\"] > 5].sort_values(\"T_score\", ascending=False).head(20)"
   ]
  },
  {
   "cell_type": "code",
   "execution_count": null,
   "metadata": {
    "id": "py3vnUnVvhGJ",
    "outputId": "8ede25fa-d6fa-449f-b895-bde30b5f38f1"
   },
   "outputs": [
    {
     "data": {
      "text/html": [
       "<div>\n",
       "<style scoped>\n",
       "    .dataframe tbody tr th:only-of-type {\n",
       "        vertical-align: middle;\n",
       "    }\n",
       "\n",
       "    .dataframe tbody tr th {\n",
       "        vertical-align: top;\n",
       "    }\n",
       "\n",
       "    .dataframe thead th {\n",
       "        text-align: right;\n",
       "    }\n",
       "</style>\n",
       "<table border=\"1\" class=\"dataframe\">\n",
       "  <thead>\n",
       "    <tr style=\"text-align: right;\">\n",
       "      <th></th>\n",
       "      <th>y</th>\n",
       "      <th>data</th>\n",
       "      <th>home</th>\n",
       "      <th>away</th>\n",
       "      <th>variable</th>\n",
       "      <th>value</th>\n",
       "    </tr>\n",
       "  </thead>\n",
       "  <tbody>\n",
       "    <tr>\n",
       "      <th>9195</th>\n",
       "      <td>11069.0</td>\n",
       "      <td>Train</td>\n",
       "      <td>ＦＣ岐阜</td>\n",
       "      <td>カマタマーレ讃岐</td>\n",
       "      <td>home_05</td>\n",
       "      <td>三都主　アレサンドロ</td>\n",
       "    </tr>\n",
       "    <tr>\n",
       "      <th>9196</th>\n",
       "      <td>7879.0</td>\n",
       "      <td>Train</td>\n",
       "      <td>ＦＣ岐阜</td>\n",
       "      <td>カターレ富山</td>\n",
       "      <td>home_05</td>\n",
       "      <td>三都主　アレサンドロ</td>\n",
       "    </tr>\n",
       "    <tr>\n",
       "      <th>9198</th>\n",
       "      <td>5022.0</td>\n",
       "      <td>Train</td>\n",
       "      <td>ＦＣ岐阜</td>\n",
       "      <td>アビスパ福岡</td>\n",
       "      <td>home_05</td>\n",
       "      <td>三都主　アレサンドロ</td>\n",
       "    </tr>\n",
       "    <tr>\n",
       "      <th>9199</th>\n",
       "      <td>5460.0</td>\n",
       "      <td>Train</td>\n",
       "      <td>ＦＣ岐阜</td>\n",
       "      <td>栃木ＳＣ</td>\n",
       "      <td>home_05</td>\n",
       "      <td>三都主　アレサンドロ</td>\n",
       "    </tr>\n",
       "    <tr>\n",
       "      <th>9201</th>\n",
       "      <td>4330.0</td>\n",
       "      <td>Train</td>\n",
       "      <td>ＦＣ岐阜</td>\n",
       "      <td>ギラヴァンツ北九州</td>\n",
       "      <td>home_05</td>\n",
       "      <td>三都主　アレサンドロ</td>\n",
       "    </tr>\n",
       "    <tr>\n",
       "      <th>9202</th>\n",
       "      <td>6060.0</td>\n",
       "      <td>Train</td>\n",
       "      <td>ＦＣ岐阜</td>\n",
       "      <td>京都サンガF.C.</td>\n",
       "      <td>home_05</td>\n",
       "      <td>三都主　アレサンドロ</td>\n",
       "    </tr>\n",
       "    <tr>\n",
       "      <th>9203</th>\n",
       "      <td>15138.0</td>\n",
       "      <td>Train</td>\n",
       "      <td>ＦＣ岐阜</td>\n",
       "      <td>ジュビロ磐田</td>\n",
       "      <td>home_05</td>\n",
       "      <td>三都主　アレサンドロ</td>\n",
       "    </tr>\n",
       "    <tr>\n",
       "      <th>9204</th>\n",
       "      <td>13016.0</td>\n",
       "      <td>Train</td>\n",
       "      <td>ＦＣ岐阜</td>\n",
       "      <td>Ｖ・ファーレン長崎</td>\n",
       "      <td>home_05</td>\n",
       "      <td>三都主　アレサンドロ</td>\n",
       "    </tr>\n",
       "    <tr>\n",
       "      <th>9574</th>\n",
       "      <td>4503.0</td>\n",
       "      <td>Train</td>\n",
       "      <td>栃木ＳＣ</td>\n",
       "      <td>カターレ富山</td>\n",
       "      <td>home_05</td>\n",
       "      <td>三都主　アレサンドロ</td>\n",
       "    </tr>\n",
       "    <tr>\n",
       "      <th>9580</th>\n",
       "      <td>10687.0</td>\n",
       "      <td>Train</td>\n",
       "      <td>栃木ＳＣ</td>\n",
       "      <td>ガンバ大阪</td>\n",
       "      <td>home_05</td>\n",
       "      <td>三都主　アレサンドロ</td>\n",
       "    </tr>\n",
       "    <tr>\n",
       "      <th>9581</th>\n",
       "      <td>4278.0</td>\n",
       "      <td>Train</td>\n",
       "      <td>栃木ＳＣ</td>\n",
       "      <td>東京ヴェルディ</td>\n",
       "      <td>home_05</td>\n",
       "      <td>三都主　アレサンドロ</td>\n",
       "    </tr>\n",
       "    <tr>\n",
       "      <th>14290</th>\n",
       "      <td>23892.0</td>\n",
       "      <td>Train</td>\n",
       "      <td>名古屋グランパス</td>\n",
       "      <td>鹿島アントラーズ</td>\n",
       "      <td>home_08</td>\n",
       "      <td>三都主　アレサンドロ</td>\n",
       "    </tr>\n",
       "    <tr>\n",
       "      <th>15666</th>\n",
       "      <td>8686.0</td>\n",
       "      <td>Train</td>\n",
       "      <td>栃木ＳＣ</td>\n",
       "      <td>松本山雅ＦＣ</td>\n",
       "      <td>home_08</td>\n",
       "      <td>三都主　アレサンドロ</td>\n",
       "    </tr>\n",
       "    <tr>\n",
       "      <th>15675</th>\n",
       "      <td>4784.0</td>\n",
       "      <td>Train</td>\n",
       "      <td>栃木ＳＣ</td>\n",
       "      <td>京都サンガF.C.</td>\n",
       "      <td>home_08</td>\n",
       "      <td>三都主　アレサンドロ</td>\n",
       "    </tr>\n",
       "    <tr>\n",
       "      <th>15684</th>\n",
       "      <td>6671.0</td>\n",
       "      <td>Train</td>\n",
       "      <td>栃木ＳＣ</td>\n",
       "      <td>ギラヴァンツ北九州</td>\n",
       "      <td>home_08</td>\n",
       "      <td>三都主　アレサンドロ</td>\n",
       "    </tr>\n",
       "    <tr>\n",
       "      <th>17349</th>\n",
       "      <td>NaN</td>\n",
       "      <td>Test</td>\n",
       "      <td>ＦＣ岐阜</td>\n",
       "      <td>松本山雅ＦＣ</td>\n",
       "      <td>home_09</td>\n",
       "      <td>三都主　アレサンドロ</td>\n",
       "    </tr>\n",
       "    <tr>\n",
       "      <th>31408</th>\n",
       "      <td>7293.0</td>\n",
       "      <td>Train</td>\n",
       "      <td>コンサドーレ札幌</td>\n",
       "      <td>ＦＣ岐阜</td>\n",
       "      <td>away_05</td>\n",
       "      <td>三都主　アレサンドロ</td>\n",
       "    </tr>\n",
       "    <tr>\n",
       "      <th>31426</th>\n",
       "      <td>12115.0</td>\n",
       "      <td>Train</td>\n",
       "      <td>東京ヴェルディ</td>\n",
       "      <td>ＦＣ岐阜</td>\n",
       "      <td>away_05</td>\n",
       "      <td>三都主　アレサンドロ</td>\n",
       "    </tr>\n",
       "    <tr>\n",
       "      <th>31629</th>\n",
       "      <td>10756.0</td>\n",
       "      <td>Train</td>\n",
       "      <td>ファジアーノ岡山</td>\n",
       "      <td>ＦＣ岐阜</td>\n",
       "      <td>away_05</td>\n",
       "      <td>三都主　アレサンドロ</td>\n",
       "    </tr>\n",
       "    <tr>\n",
       "      <th>31673</th>\n",
       "      <td>4892.0</td>\n",
       "      <td>Train</td>\n",
       "      <td>アビスパ福岡</td>\n",
       "      <td>栃木ＳＣ</td>\n",
       "      <td>away_05</td>\n",
       "      <td>三都主　アレサンドロ</td>\n",
       "    </tr>\n",
       "    <tr>\n",
       "      <th>31739</th>\n",
       "      <td>9267.0</td>\n",
       "      <td>Train</td>\n",
       "      <td>大分トリニータ</td>\n",
       "      <td>ＦＣ岐阜</td>\n",
       "      <td>away_05</td>\n",
       "      <td>三都主　アレサンドロ</td>\n",
       "    </tr>\n",
       "    <tr>\n",
       "      <th>31795</th>\n",
       "      <td>3532.0</td>\n",
       "      <td>Train</td>\n",
       "      <td>愛媛ＦＣ</td>\n",
       "      <td>ＦＣ岐阜</td>\n",
       "      <td>away_05</td>\n",
       "      <td>三都主　アレサンドロ</td>\n",
       "    </tr>\n",
       "    <tr>\n",
       "      <th>32017</th>\n",
       "      <td>9933.0</td>\n",
       "      <td>Train</td>\n",
       "      <td>松本山雅ＦＣ</td>\n",
       "      <td>栃木ＳＣ</td>\n",
       "      <td>away_05</td>\n",
       "      <td>三都主　アレサンドロ</td>\n",
       "    </tr>\n",
       "    <tr>\n",
       "      <th>32022</th>\n",
       "      <td>13657.0</td>\n",
       "      <td>Train</td>\n",
       "      <td>松本山雅ＦＣ</td>\n",
       "      <td>ＦＣ岐阜</td>\n",
       "      <td>away_05</td>\n",
       "      <td>三都主　アレサンドロ</td>\n",
       "    </tr>\n",
       "    <tr>\n",
       "      <th>35424</th>\n",
       "      <td>2812.0</td>\n",
       "      <td>Train</td>\n",
       "      <td>横浜ＦＣ</td>\n",
       "      <td>栃木ＳＣ</td>\n",
       "      <td>away_07</td>\n",
       "      <td>三都主　アレサンドロ</td>\n",
       "    </tr>\n",
       "  </tbody>\n",
       "</table>\n",
       "</div>"
      ],
      "text/plain": [
       "             y   data      home       away variable       value\n",
       "9195   11069.0  Train      ＦＣ岐阜   カマタマーレ讃岐  home_05  三都主　アレサンドロ\n",
       "9196    7879.0  Train      ＦＣ岐阜     カターレ富山  home_05  三都主　アレサンドロ\n",
       "9198    5022.0  Train      ＦＣ岐阜     アビスパ福岡  home_05  三都主　アレサンドロ\n",
       "9199    5460.0  Train      ＦＣ岐阜       栃木ＳＣ  home_05  三都主　アレサンドロ\n",
       "9201    4330.0  Train      ＦＣ岐阜  ギラヴァンツ北九州  home_05  三都主　アレサンドロ\n",
       "9202    6060.0  Train      ＦＣ岐阜  京都サンガF.C.  home_05  三都主　アレサンドロ\n",
       "9203   15138.0  Train      ＦＣ岐阜     ジュビロ磐田  home_05  三都主　アレサンドロ\n",
       "9204   13016.0  Train      ＦＣ岐阜  Ｖ・ファーレン長崎  home_05  三都主　アレサンドロ\n",
       "9574    4503.0  Train      栃木ＳＣ     カターレ富山  home_05  三都主　アレサンドロ\n",
       "9580   10687.0  Train      栃木ＳＣ      ガンバ大阪  home_05  三都主　アレサンドロ\n",
       "9581    4278.0  Train      栃木ＳＣ    東京ヴェルディ  home_05  三都主　アレサンドロ\n",
       "14290  23892.0  Train  名古屋グランパス   鹿島アントラーズ  home_08  三都主　アレサンドロ\n",
       "15666   8686.0  Train      栃木ＳＣ     松本山雅ＦＣ  home_08  三都主　アレサンドロ\n",
       "15675   4784.0  Train      栃木ＳＣ  京都サンガF.C.  home_08  三都主　アレサンドロ\n",
       "15684   6671.0  Train      栃木ＳＣ  ギラヴァンツ北九州  home_08  三都主　アレサンドロ\n",
       "17349      NaN   Test      ＦＣ岐阜     松本山雅ＦＣ  home_09  三都主　アレサンドロ\n",
       "31408   7293.0  Train  コンサドーレ札幌       ＦＣ岐阜  away_05  三都主　アレサンドロ\n",
       "31426  12115.0  Train   東京ヴェルディ       ＦＣ岐阜  away_05  三都主　アレサンドロ\n",
       "31629  10756.0  Train  ファジアーノ岡山       ＦＣ岐阜  away_05  三都主　アレサンドロ\n",
       "31673   4892.0  Train    アビスパ福岡       栃木ＳＣ  away_05  三都主　アレサンドロ\n",
       "31739   9267.0  Train   大分トリニータ       ＦＣ岐阜  away_05  三都主　アレサンドロ\n",
       "31795   3532.0  Train      愛媛ＦＣ       ＦＣ岐阜  away_05  三都主　アレサンドロ\n",
       "32017   9933.0  Train    松本山雅ＦＣ       栃木ＳＣ  away_05  三都主　アレサンドロ\n",
       "32022  13657.0  Train    松本山雅ＦＣ       ＦＣ岐阜  away_05  三都主　アレサンドロ\n",
       "35424   2812.0  Train      横浜ＦＣ       栃木ＳＣ  away_07  三都主　アレサンドロ"
      ]
     },
     "execution_count": 70,
     "metadata": {},
     "output_type": "execute_result"
    }
   ],
   "source": [
    "# 三都主　アレサンドロはTestのawayは無い, Testのhomeは1件あり\n",
    "dat_player[dat_player[\"value\"] == \"三都主　アレサンドロ\"]"
   ]
  },
  {
   "cell_type": "code",
   "execution_count": null,
   "metadata": {
    "id": "zjAk4mJ6vhGJ",
    "outputId": "1555df83-169f-43eb-9a09-ca5b1dabf09d"
   },
   "outputs": [
    {
     "data": {
      "text/html": [
       "<div>\n",
       "<style scoped>\n",
       "    .dataframe tbody tr th:only-of-type {\n",
       "        vertical-align: middle;\n",
       "    }\n",
       "\n",
       "    .dataframe tbody tr th {\n",
       "        vertical-align: top;\n",
       "    }\n",
       "\n",
       "    .dataframe thead th {\n",
       "        text-align: right;\n",
       "    }\n",
       "</style>\n",
       "<table border=\"1\" class=\"dataframe\">\n",
       "  <thead>\n",
       "    <tr style=\"text-align: right;\">\n",
       "      <th></th>\n",
       "      <th>y</th>\n",
       "      <th>data</th>\n",
       "      <th>home</th>\n",
       "      <th>away</th>\n",
       "      <th>variable</th>\n",
       "      <th>value</th>\n",
       "    </tr>\n",
       "  </thead>\n",
       "  <tbody>\n",
       "    <tr>\n",
       "      <th>19136</th>\n",
       "      <td>7616.0</td>\n",
       "      <td>Train</td>\n",
       "      <td>横浜ＦＣ</td>\n",
       "      <td>湘南ベルマーレ</td>\n",
       "      <td>home_10</td>\n",
       "      <td>難波　宏明</td>\n",
       "    </tr>\n",
       "    <tr>\n",
       "      <th>19251</th>\n",
       "      <td>5537.0</td>\n",
       "      <td>Train</td>\n",
       "      <td>水戸ホーリーホック</td>\n",
       "      <td>ザスパクサツ群馬</td>\n",
       "      <td>home_10</td>\n",
       "      <td>難波　宏明</td>\n",
       "    </tr>\n",
       "    <tr>\n",
       "      <th>19252</th>\n",
       "      <td>2895.0</td>\n",
       "      <td>Train</td>\n",
       "      <td>水戸ホーリーホック</td>\n",
       "      <td>カターレ富山</td>\n",
       "      <td>home_10</td>\n",
       "      <td>難波　宏明</td>\n",
       "    </tr>\n",
       "    <tr>\n",
       "      <th>19253</th>\n",
       "      <td>2584.0</td>\n",
       "      <td>Train</td>\n",
       "      <td>水戸ホーリーホック</td>\n",
       "      <td>愛媛ＦＣ</td>\n",
       "      <td>home_10</td>\n",
       "      <td>難波　宏明</td>\n",
       "    </tr>\n",
       "    <tr>\n",
       "      <th>19255</th>\n",
       "      <td>2648.0</td>\n",
       "      <td>Train</td>\n",
       "      <td>水戸ホーリーホック</td>\n",
       "      <td>ジェフユナイテッド千葉</td>\n",
       "      <td>home_10</td>\n",
       "      <td>難波　宏明</td>\n",
       "    </tr>\n",
       "    <tr>\n",
       "      <th>19263</th>\n",
       "      <td>2826.0</td>\n",
       "      <td>Train</td>\n",
       "      <td>水戸ホーリーホック</td>\n",
       "      <td>アビスパ福岡</td>\n",
       "      <td>home_10</td>\n",
       "      <td>難波　宏明</td>\n",
       "    </tr>\n",
       "    <tr>\n",
       "      <th>19268</th>\n",
       "      <td>4773.0</td>\n",
       "      <td>Train</td>\n",
       "      <td>水戸ホーリーホック</td>\n",
       "      <td>東京ヴェルディ</td>\n",
       "      <td>home_10</td>\n",
       "      <td>難波　宏明</td>\n",
       "    </tr>\n",
       "    <tr>\n",
       "      <th>19269</th>\n",
       "      <td>8266.0</td>\n",
       "      <td>Train</td>\n",
       "      <td>水戸ホーリーホック</td>\n",
       "      <td>京都サンガF.C.</td>\n",
       "      <td>home_10</td>\n",
       "      <td>難波　宏明</td>\n",
       "    </tr>\n",
       "    <tr>\n",
       "      <th>19365</th>\n",
       "      <td>11069.0</td>\n",
       "      <td>Train</td>\n",
       "      <td>ＦＣ岐阜</td>\n",
       "      <td>カマタマーレ讃岐</td>\n",
       "      <td>home_10</td>\n",
       "      <td>難波　宏明</td>\n",
       "    </tr>\n",
       "    <tr>\n",
       "      <th>19366</th>\n",
       "      <td>7879.0</td>\n",
       "      <td>Train</td>\n",
       "      <td>ＦＣ岐阜</td>\n",
       "      <td>カターレ富山</td>\n",
       "      <td>home_10</td>\n",
       "      <td>難波　宏明</td>\n",
       "    </tr>\n",
       "    <tr>\n",
       "      <th>19367</th>\n",
       "      <td>7222.0</td>\n",
       "      <td>Train</td>\n",
       "      <td>ＦＣ岐阜</td>\n",
       "      <td>湘南ベルマーレ</td>\n",
       "      <td>home_10</td>\n",
       "      <td>難波　宏明</td>\n",
       "    </tr>\n",
       "    <tr>\n",
       "      <th>19371</th>\n",
       "      <td>4330.0</td>\n",
       "      <td>Train</td>\n",
       "      <td>ＦＣ岐阜</td>\n",
       "      <td>ギラヴァンツ北九州</td>\n",
       "      <td>home_10</td>\n",
       "      <td>難波　宏明</td>\n",
       "    </tr>\n",
       "    <tr>\n",
       "      <th>19372</th>\n",
       "      <td>6060.0</td>\n",
       "      <td>Train</td>\n",
       "      <td>ＦＣ岐阜</td>\n",
       "      <td>京都サンガF.C.</td>\n",
       "      <td>home_10</td>\n",
       "      <td>難波　宏明</td>\n",
       "    </tr>\n",
       "    <tr>\n",
       "      <th>19373</th>\n",
       "      <td>15138.0</td>\n",
       "      <td>Train</td>\n",
       "      <td>ＦＣ岐阜</td>\n",
       "      <td>ジュビロ磐田</td>\n",
       "      <td>home_10</td>\n",
       "      <td>難波　宏明</td>\n",
       "    </tr>\n",
       "    <tr>\n",
       "      <th>19375</th>\n",
       "      <td>12465.0</td>\n",
       "      <td>Train</td>\n",
       "      <td>ＦＣ岐阜</td>\n",
       "      <td>横浜ＦＣ</td>\n",
       "      <td>home_10</td>\n",
       "      <td>難波　宏明</td>\n",
       "    </tr>\n",
       "    <tr>\n",
       "      <th>19377</th>\n",
       "      <td>NaN</td>\n",
       "      <td>Test</td>\n",
       "      <td>ＦＣ岐阜</td>\n",
       "      <td>愛媛ＦＣ</td>\n",
       "      <td>home_10</td>\n",
       "      <td>難波　宏明</td>\n",
       "    </tr>\n",
       "    <tr>\n",
       "      <th>19378</th>\n",
       "      <td>NaN</td>\n",
       "      <td>Test</td>\n",
       "      <td>ＦＣ岐阜</td>\n",
       "      <td>東京ヴェルディ</td>\n",
       "      <td>home_10</td>\n",
       "      <td>難波　宏明</td>\n",
       "    </tr>\n",
       "    <tr>\n",
       "      <th>19381</th>\n",
       "      <td>NaN</td>\n",
       "      <td>Test</td>\n",
       "      <td>ＦＣ岐阜</td>\n",
       "      <td>モンテディオ山形</td>\n",
       "      <td>home_10</td>\n",
       "      <td>難波　宏明</td>\n",
       "    </tr>\n",
       "    <tr>\n",
       "      <th>19383</th>\n",
       "      <td>NaN</td>\n",
       "      <td>Test</td>\n",
       "      <td>ＦＣ岐阜</td>\n",
       "      <td>松本山雅ＦＣ</td>\n",
       "      <td>home_10</td>\n",
       "      <td>難波　宏明</td>\n",
       "    </tr>\n",
       "    <tr>\n",
       "      <th>21413</th>\n",
       "      <td>NaN</td>\n",
       "      <td>Test</td>\n",
       "      <td>ＦＣ岐阜</td>\n",
       "      <td>コンサドーレ札幌</td>\n",
       "      <td>home_11</td>\n",
       "      <td>難波　宏明</td>\n",
       "    </tr>\n",
       "    <tr>\n",
       "      <th>21414</th>\n",
       "      <td>NaN</td>\n",
       "      <td>Test</td>\n",
       "      <td>ＦＣ岐阜</td>\n",
       "      <td>ロアッソ熊本</td>\n",
       "      <td>home_11</td>\n",
       "      <td>難波　宏明</td>\n",
       "    </tr>\n",
       "    <tr>\n",
       "      <th>21416</th>\n",
       "      <td>NaN</td>\n",
       "      <td>Test</td>\n",
       "      <td>ＦＣ岐阜</td>\n",
       "      <td>水戸ホーリーホック</td>\n",
       "      <td>home_11</td>\n",
       "      <td>難波　宏明</td>\n",
       "    </tr>\n",
       "    <tr>\n",
       "      <th>37510</th>\n",
       "      <td>7293.0</td>\n",
       "      <td>Train</td>\n",
       "      <td>コンサドーレ札幌</td>\n",
       "      <td>ＦＣ岐阜</td>\n",
       "      <td>away_08</td>\n",
       "      <td>難波　宏明</td>\n",
       "    </tr>\n",
       "    <tr>\n",
       "      <th>41596</th>\n",
       "      <td>12115.0</td>\n",
       "      <td>Train</td>\n",
       "      <td>東京ヴェルディ</td>\n",
       "      <td>ＦＣ岐阜</td>\n",
       "      <td>away_10</td>\n",
       "      <td>難波　宏明</td>\n",
       "    </tr>\n",
       "    <tr>\n",
       "      <th>41606</th>\n",
       "      <td>5817.0</td>\n",
       "      <td>Train</td>\n",
       "      <td>水戸ホーリーホック</td>\n",
       "      <td>横浜ＦＣ</td>\n",
       "      <td>away_10</td>\n",
       "      <td>難波　宏明</td>\n",
       "    </tr>\n",
       "    <tr>\n",
       "      <th>41777</th>\n",
       "      <td>6279.0</td>\n",
       "      <td>Train</td>\n",
       "      <td>ファジアーノ岡山</td>\n",
       "      <td>水戸ホーリーホック</td>\n",
       "      <td>away_10</td>\n",
       "      <td>難波　宏明</td>\n",
       "    </tr>\n",
       "    <tr>\n",
       "      <th>41834</th>\n",
       "      <td>4104.0</td>\n",
       "      <td>Train</td>\n",
       "      <td>アビスパ福岡</td>\n",
       "      <td>水戸ホーリーホック</td>\n",
       "      <td>away_10</td>\n",
       "      <td>難波　宏明</td>\n",
       "    </tr>\n",
       "    <tr>\n",
       "      <th>41909</th>\n",
       "      <td>9267.0</td>\n",
       "      <td>Train</td>\n",
       "      <td>大分トリニータ</td>\n",
       "      <td>ＦＣ岐阜</td>\n",
       "      <td>away_10</td>\n",
       "      <td>難波　宏明</td>\n",
       "    </tr>\n",
       "    <tr>\n",
       "      <th>41965</th>\n",
       "      <td>3532.0</td>\n",
       "      <td>Train</td>\n",
       "      <td>愛媛ＦＣ</td>\n",
       "      <td>ＦＣ岐阜</td>\n",
       "      <td>away_10</td>\n",
       "      <td>難波　宏明</td>\n",
       "    </tr>\n",
       "    <tr>\n",
       "      <th>42085</th>\n",
       "      <td>NaN</td>\n",
       "      <td>Test</td>\n",
       "      <td>ギラヴァンツ北九州</td>\n",
       "      <td>ＦＣ岐阜</td>\n",
       "      <td>away_10</td>\n",
       "      <td>難波　宏明</td>\n",
       "    </tr>\n",
       "    <tr>\n",
       "      <th>42180</th>\n",
       "      <td>7153.0</td>\n",
       "      <td>Train</td>\n",
       "      <td>松本山雅ＦＣ</td>\n",
       "      <td>水戸ホーリーホック</td>\n",
       "      <td>away_10</td>\n",
       "      <td>難波　宏明</td>\n",
       "    </tr>\n",
       "    <tr>\n",
       "      <th>42360</th>\n",
       "      <td>5550.0</td>\n",
       "      <td>Train</td>\n",
       "      <td>ロアッソ熊本</td>\n",
       "      <td>ＦＣ岐阜</td>\n",
       "      <td>away_10</td>\n",
       "      <td>難波　宏明</td>\n",
       "    </tr>\n",
       "    <tr>\n",
       "      <th>42422</th>\n",
       "      <td>NaN</td>\n",
       "      <td>Test</td>\n",
       "      <td>京都サンガF.C.</td>\n",
       "      <td>ＦＣ岐阜</td>\n",
       "      <td>away_10</td>\n",
       "      <td>難波　宏明</td>\n",
       "    </tr>\n",
       "    <tr>\n",
       "      <th>42441</th>\n",
       "      <td>6467.0</td>\n",
       "      <td>Train</td>\n",
       "      <td>ガイナーレ鳥取</td>\n",
       "      <td>水戸ホーリーホック</td>\n",
       "      <td>away_10</td>\n",
       "      <td>難波　宏明</td>\n",
       "    </tr>\n",
       "    <tr>\n",
       "      <th>42514</th>\n",
       "      <td>7038.0</td>\n",
       "      <td>Train</td>\n",
       "      <td>モンテディオ山形</td>\n",
       "      <td>ＦＣ岐阜</td>\n",
       "      <td>away_10</td>\n",
       "      <td>難波　宏明</td>\n",
       "    </tr>\n",
       "    <tr>\n",
       "      <th>42579</th>\n",
       "      <td>NaN</td>\n",
       "      <td>Test</td>\n",
       "      <td>カターレ富山</td>\n",
       "      <td>ＦＣ岐阜</td>\n",
       "      <td>away_10</td>\n",
       "      <td>難波　宏明</td>\n",
       "    </tr>\n",
       "    <tr>\n",
       "      <th>43316</th>\n",
       "      <td>NaN</td>\n",
       "      <td>Test</td>\n",
       "      <td>ジュビロ磐田</td>\n",
       "      <td>ＦＣ岐阜</td>\n",
       "      <td>away_11</td>\n",
       "      <td>難波　宏明</td>\n",
       "    </tr>\n",
       "    <tr>\n",
       "      <th>43833</th>\n",
       "      <td>10756.0</td>\n",
       "      <td>Train</td>\n",
       "      <td>ファジアーノ岡山</td>\n",
       "      <td>ＦＣ岐阜</td>\n",
       "      <td>away_11</td>\n",
       "      <td>難波　宏明</td>\n",
       "    </tr>\n",
       "    <tr>\n",
       "      <th>44064</th>\n",
       "      <td>NaN</td>\n",
       "      <td>Test</td>\n",
       "      <td>湘南ベルマーレ</td>\n",
       "      <td>ＦＣ岐阜</td>\n",
       "      <td>away_11</td>\n",
       "      <td>難波　宏明</td>\n",
       "    </tr>\n",
       "    <tr>\n",
       "      <th>44669</th>\n",
       "      <td>NaN</td>\n",
       "      <td>Test</td>\n",
       "      <td>ジェフユナイテッド千葉</td>\n",
       "      <td>ＦＣ岐阜</td>\n",
       "      <td>away_11</td>\n",
       "      <td>難波　宏明</td>\n",
       "    </tr>\n",
       "  </tbody>\n",
       "</table>\n",
       "</div>"
      ],
      "text/plain": [
       "             y   data         home         away variable  value\n",
       "19136   7616.0  Train         横浜ＦＣ      湘南ベルマーレ  home_10  難波　宏明\n",
       "19251   5537.0  Train    水戸ホーリーホック     ザスパクサツ群馬  home_10  難波　宏明\n",
       "19252   2895.0  Train    水戸ホーリーホック       カターレ富山  home_10  難波　宏明\n",
       "19253   2584.0  Train    水戸ホーリーホック         愛媛ＦＣ  home_10  難波　宏明\n",
       "19255   2648.0  Train    水戸ホーリーホック  ジェフユナイテッド千葉  home_10  難波　宏明\n",
       "19263   2826.0  Train    水戸ホーリーホック       アビスパ福岡  home_10  難波　宏明\n",
       "19268   4773.0  Train    水戸ホーリーホック      東京ヴェルディ  home_10  難波　宏明\n",
       "19269   8266.0  Train    水戸ホーリーホック    京都サンガF.C.  home_10  難波　宏明\n",
       "19365  11069.0  Train         ＦＣ岐阜     カマタマーレ讃岐  home_10  難波　宏明\n",
       "19366   7879.0  Train         ＦＣ岐阜       カターレ富山  home_10  難波　宏明\n",
       "19367   7222.0  Train         ＦＣ岐阜      湘南ベルマーレ  home_10  難波　宏明\n",
       "19371   4330.0  Train         ＦＣ岐阜    ギラヴァンツ北九州  home_10  難波　宏明\n",
       "19372   6060.0  Train         ＦＣ岐阜    京都サンガF.C.  home_10  難波　宏明\n",
       "19373  15138.0  Train         ＦＣ岐阜       ジュビロ磐田  home_10  難波　宏明\n",
       "19375  12465.0  Train         ＦＣ岐阜         横浜ＦＣ  home_10  難波　宏明\n",
       "19377      NaN   Test         ＦＣ岐阜         愛媛ＦＣ  home_10  難波　宏明\n",
       "19378      NaN   Test         ＦＣ岐阜      東京ヴェルディ  home_10  難波　宏明\n",
       "19381      NaN   Test         ＦＣ岐阜     モンテディオ山形  home_10  難波　宏明\n",
       "19383      NaN   Test         ＦＣ岐阜       松本山雅ＦＣ  home_10  難波　宏明\n",
       "21413      NaN   Test         ＦＣ岐阜     コンサドーレ札幌  home_11  難波　宏明\n",
       "21414      NaN   Test         ＦＣ岐阜       ロアッソ熊本  home_11  難波　宏明\n",
       "21416      NaN   Test         ＦＣ岐阜    水戸ホーリーホック  home_11  難波　宏明\n",
       "37510   7293.0  Train     コンサドーレ札幌         ＦＣ岐阜  away_08  難波　宏明\n",
       "41596  12115.0  Train      東京ヴェルディ         ＦＣ岐阜  away_10  難波　宏明\n",
       "41606   5817.0  Train    水戸ホーリーホック         横浜ＦＣ  away_10  難波　宏明\n",
       "41777   6279.0  Train     ファジアーノ岡山    水戸ホーリーホック  away_10  難波　宏明\n",
       "41834   4104.0  Train       アビスパ福岡    水戸ホーリーホック  away_10  難波　宏明\n",
       "41909   9267.0  Train      大分トリニータ         ＦＣ岐阜  away_10  難波　宏明\n",
       "41965   3532.0  Train         愛媛ＦＣ         ＦＣ岐阜  away_10  難波　宏明\n",
       "42085      NaN   Test    ギラヴァンツ北九州         ＦＣ岐阜  away_10  難波　宏明\n",
       "42180   7153.0  Train       松本山雅ＦＣ    水戸ホーリーホック  away_10  難波　宏明\n",
       "42360   5550.0  Train       ロアッソ熊本         ＦＣ岐阜  away_10  難波　宏明\n",
       "42422      NaN   Test    京都サンガF.C.         ＦＣ岐阜  away_10  難波　宏明\n",
       "42441   6467.0  Train      ガイナーレ鳥取    水戸ホーリーホック  away_10  難波　宏明\n",
       "42514   7038.0  Train     モンテディオ山形         ＦＣ岐阜  away_10  難波　宏明\n",
       "42579      NaN   Test       カターレ富山         ＦＣ岐阜  away_10  難波　宏明\n",
       "43316      NaN   Test       ジュビロ磐田         ＦＣ岐阜  away_11  難波　宏明\n",
       "43833  10756.0  Train     ファジアーノ岡山         ＦＣ岐阜  away_11  難波　宏明\n",
       "44064      NaN   Test      湘南ベルマーレ         ＦＣ岐阜  away_11  難波　宏明\n",
       "44669      NaN   Test  ジェフユナイテッド千葉         ＦＣ岐阜  away_11  難波　宏明"
      ]
     },
     "execution_count": 71,
     "metadata": {},
     "output_type": "execute_result"
    }
   ],
   "source": [
    "# 難波　宏明はTestのhomeは7試合出ている\n",
    "dat_player[dat_player[\"value\"] == \"難波　宏明\"]"
   ]
  },
  {
   "cell_type": "markdown",
   "metadata": {
    "id": "x4Xk75epvhGJ"
   },
   "source": [
    "### address\n",
    "　略."
   ]
  },
  {
   "cell_type": "markdown",
   "metadata": {
    "id": "eTyTgxq0vhGJ"
   },
   "source": [
    "### capa"
   ]
  },
  {
   "cell_type": "code",
   "execution_count": null,
   "metadata": {
    "id": "50LjJ6cMvhGJ",
    "outputId": "257b2b82-7e33-4512-e377-76b8f9d6531d"
   },
   "outputs": [
    {
     "data": {
      "text/plain": [
       "<AxesSubplot:xlabel='capa', ylabel='count'>"
      ]
     },
     "execution_count": 72,
     "metadata": {},
     "output_type": "execute_result"
    },
    {
     "data": {
      "image/png": "[encoded data removed]",
      "text/plain": [
       "<Figure size 1440x720 with 1 Axes>"
      ]
     },
     "metadata": {
      "needs_background": "light"
     },
     "output_type": "display_data"
    }
   ],
   "source": [
    "# capa毎のデータ数(Train, Testも区別)\n",
    "sns.countplot(x=\"capa\", hue=\"data\",data=dat)"
   ]
  },
  {
   "cell_type": "code",
   "execution_count": null,
   "metadata": {
    "id": "xyBrpWjdvhGJ",
    "outputId": "232d3f1f-f4b7-4481-dd09-34e40d6af11c"
   },
   "outputs": [
    {
     "data": {
      "text/plain": [
       "<AxesSubplot:xlabel='capa', ylabel='y'>"
      ]
     },
     "execution_count": 73,
     "metadata": {},
     "output_type": "execute_result"
    },
    {
     "data": {
      "image/png": "[encoded data removed]",
      "text/plain": [
       "<Figure size 1440x720 with 1 Axes>"
      ]
     },
     "metadata": {
      "needs_background": "light"
     },
     "output_type": "display_data"
    }
   ],
   "source": [
    "# capa毎のy(J1)\n",
    "# ->　capa=50000は低い？\n",
    "check_y = dat[(dat[\"data\"]==\"Train\") & (dat[\"stage\"] == \"Ｊ１\")].copy()\n",
    "sns.boxplot(x=\"capa\", y=\"y\", data=check_y)"
   ]
  },
  {
   "cell_type": "code",
   "execution_count": null,
   "metadata": {
    "id": "wB71jY4WvhGJ",
    "outputId": "058aa5d8-263d-4273-bb06-c48903ae4639"
   },
   "outputs": [
    {
     "data": {
      "text/plain": [
       "<AxesSubplot:xlabel='capa', ylabel='y'>"
      ]
     },
     "execution_count": 74,
     "metadata": {},
     "output_type": "execute_result"
    },
    {
     "data": {
      "image/png": "[encoded data removed]",
      "text/plain": [
       "<Figure size 1440x720 with 1 Axes>"
      ]
     },
     "metadata": {
      "needs_background": "light"
     },
     "output_type": "display_data"
    }
   ],
   "source": [
    "# capa毎のy(J2)\n",
    "# ->　あんまり連動しない？\n",
    "check_y = dat[(dat[\"data\"]==\"Train\") & (dat[\"stage\"] == \"Ｊ２\")].copy()\n",
    "sns.boxplot(x=\"capa\", y=\"y\", data=check_y)"
   ]
  }
 ],
 "metadata": {
  "colab": {
   "provenance": []
  },
  "kernelspec": {
   "display_name": "Python 3 (ipykernel)",
   "language": "python",
   "name": "python3"
  },
  "language_info": {
   "codemirror_mode": {
    "name": "ipython",
    "version": 3
   },
   "file_extension": ".py",
   "mimetype": "text/x-python",
   "name": "python",
   "nbconvert_exporter": "python",
   "pygments_lexer": "ipython3",
   "version": "3.13.5"
  }
 },
 "nbformat": 4,
 "nbformat_minor": 4
}
