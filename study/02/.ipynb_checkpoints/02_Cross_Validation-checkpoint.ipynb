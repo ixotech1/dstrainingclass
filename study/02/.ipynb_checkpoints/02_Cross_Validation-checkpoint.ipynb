{
 "cells": [
  {
   "cell_type": "markdown",
   "metadata": {},
   "source": [
    "# K分割交差検証法：Cross Validation\n",
    "　クロスバリデーションのサンプルプログラム. **理解のためや, オリジナルのクロスバリデーションを書けるようにライブラリは使用しない.**"
   ]
  },
  {
   "cell_type": "code",
   "execution_count": 1,
   "metadata": {},
   "outputs": [],
   "source": [
    "import numpy as np\n",
    "import pandas as pd\n",
    "\n",
    "from sklearn.tree import DecisionTreeClassifier\n",
    "from sklearn.metrics import roc_auc_score\n",
    "\n",
    "import seaborn as sns\n",
    "import matplotlib.pyplot as plt"
   ]
  },
  {
   "cell_type": "markdown",
   "metadata": {},
   "source": [
    "## Setting"
   ]
  },
  {
   "cell_type": "code",
   "execution_count": 2,
   "metadata": {},
   "outputs": [],
   "source": [
    "# Path\n",
    "input_path = \"../input_data/\"\n",
    "\n",
    "# Figure Size\n",
    "plt.rcParams[\"figure.figsize\"] = (15.0, 10.0)"
   ]
  },
  {
   "cell_type": "markdown",
   "metadata": {},
   "source": [
    "## Read Data and Make Data"
   ]
  },
  {
   "cell_type": "code",
   "execution_count": 3,
   "metadata": {},
   "outputs": [],
   "source": [
    "train = pd.read_csv(\n",
    "    input_path + \"bank/train.csv\",\n",
    "    sep = \",\",\n",
    "    header = 0,\n",
    "    quotechar = \"\\\"\"\n",
    ")\n",
    "\n",
    "train = pd.get_dummies(train, drop_first=True)"
   ]
  },
  {
   "cell_type": "markdown",
   "metadata": {},
   "source": [
    "## max_depth = 3でCross Validation"
   ]
  },
  {
   "cell_type": "code",
   "execution_count": 4,
   "metadata": {},
   "outputs": [],
   "source": [
    "# 分割数\n",
    "K = 5\n",
    "\n",
    "# 再現性のためシードを固定\n",
    "np.random.seed(17)\n",
    "\n",
    "# グループ分け\n",
    "train[\"cv_group\"] = np.random.randint(0, K, train.shape[0])\n",
    "\n",
    "# Cross Validation\n",
    "train_score = []\n",
    "valid_score = []\n",
    "for i in range(K):\n",
    "    # 構築, 検証に分ける\n",
    "    train_tmp = train[train[\"cv_group\"] != i].drop(\"cv_group\", axis = 1).copy()\n",
    "    valid_tmp = train[train[\"cv_group\"] == i].drop(\"cv_group\", axis = 1).copy()\n",
    "\n",
    "    train_x = train_tmp.drop(columns = [\"y\"])\n",
    "    train_y = train_tmp[[\"y\"]]\n",
    "    \n",
    "    valid_x = valid_tmp.drop(columns = [\"y\"])\n",
    "    valid_y = valid_tmp[[\"y\"]]\n",
    "    \n",
    "    # Make Model\n",
    "    tree_model = DecisionTreeClassifier(\n",
    "        criterion = \"gini\",                # Entropy基準の場合は\"entropy”\n",
    "        splitter = \"best\",                 # 分割をランダムで行う場合は\"random\"\n",
    "        random_state=17,                   # 同じ分割スコアの時にランダムに選ぶseedを固定\n",
    "        max_depth = 3,                     # 決定木の深さの最大値\n",
    "        min_samples_split = 2,             # 分割する最小データ数\n",
    "        min_samples_leaf = 1,              # 末端ノードに該当する最小サンプル数\n",
    "        ccp_alpha=0                        # 枝刈りの強さ(非負)※最初はあまりいじらなくて良い\n",
    "    )\n",
    "    tree_model = tree_model.fit(train_x, train_y)\n",
    "    \n",
    "    # 構築データのAUC\n",
    "    pred = tree_model.predict_proba(train_x)[:, 1]\n",
    "    train_score.append(roc_auc_score(train_y, pred))\n",
    "    \n",
    "    # 検証データのAUC\n",
    "    pred = tree_model.predict_proba(valid_x)[:, 1]\n",
    "    valid_score.append(roc_auc_score(valid_y, pred))"
   ]
  },
  {
   "cell_type": "markdown",
   "metadata": {},
   "source": [
    "　構築データのAUC"
   ]
  },
  {
   "cell_type": "code",
   "execution_count": 5,
   "metadata": {},
   "outputs": [
    {
     "data": {
      "text/plain": [
       "0.8033228987837724"
      ]
     },
     "execution_count": 5,
     "metadata": {},
     "output_type": "execute_result"
    }
   ],
   "source": [
    "sum(train_score) / K"
   ]
  },
  {
   "cell_type": "markdown",
   "metadata": {},
   "source": [
    "　検証データのAUC"
   ]
  },
  {
   "cell_type": "code",
   "execution_count": 6,
   "metadata": {},
   "outputs": [
    {
     "data": {
      "text/plain": [
       "0.8004223218914092"
      ]
     },
     "execution_count": 6,
     "metadata": {},
     "output_type": "execute_result"
    }
   ],
   "source": [
    "sum(valid_score) / K"
   ]
  },
  {
   "cell_type": "markdown",
   "metadata": {},
   "source": [
    "## max_depthを動かしてチューニング"
   ]
  },
  {
   "cell_type": "code",
   "execution_count": 7,
   "metadata": {},
   "outputs": [],
   "source": [
    "# 分割数\n",
    "K = 5\n",
    "\n",
    "# 再現性のためシードを固定\n",
    "np.random.seed(17)\n",
    "\n",
    "# グループ分け\n",
    "train[\"cv_group\"] = np.random.randint(0, K, train.shape[0])\n",
    "\n",
    "\n",
    "# チューニング\n",
    "train_auc = []\n",
    "valid_auc = []\n",
    "search_list = [1, 2, 3, 4, 5, 6, 7, 8, 9, 10, 11, 12]\n",
    "for j in search_list:\n",
    "    \n",
    "    # Cross Validation\n",
    "    train_score = []\n",
    "    valid_score = []\n",
    "    \n",
    "    for i in range(K):\n",
    "        # 構築, 検証に分ける\n",
    "        train_tmp = train[train[\"cv_group\"] != i].drop(\"cv_group\", axis = 1).copy()\n",
    "        valid_tmp = train[train[\"cv_group\"] == i].drop(\"cv_group\", axis = 1).copy()\n",
    "\n",
    "        train_x = train_tmp.drop(columns = [\"y\"])\n",
    "        train_y = train_tmp[[\"y\"]]\n",
    "\n",
    "        valid_x = valid_tmp.drop(columns = [\"y\"])\n",
    "        valid_y = valid_tmp[[\"y\"]]\n",
    "\n",
    "        # Make Model\n",
    "        tree_model = DecisionTreeClassifier(\n",
    "            criterion = \"gini\",                # Entropy基準の場合は\"entropy”\n",
    "            splitter = \"best\",                 # 分割をランダムで行う場合は\"random\"\n",
    "            random_state=17,                   # 同じ分割スコアの時にランダムに選ぶseedを固定\n",
    "            max_depth = j,                     # 決定木の深さの最大値\n",
    "            min_samples_split = 2,             # 分割する最小データ数\n",
    "            min_samples_leaf = 1,              # 末端ノードに該当する最小サンプル数\n",
    "            ccp_alpha=0                        # 枝刈りの強さ(非負)※最初はあまりいじらなくて良い\n",
    "        )\n",
    "        tree_model = tree_model.fit(train_x, train_y)\n",
    "\n",
    "        # 構築データのAUC\n",
    "        pred = tree_model.predict_proba(train_x)[:, 1]\n",
    "        train_score.append(roc_auc_score(train_y, pred))\n",
    "\n",
    "        # 検証データのAUC\n",
    "        pred = tree_model.predict_proba(valid_x)[:, 1]\n",
    "        valid_score.append(roc_auc_score(valid_y, pred))\n",
    "        \n",
    "    train_auc.append(sum(train_score) / K)\n",
    "    valid_auc.append(sum(valid_score) / K)"
   ]
  },
  {
   "cell_type": "markdown",
   "metadata": {},
   "source": [
    "## 過学習の確認"
   ]
  },
  {
   "cell_type": "code",
   "execution_count": 8,
   "metadata": {},
   "outputs": [],
   "source": [
    "g_train = pd.DataFrame(\n",
    "    np.array([search_list, train_auc]).T,\n",
    "    columns = [\"Search\", \"AUC\"]\n",
    ")\n",
    "g_train[\"Data\"] = \"train\"\n",
    "\n",
    "g_valid = pd.DataFrame(\n",
    "    np.array([search_list, valid_auc]).T,\n",
    "    columns = [\"Search\", \"AUC\"]\n",
    ")\n",
    "g_valid[\"Data\"] = \"valid\"\n",
    "\n",
    "g_dat = pd.concat([g_train, g_valid])"
   ]
  },
  {
   "cell_type": "code",
   "execution_count": 9,
   "metadata": {},
   "outputs": [
    {
     "data": {
      "text/plain": [
       "[(0.5, 1.0)]"
      ]
     },
     "execution_count": 9,
     "metadata": {},
     "output_type": "execute_result"
    },
    {
     "data": {
      "image/png": "[encoded data removed]",
      "text/plain": [
       "<Figure size 1500x1000 with 1 Axes>"
      ]
     },
     "metadata": {},
     "output_type": "display_data"
    }
   ],
   "source": [
    "sns.pointplot(\n",
    "    data = g_dat,\n",
    "    x = \"Search\",\n",
    "    y = \"AUC\",\n",
    "    hue = \"Data\"\n",
    ").set(ylim = (0.5, 1))"
   ]
  },
  {
   "cell_type": "code",
   "execution_count": 10,
   "metadata": {},
   "outputs": [
    {
     "data": {
      "text/html": [
       "<div>\n",
       "<style scoped>\n",
       "    .dataframe tbody tr th:only-of-type {\n",
       "        vertical-align: middle;\n",
       "    }\n",
       "\n",
       "    .dataframe tbody tr th {\n",
       "        vertical-align: top;\n",
       "    }\n",
       "\n",
       "    .dataframe thead th {\n",
       "        text-align: right;\n",
       "    }\n",
       "</style>\n",
       "<table border=\"1\" class=\"dataframe\">\n",
       "  <thead>\n",
       "    <tr style=\"text-align: right;\">\n",
       "      <th></th>\n",
       "      <th>Search</th>\n",
       "      <th>AUC</th>\n",
       "      <th>Data</th>\n",
       "    </tr>\n",
       "  </thead>\n",
       "  <tbody>\n",
       "    <tr>\n",
       "      <th>0</th>\n",
       "      <td>1.0</td>\n",
       "      <td>0.678555</td>\n",
       "      <td>train</td>\n",
       "    </tr>\n",
       "    <tr>\n",
       "      <th>1</th>\n",
       "      <td>2.0</td>\n",
       "      <td>0.751394</td>\n",
       "      <td>train</td>\n",
       "    </tr>\n",
       "    <tr>\n",
       "      <th>2</th>\n",
       "      <td>3.0</td>\n",
       "      <td>0.803323</td>\n",
       "      <td>train</td>\n",
       "    </tr>\n",
       "    <tr>\n",
       "      <th>3</th>\n",
       "      <td>4.0</td>\n",
       "      <td>0.836770</td>\n",
       "      <td>train</td>\n",
       "    </tr>\n",
       "    <tr>\n",
       "      <th>4</th>\n",
       "      <td>5.0</td>\n",
       "      <td>0.860042</td>\n",
       "      <td>train</td>\n",
       "    </tr>\n",
       "    <tr>\n",
       "      <th>5</th>\n",
       "      <td>6.0</td>\n",
       "      <td>0.871178</td>\n",
       "      <td>train</td>\n",
       "    </tr>\n",
       "    <tr>\n",
       "      <th>6</th>\n",
       "      <td>7.0</td>\n",
       "      <td>0.884486</td>\n",
       "      <td>train</td>\n",
       "    </tr>\n",
       "    <tr>\n",
       "      <th>7</th>\n",
       "      <td>8.0</td>\n",
       "      <td>0.896720</td>\n",
       "      <td>train</td>\n",
       "    </tr>\n",
       "    <tr>\n",
       "      <th>8</th>\n",
       "      <td>9.0</td>\n",
       "      <td>0.911323</td>\n",
       "      <td>train</td>\n",
       "    </tr>\n",
       "    <tr>\n",
       "      <th>9</th>\n",
       "      <td>10.0</td>\n",
       "      <td>0.925636</td>\n",
       "      <td>train</td>\n",
       "    </tr>\n",
       "    <tr>\n",
       "      <th>10</th>\n",
       "      <td>11.0</td>\n",
       "      <td>0.936912</td>\n",
       "      <td>train</td>\n",
       "    </tr>\n",
       "    <tr>\n",
       "      <th>11</th>\n",
       "      <td>12.0</td>\n",
       "      <td>0.947183</td>\n",
       "      <td>train</td>\n",
       "    </tr>\n",
       "    <tr>\n",
       "      <th>0</th>\n",
       "      <td>1.0</td>\n",
       "      <td>0.675896</td>\n",
       "      <td>valid</td>\n",
       "    </tr>\n",
       "    <tr>\n",
       "      <th>1</th>\n",
       "      <td>2.0</td>\n",
       "      <td>0.748849</td>\n",
       "      <td>valid</td>\n",
       "    </tr>\n",
       "    <tr>\n",
       "      <th>2</th>\n",
       "      <td>3.0</td>\n",
       "      <td>0.800422</td>\n",
       "      <td>valid</td>\n",
       "    </tr>\n",
       "    <tr>\n",
       "      <th>3</th>\n",
       "      <td>4.0</td>\n",
       "      <td>0.833721</td>\n",
       "      <td>valid</td>\n",
       "    </tr>\n",
       "    <tr>\n",
       "      <th>4</th>\n",
       "      <td>5.0</td>\n",
       "      <td>0.850631</td>\n",
       "      <td>valid</td>\n",
       "    </tr>\n",
       "    <tr>\n",
       "      <th>5</th>\n",
       "      <td>6.0</td>\n",
       "      <td>0.852798</td>\n",
       "      <td>valid</td>\n",
       "    </tr>\n",
       "    <tr>\n",
       "      <th>6</th>\n",
       "      <td>7.0</td>\n",
       "      <td>0.849888</td>\n",
       "      <td>valid</td>\n",
       "    </tr>\n",
       "    <tr>\n",
       "      <th>7</th>\n",
       "      <td>8.0</td>\n",
       "      <td>0.841825</td>\n",
       "      <td>valid</td>\n",
       "    </tr>\n",
       "    <tr>\n",
       "      <th>8</th>\n",
       "      <td>9.0</td>\n",
       "      <td>0.831618</td>\n",
       "      <td>valid</td>\n",
       "    </tr>\n",
       "    <tr>\n",
       "      <th>9</th>\n",
       "      <td>10.0</td>\n",
       "      <td>0.813469</td>\n",
       "      <td>valid</td>\n",
       "    </tr>\n",
       "    <tr>\n",
       "      <th>10</th>\n",
       "      <td>11.0</td>\n",
       "      <td>0.789066</td>\n",
       "      <td>valid</td>\n",
       "    </tr>\n",
       "    <tr>\n",
       "      <th>11</th>\n",
       "      <td>12.0</td>\n",
       "      <td>0.765079</td>\n",
       "      <td>valid</td>\n",
       "    </tr>\n",
       "  </tbody>\n",
       "</table>\n",
       "</div>"
      ],
      "text/plain": [
       "    Search       AUC   Data\n",
       "0      1.0  0.678555  train\n",
       "1      2.0  0.751394  train\n",
       "2      3.0  0.803323  train\n",
       "3      4.0  0.836770  train\n",
       "4      5.0  0.860042  train\n",
       "5      6.0  0.871178  train\n",
       "6      7.0  0.884486  train\n",
       "7      8.0  0.896720  train\n",
       "8      9.0  0.911323  train\n",
       "9     10.0  0.925636  train\n",
       "10    11.0  0.936912  train\n",
       "11    12.0  0.947183  train\n",
       "0      1.0  0.675896  valid\n",
       "1      2.0  0.748849  valid\n",
       "2      3.0  0.800422  valid\n",
       "3      4.0  0.833721  valid\n",
       "4      5.0  0.850631  valid\n",
       "5      6.0  0.852798  valid\n",
       "6      7.0  0.849888  valid\n",
       "7      8.0  0.841825  valid\n",
       "8      9.0  0.831618  valid\n",
       "9     10.0  0.813469  valid\n",
       "10    11.0  0.789066  valid\n",
       "11    12.0  0.765079  valid"
      ]
     },
     "execution_count": 10,
     "metadata": {},
     "output_type": "execute_result"
    }
   ],
   "source": [
    "g_dat"
   ]
  }
 ],
 "metadata": {
  "kernelspec": {
   "display_name": "Python 3 (ipykernel)",
   "language": "python",
   "name": "python3"
  },
  "language_info": {
   "codemirror_mode": {
    "name": "ipython",
    "version": 3
   },
   "file_extension": ".py",
   "mimetype": "text/x-python",
   "name": "python",
   "nbconvert_exporter": "python",
   "pygments_lexer": "ipython3",
   "version": "3.13.5"
  }
 },
 "nbformat": 4,
 "nbformat_minor": 4
}
