{
 "cells": [
  {
   "cell_type": "code",
   "execution_count": 3,
   "metadata": {
    "id": "3f4_mIDFde2-",
    "outputId": "40f9d0b4-f318-4f28-ff2f-b50a741b0bdd"
   },
   "outputs": [],
   "source": [
    "# matplotlib_fontjaをインストールしていなければ、下記を実施\n",
    "# !pip install matplotlib_fontja"
   ]
  },
  {
   "cell_type": "markdown",
   "metadata": {
    "id": "gesSxt5gde3B"
   },
   "source": [
    "## Import"
   ]
  },
  {
   "cell_type": "code",
   "execution_count": 2,
   "metadata": {
    "id": "XltdQ5jU-0ZC"
   },
   "outputs": [],
   "source": [
    "import numpy as np\n",
    "import pandas as pd\n",
    "from sklearn.metrics import confusion_matrix, precision_score, recall_score, accuracy_score, roc_curve, roc_auc_score\n",
    "import seaborn as sns\n",
    "import matplotlib.pyplot as plt\n",
    "import matplotlib_fontja"
   ]
  },
  {
   "cell_type": "markdown",
   "metadata": {
    "id": "fz93C8_a_T8H"
   },
   "source": [
    "## データの作成"
   ]
  },
  {
   "cell_type": "code",
   "execution_count": 3,
   "metadata": {
    "id": "tGMDcqek_YGI"
   },
   "outputs": [],
   "source": [
    "dogcat_df = pd.DataFrame([\n",
    "    [\"犬\", 32.3],\n",
    "    [\"犬\",25.4],\n",
    "    [\"犬\",15.2],\n",
    "    [\"猫\",10.1],\n",
    "    [\"犬\",8.7],\n",
    "    [\"猫\",7.5],\n",
    "    [\"犬\",6.9],\n",
    "    [\"猫\",4.8],\n",
    "    [\"猫\",4.3],\n",
    "    [\"猫\",3.2],\n",
    "    ],columns = [\"真の分類\",\"体重\"]\n",
    ")"
   ]
  },
  {
   "cell_type": "code",
   "execution_count": 4,
   "metadata": {
    "colab": {
     "base_uri": "https://localhost:8080/",
     "height": 465
    },
    "id": "Z1YK8LCYEpu2",
    "outputId": "bfa224a7-6821-41d9-8a18-60e0d701164e"
   },
   "outputs": [
    {
     "data": {
      "text/plain": [
       "<Axes: xlabel='体重', ylabel='Count'>"
      ]
     },
     "execution_count": 4,
     "metadata": {},
     "output_type": "execute_result"
    },
    {
     "data": {
      "image/png": "[encoded data removed]",
      "text/plain": [
       "<Figure size 640x480 with 1 Axes>"
      ]
     },
     "metadata": {},
     "output_type": "display_data"
    }
   ],
   "source": [
    "sns.histplot(data=dogcat_df, x='体重', hue='真の分類', bins=15)"
   ]
  },
  {
   "cell_type": "code",
   "execution_count": 5,
   "metadata": {
    "colab": {
     "base_uri": "https://localhost:8080/",
     "height": 363
    },
    "id": "qlGkiPMCDtAS",
    "outputId": "67585db7-24ea-4037-da13-dc00e8991c69"
   },
   "outputs": [
    {
     "data": {
      "text/html": [
       "<div>\n",
       "<style scoped>\n",
       "    .dataframe tbody tr th:only-of-type {\n",
       "        vertical-align: middle;\n",
       "    }\n",
       "\n",
       "    .dataframe tbody tr th {\n",
       "        vertical-align: top;\n",
       "    }\n",
       "\n",
       "    .dataframe thead th {\n",
       "        text-align: right;\n",
       "    }\n",
       "</style>\n",
       "<table border=\"1\" class=\"dataframe\">\n",
       "  <thead>\n",
       "    <tr style=\"text-align: right;\">\n",
       "      <th></th>\n",
       "      <th>真の分類</th>\n",
       "      <th>体重</th>\n",
       "      <th>実測値</th>\n",
       "      <th>予測値</th>\n",
       "      <th>予測の分類</th>\n",
       "    </tr>\n",
       "  </thead>\n",
       "  <tbody>\n",
       "    <tr>\n",
       "      <th>0</th>\n",
       "      <td>犬</td>\n",
       "      <td>32.3</td>\n",
       "      <td>1</td>\n",
       "      <td>1</td>\n",
       "      <td>犬</td>\n",
       "    </tr>\n",
       "    <tr>\n",
       "      <th>1</th>\n",
       "      <td>犬</td>\n",
       "      <td>25.4</td>\n",
       "      <td>1</td>\n",
       "      <td>1</td>\n",
       "      <td>犬</td>\n",
       "    </tr>\n",
       "    <tr>\n",
       "      <th>2</th>\n",
       "      <td>犬</td>\n",
       "      <td>15.2</td>\n",
       "      <td>1</td>\n",
       "      <td>1</td>\n",
       "      <td>犬</td>\n",
       "    </tr>\n",
       "    <tr>\n",
       "      <th>3</th>\n",
       "      <td>猫</td>\n",
       "      <td>10.1</td>\n",
       "      <td>0</td>\n",
       "      <td>1</td>\n",
       "      <td>犬</td>\n",
       "    </tr>\n",
       "    <tr>\n",
       "      <th>4</th>\n",
       "      <td>犬</td>\n",
       "      <td>8.7</td>\n",
       "      <td>1</td>\n",
       "      <td>0</td>\n",
       "      <td>猫</td>\n",
       "    </tr>\n",
       "    <tr>\n",
       "      <th>5</th>\n",
       "      <td>猫</td>\n",
       "      <td>7.5</td>\n",
       "      <td>0</td>\n",
       "      <td>0</td>\n",
       "      <td>猫</td>\n",
       "    </tr>\n",
       "    <tr>\n",
       "      <th>6</th>\n",
       "      <td>犬</td>\n",
       "      <td>6.9</td>\n",
       "      <td>1</td>\n",
       "      <td>0</td>\n",
       "      <td>猫</td>\n",
       "    </tr>\n",
       "    <tr>\n",
       "      <th>7</th>\n",
       "      <td>猫</td>\n",
       "      <td>4.8</td>\n",
       "      <td>0</td>\n",
       "      <td>0</td>\n",
       "      <td>猫</td>\n",
       "    </tr>\n",
       "    <tr>\n",
       "      <th>8</th>\n",
       "      <td>猫</td>\n",
       "      <td>4.3</td>\n",
       "      <td>0</td>\n",
       "      <td>0</td>\n",
       "      <td>猫</td>\n",
       "    </tr>\n",
       "    <tr>\n",
       "      <th>9</th>\n",
       "      <td>猫</td>\n",
       "      <td>3.2</td>\n",
       "      <td>0</td>\n",
       "      <td>0</td>\n",
       "      <td>猫</td>\n",
       "    </tr>\n",
       "  </tbody>\n",
       "</table>\n",
       "</div>"
      ],
      "text/plain": [
       "  真の分類    体重  実測値  予測値 予測の分類\n",
       "0    犬  32.3    1    1     犬\n",
       "1    犬  25.4    1    1     犬\n",
       "2    犬  15.2    1    1     犬\n",
       "3    猫  10.1    0    1     犬\n",
       "4    犬   8.7    1    0     猫\n",
       "5    猫   7.5    0    0     猫\n",
       "6    犬   6.9    1    0     猫\n",
       "7    猫   4.8    0    0     猫\n",
       "8    猫   4.3    0    0     猫\n",
       "9    猫   3.2    0    0     猫"
      ]
     },
     "execution_count": 5,
     "metadata": {},
     "output_type": "execute_result"
    }
   ],
   "source": [
    "# 犬を1に、猫を0に割り当てる\n",
    "dogcat_df[\"実測値\"] = dogcat_df[\"真の分類\"].map({\"犬\":1,\"猫\":0})\n",
    "# 予測値を体重が10より大きいときに1,それ以外の時に0とする\n",
    "dogcat_df[\"予測値\"] = (dogcat_df[\"体重\"] > 10).astype(int)\n",
    "# 予測値が1のとき犬、0のとき猫とする\n",
    "dogcat_df[\"予測の分類\"] = dogcat_df[\"予測値\"].map({1:\"犬\",0:\"猫\"})\n",
    "dogcat_df"
   ]
  },
  {
   "cell_type": "markdown",
   "metadata": {
    "id": "5ZA10NbiWvEd"
   },
   "source": [
    "## 正解率と誤分類率"
   ]
  },
  {
   "cell_type": "markdown",
   "metadata": {
    "id": "SW9wlxnzde3D"
   },
   "source": [
    "正解率や誤分類率を出すには、sklearn.metricsのaccuracy_scoreを使用する"
   ]
  },
  {
   "cell_type": "code",
   "execution_count": 6,
   "metadata": {
    "colab": {
     "base_uri": "https://localhost:8080/"
    },
    "id": "iEoLNwsWDMn2",
    "outputId": "832951fd-a877-4580-eb45-10875e2d7571"
   },
   "outputs": [
    {
     "name": "stdout",
     "output_type": "stream",
     "text": [
      "正解率：0.700 誤分類率:0.300\n"
     ]
    }
   ],
   "source": [
    "# 実測値と予測値が同じ場合を正解とする\n",
    "acc = accuracy_score(dogcat_df[\"実測値\"], dogcat_df[\"予測値\"])\n",
    "print(f\"正解率：{acc:.3f} 誤分類率:{1-acc:.3f}\")"
   ]
  },
  {
   "cell_type": "markdown",
   "metadata": {
    "id": "R3qQ80_6Wy0H"
   },
   "source": [
    "## 混同行列"
   ]
  },
  {
   "cell_type": "markdown",
   "metadata": {
    "id": "h67yrPtade3E"
   },
   "source": [
    "crosstabでクロス集計が算出できる"
   ]
  },
  {
   "cell_type": "code",
   "execution_count": 7,
   "metadata": {
    "colab": {
     "base_uri": "https://localhost:8080/",
     "height": 143
    },
    "id": "MclQvtrVHDmI",
    "outputId": "1ba4c252-bea5-4a0d-d999-3d9fb69072fa"
   },
   "outputs": [
    {
     "data": {
      "text/html": [
       "<div>\n",
       "<style scoped>\n",
       "    .dataframe tbody tr th:only-of-type {\n",
       "        vertical-align: middle;\n",
       "    }\n",
       "\n",
       "    .dataframe tbody tr th {\n",
       "        vertical-align: top;\n",
       "    }\n",
       "\n",
       "    .dataframe thead th {\n",
       "        text-align: right;\n",
       "    }\n",
       "</style>\n",
       "<table border=\"1\" class=\"dataframe\">\n",
       "  <thead>\n",
       "    <tr style=\"text-align: right;\">\n",
       "      <th>予測の分類</th>\n",
       "      <th>犬</th>\n",
       "      <th>猫</th>\n",
       "    </tr>\n",
       "    <tr>\n",
       "      <th>真の分類</th>\n",
       "      <th></th>\n",
       "      <th></th>\n",
       "    </tr>\n",
       "  </thead>\n",
       "  <tbody>\n",
       "    <tr>\n",
       "      <th>犬</th>\n",
       "      <td>3</td>\n",
       "      <td>2</td>\n",
       "    </tr>\n",
       "    <tr>\n",
       "      <th>猫</th>\n",
       "      <td>1</td>\n",
       "      <td>4</td>\n",
       "    </tr>\n",
       "  </tbody>\n",
       "</table>\n",
       "</div>"
      ],
      "text/plain": [
       "予測の分類  犬  猫\n",
       "真の分類       \n",
       "犬      3  2\n",
       "猫      1  4"
      ]
     },
     "execution_count": 7,
     "metadata": {},
     "output_type": "execute_result"
    }
   ],
   "source": [
    "pd.crosstab(dogcat_df[\"真の分類\"], dogcat_df[\"予測の分類\"])\n",
    "# sklearnのconfusion_matrixを使用しても算出可能\n",
    "# confusion_matrix(dogcat_df[\"実測値\"], dogcat_df[\"予測値\"])"
   ]
  },
  {
   "cell_type": "markdown",
   "metadata": {
    "id": "hPIZFx-Hde3E"
   },
   "source": [
    "## 適合率、再現率"
   ]
  },
  {
   "cell_type": "markdown",
   "metadata": {
    "id": "GI2hnr9Ede3E"
   },
   "source": [
    "sklearn.metricsのprecision_scoreとrecall_scoreを使用する"
   ]
  },
  {
   "cell_type": "code",
   "execution_count": 8,
   "metadata": {
    "colab": {
     "base_uri": "https://localhost:8080/"
    },
    "id": "HfPipxtUW9Vc",
    "outputId": "ce437be3-adc5-468d-f318-06b786be1d68"
   },
   "outputs": [
    {
     "name": "stdout",
     "output_type": "stream",
     "text": [
      "適合率=0.75, 再現率=0.6\n"
     ]
    }
   ],
   "source": [
    "precision = precision_score(dogcat_df[\"実測値\"], dogcat_df[\"予測値\"])\n",
    "recall = recall_score(dogcat_df[\"実測値\"], dogcat_df[\"予測値\"])\n",
    "print(f\"適合率={precision}, 再現率={recall}\")"
   ]
  },
  {
   "cell_type": "code",
   "execution_count": 9,
   "metadata": {
    "id": "d33tYuWude3F",
    "outputId": "f4d1ceb1-7fdf-4769-a0d0-cf652c417d0d"
   },
   "outputs": [
    {
     "name": "stdout",
     "output_type": "stream",
     "text": [
      "適合率=0.75, 再現率=0.6\n"
     ]
    }
   ],
   "source": [
    "# tp, fn, fp, tnから算出できます\n",
    "tp, fn, fp, tn = pd.crosstab(dogcat_df[\"真の分類\"], dogcat_df[\"予測の分類\"]).values.flatten()\n",
    "print(f\"適合率={tp / (tp + fp)}, 再現率={tp / (tp + fn)}\")"
   ]
  },
  {
   "cell_type": "markdown",
   "metadata": {
    "id": "kqpcrVmPW53f"
   },
   "source": [
    "## ROC曲線の作成とAUCの算出(sklearn)"
   ]
  },
  {
   "cell_type": "code",
   "execution_count": 10,
   "metadata": {
    "id": "wh7PBJ7Nde3F",
    "outputId": "d0137b29-a2c8-4fca-c94a-869e1c260cb3"
   },
   "outputs": [
    {
     "data": {
      "text/html": [
       "<div>\n",
       "<style scoped>\n",
       "    .dataframe tbody tr th:only-of-type {\n",
       "        vertical-align: middle;\n",
       "    }\n",
       "\n",
       "    .dataframe tbody tr th {\n",
       "        vertical-align: top;\n",
       "    }\n",
       "\n",
       "    .dataframe thead th {\n",
       "        text-align: right;\n",
       "    }\n",
       "</style>\n",
       "<table border=\"1\" class=\"dataframe\">\n",
       "  <thead>\n",
       "    <tr style=\"text-align: right;\">\n",
       "      <th></th>\n",
       "      <th>真の分類</th>\n",
       "      <th>体重</th>\n",
       "      <th>実測値</th>\n",
       "      <th>予測値</th>\n",
       "      <th>予測の分類</th>\n",
       "    </tr>\n",
       "  </thead>\n",
       "  <tbody>\n",
       "    <tr>\n",
       "      <th>0</th>\n",
       "      <td>犬</td>\n",
       "      <td>32.3</td>\n",
       "      <td>1</td>\n",
       "      <td>1</td>\n",
       "      <td>犬</td>\n",
       "    </tr>\n",
       "    <tr>\n",
       "      <th>1</th>\n",
       "      <td>犬</td>\n",
       "      <td>25.4</td>\n",
       "      <td>1</td>\n",
       "      <td>1</td>\n",
       "      <td>犬</td>\n",
       "    </tr>\n",
       "    <tr>\n",
       "      <th>2</th>\n",
       "      <td>犬</td>\n",
       "      <td>15.2</td>\n",
       "      <td>1</td>\n",
       "      <td>1</td>\n",
       "      <td>犬</td>\n",
       "    </tr>\n",
       "    <tr>\n",
       "      <th>3</th>\n",
       "      <td>猫</td>\n",
       "      <td>10.1</td>\n",
       "      <td>0</td>\n",
       "      <td>1</td>\n",
       "      <td>犬</td>\n",
       "    </tr>\n",
       "    <tr>\n",
       "      <th>4</th>\n",
       "      <td>犬</td>\n",
       "      <td>8.7</td>\n",
       "      <td>1</td>\n",
       "      <td>0</td>\n",
       "      <td>猫</td>\n",
       "    </tr>\n",
       "    <tr>\n",
       "      <th>5</th>\n",
       "      <td>猫</td>\n",
       "      <td>7.5</td>\n",
       "      <td>0</td>\n",
       "      <td>0</td>\n",
       "      <td>猫</td>\n",
       "    </tr>\n",
       "    <tr>\n",
       "      <th>6</th>\n",
       "      <td>犬</td>\n",
       "      <td>6.9</td>\n",
       "      <td>1</td>\n",
       "      <td>0</td>\n",
       "      <td>猫</td>\n",
       "    </tr>\n",
       "    <tr>\n",
       "      <th>7</th>\n",
       "      <td>猫</td>\n",
       "      <td>4.8</td>\n",
       "      <td>0</td>\n",
       "      <td>0</td>\n",
       "      <td>猫</td>\n",
       "    </tr>\n",
       "    <tr>\n",
       "      <th>8</th>\n",
       "      <td>猫</td>\n",
       "      <td>4.3</td>\n",
       "      <td>0</td>\n",
       "      <td>0</td>\n",
       "      <td>猫</td>\n",
       "    </tr>\n",
       "    <tr>\n",
       "      <th>9</th>\n",
       "      <td>猫</td>\n",
       "      <td>3.2</td>\n",
       "      <td>0</td>\n",
       "      <td>0</td>\n",
       "      <td>猫</td>\n",
       "    </tr>\n",
       "  </tbody>\n",
       "</table>\n",
       "</div>"
      ],
      "text/plain": [
       "  真の分類    体重  実測値  予測値 予測の分類\n",
       "0    犬  32.3    1    1     犬\n",
       "1    犬  25.4    1    1     犬\n",
       "2    犬  15.2    1    1     犬\n",
       "3    猫  10.1    0    1     犬\n",
       "4    犬   8.7    1    0     猫\n",
       "5    猫   7.5    0    0     猫\n",
       "6    犬   6.9    1    0     猫\n",
       "7    猫   4.8    0    0     猫\n",
       "8    猫   4.3    0    0     猫\n",
       "9    猫   3.2    0    0     猫"
      ]
     },
     "execution_count": 10,
     "metadata": {},
     "output_type": "execute_result"
    }
   ],
   "source": [
    "dogcat_df"
   ]
  },
  {
   "cell_type": "code",
   "execution_count": 11,
   "metadata": {
    "id": "P3NIO7u1de3F",
    "outputId": "1a61bfca-5d7c-4edf-89d6-094bde0d9ce7"
   },
   "outputs": [
    {
     "name": "stdout",
     "output_type": "stream",
     "text": [
      "FPR（偽陽性率）: [0.  0.  0.  0.2 0.2 0.4 0.4 1. ]\n",
      "TPR（真陽性率）: [0.  0.2 0.6 0.6 0.8 0.8 1.  1. ]\n",
      "閾値          ： [ inf 32.3 15.2 10.1  8.7  7.5  6.9  3.2]\n"
     ]
    }
   ],
   "source": [
    "fpr_list, tpr_list, thresholds = roc_curve(dogcat_df[\"実測値\"], dogcat_df[\"体重\"])\n",
    "print(\"FPR（偽陽性率）:\", fpr_list)\n",
    "print(\"TPR（真陽性率）:\", tpr_list)\n",
    "print(\"閾値          ：\", thresholds)"
   ]
  },
  {
   "cell_type": "markdown",
   "metadata": {
    "id": "5Rme8xHDde3F"
   },
   "source": [
    "## AUCの算出(sklearn)"
   ]
  },
  {
   "cell_type": "code",
   "execution_count": 12,
   "metadata": {
    "colab": {
     "base_uri": "https://localhost:8080/"
    },
    "id": "nh1n-1ah_NhW",
    "outputId": "e4b8f507-b660-40f7-bd04-dcee3bcec2ea"
   },
   "outputs": [
    {
     "name": "stdout",
     "output_type": "stream",
     "text": [
      "auc_score: 0.880\n"
     ]
    }
   ],
   "source": [
    "# AUCはsklearn.metricsのroc_auc_scoreから算出可能\n",
    "auc = roc_auc_score(dogcat_df[\"実測値\"],dogcat_df[\"体重\"])\n",
    "print(f\"auc_score: {auc:.3f}\")"
   ]
  },
  {
   "cell_type": "code",
   "execution_count": 13,
   "metadata": {
    "id": "Yap0KM0Pde3G",
    "outputId": "bab74eb3-62b1-46af-9075-72916e6fd20d"
   },
   "outputs": [
    {
     "data": {
      "image/png": "[encoded data removed]",
      "text/plain": [
       "<Figure size 1000x600 with 1 Axes>"
      ]
     },
     "metadata": {},
     "output_type": "display_data"
    }
   ],
   "source": [
    "# ROC曲線のプロット\n",
    "plt.figure(figsize=(10, 6))\n",
    "plt.plot(fpr_list, tpr_list, color='blue', lw=2, label=f'ROC curve')\n",
    "plt.plot([0, 1], [0, 1], color='gray', lw=2, linestyle='--', label=f'Random')\n",
    "plt.xlim([0.0, 1.0])\n",
    "plt.ylim([0.0, 1.05])\n",
    "plt.xlabel('偽陽性率(FPR)')\n",
    "plt.ylabel('真陽性率(TPR)')\n",
    "plt.title('ROC Curve')\n",
    "plt.legend(loc='lower right')\n",
    "plt.grid()\n",
    "plt.show()"
   ]
  },
  {
   "cell_type": "markdown",
   "metadata": {
    "id": "kFv-sfQYde3G"
   },
   "source": [
    "## 参考：ROC曲線の導出(sklearnのメソッドを使わずに)"
   ]
  },
  {
   "cell_type": "markdown",
   "metadata": {
    "id": "yfYRUpuFwWhs"
   },
   "source": [
    "ROC曲線やAUCの計算を理解してもらうために、sklearnのメソッドを使用せずに求める方法も解説します。"
   ]
  },
  {
   "cell_type": "code",
   "execution_count": 14,
   "metadata": {
    "id": "Xm_jWD_7de3G",
    "outputId": "5e0edd2e-1ea6-4397-ab0a-82c5d12f8ffc"
   },
   "outputs": [
    {
     "data": {
      "text/html": [
       "<div>\n",
       "<style scoped>\n",
       "    .dataframe tbody tr th:only-of-type {\n",
       "        vertical-align: middle;\n",
       "    }\n",
       "\n",
       "    .dataframe tbody tr th {\n",
       "        vertical-align: top;\n",
       "    }\n",
       "\n",
       "    .dataframe thead th {\n",
       "        text-align: right;\n",
       "    }\n",
       "</style>\n",
       "<table border=\"1\" class=\"dataframe\">\n",
       "  <thead>\n",
       "    <tr style=\"text-align: right;\">\n",
       "      <th></th>\n",
       "      <th>真の分類</th>\n",
       "      <th>体重</th>\n",
       "      <th>実測値</th>\n",
       "      <th>予測値</th>\n",
       "      <th>予測の分類</th>\n",
       "    </tr>\n",
       "  </thead>\n",
       "  <tbody>\n",
       "    <tr>\n",
       "      <th>0</th>\n",
       "      <td>犬</td>\n",
       "      <td>32.3</td>\n",
       "      <td>1</td>\n",
       "      <td>1</td>\n",
       "      <td>犬</td>\n",
       "    </tr>\n",
       "    <tr>\n",
       "      <th>1</th>\n",
       "      <td>犬</td>\n",
       "      <td>25.4</td>\n",
       "      <td>1</td>\n",
       "      <td>1</td>\n",
       "      <td>犬</td>\n",
       "    </tr>\n",
       "    <tr>\n",
       "      <th>2</th>\n",
       "      <td>犬</td>\n",
       "      <td>15.2</td>\n",
       "      <td>1</td>\n",
       "      <td>1</td>\n",
       "      <td>犬</td>\n",
       "    </tr>\n",
       "    <tr>\n",
       "      <th>3</th>\n",
       "      <td>猫</td>\n",
       "      <td>10.1</td>\n",
       "      <td>0</td>\n",
       "      <td>1</td>\n",
       "      <td>犬</td>\n",
       "    </tr>\n",
       "    <tr>\n",
       "      <th>4</th>\n",
       "      <td>犬</td>\n",
       "      <td>8.7</td>\n",
       "      <td>1</td>\n",
       "      <td>0</td>\n",
       "      <td>猫</td>\n",
       "    </tr>\n",
       "    <tr>\n",
       "      <th>5</th>\n",
       "      <td>猫</td>\n",
       "      <td>7.5</td>\n",
       "      <td>0</td>\n",
       "      <td>0</td>\n",
       "      <td>猫</td>\n",
       "    </tr>\n",
       "    <tr>\n",
       "      <th>6</th>\n",
       "      <td>犬</td>\n",
       "      <td>6.9</td>\n",
       "      <td>1</td>\n",
       "      <td>0</td>\n",
       "      <td>猫</td>\n",
       "    </tr>\n",
       "    <tr>\n",
       "      <th>7</th>\n",
       "      <td>猫</td>\n",
       "      <td>4.8</td>\n",
       "      <td>0</td>\n",
       "      <td>0</td>\n",
       "      <td>猫</td>\n",
       "    </tr>\n",
       "    <tr>\n",
       "      <th>8</th>\n",
       "      <td>猫</td>\n",
       "      <td>4.3</td>\n",
       "      <td>0</td>\n",
       "      <td>0</td>\n",
       "      <td>猫</td>\n",
       "    </tr>\n",
       "    <tr>\n",
       "      <th>9</th>\n",
       "      <td>猫</td>\n",
       "      <td>3.2</td>\n",
       "      <td>0</td>\n",
       "      <td>0</td>\n",
       "      <td>猫</td>\n",
       "    </tr>\n",
       "  </tbody>\n",
       "</table>\n",
       "</div>"
      ],
      "text/plain": [
       "  真の分類    体重  実測値  予測値 予測の分類\n",
       "0    犬  32.3    1    1     犬\n",
       "1    犬  25.4    1    1     犬\n",
       "2    犬  15.2    1    1     犬\n",
       "3    猫  10.1    0    1     犬\n",
       "4    犬   8.7    1    0     猫\n",
       "5    猫   7.5    0    0     猫\n",
       "6    犬   6.9    1    0     猫\n",
       "7    猫   4.8    0    0     猫\n",
       "8    猫   4.3    0    0     猫\n",
       "9    猫   3.2    0    0     猫"
      ]
     },
     "execution_count": 14,
     "metadata": {},
     "output_type": "execute_result"
    }
   ],
   "source": [
    "dogcat_df"
   ]
  },
  {
   "cell_type": "code",
   "execution_count": 15,
   "metadata": {
    "colab": {
     "base_uri": "https://localhost:8080/"
    },
    "id": "JHPl5ulYI0Xm",
    "outputId": "8df0947a-6655-4e7d-e3a8-5937aa4166be"
   },
   "outputs": [
    {
     "data": {
      "text/html": [
       "<div>\n",
       "<style scoped>\n",
       "    .dataframe tbody tr th:only-of-type {\n",
       "        vertical-align: middle;\n",
       "    }\n",
       "\n",
       "    .dataframe tbody tr th {\n",
       "        vertical-align: top;\n",
       "    }\n",
       "\n",
       "    .dataframe thead th {\n",
       "        text-align: right;\n",
       "    }\n",
       "</style>\n",
       "<table border=\"1\" class=\"dataframe\">\n",
       "  <thead>\n",
       "    <tr style=\"text-align: right;\">\n",
       "      <th></th>\n",
       "      <th>threshold</th>\n",
       "      <th>TP</th>\n",
       "      <th>FP</th>\n",
       "      <th>TPR</th>\n",
       "      <th>FPR</th>\n",
       "    </tr>\n",
       "  </thead>\n",
       "  <tbody>\n",
       "    <tr>\n",
       "      <th>0</th>\n",
       "      <td>33.3</td>\n",
       "      <td>0</td>\n",
       "      <td>0</td>\n",
       "      <td>0.0</td>\n",
       "      <td>0.0</td>\n",
       "    </tr>\n",
       "    <tr>\n",
       "      <th>1</th>\n",
       "      <td>32.3</td>\n",
       "      <td>1</td>\n",
       "      <td>0</td>\n",
       "      <td>0.2</td>\n",
       "      <td>0.0</td>\n",
       "    </tr>\n",
       "    <tr>\n",
       "      <th>2</th>\n",
       "      <td>25.4</td>\n",
       "      <td>2</td>\n",
       "      <td>0</td>\n",
       "      <td>0.4</td>\n",
       "      <td>0.0</td>\n",
       "    </tr>\n",
       "    <tr>\n",
       "      <th>3</th>\n",
       "      <td>15.2</td>\n",
       "      <td>3</td>\n",
       "      <td>0</td>\n",
       "      <td>0.6</td>\n",
       "      <td>0.0</td>\n",
       "    </tr>\n",
       "    <tr>\n",
       "      <th>4</th>\n",
       "      <td>10.1</td>\n",
       "      <td>3</td>\n",
       "      <td>1</td>\n",
       "      <td>0.6</td>\n",
       "      <td>0.2</td>\n",
       "    </tr>\n",
       "    <tr>\n",
       "      <th>5</th>\n",
       "      <td>8.7</td>\n",
       "      <td>4</td>\n",
       "      <td>1</td>\n",
       "      <td>0.8</td>\n",
       "      <td>0.2</td>\n",
       "    </tr>\n",
       "    <tr>\n",
       "      <th>6</th>\n",
       "      <td>7.5</td>\n",
       "      <td>4</td>\n",
       "      <td>2</td>\n",
       "      <td>0.8</td>\n",
       "      <td>0.4</td>\n",
       "    </tr>\n",
       "    <tr>\n",
       "      <th>7</th>\n",
       "      <td>6.9</td>\n",
       "      <td>5</td>\n",
       "      <td>2</td>\n",
       "      <td>1.0</td>\n",
       "      <td>0.4</td>\n",
       "    </tr>\n",
       "    <tr>\n",
       "      <th>8</th>\n",
       "      <td>4.8</td>\n",
       "      <td>5</td>\n",
       "      <td>3</td>\n",
       "      <td>1.0</td>\n",
       "      <td>0.6</td>\n",
       "    </tr>\n",
       "    <tr>\n",
       "      <th>9</th>\n",
       "      <td>4.3</td>\n",
       "      <td>5</td>\n",
       "      <td>4</td>\n",
       "      <td>1.0</td>\n",
       "      <td>0.8</td>\n",
       "    </tr>\n",
       "    <tr>\n",
       "      <th>10</th>\n",
       "      <td>3.2</td>\n",
       "      <td>5</td>\n",
       "      <td>5</td>\n",
       "      <td>1.0</td>\n",
       "      <td>1.0</td>\n",
       "    </tr>\n",
       "  </tbody>\n",
       "</table>\n",
       "</div>"
      ],
      "text/plain": [
       "    threshold  TP  FP  TPR  FPR\n",
       "0        33.3   0   0  0.0  0.0\n",
       "1        32.3   1   0  0.2  0.0\n",
       "2        25.4   2   0  0.4  0.0\n",
       "3        15.2   3   0  0.6  0.0\n",
       "4        10.1   3   1  0.6  0.2\n",
       "5         8.7   4   1  0.8  0.2\n",
       "6         7.5   4   2  0.8  0.4\n",
       "7         6.9   5   2  1.0  0.4\n",
       "8         4.8   5   3  1.0  0.6\n",
       "9         4.3   5   4  1.0  0.8\n",
       "10        3.2   5   5  1.0  1.0"
      ]
     },
     "execution_count": 15,
     "metadata": {},
     "output_type": "execute_result"
    }
   ],
   "source": [
    "tpr_list = []\n",
    "fpr_list = []\n",
    "# 閾値のリストを作成\n",
    "thresholds = dogcat_df[\"体重\"].values.tolist()\n",
    "# 最初に「1の予測がない」状態を入れるため、体重の最大値に+1した値をthresholdsに挿入\n",
    "thresholds = [dogcat_df[\"体重\"].max()+1] + thresholds\n",
    "\n",
    "# thresholdsごとにTPRとFPRを計算\n",
    "roc_list = []\n",
    "for threshold in thresholds:\n",
    "    y_pred = (dogcat_df[\"体重\"] >= threshold).astype(int)\n",
    "    tn, fp, fn, tp = confusion_matrix(dogcat_df[\"実測値\"], y_pred).flatten()\n",
    "\n",
    "    # 真陽性率 (TPR)\n",
    "    tpr = tp / (tp + fn)\n",
    "    tpr_list.append(tpr)\n",
    "\n",
    "    # 偽陽性率 (FPR)\n",
    "    fpr = fp / (fp + tn)\n",
    "    fpr_list.append(fpr)\n",
    "\n",
    "    roc_list.append([threshold,tp,fp,tpr,fpr])\n",
    "pd.DataFrame(roc_list,columns=[\"threshold\",\"TP\",\"FP\",\"TPR\",\"FPR\"])"
   ]
  },
  {
   "cell_type": "code",
   "execution_count": 16,
   "metadata": {
    "colab": {
     "base_uri": "https://localhost:8080/",
     "height": 561
    },
    "id": "FsLk6b-jJrXe",
    "outputId": "a9949823-2522-41de-bf3a-f347dd88ec75"
   },
   "outputs": [
    {
     "data": {
      "image/png": "[encoded data removed]",
      "text/plain": [
       "<Figure size 1000x600 with 1 Axes>"
      ]
     },
     "metadata": {},
     "output_type": "display_data"
    }
   ],
   "source": [
    "# ROC曲線のプロット\n",
    "plt.figure(figsize=(10, 6))\n",
    "plt.plot(fpr_list, tpr_list, color='blue', lw=2, label=f'ROC curve')\n",
    "plt.plot([0, 1], [0, 1], color='gray', lw=2, linestyle='--', label=f'Random')\n",
    "plt.xlim([0.0, 1.0])\n",
    "plt.ylim([0.0, 1.05])\n",
    "plt.xlabel('偽陽性率(FPR)')\n",
    "plt.ylabel('真陽性率(TPR)')\n",
    "plt.title('ROC Curve')\n",
    "plt.legend(loc='lower right')\n",
    "plt.grid()\n",
    "plt.show()"
   ]
  },
  {
   "cell_type": "markdown",
   "metadata": {
    "id": "O1ChEsJLde3H"
   },
   "source": [
    "## 参考：AUCの算出"
   ]
  },
  {
   "cell_type": "markdown",
   "metadata": {
    "id": "b2sT-OKjde3H"
   },
   "source": [
    "予測値が重複する(ROC曲線上の点が斜めに移動する)可能性は考慮しなくてよい"
   ]
  },
  {
   "cell_type": "markdown",
   "metadata": {
    "id": "uIBG5GCfde3H"
   },
   "source": [
    "上図のFPR, TPRの図から、下側の面積を算出する.  \n",
    "Xが右に進んだときにXの差分とYをかけて長方形を算出し、これを合計する."
   ]
  },
  {
   "cell_type": "code",
   "execution_count": 17,
   "metadata": {
    "id": "5A9Dms86de3H",
    "outputId": "41247252-be91-4ed8-a6bb-9bd8981a5192"
   },
   "outputs": [
    {
     "data": {
      "text/html": [
       "<div>\n",
       "<style scoped>\n",
       "    .dataframe tbody tr th:only-of-type {\n",
       "        vertical-align: middle;\n",
       "    }\n",
       "\n",
       "    .dataframe tbody tr th {\n",
       "        vertical-align: top;\n",
       "    }\n",
       "\n",
       "    .dataframe thead th {\n",
       "        text-align: right;\n",
       "    }\n",
       "</style>\n",
       "<table border=\"1\" class=\"dataframe\">\n",
       "  <thead>\n",
       "    <tr style=\"text-align: right;\">\n",
       "      <th></th>\n",
       "      <th>X</th>\n",
       "      <th>Y</th>\n",
       "      <th>X_shift</th>\n",
       "      <th>X_diff</th>\n",
       "    </tr>\n",
       "  </thead>\n",
       "  <tbody>\n",
       "    <tr>\n",
       "      <th>0</th>\n",
       "      <td>0.0</td>\n",
       "      <td>0.0</td>\n",
       "      <td>0.0</td>\n",
       "      <td>0.0</td>\n",
       "    </tr>\n",
       "    <tr>\n",
       "      <th>1</th>\n",
       "      <td>0.0</td>\n",
       "      <td>0.2</td>\n",
       "      <td>0.0</td>\n",
       "      <td>0.0</td>\n",
       "    </tr>\n",
       "    <tr>\n",
       "      <th>2</th>\n",
       "      <td>0.0</td>\n",
       "      <td>0.4</td>\n",
       "      <td>0.0</td>\n",
       "      <td>0.0</td>\n",
       "    </tr>\n",
       "    <tr>\n",
       "      <th>3</th>\n",
       "      <td>0.0</td>\n",
       "      <td>0.6</td>\n",
       "      <td>0.0</td>\n",
       "      <td>0.0</td>\n",
       "    </tr>\n",
       "    <tr>\n",
       "      <th>4</th>\n",
       "      <td>0.2</td>\n",
       "      <td>0.6</td>\n",
       "      <td>0.0</td>\n",
       "      <td>0.2</td>\n",
       "    </tr>\n",
       "    <tr>\n",
       "      <th>5</th>\n",
       "      <td>0.2</td>\n",
       "      <td>0.8</td>\n",
       "      <td>0.2</td>\n",
       "      <td>0.0</td>\n",
       "    </tr>\n",
       "    <tr>\n",
       "      <th>6</th>\n",
       "      <td>0.4</td>\n",
       "      <td>0.8</td>\n",
       "      <td>0.2</td>\n",
       "      <td>0.2</td>\n",
       "    </tr>\n",
       "    <tr>\n",
       "      <th>7</th>\n",
       "      <td>0.4</td>\n",
       "      <td>1.0</td>\n",
       "      <td>0.4</td>\n",
       "      <td>0.0</td>\n",
       "    </tr>\n",
       "    <tr>\n",
       "      <th>8</th>\n",
       "      <td>0.6</td>\n",
       "      <td>1.0</td>\n",
       "      <td>0.4</td>\n",
       "      <td>0.2</td>\n",
       "    </tr>\n",
       "    <tr>\n",
       "      <th>9</th>\n",
       "      <td>0.8</td>\n",
       "      <td>1.0</td>\n",
       "      <td>0.6</td>\n",
       "      <td>0.2</td>\n",
       "    </tr>\n",
       "    <tr>\n",
       "      <th>10</th>\n",
       "      <td>1.0</td>\n",
       "      <td>1.0</td>\n",
       "      <td>0.8</td>\n",
       "      <td>0.2</td>\n",
       "    </tr>\n",
       "  </tbody>\n",
       "</table>\n",
       "</div>"
      ],
      "text/plain": [
       "      X    Y  X_shift  X_diff\n",
       "0   0.0  0.0      0.0     0.0\n",
       "1   0.0  0.2      0.0     0.0\n",
       "2   0.0  0.4      0.0     0.0\n",
       "3   0.0  0.6      0.0     0.0\n",
       "4   0.2  0.6      0.0     0.2\n",
       "5   0.2  0.8      0.2     0.0\n",
       "6   0.4  0.8      0.2     0.2\n",
       "7   0.4  1.0      0.4     0.0\n",
       "8   0.6  1.0      0.4     0.2\n",
       "9   0.8  1.0      0.6     0.2\n",
       "10  1.0  1.0      0.8     0.2"
      ]
     },
     "execution_count": 17,
     "metadata": {},
     "output_type": "execute_result"
    }
   ],
   "source": [
    "# Xにfpr, Yにtprを入れる.\n",
    "roc_df = pd.DataFrame({\n",
    "    \"X\":fpr_list,\n",
    "    \"Y\":tpr_list\n",
    "})\n",
    "# X_shiftでXの一つ前のレコードを求め、X_diffにその差分を格納. 一番上の値に0を入れるため、fillnaを追加.\n",
    "roc_df[\"X_shift\"] = (roc_df[\"X\"].shift(1)).fillna(0)\n",
    "roc_df[\"X_diff\"] = roc_df[\"X\"] - roc_df[\"X_shift\"]\n",
    "roc_df"
   ]
  },
  {
   "cell_type": "code",
   "execution_count": 18,
   "metadata": {
    "id": "3EhE3GUede3H",
    "outputId": "eb9cdb66-4c15-4be6-e0e6-6d6b04aa0f40"
   },
   "outputs": [
    {
     "name": "stdout",
     "output_type": "stream",
     "text": [
      "auc_score: 0.880\n"
     ]
    }
   ],
   "source": [
    "# X_diffはX方向に進んだ差分なので、高さであるYをかけて合計する.これがAUCとなる.\n",
    "auc_score = (roc_df[\"Y\"] * roc_df[\"X_diff\"]).sum()\n",
    "print(f\"auc_score: {auc_score:.3f}\")"
   ]
  },
  {
   "cell_type": "code",
   "execution_count": null,
   "metadata": {
    "id": "QlCeIs4mde3I"
   },
   "outputs": [],
   "source": []
  }
 ],
 "metadata": {
  "colab": {
   "provenance": []
  },
  "kernelspec": {
   "display_name": "Python 3 (ipykernel)",
   "language": "python",
   "name": "python3"
  },
  "language_info": {
   "codemirror_mode": {
    "name": "ipython",
    "version": 3
   },
   "file_extension": ".py",
   "mimetype": "text/x-python",
   "name": "python",
   "nbconvert_exporter": "python",
   "pygments_lexer": "ipython3",
   "version": "3.13.5"
  }
 },
 "nbformat": 4,
 "nbformat_minor": 4
}
